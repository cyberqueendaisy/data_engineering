{
  "nbformat": 4,
  "nbformat_minor": 0,
  "metadata": {
    "colab": {
      "name": "Google IT Automation - Course 1 - Crash Course on Python.ipynb",
      "provenance": [],
      "collapsed_sections": [
        "Pj8eNj2CGCmE",
        "gGZurDLe2Ish",
        "EO7ok6A8HquS",
        "pY1SFaereCBq",
        "fXA3dM7gC8yE",
        "WYWejc6B0JHR",
        "_SwMtx4DEHD8",
        "rwXQCzAmVhK-",
        "zFUKQuv5_Tow",
        "FIZEcbpC_0Ae",
        "1ywPdnyQ8dUj",
        "lfmGCEMc_mq5",
        "Hp9FYdKEE8h9",
        "tfLPFQjHKvSE",
        "ZvxIfB6wMRwT",
        "Kqnr7xtI6eZ7",
        "O7qSK4bbvak4",
        "kU44T7kB-PTJ",
        "0YCTqXLoxusC",
        "sgO35EiS0QuC",
        "kncf1MOS_xqu",
        "Y2wrLuLxdVwM",
        "IQhavr5vm_zb",
        "GgTP_XqbxrG4",
        "lZtxMkNL47cS",
        "HBIryX12_UJX",
        "1EisdZJgGY7f"
      ],
      "authorship_tag": "ABX9TyMEvLS/V3SlLzNSq2Oa5H97",
      "include_colab_link": true
    },
    "kernelspec": {
      "name": "python3",
      "display_name": "Python 3"
    },
    "language_info": {
      "name": "python"
    },
    "widgets": {
      "application/vnd.jupyter.widget-state+json": {
        "1b11580cbf8a4e64b52ec2b213ba3914": {
          "model_module": "@jupyter-widgets/base",
          "model_name": "DOMWidgetModel",
          "state": {
            "_view_name": "FileUploadView",
            "_dom_classes": [
              "widget_item",
              "btn-group"
            ],
            "_model_name": "DOMWidgetModel",
            "_view_module": "fileupload",
            "_model_module_version": "1.2.0",
            "_view_count": null,
            "_view_module_version": "",
            "data_base64": "",
            "label": "Browse",
            "layout": "IPY_MODEL_2928435d13544e6181798778caa9cb69",
            "filename": "",
            "_model_module": "@jupyter-widgets/base"
          }
        },
        "2928435d13544e6181798778caa9cb69": {
          "model_module": "@jupyter-widgets/base",
          "model_name": "LayoutModel",
          "state": {
            "_view_name": "LayoutView",
            "grid_template_rows": null,
            "right": null,
            "justify_content": null,
            "_view_module": "@jupyter-widgets/base",
            "overflow": null,
            "_model_module_version": "1.2.0",
            "_view_count": null,
            "flex_flow": null,
            "width": null,
            "min_width": null,
            "border": null,
            "align_items": null,
            "bottom": null,
            "_model_module": "@jupyter-widgets/base",
            "top": null,
            "grid_column": null,
            "overflow_y": null,
            "overflow_x": null,
            "grid_auto_flow": null,
            "grid_area": null,
            "grid_template_columns": null,
            "flex": null,
            "_model_name": "LayoutModel",
            "justify_items": null,
            "grid_row": null,
            "max_height": null,
            "align_content": null,
            "visibility": null,
            "align_self": null,
            "height": null,
            "min_height": null,
            "padding": null,
            "grid_auto_rows": null,
            "grid_gap": null,
            "max_width": null,
            "order": null,
            "_view_module_version": "1.2.0",
            "grid_template_areas": null,
            "object_position": null,
            "object_fit": null,
            "grid_auto_columns": null,
            "margin": null,
            "display": null,
            "left": null
          }
        }
      }
    }
  },
  "cells": [
    {
      "cell_type": "markdown",
      "metadata": {
        "id": "view-in-github",
        "colab_type": "text"
      },
      "source": [
        "<a href=\"https://colab.research.google.com/gist/JayLee18/f198fa820c296fd306adfb46c8fcf9af/google-it-automation-course-1-crash-course-on-python.ipynb\" target=\"_parent\"><img src=\"https://colab.research.google.com/assets/colab-badge.svg\" alt=\"Open In Colab\"/></a>"
      ]
    },
    {
      "cell_type": "markdown",
      "metadata": {
        "id": "YIJtZ757erMz"
      },
      "source": [
        "\n",
        "#Classes from Coursera \"Google IT Automation with Python Specialization\" \n",
        "#Course 1 - \"Crash Course on Python\".\n"
      ]
    },
    {
      "cell_type": "markdown",
      "metadata": {
        "id": "Pj8eNj2CGCmE"
      },
      "source": [
        "## Basics"
      ]
    },
    {
      "cell_type": "code",
      "metadata": {
        "id": "i9HCPEuWepvQ",
        "colab": {
          "base_uri": "https://localhost:8080/"
        },
        "outputId": "0eda8305-73f1-4ae2-c5e2-80456d23df9f"
      },
      "source": [
        "#for repeats\n",
        "for i in range(5):\n",
        "  print(\"Hiya\")"
      ],
      "execution_count": null,
      "outputs": [
        {
          "output_type": "stream",
          "text": [
            "Hiya\n",
            "Hiya\n",
            "Hiya\n",
            "Hiya\n",
            "Hiya\n"
          ],
          "name": "stdout"
        }
      ]
    },
    {
      "cell_type": "code",
      "metadata": {
        "colab": {
          "base_uri": "https://localhost:8080/"
        },
        "id": "NaiNzDNuLHC0",
        "outputId": "547ecdf4-806d-4c92-e82c-79c68b6166db"
      },
      "source": [
        "#to get power of ^ - use **\n",
        "print((((1+2)*3)/4)**5)"
      ],
      "execution_count": null,
      "outputs": [
        {
          "output_type": "stream",
          "text": [
            "57.6650390625\n"
          ],
          "name": "stdout"
        }
      ]
    },
    {
      "cell_type": "markdown",
      "metadata": {
        "id": "Rparn0SgLndD"
      },
      "source": [
        "a** b = Elevates a to the power of b. For non integer values of b, this becomes a root (i.e. a**(1/2) is the square root of a)\n",
        "\n",
        "a // b = floor division - The integer part of the integer division of a by b\n",
        "\n",
        "a % b = The remainder part of the integer division of a by b"
      ]
    },
    {
      "cell_type": "code",
      "metadata": {
        "colab": {
          "base_uri": "https://localhost:8080/"
        },
        "id": "_cfM2gI0LwuT",
        "outputId": "60180a05-3d96-4c4f-93d2-d30357bd63c1"
      },
      "source": [
        "#to calculate Square root of a number use '**(1/2)'\n",
        "ratio = (1+5**(1/2))/2\n",
        "print(ratio)"
      ],
      "execution_count": null,
      "outputs": [
        {
          "output_type": "stream",
          "text": [
            "1.618033988749895\n"
          ],
          "name": "stdout"
        }
      ]
    },
    {
      "cell_type": "markdown",
      "metadata": {
        "id": "GMvHOn6ibEAK"
      },
      "source": [
        "Defining a function:"
      ]
    },
    {
      "cell_type": "code",
      "metadata": {
        "colab": {
          "base_uri": "https://localhost:8080/"
        },
        "id": "3ICe5b-lbFoj",
        "outputId": "0cb8be61-d9e0-4e6e-d48d-522372bd25cd"
      },
      "source": [
        "#function\n",
        "def area_triangle (base, height):\n",
        "  return base*height/2\n",
        "\n",
        "#recall\n",
        "area_a = area_triangle(5,4)\n",
        "area_b = area_triangle(7,3)\n",
        "sum = area_a + area_b\n",
        "print(\"The sum of both areas is:\", sum)"
      ],
      "execution_count": null,
      "outputs": [
        {
          "output_type": "stream",
          "text": [
            "The sum of both areas is: 20.5\n"
          ],
          "name": "stdout"
        }
      ]
    },
    {
      "cell_type": "code",
      "metadata": {
        "colab": {
          "base_uri": "https://localhost:8080/"
        },
        "id": "TDq7CAR0cRvb",
        "outputId": "55bca408-f8b6-43cb-de1b-b05314c96d30"
      },
      "source": [
        "#converting seconds & using // floor division\n",
        "#functions\n",
        "def convert_seconds(seconds):\n",
        "  hours = seconds//3600\n",
        "  minutes = (seconds - hours *3600) // 60\n",
        "  remaining_seconds = seconds - hours * 3600 - minutes *60\n",
        "  return hours, minutes, remaining_seconds\n",
        "\n",
        "#conversion\n",
        "hours, minutes, seconds = convert_seconds(5000)\n",
        "print(hours, minutes, seconds)"
      ],
      "execution_count": null,
      "outputs": [
        {
          "output_type": "stream",
          "text": [
            "1 23 20\n"
          ],
          "name": "stdout"
        }
      ]
    },
    {
      "cell_type": "markdown",
      "metadata": {
        "id": "MphTwP44opVa"
      },
      "source": [
        "Else:"
      ]
    },
    {
      "cell_type": "code",
      "metadata": {
        "colab": {
          "base_uri": "https://localhost:8080/"
        },
        "id": "yQHXax92omsy",
        "outputId": "0f57e84b-3c0a-4ea3-e2f0-73c3b700dbac"
      },
      "source": [
        "def hint_username(user):\n",
        "  if len(user) <3:\n",
        "    print('Invalid username. Must be at least 3 characters long')\n",
        "  else:\n",
        "    print('Valid username')\n",
        "\n",
        "user_name = input('Input your username here:')\n",
        "hint_username(user_name)\n"
      ],
      "execution_count": null,
      "outputs": [
        {
          "output_type": "stream",
          "text": [
            "Input your username here:hi\n",
            "Invalid username. Must be at least 3 characters long\n"
          ],
          "name": "stdout"
        }
      ]
    },
    {
      "cell_type": "markdown",
      "metadata": {
        "id": "RnDZQ6Gggjfs"
      },
      "source": [
        "Elif:"
      ]
    },
    {
      "cell_type": "code",
      "metadata": {
        "colab": {
          "base_uri": "https://localhost:8080/"
        },
        "id": "qWdPUUodglIi",
        "outputId": "18dfb14c-a865-4dd6-bd33-f7b9adee4e36"
      },
      "source": [
        "def hint_username(user):\n",
        "  if len(user) <3:\n",
        "    print('Invalid username. Must be at least 3 characters long')\n",
        "  elif len(user)> 15:\n",
        "    print('Invalid username. Must be at most 15 characters long')\n",
        "  else:\n",
        "    print('Valid username')\n",
        "\n",
        "user_name = input('Input your username here:')\n",
        "hint_username(user_name)"
      ],
      "execution_count": null,
      "outputs": [
        {
          "output_type": "stream",
          "text": [
            "Input your username here:5\n",
            "Invalid username. Must be at least 3 characters long\n"
          ],
          "name": "stdout"
        }
      ]
    },
    {
      "cell_type": "markdown",
      "metadata": {
        "id": "IJuOEeIZl7ba"
      },
      "source": [
        "Comparison operators:\n",
        "- a == b: a is equal to b\n",
        "- a != b: a is different than b\n",
        "- a < b: a is smaller than b\n",
        "- a <= b: a is smaller or equal to b\n",
        "- a > b: a is bigger than b\n",
        "- a >= b: a is bigger or equal to b\n",
        "\n"
      ]
    },
    {
      "cell_type": "markdown",
      "metadata": {
        "id": "l19uhG-nqVAb"
      },
      "source": [
        "Assignment:\n",
        "\n",
        "Question 5\n",
        "\n",
        "If a filesystem has a block size of 4096 bytes, this means that a file comprised of only one byte will still use 4096 bytes of storage. A file made up of 4097 bytes will use 4096*2=8192 bytes of storage. Knowing this, can you fill in the gaps in the calculate_storage function below, which calculates the total number of bytes needed to store a file of a given size?"
      ]
    },
    {
      "cell_type": "code",
      "metadata": {
        "colab": {
          "base_uri": "https://localhost:8080/"
        },
        "id": "BnCpP8cxm78T",
        "outputId": "61851581-7090-4e10-a836-f9ec17961575"
      },
      "source": [
        "def calculate_storage(filesize):\n",
        "    block_size = 4096\n",
        "    # Use floor division to calculate how many blocks are fully occupied\n",
        "    full_blocks = filesize // block_size\n",
        "    # Use the modulo operator to check whether there's any remainder\n",
        "    partial_block_remainder = filesize % block_size\n",
        "    # Depending on whether there's a remainder or not, return\n",
        "    # the total number of bytes required to allocate enough blocks\n",
        "    # to store your data.\n",
        "    if partial_block_remainder > 0:\n",
        "        return block_size*(full_blocks + 1)\n",
        "    return full_blocks * block_size\n",
        "\n",
        "print(calculate_storage(1))    # Should be 4096\n",
        "print(calculate_storage(4096)) # Should be 4096\n",
        "print(calculate_storage(4097)) # Should be 8192\n",
        "print(calculate_storage(6000)) # Should be 8192"
      ],
      "execution_count": null,
      "outputs": [
        {
          "output_type": "stream",
          "text": [
            "4096\n",
            "4096\n",
            "8192\n",
            "8192\n"
          ],
          "name": "stdout"
        }
      ]
    },
    {
      "cell_type": "code",
      "metadata": {
        "colab": {
          "base_uri": "https://localhost:8080/"
        },
        "id": "tHGp6w4HnQsi",
        "outputId": "667bf566-70d2-4257-a906-b4813a77f32f"
      },
      "source": [
        ""
      ],
      "execution_count": null,
      "outputs": [
        {
          "output_type": "stream",
          "text": [
            "6\n"
          ],
          "name": "stdout"
        }
      ]
    },
    {
      "cell_type": "markdown",
      "metadata": {
        "id": "V1pH585xu89a"
      },
      "source": [
        "Quiz Q1"
      ]
    },
    {
      "cell_type": "code",
      "metadata": {
        "colab": {
          "base_uri": "https://localhost:8080/"
        },
        "id": "lYKkGQRuu8Ve",
        "outputId": "17bf26d6-ede1-4e65-d16f-9143dbc086d6"
      },
      "source": [
        "def color_translator(color):\n",
        "\tif color == \"red\":\n",
        "\t\thex_color = \"#ff0000\"\n",
        "\telif color == \"green\":\n",
        "\t\thex_color = \"#00ff00\"\n",
        "\telif color == \"blue\":\n",
        "\t\thex_color = \"#0000ff\"\n",
        "\telse:\n",
        "\t\thex_color = \"unknown\"\n",
        "\treturn hex_color\n",
        "\n",
        "print(color_translator(\"blue\")) # Should be #0000ff\n",
        "print(color_translator(\"yellow\")) # Should be unknown\n",
        "print(color_translator(\"red\")) # Should be #ff0000\n",
        "print(color_translator(\"black\")) # Should be unknown\n",
        "print(color_translator(\"green\")) # Should be #00ff00\n",
        "print(color_translator(\"\")) # Should be unknown"
      ],
      "execution_count": null,
      "outputs": [
        {
          "output_type": "stream",
          "text": [
            "#0000ff\n",
            "unknown\n",
            "#ff0000\n",
            "unknown\n",
            "#00ff00\n",
            "unknown\n"
          ],
          "name": "stdout"
        }
      ]
    },
    {
      "cell_type": "markdown",
      "metadata": {
        "id": "nTJLKujMvgVD"
      },
      "source": [
        "Quiz Q2"
      ]
    },
    {
      "cell_type": "code",
      "metadata": {
        "colab": {
          "base_uri": "https://localhost:8080/"
        },
        "id": "u-zwfW2dqehS",
        "outputId": "9b5ab0aa-abbe-4134-d118-97ac4b7a11ba"
      },
      "source": [
        "def exam_grade(score):\n",
        "\tif score > 95:\n",
        "\t\tgrade = \"Top Score\"\n",
        "\telif score > 59:\n",
        "\t\tgrade = \"Pass\"\n",
        "\telse:\n",
        "\t\tgrade = \"Fail\"\n",
        "\treturn grade\n",
        "\n",
        "print(exam_grade(65)) # Should be Pass\n",
        "print(exam_grade(55)) # Should be Fail\n",
        "print(exam_grade(60)) # Should be Pass\n",
        "print(exam_grade(95)) # Should be Pass\n",
        "print(exam_grade(100)) # Should be Top Score\n",
        "print(exam_grade(0)) # Should be Fail"
      ],
      "execution_count": null,
      "outputs": [
        {
          "output_type": "stream",
          "text": [
            "Pass\n",
            "Fail\n",
            "Pass\n",
            "Pass\n",
            "Top Score\n",
            "Fail\n"
          ],
          "name": "stdout"
        }
      ]
    },
    {
      "cell_type": "markdown",
      "metadata": {
        "id": "83xnKqqrynDs"
      },
      "source": [
        "Quiz Q6"
      ]
    },
    {
      "cell_type": "code",
      "metadata": {
        "colab": {
          "base_uri": "https://localhost:8080/"
        },
        "id": "_0sapnrdvwty",
        "outputId": "d3dd9c8b-d2f6-4469-f415-4375aeb83daf"
      },
      "source": [
        "def format_name(first_name, last_name):\n",
        "\n",
        "  if len(first_name) and len(last_name) > 0:\n",
        "    return 'Name: ' + last_name + ', ' + first_name\n",
        "\n",
        "  elif len(first_name) > 0 and len(last_name) == 0:\n",
        "    return 'Name: ' + first_name\n",
        "\n",
        "  elif len(first_name) == 0 and len(last_name) > 0:\n",
        "    return 'Name: ' + last_name\n",
        "\n",
        "  else:\n",
        "    return ''\n",
        "\n",
        "print(format_name(\"Ernest\", \"Hemingway\"))\n",
        "# Should return the string \"Name: Hemingway, Ernest\"\n",
        "\n",
        "print(format_name(\"\", \"Madonna\"))\n",
        "# Should return the string \"Name: Madonna\"\n",
        "\n",
        "print(format_name(\"Voltaire\", \"\"))\n",
        "# Should return the string \"Name: Voltaire\"\n",
        "\n",
        "print(format_name(\"\", \"\"))\n",
        "# Should return an empty string"
      ],
      "execution_count": null,
      "outputs": [
        {
          "output_type": "stream",
          "text": [
            "Name: Hemingway, Ernest\n",
            "Name: Madonna\n",
            "Name: Voltaire\n",
            " \n"
          ],
          "name": "stdout"
        }
      ]
    },
    {
      "cell_type": "markdown",
      "metadata": {
        "id": "CuHbmFAQyzU6"
      },
      "source": [
        "Quiz Q7"
      ]
    },
    {
      "cell_type": "code",
      "metadata": {
        "colab": {
          "base_uri": "https://localhost:8080/"
        },
        "id": "9WOs0xtnysFy",
        "outputId": "3e5e3820-6b6f-4500-ab83-c5ad98fcaf79"
      },
      "source": [
        "def longest_word(word1, word2, word3):\n",
        "\tif len(word1) >= len(word2) and len(word1) >= len(word3):\n",
        "\t\tword = word1\n",
        "\telif len(word2) >= len(word1) and len(word2) >= len(word3):\n",
        "\t\tword = word2\n",
        "\telse:\n",
        "\t\tword = word3\n",
        "\treturn(word)\n",
        "\n",
        "print(longest_word(\"chair\", \"couch\", \"table\"))\n",
        "print(longest_word(\"bed\", \"bath\", \"beyond\"))\n",
        "print(longest_word(\"laptop\", \"notebook\", \"desktop\"))"
      ],
      "execution_count": null,
      "outputs": [
        {
          "output_type": "stream",
          "text": [
            "chair\n",
            "beyond\n",
            "notebook\n"
          ],
          "name": "stdout"
        }
      ]
    },
    {
      "cell_type": "markdown",
      "metadata": {
        "id": "cXpYUGNxy-Pi"
      },
      "source": [
        "Quiz Q8"
      ]
    },
    {
      "cell_type": "code",
      "metadata": {
        "colab": {
          "base_uri": "https://localhost:8080/"
        },
        "id": "_iU75jbpy78a",
        "outputId": "b41e3e3b-7855-4fef-f788-af352f864fab"
      },
      "source": [
        "def sum(x, y):\n",
        "\t\treturn(x+y)\n",
        "print(sum(sum(1,2), sum(3,4)))"
      ],
      "execution_count": null,
      "outputs": [
        {
          "output_type": "stream",
          "text": [
            "10\n"
          ],
          "name": "stdout"
        }
      ]
    },
    {
      "cell_type": "markdown",
      "metadata": {
        "id": "fghVkX8LzOYp"
      },
      "source": [
        "Quiz Q10"
      ]
    },
    {
      "cell_type": "code",
      "metadata": {
        "colab": {
          "base_uri": "https://localhost:8080/"
        },
        "id": "SY6b_s8FzE9C",
        "outputId": "196a9bc7-7255-4040-c11a-18d50b7d04b0"
      },
      "source": [
        "def fractional_part(numerator, denominator):\n",
        "  if denominator >0:\n",
        "    return numerator%denominator/denominator\n",
        "  return 0 \n",
        "\n",
        "print(fractional_part(5, 5)) # Should be 0\n",
        "print(fractional_part(5, 4)) # Should be 0.25\n",
        "print(fractional_part(5, 3)) # Should be 0.66...\n",
        "print(fractional_part(5, 2)) # Should be 0.5\n",
        "print(fractional_part(5, 0)) # Should be 0\n",
        "print(fractional_part(0, 5)) # Should be 0"
      ],
      "execution_count": null,
      "outputs": [
        {
          "output_type": "stream",
          "text": [
            "0.0\n",
            "0.25\n",
            "0.6666666666666666\n",
            "0.5\n",
            "0\n",
            "0.0\n"
          ],
          "name": "stdout"
        }
      ]
    },
    {
      "cell_type": "markdown",
      "metadata": {
        "id": "gGZurDLe2Ish"
      },
      "source": [
        "##Loops"
      ]
    },
    {
      "cell_type": "markdown",
      "metadata": {
        "id": "EO7ok6A8HquS"
      },
      "source": [
        "###While Loops"
      ]
    },
    {
      "cell_type": "code",
      "metadata": {
        "id": "3P3N254Dz_KC",
        "colab": {
          "base_uri": "https://localhost:8080/"
        },
        "outputId": "c57202e0-1617-42b4-dff3-82f8b6726e2d"
      },
      "source": [
        "x = 0\n",
        "while x <5:\n",
        "  print('Not there yes, x='+ str(x))\n",
        "  x += 1\n",
        "print('x=' + str(x))"
      ],
      "execution_count": null,
      "outputs": [
        {
          "output_type": "stream",
          "text": [
            "Not there yes, x=0\n",
            "Not there yes, x=1\n",
            "Not there yes, x=2\n",
            "Not there yes, x=3\n",
            "Not there yes, x=4\n",
            "x=5\n"
          ],
          "name": "stdout"
        }
      ]
    },
    {
      "cell_type": "code",
      "metadata": {
        "colab": {
          "base_uri": "https://localhost:8080/"
        },
        "id": "qLosgxUMIPC8",
        "outputId": "222a09f8-1108-40de-83bb-4873811d02ca"
      },
      "source": [
        "def attempts(n):\n",
        "    x = 1\n",
        "    while x <= n:\n",
        "        print(\"Attempt \" + str(x))\n",
        "        x += 1\n",
        "    print(\"Done\")\n",
        "    \n",
        "attempts(5)"
      ],
      "execution_count": null,
      "outputs": [
        {
          "output_type": "stream",
          "text": [
            "Attempt 1\n",
            "Attempt 2\n",
            "Attempt 3\n",
            "Attempt 4\n",
            "Attempt 5\n",
            "Done\n"
          ],
          "name": "stdout"
        }
      ]
    },
    {
      "cell_type": "code",
      "metadata": {
        "colab": {
          "base_uri": "https://localhost:8080/"
        },
        "id": "XU4dCzZ0Mdfs",
        "outputId": "3604e9f1-68b3-4528-fae4-bdabbd7b4999"
      },
      "source": [
        "def count_down(current):\n",
        "  while (current > 0):\n",
        "    print(current)\n",
        "    current -= 1\n",
        "count_down(3)\n",
        "print(\"Zero!\")"
      ],
      "execution_count": null,
      "outputs": [
        {
          "output_type": "stream",
          "text": [
            "3\n",
            "2\n",
            "1\n",
            "Zero!\n"
          ],
          "name": "stdout"
        }
      ]
    },
    {
      "cell_type": "markdown",
      "metadata": {
        "id": "_kEiaJSOVFtB"
      },
      "source": [
        "Fixing an Infinite Loop"
      ]
    },
    {
      "cell_type": "code",
      "metadata": {
        "colab": {
          "base_uri": "https://localhost:8080/"
        },
        "id": "BzYmjy2vUV5C",
        "outputId": "d0eb579c-77a3-42c4-fff6-fb9badecee1e"
      },
      "source": [
        "def print_range(start, end):\n",
        "\t# Loop through the numbers from start to end\n",
        "    while start < (end+1):\n",
        "      print(start)\n",
        "      start +=1\n",
        "print_range(1, 5)  # Should print 1 2 3 4 5 (each number on its own line) "
      ],
      "execution_count": null,
      "outputs": [
        {
          "output_type": "stream",
          "text": [
            "1\n",
            "2\n",
            "3\n",
            "4\n",
            "5\n"
          ],
          "name": "stdout"
        }
      ]
    },
    {
      "cell_type": "markdown",
      "metadata": {
        "id": "DoNTOB_RXzlB"
      },
      "source": [
        "Quiz Q2"
      ]
    },
    {
      "cell_type": "code",
      "metadata": {
        "colab": {
          "base_uri": "https://localhost:8080/",
          "height": 108
        },
        "id": "wOx_uxL7XDPx",
        "outputId": "f8f2bd4b-f7da-497c-fb6b-695d61bd18a0"
      },
      "source": [
        "def print_prime_factors(number):\n",
        "  # Start with two, which is the first prime\n",
        "  factor = 2\n",
        "  # Keep going until the factor is larger than the number\n",
        "  while factor <= number:\n",
        "    # Check if factor is a divisor of number\n",
        "    if number % factor == 0:\n",
        "      # If it is, print it and divide the original number\n",
        "      print(factor)\n",
        "      number = number / factor\n",
        "    else:\n",
        "      # If it's not, increment the factor by one\n",
        "      factor += 1\n",
        "  return \"Done\"\n",
        "\n",
        "print_prime_factors(100)\n",
        "# Should print 2,2,5,5\n",
        "# DO NOT DELETE THIS COMMENT"
      ],
      "execution_count": null,
      "outputs": [
        {
          "output_type": "stream",
          "text": [
            "2\n",
            "2\n",
            "5\n",
            "5\n"
          ],
          "name": "stdout"
        },
        {
          "output_type": "execute_result",
          "data": {
            "application/vnd.google.colaboratory.intrinsic+json": {
              "type": "string"
            },
            "text/plain": [
              "'Done'"
            ]
          },
          "metadata": {
            "tags": []
          },
          "execution_count": 22
        }
      ]
    },
    {
      "cell_type": "markdown",
      "metadata": {
        "id": "Ca48J9VnYypp"
      },
      "source": [
        "Quiz Q3"
      ]
    },
    {
      "cell_type": "code",
      "metadata": {
        "colab": {
          "base_uri": "https://localhost:8080/"
        },
        "id": "7lu2diuVY0ZK",
        "outputId": "b87c1b44-1dbe-4018-cf04-d7a19e2f3479"
      },
      "source": [
        "def is_power_of_two(n):\n",
        "  # Check if the number can be divided by two without a remainder\n",
        "  if n != 0 and (n % 2 == 0 or 2 % n == 0):\n",
        "    n = n/2\n",
        "    return True\n",
        "  # If after dividing by two the number is 1, it's a power of two\n",
        "  return False\n",
        "  \n",
        "\n",
        "print(is_power_of_two(0)) # Should be False\n",
        "print(is_power_of_two(1)) # Should be True\n",
        "print(is_power_of_two(8)) # Should be True\n",
        "print(is_power_of_two(9)) # Should be False"
      ],
      "execution_count": null,
      "outputs": [
        {
          "output_type": "stream",
          "text": [
            "False\n",
            "True\n",
            "True\n",
            "False\n"
          ],
          "name": "stdout"
        }
      ]
    },
    {
      "cell_type": "markdown",
      "metadata": {
        "id": "ai3NI3gGbHiJ"
      },
      "source": [
        "Quiz Q4"
      ]
    },
    {
      "cell_type": "code",
      "metadata": {
        "colab": {
          "base_uri": "https://localhost:8080/"
        },
        "id": "LLC5qvvwaCAQ",
        "outputId": "83bcf4e2-b4d1-4b6a-f144-9346585017b9"
      },
      "source": [
        "def sum_divisors(n):\n",
        "  return sum([i for i in range (1, n) if n % i == 0])\n",
        "\n",
        "print(sum_divisors(0))\n",
        "# 0\n",
        "print(sum_divisors(3)) # Should sum of 1\n",
        "# 1\n",
        "print(sum_divisors(36)) # Should sum of 1+2+3+4+6+9+12+18\n",
        "# 55\n",
        "print(sum_divisors(102)) # Should be sum of 2+3+6+17+34+51\n",
        "# 114"
      ],
      "execution_count": null,
      "outputs": [
        {
          "output_type": "stream",
          "text": [
            "0\n",
            "1\n",
            "55\n",
            "114\n"
          ],
          "name": "stdout"
        }
      ]
    },
    {
      "cell_type": "markdown",
      "metadata": {
        "id": "EGBlfZ6jciyy"
      },
      "source": [
        "Quiz Q5"
      ]
    },
    {
      "cell_type": "code",
      "metadata": {
        "colab": {
          "base_uri": "https://localhost:8080/"
        },
        "id": "Yy6JY3-DbmqB",
        "outputId": "3d47961d-4fd7-40ba-c062-bfb53a3f1f62"
      },
      "source": [
        "def multiplication_table(number):\n",
        "\t# Initialize the starting point of the multiplication table\n",
        "\tmultiplier = 1\n",
        "\t# Only want to loop through 5\n",
        "\twhile multiplier <= 5:\n",
        "\t\tresult = number * multiplier \n",
        "\t\t# What is the additional condition to exit out of the loop?\n",
        "\t\tif result >= 26 :\n",
        "\t\t\tbreak\n",
        "\t\tprint(str(number) + \"x\" + str(multiplier) + \"=\" + str(result))\n",
        "\t\t# Increment the variable for the loop\n",
        "\t\tmultiplier += 1\n",
        "\n",
        "multiplication_table(3) \n",
        "# Should print: 3x1=3 3x2=6 3x3=9 3x4=12 3x5=15\n",
        "\n",
        "multiplication_table(5) \n",
        "# Should print: 5x1=5 5x2=10 5x3=15 5x4=20 5x5=25\n",
        "\n",
        "multiplication_table(8)\t\n",
        "# Should print: 8x1=8 8x2=16 8x3=24"
      ],
      "execution_count": null,
      "outputs": [
        {
          "output_type": "stream",
          "text": [
            "3x1=3\n",
            "3x2=6\n",
            "3x3=9\n",
            "3x4=12\n",
            "3x5=15\n",
            "5x1=5\n",
            "5x2=10\n",
            "5x3=15\n",
            "5x4=20\n",
            "5x5=25\n",
            "8x1=8\n",
            "8x2=16\n",
            "8x3=24\n"
          ],
          "name": "stdout"
        }
      ]
    },
    {
      "cell_type": "markdown",
      "metadata": {
        "id": "pY1SFaereCBq"
      },
      "source": [
        "### For Loop"
      ]
    },
    {
      "cell_type": "code",
      "metadata": {
        "colab": {
          "base_uri": "https://localhost:8080/"
        },
        "id": "Hgt6gm6xeDXY",
        "outputId": "9d102a83-a798-4b5e-c592-56205684e339"
      },
      "source": [
        "for x in range(2,5):\n",
        "  print(x)"
      ],
      "execution_count": null,
      "outputs": [
        {
          "output_type": "stream",
          "text": [
            "2\n",
            "3\n",
            "4\n"
          ],
          "name": "stdout"
        }
      ]
    },
    {
      "cell_type": "code",
      "metadata": {
        "colab": {
          "base_uri": "https://localhost:8080/"
        },
        "id": "U0LxtEHTfpB6",
        "outputId": "4a361f2d-319a-4691-b073-c4c38491ba3f"
      },
      "source": [
        "def square(n):\n",
        "    return n*n # square formula\n",
        "\n",
        "def sum_squares(x):\n",
        "    sum = 0\n",
        "    for n in range(x):\n",
        "        sum = sum + square(n) # add each sqaure iteration of 0-10\n",
        "        n += 1 # increase iteration by 1\n",
        "    return sum\n",
        "\n",
        "print(sum_squares(10)) # Should be 285"
      ],
      "execution_count": null,
      "outputs": [
        {
          "output_type": "stream",
          "text": [
            "285\n"
          ],
          "name": "stdout"
        }
      ]
    },
    {
      "cell_type": "code",
      "metadata": {
        "colab": {
          "base_uri": "https://localhost:8080/"
        },
        "id": "nc_dlwqnlevx",
        "outputId": "4038ef02-de30-4514-9877-27780176a1d0"
      },
      "source": [
        "values = [ 23, 52, 59, 37, 48]\n",
        "sum = 0\n",
        "length = 0\n",
        "for value in values:\n",
        "  sum += value\n",
        "  length += 1\n",
        "print('Total sum: ' + str(sum) + ' - Average: ' + str(sum/length))"
      ],
      "execution_count": null,
      "outputs": [
        {
          "output_type": "stream",
          "text": [
            "Total sum: 219 - Average: 43.8\n"
          ],
          "name": "stdout"
        }
      ]
    },
    {
      "cell_type": "code",
      "metadata": {
        "id": "WTaO7E3CovP3",
        "colab": {
          "base_uri": "https://localhost:8080/"
        },
        "outputId": "28f4fccb-5854-4fa9-e29c-a549c92d901e"
      },
      "source": [
        "def factorial(n):\n",
        "    result = 1\n",
        "    for i in range(1 ,(n+1)):\n",
        "      result = result * i\n",
        "    return result\n",
        "\n",
        "print(factorial(4)) # should return 24\n",
        "print(factorial(5)) # should return 120"
      ],
      "execution_count": null,
      "outputs": [
        {
          "output_type": "stream",
          "text": [
            "24\n",
            "120\n"
          ],
          "name": "stdout"
        }
      ]
    },
    {
      "cell_type": "code",
      "metadata": {
        "colab": {
          "base_uri": "https://localhost:8080/"
        },
        "id": "q2POTLH_BaBw",
        "outputId": "23945f42-a1de-4b0e-9fe7-8939aa50aef6"
      },
      "source": [
        "def to_celsius(x):\n",
        "  return (x-32)*5/9\n",
        "\n",
        "for x in range(0, 101, 10): # last 10 defines each bin/split\n",
        "  print(x, to_celsius(x))"
      ],
      "execution_count": null,
      "outputs": [
        {
          "output_type": "stream",
          "text": [
            "0 -17.77777777777778\n",
            "10 -12.222222222222221\n",
            "20 -6.666666666666667\n",
            "30 -1.1111111111111112\n",
            "40 4.444444444444445\n",
            "50 10.0\n",
            "60 15.555555555555555\n",
            "70 21.11111111111111\n",
            "80 26.666666666666668\n",
            "90 32.22222222222222\n",
            "100 37.77777777777778\n"
          ],
          "name": "stdout"
        }
      ]
    },
    {
      "cell_type": "markdown",
      "metadata": {
        "id": "fXA3dM7gC8yE"
      },
      "source": [
        "### Nested for Loops"
      ]
    },
    {
      "cell_type": "code",
      "metadata": {
        "colab": {
          "base_uri": "https://localhost:8080/"
        },
        "id": "_UXR-MdsCoCk",
        "outputId": "0481cfb7-4483-46e5-b9eb-9904a3efec0e"
      },
      "source": [
        "for left in range(7):\n",
        "  for right in range(left, 7):\n",
        "    print('[' + str(left) + '|' + str(right) + ']', end=' ') # end is new linecharacter command\n",
        "  print()"
      ],
      "execution_count": null,
      "outputs": [
        {
          "output_type": "stream",
          "text": [
            "[0|0] [0|1] [0|2] [0|3] [0|4] [0|5] [0|6] \n",
            "[1|1] [1|2] [1|3] [1|4] [1|5] [1|6] \n",
            "[2|2] [2|3] [2|4] [2|5] [2|6] \n",
            "[3|3] [3|4] [3|5] [3|6] \n",
            "[4|4] [4|5] [4|6] \n",
            "[5|5] [5|6] \n",
            "[6|6] \n"
          ],
          "name": "stdout"
        }
      ]
    },
    {
      "cell_type": "code",
      "metadata": {
        "colab": {
          "base_uri": "https://localhost:8080/"
        },
        "id": "9M4zg8LxQE21",
        "outputId": "653515c4-346e-4b46-cc55-09905abf76e9"
      },
      "source": [
        "teams = [ 'Dragons', 'Wolves', 'Pandas', 'Unicorns']\n",
        "for home_team in teams:\n",
        "    for away_team in teams:\n",
        "      if home_team != away_team:\n",
        "        print(home_team + ' vs ' + away_team)\n",
        "print()"
      ],
      "execution_count": null,
      "outputs": [
        {
          "output_type": "stream",
          "text": [
            "Dragons vs Wolves\n",
            "Dragons vs Pandas\n",
            "Dragons vs Unicorns\n",
            "Wolves vs Dragons\n",
            "Wolves vs Pandas\n",
            "Wolves vs Unicorns\n",
            "Pandas vs Dragons\n",
            "Pandas vs Wolves\n",
            "Pandas vs Unicorns\n",
            "Unicorns vs Dragons\n",
            "Unicorns vs Wolves\n",
            "Unicorns vs Pandas\n",
            "\n"
          ],
          "name": "stdout"
        }
      ]
    },
    {
      "cell_type": "code",
      "metadata": {
        "colab": {
          "base_uri": "https://localhost:8080/"
        },
        "id": "w-acAzxdQvz0",
        "outputId": "13bd1669-a93b-4115-8559-63fb9a5ab0ae"
      },
      "source": [
        "def greet(friends):\n",
        "  for i in friends:\n",
        "    print('Hi ' + i )\n",
        "\n",
        "greet(['Taylor', 'Luise', 'Jamaal', 'Eli']) # use a [ ] list to set a range"
      ],
      "execution_count": null,
      "outputs": [
        {
          "output_type": "stream",
          "text": [
            "Hi Taylor\n",
            "Hi Luise\n",
            "Hi Jamaal\n",
            "Hi Eli\n"
          ],
          "name": "stdout"
        }
      ]
    },
    {
      "cell_type": "code",
      "metadata": {
        "colab": {
          "base_uri": "https://localhost:8080/"
        },
        "id": "xcOB2N-KwUXr",
        "outputId": "8ba72470-69f6-4b63-a984-834e835f6e39"
      },
      "source": [
        "greet('Barry') # strings are iterable"
      ],
      "execution_count": null,
      "outputs": [
        {
          "output_type": "stream",
          "text": [
            "Hi B\n",
            "Hi a\n",
            "Hi r\n",
            "Hi r\n",
            "Hi y\n"
          ],
          "name": "stdout"
        }
      ]
    },
    {
      "cell_type": "code",
      "metadata": {
        "colab": {
          "base_uri": "https://localhost:8080/"
        },
        "id": "0bSU52Xsw6a5",
        "outputId": "436f2bc5-be89-424a-84b1-a1b0288e7adf"
      },
      "source": [
        "def validate_users(users):\n",
        "  for user in users:\n",
        "    if len(user)> 3 :\n",
        "      print(user + \" is valid\")\n",
        "    else:\n",
        "      print(user + \" is invalid\")\n",
        "\n",
        "validate_users([\"purplecat\"])"
      ],
      "execution_count": null,
      "outputs": [
        {
          "output_type": "stream",
          "text": [
            "purplecat is valid\n"
          ],
          "name": "stdout"
        }
      ]
    },
    {
      "cell_type": "markdown",
      "metadata": {
        "id": "4pMm6ZOVx5p0"
      },
      "source": [
        "Quiz Q2"
      ]
    },
    {
      "cell_type": "code",
      "metadata": {
        "colab": {
          "base_uri": "https://localhost:8080/"
        },
        "id": "UWQimKiUxTHK",
        "outputId": "8a7b961f-ac5d-400c-c22b-4593f189bc54"
      },
      "source": [
        "def factorial(n):\n",
        "    result = 1\n",
        "    for x in range(1,n):\n",
        "        result = result * x\n",
        "    return result\n",
        "\n",
        "for n in range(0,10):\n",
        "    print(n, factorial(n+1))"
      ],
      "execution_count": null,
      "outputs": [
        {
          "output_type": "stream",
          "text": [
            "0 1\n",
            "1 1\n",
            "2 2\n",
            "3 6\n",
            "4 24\n",
            "5 120\n",
            "6 720\n",
            "7 5040\n",
            "8 40320\n",
            "9 362880\n"
          ],
          "name": "stdout"
        }
      ]
    },
    {
      "cell_type": "markdown",
      "metadata": {
        "id": "xGOU4BFiyVs6"
      },
      "source": [
        "Quiz Q3"
      ]
    },
    {
      "cell_type": "code",
      "metadata": {
        "colab": {
          "base_uri": "https://localhost:8080/"
        },
        "id": "qZCr2CMoyUra",
        "outputId": "8d53f516-1b66-40a3-e66c-befa10ed985b"
      },
      "source": [
        "for i in range(1,11):\n",
        "  print(i**3)"
      ],
      "execution_count": null,
      "outputs": [
        {
          "output_type": "stream",
          "text": [
            "1\n",
            "8\n",
            "27\n",
            "64\n",
            "125\n",
            "216\n",
            "343\n",
            "512\n",
            "729\n",
            "1000\n"
          ],
          "name": "stdout"
        }
      ]
    },
    {
      "cell_type": "markdown",
      "metadata": {
        "id": "5f1yOweByyPy"
      },
      "source": [
        "Quiz Q4"
      ]
    },
    {
      "cell_type": "code",
      "metadata": {
        "colab": {
          "base_uri": "https://localhost:8080/"
        },
        "id": "FnAiuIz7ykf6",
        "outputId": "6fb02b68-69a7-466c-88e3-3de98b776840"
      },
      "source": [
        "for num in range(0, 101):\n",
        "  if num%7==0:\n",
        "    print(num)"
      ],
      "execution_count": null,
      "outputs": [
        {
          "output_type": "stream",
          "text": [
            "0\n",
            "7\n",
            "14\n",
            "21\n",
            "28\n",
            "35\n",
            "42\n",
            "49\n",
            "56\n",
            "63\n",
            "70\n",
            "77\n",
            "84\n",
            "91\n",
            "98\n"
          ],
          "name": "stdout"
        }
      ]
    },
    {
      "cell_type": "markdown",
      "metadata": {
        "id": "FeswFY-OzBki"
      },
      "source": [
        "Quiz Q5"
      ]
    },
    {
      "cell_type": "code",
      "metadata": {
        "id": "MVZAIH4fy7Dq"
      },
      "source": [
        "def retry(operation, attempts):\n",
        "  for n in range(attempts):\n",
        "    if operation():\n",
        "      print(\"Attempt \" + str(n) + \" succeeded\")\n",
        "      break\n",
        "    else:\n",
        "      print(\"Attempt \" + str(n) + \" failed\")\n",
        "retry(create_user, 3)\n",
        "retry(stop_service, 5)"
      ],
      "execution_count": null,
      "outputs": []
    },
    {
      "cell_type": "markdown",
      "metadata": {
        "id": "WYWejc6B0JHR"
      },
      "source": [
        "###Recursion\n",
        "Repeat applying solution to a simpler problem.\n",
        "\n",
        "Do a repeat action by having it call itself.\n",
        "\n",
        "Must include a recursive case & a base case.\n",
        "\n",
        "The recursive case calls the function again, with a different value. The base case returns a value without calling the same function."
      ]
    },
    {
      "cell_type": "code",
      "metadata": {
        "colab": {
          "base_uri": "https://localhost:8080/"
        },
        "id": "Nm0261bzzWwK",
        "outputId": "aeaa1c3c-4263-4147-acd2-090087d9ca76"
      },
      "source": [
        "def sum_positive_numbers(n):\n",
        "    # The base case is n being smaller than 1\n",
        "    if n < 1:\n",
        "        return n\n",
        "\n",
        "    # The recursive case is adding this number to \n",
        "    # the sum of the numbers smaller than this one.\n",
        "    return n + sum_positive_numbers(n-1)\n",
        "\n",
        "print(sum_positive_numbers(3)) # Should be 6\n",
        "print(sum_positive_numbers(5)) # Should be 15"
      ],
      "execution_count": null,
      "outputs": [
        {
          "output_type": "stream",
          "text": [
            "6\n",
            "15\n"
          ],
          "name": "stdout"
        }
      ]
    },
    {
      "cell_type": "markdown",
      "metadata": {
        "id": "XL_kQky8u5jr"
      },
      "source": [
        "Recursive case - calling recursive for each of the sub functions.\n",
        "\n",
        "Max - 1000 times."
      ]
    },
    {
      "cell_type": "markdown",
      "metadata": {
        "id": "5A4JwoL9wa2x"
      },
      "source": [
        "Quiz Q3"
      ]
    },
    {
      "cell_type": "code",
      "metadata": {
        "id": "PkdPU0tG13Wq",
        "colab": {
          "base_uri": "https://localhost:8080/"
        },
        "outputId": "7b730576-c74c-4600-bd80-646456ec5dee"
      },
      "source": [
        "def is_power_of(number, base):\n",
        "  # Base case: when number is smaller than base.\n",
        "  if number < base:\n",
        "    # If number is equal to 1, it's a power (base**0).\n",
        "    return number == 1\n",
        "  number = number//base\n",
        "  return is_power_of(number, base)\n",
        "\n",
        "print(is_power_of(8,2)) # Should be True\n",
        "print(is_power_of(64,4)) # Should be True\n",
        "print(is_power_of(70,10)) # Should be False"
      ],
      "execution_count": null,
      "outputs": [
        {
          "output_type": "stream",
          "text": [
            "True\n",
            "True\n",
            "False\n"
          ],
          "name": "stdout"
        }
      ]
    },
    {
      "cell_type": "markdown",
      "metadata": {
        "id": "CGuEXoFcyeSw"
      },
      "source": [
        "Quiz Q4"
      ]
    },
    {
      "cell_type": "code",
      "metadata": {
        "id": "CVQ9h1ayyfnS"
      },
      "source": [
        "def count_users(group):\n",
        "  count = 0\n",
        "  for member in get_members(group):\n",
        "    if is_group(member):\n",
        "      count += count_users(member)\n",
        "    else:\n",
        "      count += 1\n",
        "  return count\n",
        "\n",
        "print(count_users(\"sales\")) # Should be 3\n",
        "print(count_users(\"engineering\")) # Should be 8\n",
        "print(count_users(\"everyone\")) # Should be 18"
      ],
      "execution_count": null,
      "outputs": []
    },
    {
      "cell_type": "markdown",
      "metadata": {
        "id": "i-gyptOt00t5"
      },
      "source": [
        "Quiz Q5"
      ]
    },
    {
      "cell_type": "code",
      "metadata": {
        "colab": {
          "base_uri": "https://localhost:8080/"
        },
        "id": "hdt95gAC02QZ",
        "outputId": "1b9f97ce-4637-4a41-a866-663642097281"
      },
      "source": [
        "def sum_positive_numbers(n):\n",
        "  sum = 0\n",
        "  if n < 1:\n",
        "    return n\n",
        "  sum += n\n",
        "  return sum + sum_positive_numbers(n-1)\n",
        "\n",
        "print(sum_positive_numbers(3)) # Should be 6\n",
        "print(sum_positive_numbers(5)) # Should be 15"
      ],
      "execution_count": null,
      "outputs": [
        {
          "output_type": "stream",
          "text": [
            "6\n",
            "15\n"
          ],
          "name": "stdout"
        }
      ]
    },
    {
      "cell_type": "markdown",
      "metadata": {
        "id": "_SwMtx4DEHD8"
      },
      "source": [
        "###Loop Quiz"
      ]
    },
    {
      "cell_type": "code",
      "metadata": {
        "colab": {
          "base_uri": "https://localhost:8080/"
        },
        "id": "4WKIv1ySEI-o",
        "outputId": "abafc352-e1f4-4970-b69f-d463b3259f88"
      },
      "source": [
        "number = 1\n",
        "while number <= 7:\n",
        "\tprint(number, end=\" \")\n",
        "\tnumber += 1"
      ],
      "execution_count": null,
      "outputs": [
        {
          "output_type": "stream",
          "text": [
            "1 2 3 4 5 6 7 "
          ],
          "name": "stdout"
        }
      ]
    },
    {
      "cell_type": "code",
      "metadata": {
        "colab": {
          "base_uri": "https://localhost:8080/"
        },
        "id": "ebJ4bQ8uG9t7",
        "outputId": "b028506c-5820-4b68-ce83-8bb947dd05a1"
      },
      "source": [
        "def show_letters(word):\n",
        "\tfor i in word:\n",
        "\t\tprint(i)\n",
        "\n",
        "show_letters(\"Hello\")\n",
        "# Should print one line per letter"
      ],
      "execution_count": null,
      "outputs": [
        {
          "output_type": "stream",
          "text": [
            "H\n",
            "e\n",
            "l\n",
            "l\n",
            "o\n"
          ],
          "name": "stdout"
        }
      ]
    },
    {
      "cell_type": "code",
      "metadata": {
        "colab": {
          "base_uri": "https://localhost:8080/"
        },
        "id": "Nj0BOFZDI4ry",
        "outputId": "bceae451-c65b-44fe-8bef-db8fa5ced5eb"
      },
      "source": [
        "def digits(n):\n",
        "\tcount = 0\n",
        "\tif n == 0:\n",
        "\t  return 0\n",
        "\twhile count < n:\n",
        "\t\tcount += 1\n",
        "\treturn count\n",
        "\t\n",
        "print(digits(25))   # Should print 2\n",
        "print(digits(144))  # Should print 3\n",
        "print(digits(1000)) # Should print 4\n",
        "print(digits(0))    # Should print 1"
      ],
      "execution_count": null,
      "outputs": [
        {
          "output_type": "stream",
          "text": [
            "25\n",
            "144\n",
            "1000\n",
            "0\n"
          ],
          "name": "stdout"
        }
      ]
    },
    {
      "cell_type": "code",
      "metadata": {
        "colab": {
          "base_uri": "https://localhost:8080/"
        },
        "id": "7Mr9gOwMJQY3",
        "outputId": "f1bdb3bc-8f91-414e-a510-cf6942a800de"
      },
      "source": [
        "def multiplication_table(start, stop):\n",
        "\tfor x in range(start, stop+1):\n",
        "\t\tfor y in range(start, stop+1):\n",
        "\t\t\tprint(str(x*y), end=\" \")\n",
        "\t\tprint()\n",
        "\n",
        "multiplication_table(1, 3)\n",
        "# Should print the multiplication table shown above"
      ],
      "execution_count": null,
      "outputs": [
        {
          "output_type": "stream",
          "text": [
            "1 2 3 \n",
            "2 4 6 \n",
            "3 6 9 \n"
          ],
          "name": "stdout"
        }
      ]
    },
    {
      "cell_type": "code",
      "metadata": {
        "colab": {
          "base_uri": "https://localhost:8080/"
        },
        "id": "kcRpqSPXI1Wp",
        "outputId": "38440795-68f0-4757-e131-6f91754b0473"
      },
      "source": [
        "def counter(start, stop):\n",
        "\tx = start\n",
        "\tif x > stop:\n",
        "\t\treturn_string = \"Counting down: \"\n",
        "\t\twhile x >= stop:\n",
        "\t\t\treturn_string += str(x)\n",
        "\t\t\tif x > stop:\n",
        "\t\t\t\treturn_string += \",\"\n",
        "\t\t\tx -= 1\n",
        "\telse:\n",
        "\t\treturn_string = \"Counting up: \"\n",
        "\t\twhile x <= stop:\n",
        "\t\t\treturn_string += str(x)\n",
        "\t\t\tif x < stop :\n",
        "\t\t\t\treturn_string += \",\"\n",
        "\t\t\tx += 1\n",
        "\treturn return_string\n",
        "\n",
        "print(counter(1, 10)) # Should be \"Counting up: 1,2,3,4,5,6,7,8,9,10\"\n",
        "print(counter(2, 1)) # Should be \"Counting down: 2,1\"\n",
        "print(counter(5, 5)) # Should be \"Counting up: 5\""
      ],
      "execution_count": null,
      "outputs": [
        {
          "output_type": "stream",
          "text": [
            "Counting up: 1,2,3,4,5,6,7,8,9,10\n",
            "Counting down: 2,1\n",
            "Counting up: 5\n"
          ],
          "name": "stdout"
        }
      ]
    },
    {
      "cell_type": "code",
      "metadata": {
        "colab": {
          "base_uri": "https://localhost:8080/"
        },
        "id": "HbTcqk-HMIk4",
        "outputId": "2ef23da2-fa47-42ef-8590-6a6da55d649a"
      },
      "source": [
        "def even_numbers(maximum):\n",
        "    return_string = \"\"\n",
        "    for x in range(0, maximum + 1):\n",
        "        if x != 0 and x % 2 == 0:\n",
        "            return_string += str(x) + \" \"\n",
        "    return return_string.strip()\n",
        "\n",
        "print(even_numbers(6))  # Should be 2 4 6\n",
        "print(even_numbers(10)) # Should be 2 4 6 8 10\n",
        "print(even_numbers(1))  # No numbers displayed\n",
        "print(even_numbers(3))  # Should be 2\n",
        "print(even_numbers(0))  # No numbers displayed"
      ],
      "execution_count": null,
      "outputs": [
        {
          "output_type": "stream",
          "text": [
            "2 4 6\n",
            "2 4 6 8 10\n",
            "\n",
            "2\n",
            "\n"
          ],
          "name": "stdout"
        }
      ]
    },
    {
      "cell_type": "code",
      "metadata": {
        "colab": {
          "base_uri": "https://localhost:8080/"
        },
        "id": "0Dxd0we0PXIX",
        "outputId": "b82b7cb2-db04-4373-ef8a-99c7f6283afa"
      },
      "source": [
        "for x in range(1, 10, 3):\n",
        "    print(x)"
      ],
      "execution_count": null,
      "outputs": [
        {
          "output_type": "stream",
          "text": [
            "1\n",
            "4\n",
            "7\n"
          ],
          "name": "stdout"
        }
      ]
    },
    {
      "cell_type": "code",
      "metadata": {
        "id": "gmbs6eJIUmVo"
      },
      "source": [
        "for x in range(10):\n",
        "    for y in range(x):\n",
        "        print(y)"
      ],
      "execution_count": null,
      "outputs": []
    },
    {
      "cell_type": "code",
      "metadata": {
        "id": "4gCv-v3iUuPX"
      },
      "source": [
        "votes(['yes', 'no', 'maybe'])\n",
        "\n",
        "def votes(params):\n",
        "\tfor vote in params:\n",
        "\t    print(\"Possible option:\" + vote)"
      ],
      "execution_count": null,
      "outputs": []
    },
    {
      "cell_type": "markdown",
      "metadata": {
        "id": "rwXQCzAmVhK-"
      },
      "source": [
        "##Structures"
      ]
    },
    {
      "cell_type": "markdown",
      "metadata": {
        "id": "zFUKQuv5_Tow"
      },
      "source": [
        "###Strings\n",
        "Immutable. Need to create an entirely new string."
      ]
    },
    {
      "cell_type": "code",
      "metadata": {
        "colab": {
          "base_uri": "https://localhost:8080/"
        },
        "id": "ex0QyasaVkdH",
        "outputId": "f05f4650-d61a-4a09-99ab-13fde1f0a496"
      },
      "source": [
        "def double_word(word):\n",
        "    word = word * 2\n",
        "    return word + str(len(word))\n",
        "\n",
        "print(double_word(\"hello\")) # Should return hellohello10\n",
        "print(double_word(\"abc\"))   # Should return abcabc6\n",
        "print(double_word(\"\"))      # Should return 0"
      ],
      "execution_count": null,
      "outputs": [
        {
          "output_type": "stream",
          "text": [
            "hellohello10\n",
            "abcabc6\n",
            "0\n"
          ],
          "name": "stdout"
        }
      ]
    },
    {
      "cell_type": "code",
      "metadata": {
        "colab": {
          "base_uri": "https://localhost:8080/"
        },
        "id": "OD-u1sjbijrA",
        "outputId": "09c37a01-ca8f-4902-e6af-55beecd77399"
      },
      "source": [
        "name = 'Jay'\n",
        "print(name[1]) # string indexing"
      ],
      "execution_count": null,
      "outputs": [
        {
          "output_type": "stream",
          "text": [
            "a\n"
          ],
          "name": "stdout"
        }
      ]
    },
    {
      "cell_type": "code",
      "metadata": {
        "colab": {
          "base_uri": "https://localhost:8080/"
        },
        "id": "9CBynddyknR2",
        "outputId": "aa02ffa0-bed9-4507-e585-fbe70acbf12a"
      },
      "source": [
        "def first_and_last(message):\n",
        "    if len(message) == 0:\n",
        "        return True\n",
        "    elif message[0] == message[-1]:\n",
        "        return True\n",
        "    else:\n",
        "        return False\n",
        "\n",
        "print(first_and_last(\"else\"))\n",
        "print(first_and_last(\"tree\"))\n",
        "print(first_and_last(\"\"))"
      ],
      "execution_count": null,
      "outputs": [
        {
          "output_type": "stream",
          "text": [
            "True\n",
            "False\n",
            "True\n"
          ],
          "name": "stdout"
        }
      ]
    },
    {
      "cell_type": "markdown",
      "metadata": {
        "id": "93IwZwU6ku0e"
      },
      "source": [
        "Slicing a string or getting a sub-string"
      ]
    },
    {
      "cell_type": "code",
      "metadata": {
        "colab": {
          "base_uri": "https://localhost:8080/",
          "height": 36
        },
        "id": "9nTXBg2Wkxwu",
        "outputId": "341d5cf8-cf54-4065-eff9-11e7b1bec7a6"
      },
      "source": [
        "color='Orange'\n",
        "color[1:4]"
      ],
      "execution_count": null,
      "outputs": [
        {
          "output_type": "execute_result",
          "data": {
            "application/vnd.google.colaboratory.intrinsic+json": {
              "type": "string"
            },
            "text/plain": [
              "'ran'"
            ]
          },
          "metadata": {
            "tags": []
          },
          "execution_count": 104
        }
      ]
    },
    {
      "cell_type": "markdown",
      "metadata": {
        "id": "FIZEcbpC_0Ae"
      },
      "source": [
        "####Methods\n",
        "Function associated with a specific class."
      ]
    },
    {
      "cell_type": "code",
      "metadata": {
        "id": "W-yMwNZIk1lm",
        "colab": {
          "base_uri": "https://localhost:8080/"
        },
        "outputId": "ffa24036-d343-44e2-f0ea-c04267141136"
      },
      "source": [
        "pets = 'Cats & Dogs'\n",
        "pets.index('&')"
      ],
      "execution_count": null,
      "outputs": [
        {
          "output_type": "execute_result",
          "data": {
            "text/plain": [
              "5"
            ]
          },
          "metadata": {
            "tags": []
          },
          "execution_count": 2
        }
      ]
    },
    {
      "cell_type": "code",
      "metadata": {
        "colab": {
          "base_uri": "https://localhost:8080/"
        },
        "id": "VfLNO1QS_9-P",
        "outputId": "0f1fb322-9ec3-41d5-fbb5-827edb632c51"
      },
      "source": [
        "pets.index('s') # only shows 1st answer"
      ],
      "execution_count": null,
      "outputs": [
        {
          "output_type": "execute_result",
          "data": {
            "text/plain": [
              "3"
            ]
          },
          "metadata": {
            "tags": []
          },
          "execution_count": 4
        }
      ]
    },
    {
      "cell_type": "code",
      "metadata": {
        "colab": {
          "base_uri": "https://localhost:8080/"
        },
        "id": "tRCu0pqTAmNO",
        "outputId": "60220e91-2808-4c89-cfb6-e6b01f97dc45"
      },
      "source": [
        "'Cats' in pets # to check if substring is in a string"
      ],
      "execution_count": null,
      "outputs": [
        {
          "output_type": "execute_result",
          "data": {
            "text/plain": [
              "True"
            ]
          },
          "metadata": {
            "tags": []
          },
          "execution_count": 5
        }
      ]
    },
    {
      "cell_type": "code",
      "metadata": {
        "id": "mIwytTewBBtd"
      },
      "source": [
        "#to replace domain names in new emails\n",
        "def replace_domain(email, old_domain, new_domain):\n",
        "  if '@' + old_domain in email: # if old domain name is in email.\n",
        "    index = email.index('@' + old_domain)\n",
        "    new_email = email[:index] + '@' + new_domain\n",
        "    return new_email\n",
        "  return email # if no changes made"
      ],
      "execution_count": null,
      "outputs": []
    },
    {
      "cell_type": "code",
      "metadata": {
        "colab": {
          "base_uri": "https://localhost:8080/",
          "height": 36
        },
        "id": "TRa98PDs6Ckd",
        "outputId": "c07c930e-0eeb-4894-f7cb-9c948231ef65"
      },
      "source": [
        "pets.upper()"
      ],
      "execution_count": null,
      "outputs": [
        {
          "output_type": "execute_result",
          "data": {
            "application/vnd.google.colaboratory.intrinsic+json": {
              "type": "string"
            },
            "text/plain": [
              "'CATS & DOGS'"
            ]
          },
          "metadata": {
            "tags": []
          },
          "execution_count": 3
        }
      ]
    },
    {
      "cell_type": "code",
      "metadata": {
        "colab": {
          "base_uri": "https://localhost:8080/",
          "height": 36
        },
        "id": "jUEzC6Hn6HEL",
        "outputId": "5f4c504e-2ddb-4631-f9f5-7f559cb8d042"
      },
      "source": [
        "pets.lower()"
      ],
      "execution_count": null,
      "outputs": [
        {
          "output_type": "execute_result",
          "data": {
            "application/vnd.google.colaboratory.intrinsic+json": {
              "type": "string"
            },
            "text/plain": [
              "'cats & dogs'"
            ]
          },
          "metadata": {
            "tags": []
          },
          "execution_count": 4
        }
      ]
    },
    {
      "cell_type": "code",
      "metadata": {
        "colab": {
          "base_uri": "https://localhost:8080/",
          "height": 36
        },
        "id": "CSy7AKFJ6Ks7",
        "outputId": "050b6470-1a36-4b09-c2e7-08117ec022e6"
      },
      "source": [
        "pets.strip() #removes spaces, tabs & new line characters"
      ],
      "execution_count": null,
      "outputs": [
        {
          "output_type": "execute_result",
          "data": {
            "application/vnd.google.colaboratory.intrinsic+json": {
              "type": "string"
            },
            "text/plain": [
              "'Cats & Dogs'"
            ]
          },
          "metadata": {
            "tags": []
          },
          "execution_count": 5
        }
      ]
    },
    {
      "cell_type": "code",
      "metadata": {
        "colab": {
          "base_uri": "https://localhost:8080/",
          "height": 36
        },
        "id": "H08MhVlI6UZL",
        "outputId": "c5e90293-9cf8-4101-93fd-8459def3ea8e"
      },
      "source": [
        "' yes '.lstrip()"
      ],
      "execution_count": null,
      "outputs": [
        {
          "output_type": "execute_result",
          "data": {
            "application/vnd.google.colaboratory.intrinsic+json": {
              "type": "string"
            },
            "text/plain": [
              "'yes '"
            ]
          },
          "metadata": {
            "tags": []
          },
          "execution_count": 6
        }
      ]
    },
    {
      "cell_type": "code",
      "metadata": {
        "colab": {
          "base_uri": "https://localhost:8080/",
          "height": 36
        },
        "id": "o1bN9VX-6exM",
        "outputId": "53742cdc-e3fc-459b-cb57-72b673540f70"
      },
      "source": [
        "' yes '.rstrip()"
      ],
      "execution_count": null,
      "outputs": [
        {
          "output_type": "execute_result",
          "data": {
            "application/vnd.google.colaboratory.intrinsic+json": {
              "type": "string"
            },
            "text/plain": [
              "' yes'"
            ]
          },
          "metadata": {
            "tags": []
          },
          "execution_count": 7
        }
      ]
    },
    {
      "cell_type": "code",
      "metadata": {
        "colab": {
          "base_uri": "https://localhost:8080/"
        },
        "id": "tkrLi8Mc6ggb",
        "outputId": "786dfaf3-2842-4142-e2c2-9a06acc5ed11"
      },
      "source": [
        "pets.count('s')"
      ],
      "execution_count": null,
      "outputs": [
        {
          "output_type": "execute_result",
          "data": {
            "text/plain": [
              "2"
            ]
          },
          "metadata": {
            "tags": []
          },
          "execution_count": 8
        }
      ]
    },
    {
      "cell_type": "code",
      "metadata": {
        "colab": {
          "base_uri": "https://localhost:8080/"
        },
        "id": "95IPgztZ6owN",
        "outputId": "4b6c9f16-bb2d-4daa-cb51-bc00e7312a48"
      },
      "source": [
        "pets.endswith('ogs')"
      ],
      "execution_count": null,
      "outputs": [
        {
          "output_type": "execute_result",
          "data": {
            "text/plain": [
              "True"
            ]
          },
          "metadata": {
            "tags": []
          },
          "execution_count": 13
        }
      ]
    },
    {
      "cell_type": "code",
      "metadata": {
        "colab": {
          "base_uri": "https://localhost:8080/"
        },
        "id": "Kn2uSVnT6t8r",
        "outputId": "8f9be961-4916-4059-ceda-5609cdc4d0f8"
      },
      "source": [
        "pets.isnumeric() #made up of just numbers?"
      ],
      "execution_count": null,
      "outputs": [
        {
          "output_type": "execute_result",
          "data": {
            "text/plain": [
              "False"
            ]
          },
          "metadata": {
            "tags": []
          },
          "execution_count": 15
        }
      ]
    },
    {
      "cell_type": "code",
      "metadata": {
        "colab": {
          "base_uri": "https://localhost:8080/",
          "height": 36
        },
        "id": "AtYOpHDJ6738",
        "outputId": "c7703893-47ad-4de3-cc11-c6a6d91816bb"
      },
      "source": [
        "' '.join([pets, 'are cute']) #for concantenating"
      ],
      "execution_count": null,
      "outputs": [
        {
          "output_type": "execute_result",
          "data": {
            "application/vnd.google.colaboratory.intrinsic+json": {
              "type": "string"
            },
            "text/plain": [
              "'Cats & Dogs are cute'"
            ]
          },
          "metadata": {
            "tags": []
          },
          "execution_count": 19
        }
      ]
    },
    {
      "cell_type": "code",
      "metadata": {
        "colab": {
          "base_uri": "https://localhost:8080/",
          "height": 36
        },
        "id": "9dw1Jbop7KH7",
        "outputId": "24ab4452-5b11-4b02-efe5-9dadb9df68e5"
      },
      "source": [
        "'...'.join(['This', 'is', 'a', 'test'])"
      ],
      "execution_count": null,
      "outputs": [
        {
          "output_type": "execute_result",
          "data": {
            "application/vnd.google.colaboratory.intrinsic+json": {
              "type": "string"
            },
            "text/plain": [
              "'This...is...a...test'"
            ]
          },
          "metadata": {
            "tags": []
          },
          "execution_count": 21
        }
      ]
    },
    {
      "cell_type": "code",
      "metadata": {
        "colab": {
          "base_uri": "https://localhost:8080/"
        },
        "id": "EWs_LTVz7gX7",
        "outputId": "1265d954-6199-40b8-eb3e-8d27ee091a6b"
      },
      "source": [
        "pets.split() #returns a list of all word in the string"
      ],
      "execution_count": null,
      "outputs": [
        {
          "output_type": "execute_result",
          "data": {
            "text/plain": [
              "['Cats', '&', 'Dogs']"
            ]
          },
          "metadata": {
            "tags": []
          },
          "execution_count": 22
        }
      ]
    },
    {
      "cell_type": "code",
      "metadata": {
        "colab": {
          "base_uri": "https://localhost:8080/"
        },
        "id": "iDhpV1ta7pob",
        "outputId": "4c19092c-81aa-4482-8ae7-b2ee0f05afd3"
      },
      "source": [
        "def initials(phrase):\n",
        "    words = phrase.split()\n",
        "    result = \"\"\n",
        "    for word in words:\n",
        "        result += word[0]\n",
        "    return result.upper()\n",
        "\n",
        "print(initials(\"Universal Serial Bus\")) # Should be: USB\n",
        "print(initials(\"local area network\")) # Should be: LAN\n",
        "print(initials(\"Operating system\")) # Should be: OS"
      ],
      "execution_count": null,
      "outputs": [
        {
          "output_type": "stream",
          "text": [
            "USB\n",
            "LAN\n",
            "OS\n"
          ],
          "name": "stdout"
        }
      ]
    },
    {
      "cell_type": "markdown",
      "metadata": {
        "id": "1ywPdnyQ8dUj"
      },
      "source": [
        "#### Formatting Strings"
      ]
    },
    {
      "cell_type": "markdown",
      "metadata": {
        "id": "c3S5Sk7XHAzz"
      },
      "source": [
        "Formatting Expressions:\n",
        "\n",
        "Expr\tMeaning\tExample\n",
        "\n",
        "{:d}\tinteger value\t'{:d}'.format(10.5) → '10'\n",
        "\n",
        "{:.2f}\tfloating point with that many decimals\t'{:.2f}'.format(0.5) → '0.50'\n",
        "\n",
        "{:.2s}\tstring with that many characters\t'{:.2s}'.format('Python') → 'Py'\n",
        "\n",
        "{:<6s}\tstring aligned to the left that many spaces\t'{:<6s}'.format('Py') → 'Py    '\n",
        "\n",
        "{:>6s}\tstring aligned to the right that many spaces\t'{:>6s}'.format('Py') → '    Py'\n",
        "\n",
        "{:^6s}\tstring centered in that many spaces\t'{:^6s}'.format('Py') → '  Py  '"
      ]
    },
    {
      "cell_type": "code",
      "metadata": {
        "colab": {
          "base_uri": "https://localhost:8080/",
          "height": 54
        },
        "id": "dgJ8JmCb8Ip7",
        "outputId": "5ab20444-fa06-4d1b-c19f-056cea6a5224"
      },
      "source": [
        "# \"base string with {} placeholders\".format(variables)\n",
        "example = \"format() method\"\n",
        "formatted_string = \"this is an example of using the {} on a string\".format(example)\n",
        "print(formatted_string)\n",
        "\n",
        "\"\"\"Outputs:\n",
        "this is an example of using the format() method on a string\n",
        "\"\"\""
      ],
      "execution_count": null,
      "outputs": [
        {
          "output_type": "stream",
          "text": [
            "this is an example of using the format() method on a string\n"
          ],
          "name": "stdout"
        },
        {
          "output_type": "execute_result",
          "data": {
            "application/vnd.google.colaboratory.intrinsic+json": {
              "type": "string"
            },
            "text/plain": [
              "'Outputs:\\nthis is an example of using the format() method on a string\\n'"
            ]
          },
          "metadata": {
            "tags": []
          },
          "execution_count": 25
        }
      ]
    },
    {
      "cell_type": "code",
      "metadata": {
        "colab": {
          "base_uri": "https://localhost:8080/",
          "height": 54
        },
        "id": "UozJGDjaGbB-",
        "outputId": "ade2ca0a-3937-43bf-e9ea-29e7d0efffbe"
      },
      "source": [
        "# \"{0} {1}\".format(first, second)\n",
        "\n",
        "first = \"apple\"\n",
        "second = \"banana\"\n",
        "third = \"carrot\"\n",
        "\n",
        "formatted_string = \"{0} {2} {1}\".format(first, second, third)\n",
        "\n",
        "print(formatted_string)\n",
        "\n",
        "\"\"\"Outputs:\n",
        "apple carrot banana\n",
        "\"\"\""
      ],
      "execution_count": null,
      "outputs": [
        {
          "output_type": "stream",
          "text": [
            "apple carrot banana\n"
          ],
          "name": "stdout"
        },
        {
          "output_type": "execute_result",
          "data": {
            "application/vnd.google.colaboratory.intrinsic+json": {
              "type": "string"
            },
            "text/plain": [
              "'Outputs:\\napple carrot banana\\n'"
            ]
          },
          "metadata": {
            "tags": []
          },
          "execution_count": 26
        }
      ]
    },
    {
      "cell_type": "code",
      "metadata": {
        "id": "EXRHF7iyGfnc"
      },
      "source": [
        "# \"{var1} {var2}\".format(var1=value1, var2=value2)"
      ],
      "execution_count": null,
      "outputs": []
    },
    {
      "cell_type": "code",
      "metadata": {
        "id": "5RIJd9vSGzal"
      },
      "source": [
        "\"{:exp1} {:exp2}\".format(value1, value2)"
      ],
      "execution_count": null,
      "outputs": []
    },
    {
      "cell_type": "code",
      "metadata": {
        "id": "aK_9DVgXG0vL"
      },
      "source": [
        "# {:d} integer value\n",
        "'{:d}'.format(10.5) → '10'"
      ],
      "execution_count": null,
      "outputs": []
    },
    {
      "cell_type": "code",
      "metadata": {
        "colab": {
          "base_uri": "https://localhost:8080/"
        },
        "id": "mDnHC5V85RFk",
        "outputId": "83a19206-e533-4a6a-8b0f-6fd346025af4"
      },
      "source": [
        "name = 'Jay'\n",
        "number = len(name)*3\n",
        "print('Hello {}, your lucky number is {}'.format(name, number)) #use format, so don't need to convert to string. Exact order."
      ],
      "execution_count": null,
      "outputs": [
        {
          "output_type": "stream",
          "text": [
            "Hello Jay, your lucky number is 9\n"
          ],
          "name": "stdout"
        }
      ]
    },
    {
      "cell_type": "code",
      "metadata": {
        "colab": {
          "base_uri": "https://localhost:8080/"
        },
        "id": "5Ak9HUh35hvE",
        "outputId": "68f0b372-3731-40c5-d9e7-83e9efaf9c3a"
      },
      "source": [
        "print('Your lucky number is {number}, {name}'.format(name = name, number = len(name *3))) # order won't matter"
      ],
      "execution_count": null,
      "outputs": [
        {
          "output_type": "stream",
          "text": [
            "Your lucky number is 9, Jay\n"
          ],
          "name": "stdout"
        }
      ]
    },
    {
      "cell_type": "code",
      "metadata": {
        "colab": {
          "base_uri": "https://localhost:8080/"
        },
        "id": "PhgL0J645_jR",
        "outputId": "294f704b-941d-487c-8ec4-5348d34ecd82"
      },
      "source": [
        "def student_grade(name, grade):\n",
        "\treturn \"{} received {}% on the exam\".format(name, grade)\n",
        "\n",
        "print(student_grade(\"Reed\", 80))\n",
        "print(student_grade(\"Paige\", 92))\n",
        "print(student_grade(\"Jesse\", 85))"
      ],
      "execution_count": null,
      "outputs": [
        {
          "output_type": "stream",
          "text": [
            "Reed received 80% on the exam\n",
            "Paige received 92% on the exam\n",
            "Jesse received 85% on the exam\n"
          ],
          "name": "stdout"
        }
      ]
    },
    {
      "cell_type": "code",
      "metadata": {
        "colab": {
          "base_uri": "https://localhost:8080/"
        },
        "id": "C6qWSoTY6Yfx",
        "outputId": "9f2c84bc-45de-45c1-af7d-d4f8ef378f9c"
      },
      "source": [
        "price = 7.5\n",
        "with_tax = price * 1.09\n",
        "print(price, with_tax)\n",
        "print('Base price: $ {:.2f}. With Tax: ${:.2f}'.format(price, with_tax)) #to format decimals"
      ],
      "execution_count": null,
      "outputs": [
        {
          "output_type": "stream",
          "text": [
            "7.5 8.175\n",
            "Base price: $ 7.50. With Tax: $8.18\n"
          ],
          "name": "stdout"
        }
      ]
    },
    {
      "cell_type": "code",
      "metadata": {
        "colab": {
          "base_uri": "https://localhost:8080/"
        },
        "id": "h8bNUXir6yvx",
        "outputId": "5a2df043-009a-4ce0-8112-4a59d4f6a542"
      },
      "source": [
        "def to_celsius(x):\n",
        "  return (x-32)*5/9\n",
        "\n",
        "for x in range(0, 101, 10):\n",
        "  print('{:>10} F | {:>26.2f} C'.format(x, to_celsius(x))) # to align lines, by SPACES"
      ],
      "execution_count": null,
      "outputs": [
        {
          "output_type": "stream",
          "text": [
            "         0 F |                     -17.78 C\n",
            "        10 F |                     -12.22 C\n",
            "        20 F |                      -6.67 C\n",
            "        30 F |                      -1.11 C\n",
            "        40 F |                       4.44 C\n",
            "        50 F |                      10.00 C\n",
            "        60 F |                      15.56 C\n",
            "        70 F |                      21.11 C\n",
            "        80 F |                      26.67 C\n",
            "        90 F |                      32.22 C\n",
            "       100 F |                      37.78 C\n"
          ],
          "name": "stdout"
        }
      ]
    },
    {
      "cell_type": "markdown",
      "metadata": {
        "id": "lHAzk8hR8Ngp"
      },
      "source": [
        "Quiz Q1"
      ]
    },
    {
      "cell_type": "code",
      "metadata": {
        "colab": {
          "base_uri": "https://localhost:8080/"
        },
        "id": "nRloPsTP7iOB",
        "outputId": "c0a62ba9-157c-4d33-b965-ef3b3151a804"
      },
      "source": [
        "def is_palindrome(input_string):\n",
        "\t# We'll create two strings, to compare them\n",
        "\tnew_string = \"\"\n",
        "\treverse_string = \"\"\n",
        "\t# Traverse through each letter of the input string\n",
        "\tfor string in input_string.lower():\n",
        "\t\t# Add any non-blank letters to the \n",
        "\t\t# end of one string, and to the front\n",
        "\t\t# of the other string. \n",
        "\t\tif string.replace(' ', ''):\n",
        "\t\t\tnew_string = string + new_string\n",
        "\t\t\treverse_string = string + reverse_string\n",
        "\t# Compare the strings\n",
        "\tif new_string[::-1] == reverse_string:\n",
        "\t\treturn True\n",
        "\treturn False\n",
        "\n",
        "print(is_palindrome(\"Never Odd or Even\")) # Should be True\n",
        "print(is_palindrome(\"abc\")) # Should be False\n",
        "print(is_palindrome(\"kayak\")) # Should be True"
      ],
      "execution_count": null,
      "outputs": [
        {
          "output_type": "stream",
          "text": [
            "True\n",
            "False\n",
            "True\n"
          ],
          "name": "stdout"
        }
      ]
    },
    {
      "cell_type": "markdown",
      "metadata": {
        "id": "sfWYVsxa9kPj"
      },
      "source": [
        "Quiz Q2"
      ]
    },
    {
      "cell_type": "code",
      "metadata": {
        "colab": {
          "base_uri": "https://localhost:8080/"
        },
        "id": "4PX7UGTo9Nex",
        "outputId": "7b0353b9-5bf9-4362-9c62-c4e305feecfa"
      },
      "source": [
        "def convert_distance(miles):\n",
        "\tkm = miles * 1.6 \n",
        "\tresult = \"{} miles equals {:.1f} km\".format(miles, km)\n",
        "\treturn result\n",
        "\n",
        "print(convert_distance(12)) # Should be: 12 miles equals 19.2 km\n",
        "print(convert_distance(5.5)) # Should be: 5.5 miles equals 8.8 km\n",
        "print(convert_distance(11)) # Should be: 11 miles equals 17.6 km"
      ],
      "execution_count": null,
      "outputs": [
        {
          "output_type": "stream",
          "text": [
            "12 miles equals 19.2 km\n",
            "5.5 miles equals 8.8 km\n",
            "11 miles equals 17.6 km\n"
          ],
          "name": "stdout"
        }
      ]
    },
    {
      "cell_type": "code",
      "metadata": {
        "colab": {
          "base_uri": "https://localhost:8080/"
        },
        "id": "1i0n4_GV97Ph",
        "outputId": "d454b78d-316d-4801-a30c-81a9b651b84b"
      },
      "source": [
        "Weather = 'rainfall'\n",
        "print(Weather[:4])"
      ],
      "execution_count": null,
      "outputs": [
        {
          "output_type": "stream",
          "text": [
            "rain\n"
          ],
          "name": "stdout"
        }
      ]
    },
    {
      "cell_type": "markdown",
      "metadata": {
        "id": "Do57HL5e-ZzS"
      },
      "source": [
        "Quiz Q4"
      ]
    },
    {
      "cell_type": "code",
      "metadata": {
        "colab": {
          "base_uri": "https://localhost:8080/"
        },
        "id": "AI8XsjmY-Vjx",
        "outputId": "aaed1122-0f1f-4adc-ee94-ef161ddde40a"
      },
      "source": [
        "def nametag(first_name, last_name):\n",
        "\treturn(\"{} {:.1s}.\".format(first_name, last_name))\n",
        "\n",
        "print(nametag(\"Jane\", \"Smith\")) \n",
        "# Should display \"Jane S.\" \n",
        "print(nametag(\"Francesco\", \"Rinaldi\")) \n",
        "# Should display \"Francesco R.\" \n",
        "print(nametag(\"Jean-Luc\", \"Grand-Pierre\")) \n",
        "# Should display \"Jean-Luc G.\" "
      ],
      "execution_count": null,
      "outputs": [
        {
          "output_type": "stream",
          "text": [
            "Jane S.\n",
            "Francesco R.\n",
            "Jean-Luc G.\n"
          ],
          "name": "stdout"
        }
      ]
    },
    {
      "cell_type": "markdown",
      "metadata": {
        "id": "dFFtIa-U-8Nw"
      },
      "source": [
        "Quiz Q5"
      ]
    },
    {
      "cell_type": "code",
      "metadata": {
        "colab": {
          "base_uri": "https://localhost:8080/"
        },
        "id": "EKoU0njq-2hR",
        "outputId": "08ce7034-0261-44ee-f608-9caca39a65d4"
      },
      "source": [
        "def replace_ending(sentence, old, new):\n",
        "\t# Check if the old string is at the end of the sentence \n",
        "\tif sentence.endswith(old):\n",
        "\t\t# Using i as the slicing index, combine the part\n",
        "\t\t# of the sentence up to the matched string at the \n",
        "\t\t# end with the new string\n",
        "\t\ti = sentence.rfind(old)\n",
        "\t\tnew_sentence = sentence[:i] + new\n",
        "\t\treturn new_sentence\n",
        "\n",
        "\t# Return the original sentence if there is no match \n",
        "\treturn sentence\n",
        "\t\n",
        "print(replace_ending(\"It's raining cats and cats\", \"cats\", \"dogs\")) \n",
        "# Should display \"It's raining cats and dogs\"\n",
        "print(replace_ending(\"She sells seashells by the seashore\", \"seashells\", \"donuts\")) \n",
        "# Should display \"She sells seashells by the seashore\"\n",
        "print(replace_ending(\"The weather is nice in May\", \"may\", \"april\")) \n",
        "# Should display \"The weather is nice in May\"\n",
        "print(replace_ending(\"The weather is nice in May\", \"May\", \"April\")) \n",
        "# Should display \"The weather is nice in April\""
      ],
      "execution_count": null,
      "outputs": [
        {
          "output_type": "stream",
          "text": [
            "It's raining cats and dogs\n",
            "She sells seashells by the seashore\n",
            "The weather is nice in May\n",
            "The weather is nice in April\n"
          ],
          "name": "stdout"
        }
      ]
    },
    {
      "cell_type": "markdown",
      "metadata": {
        "id": "lfmGCEMc_mq5"
      },
      "source": [
        "###Lists"
      ]
    },
    {
      "cell_type": "code",
      "metadata": {
        "colab": {
          "base_uri": "https://localhost:8080/"
        },
        "id": "gmuDN1OK_cXx",
        "outputId": "9522d0dd-1a81-412b-fdc9-f2b069bd7af0"
      },
      "source": [
        "list = ['This', 'is', 'a', 'list']\n",
        "print(list)\n",
        "print(list[1])\n",
        "print(type(list))"
      ],
      "execution_count": null,
      "outputs": [
        {
          "output_type": "stream",
          "text": [
            "['This', 'is', 'a', 'list']\n",
            "is\n",
            "<class 'list'>\n"
          ],
          "name": "stdout"
        }
      ]
    },
    {
      "cell_type": "code",
      "metadata": {
        "id": "h6Xk4i0ic4zB",
        "colab": {
          "base_uri": "https://localhost:8080/"
        },
        "outputId": "ad11e8c6-017a-45ec-d545-40652cacf74f"
      },
      "source": [
        "'is' in list #check if contains strings"
      ],
      "execution_count": null,
      "outputs": [
        {
          "output_type": "execute_result",
          "data": {
            "text/plain": [
              "True"
            ]
          },
          "metadata": {
            "tags": []
          },
          "execution_count": 3
        }
      ]
    },
    {
      "cell_type": "code",
      "metadata": {
        "colab": {
          "base_uri": "https://localhost:8080/"
        },
        "id": "IWFS5iLiDcFF",
        "outputId": "85155b9f-fc5c-4910-f880-16c8511ea170"
      },
      "source": [
        "list[1:3] #range"
      ],
      "execution_count": null,
      "outputs": [
        {
          "output_type": "execute_result",
          "data": {
            "text/plain": [
              "['is', 'a']"
            ]
          },
          "metadata": {
            "tags": []
          },
          "execution_count": 4
        }
      ]
    },
    {
      "cell_type": "code",
      "metadata": {
        "colab": {
          "base_uri": "https://localhost:8080/"
        },
        "id": "uZ_zrNn4D2Ak",
        "outputId": "3533f80f-3e8d-444e-b799-bb6439700e6a"
      },
      "source": [
        "def get_word(sentence, n):\n",
        "\t# Only proceed if n is positive \n",
        "\tif n > 0:\n",
        "\t\twords = sentence.split()\n",
        "\t\t# Only proceed if n is not more than the number of words \n",
        "\t\tif n <= len(words):\n",
        "\t\t\treturn(words[n-1])\n",
        "\treturn(\"\")\n",
        "\n",
        "print(get_word(\"This is a lesson about lists\", 4)) # Should print: lesson\n",
        "print(get_word(\"This is a lesson about lists\", -4)) # Nothing\n",
        "print(get_word(\"Now we are cooking!\", 1)) # Should print: Now\n",
        "print(get_word(\"Now we are cooking!\", 5)) # Nothing"
      ],
      "execution_count": null,
      "outputs": [
        {
          "output_type": "stream",
          "text": [
            "lesson\n",
            "\n",
            "Now\n",
            "\n"
          ],
          "name": "stdout"
        }
      ]
    },
    {
      "cell_type": "markdown",
      "metadata": {
        "id": "Hp9FYdKEE8h9"
      },
      "source": [
        "####Modifying Lists\n",
        "\n",
        "Mutable."
      ]
    },
    {
      "cell_type": "code",
      "metadata": {
        "colab": {
          "base_uri": "https://localhost:8080/"
        },
        "id": "AyQbBlFAEj7l",
        "outputId": "32ddda43-dd62-4c94-d0ee-a139a8cf3b45"
      },
      "source": [
        "fruits = ['Pineapple', 'Banana']\n",
        "print(fruits)\n",
        "fruits.append('Kiwi') # add extra items\n",
        "print(fruits)"
      ],
      "execution_count": null,
      "outputs": [
        {
          "output_type": "stream",
          "text": [
            "['Pineapple', 'Banana']\n",
            "['Pineapple', 'Banana', 'Kiwi']\n"
          ],
          "name": "stdout"
        }
      ]
    },
    {
      "cell_type": "code",
      "metadata": {
        "colab": {
          "base_uri": "https://localhost:8080/"
        },
        "id": "4yUyv8hgFZaV",
        "outputId": "163146e2-c153-4470-f82e-a73e9466bbb2"
      },
      "source": [
        "fruits.insert(0,'Orange') #insert into list\n",
        "print(fruits)"
      ],
      "execution_count": null,
      "outputs": [
        {
          "output_type": "stream",
          "text": [
            "['Orange', 'Pineapple', 'Banana', 'Kiwi']\n"
          ],
          "name": "stdout"
        }
      ]
    },
    {
      "cell_type": "code",
      "metadata": {
        "colab": {
          "base_uri": "https://localhost:8080/"
        },
        "id": "F4ouUiRTHKWG",
        "outputId": "004b187d-29e8-40ad-ff96-40505bdb0996"
      },
      "source": [
        "dir(fruits) # check all modes"
      ],
      "execution_count": null,
      "outputs": [
        {
          "output_type": "execute_result",
          "data": {
            "text/plain": [
              "['__add__',\n",
              " '__class__',\n",
              " '__contains__',\n",
              " '__delattr__',\n",
              " '__delitem__',\n",
              " '__dir__',\n",
              " '__doc__',\n",
              " '__eq__',\n",
              " '__format__',\n",
              " '__ge__',\n",
              " '__getattribute__',\n",
              " '__getitem__',\n",
              " '__gt__',\n",
              " '__hash__',\n",
              " '__iadd__',\n",
              " '__imul__',\n",
              " '__init__',\n",
              " '__init_subclass__',\n",
              " '__iter__',\n",
              " '__le__',\n",
              " '__len__',\n",
              " '__lt__',\n",
              " '__mul__',\n",
              " '__ne__',\n",
              " '__new__',\n",
              " '__reduce__',\n",
              " '__reduce_ex__',\n",
              " '__repr__',\n",
              " '__reversed__',\n",
              " '__rmul__',\n",
              " '__setattr__',\n",
              " '__setitem__',\n",
              " '__sizeof__',\n",
              " '__str__',\n",
              " '__subclasshook__',\n",
              " 'append',\n",
              " 'clear',\n",
              " 'copy',\n",
              " 'count',\n",
              " 'extend',\n",
              " 'index',\n",
              " 'insert',\n",
              " 'pop',\n",
              " 'remove',\n",
              " 'reverse',\n",
              " 'sort']"
            ]
          },
          "metadata": {
            "tags": []
          },
          "execution_count": 12
        }
      ]
    },
    {
      "cell_type": "code",
      "metadata": {
        "colab": {
          "base_uri": "https://localhost:8080/"
        },
        "id": "yzQrTBEeHL00",
        "outputId": "ea676a06-e2a4-4878-dbc4-bda4a56210f2"
      },
      "source": [
        "fruits.remove('Banana')\n",
        "print(fruits)"
      ],
      "execution_count": null,
      "outputs": [
        {
          "output_type": "stream",
          "text": [
            "['Pineapple', 'Kiwi']\n"
          ],
          "name": "stdout"
        }
      ]
    },
    {
      "cell_type": "code",
      "metadata": {
        "colab": {
          "base_uri": "https://localhost:8080/"
        },
        "id": "OXzOG6TdIxqU",
        "outputId": "3c6c5cc6-9bde-41c6-b6d7-1b41425e383e"
      },
      "source": [
        "fruits.pop(1) #remove an item through indexing\n",
        "print(fruits)"
      ],
      "execution_count": null,
      "outputs": [
        {
          "output_type": "stream",
          "text": [
            "['Pineapple']\n"
          ],
          "name": "stdout"
        }
      ]
    },
    {
      "cell_type": "code",
      "metadata": {
        "colab": {
          "base_uri": "https://localhost:8080/"
        },
        "id": "ezmAbCeiJDpE",
        "outputId": "931820aa-aff8-469e-fbf1-594c5c76cead"
      },
      "source": [
        "fruits = ['Pineapple', 'Banana']\n",
        "print(fruits)\n",
        "fruits[1] = 'Peach' #edit list\n",
        "print(fruits)"
      ],
      "execution_count": null,
      "outputs": [
        {
          "output_type": "stream",
          "text": [
            "['Pineapple', 'Banana']\n",
            "['Pineapple', 'Peach']\n"
          ],
          "name": "stdout"
        }
      ]
    },
    {
      "cell_type": "code",
      "metadata": {
        "colab": {
          "base_uri": "https://localhost:8080/"
        },
        "id": "1WWIOeYVJWu0",
        "outputId": "74a216c1-0136-4200-9318-a9d81448148a"
      },
      "source": [
        "def skip_elements(elements):\n",
        "\t# Initialize variables\n",
        "\tnew_list = []\n",
        "\ti = 0\n",
        "\n",
        "\t# Iterate through the list\n",
        "\tfor x in elements:\n",
        "\t\t# Does this element belong in the resulting list?\n",
        "\t\tif i <= len(elements):\n",
        "\t\t\t# Add this element to the resulting list\n",
        "\t\t\tnew_list.append(elements[i])\n",
        "\t\t# Increment i\n",
        "\t\ti += 2\n",
        "\n",
        "\treturn new_list\n",
        "\n",
        "print(skip_elements([\"a\", \"b\", \"c\", \"d\", \"e\", \"f\", \"g\"])) # Should be ['a', 'c', 'e', 'g']\n",
        "print(skip_elements(['Orange', 'Pineapple', 'Strawberry', 'Kiwi', 'Peach'])) # Should be ['Orange', 'Strawberry', 'Peach']\n",
        "print(skip_elements([])) # Should be []"
      ],
      "execution_count": null,
      "outputs": [
        {
          "output_type": "stream",
          "text": [
            "['a', 'c', 'e', 'g']\n",
            "['Orange', 'Strawberry', 'Peach']\n",
            "[]\n"
          ],
          "name": "stdout"
        }
      ]
    },
    {
      "cell_type": "markdown",
      "metadata": {
        "id": "tfLPFQjHKvSE"
      },
      "source": [
        "###Tuples\n",
        "\n",
        "Immutable.\n",
        "Order matters."
      ]
    },
    {
      "cell_type": "code",
      "metadata": {
        "colab": {
          "base_uri": "https://localhost:8080/"
        },
        "id": "I8s7NqUgKYyU",
        "outputId": "3fb298d8-5915-4511-8b97-5be9cfc51385"
      },
      "source": [
        "fullname = ('Grace', 'M', 'Hopper')\n",
        "print(fullname)"
      ],
      "execution_count": null,
      "outputs": [
        {
          "output_type": "stream",
          "text": [
            "('Grace', 'M', 'Hopper')\n"
          ],
          "name": "stdout"
        }
      ]
    },
    {
      "cell_type": "code",
      "metadata": {
        "colab": {
          "base_uri": "https://localhost:8080/"
        },
        "id": "knIsBcRfLF8U",
        "outputId": "806e5bd6-63f6-4b59-b106-4515527ad7a6"
      },
      "source": [
        "dir(fullname)"
      ],
      "execution_count": null,
      "outputs": [
        {
          "output_type": "execute_result",
          "data": {
            "text/plain": [
              "['__add__',\n",
              " '__class__',\n",
              " '__contains__',\n",
              " '__delattr__',\n",
              " '__dir__',\n",
              " '__doc__',\n",
              " '__eq__',\n",
              " '__format__',\n",
              " '__ge__',\n",
              " '__getattribute__',\n",
              " '__getitem__',\n",
              " '__getnewargs__',\n",
              " '__gt__',\n",
              " '__hash__',\n",
              " '__init__',\n",
              " '__init_subclass__',\n",
              " '__iter__',\n",
              " '__le__',\n",
              " '__len__',\n",
              " '__lt__',\n",
              " '__mul__',\n",
              " '__ne__',\n",
              " '__new__',\n",
              " '__reduce__',\n",
              " '__reduce_ex__',\n",
              " '__repr__',\n",
              " '__rmul__',\n",
              " '__setattr__',\n",
              " '__sizeof__',\n",
              " '__str__',\n",
              " '__subclasshook__',\n",
              " 'count',\n",
              " 'index']"
            ]
          },
          "metadata": {
            "tags": []
          },
          "execution_count": 24
        }
      ]
    },
    {
      "cell_type": "code",
      "metadata": {
        "colab": {
          "base_uri": "https://localhost:8080/"
        },
        "id": "zTaRXqoLLJzU",
        "outputId": "2b30eac6-4baf-4113-f906-0031c7b066e7"
      },
      "source": [
        "result = (1, 23, 20)\n",
        "hours, minutes, seconds = result #unpacking a tuple into variables\n",
        "print(hours, minutes, seconds)"
      ],
      "execution_count": null,
      "outputs": [
        {
          "output_type": "stream",
          "text": [
            "1 23 20\n"
          ],
          "name": "stdout"
        }
      ]
    },
    {
      "cell_type": "code",
      "metadata": {
        "colab": {
          "base_uri": "https://localhost:8080/"
        },
        "id": "cL4hswBVLsI0",
        "outputId": "efb361f2-4905-4483-b7e2-4c2d4e694308"
      },
      "source": [
        "def file_size(file_info):\n",
        "\tname, type, size = file_info\n",
        "\treturn(\"{:.2f}\".format(size / 1024))\n",
        "\n",
        "print(file_size(('Class Assignment', 'docx', 17875))) # Should print 17.46\n",
        "print(file_size(('Notes', 'txt', 496))) # Should print 0.48\n",
        "print(file_size(('Program', 'py', 1239))) # Should print 1.21"
      ],
      "execution_count": null,
      "outputs": [
        {
          "output_type": "stream",
          "text": [
            "17.46\n",
            "0.48\n",
            "1.21\n"
          ],
          "name": "stdout"
        }
      ]
    },
    {
      "cell_type": "markdown",
      "metadata": {
        "id": "ZvxIfB6wMRwT"
      },
      "source": [
        "####Iterating Over Lists & Tuples"
      ]
    },
    {
      "cell_type": "code",
      "metadata": {
        "colab": {
          "base_uri": "https://localhost:8080/"
        },
        "id": "2RB-CIFpMKP0",
        "outputId": "3314d9e2-6193-4777-f1de-7eedee7af173"
      },
      "source": [
        "animals = ['Lion', 'Zebra', 'Dolphin', 'Monkey']\n",
        "chars = 0\n",
        "for animal in animals:\n",
        "  chars += len(animal)\n",
        "\n",
        "print('Total characters: {}, Average Length: {}'.format(chars, chars/len(animals)))"
      ],
      "execution_count": null,
      "outputs": [
        {
          "output_type": "stream",
          "text": [
            "Total characters: 22, Average Length: 5.5\n"
          ],
          "name": "stdout"
        }
      ]
    },
    {
      "cell_type": "code",
      "metadata": {
        "colab": {
          "base_uri": "https://localhost:8080/"
        },
        "id": "-40_yhaE06yG",
        "outputId": "93cd9b9e-142e-4bb2-f075-2c3bb97d59ea"
      },
      "source": [
        "winners = ['Ashley', 'Dylan', 'Reese']\n",
        "for index, person in enumerate(winners):\n",
        "  print('{} - {}'.format(index +1, person)) #get index + name"
      ],
      "execution_count": null,
      "outputs": [
        {
          "output_type": "stream",
          "text": [
            "1 - Ashley\n",
            "2 - Dylan\n",
            "3 - Reese\n"
          ],
          "name": "stdout"
        }
      ]
    },
    {
      "cell_type": "code",
      "metadata": {
        "colab": {
          "base_uri": "https://localhost:8080/"
        },
        "id": "crj1RxKu1HDj",
        "outputId": "859f478d-0cd6-410d-e280-61814066cd20"
      },
      "source": [
        "def skip_elements(elements):\n",
        "  list = []\n",
        "  for index, i in enumerate(elements):\n",
        "    if index % 2 == 0:\n",
        "      list.append(i)\n",
        "  return list\n",
        "\n",
        "print(skip_elements([\"a\", \"b\", \"c\", \"d\", \"e\", \"f\", \"g\"])) # Should be ['a', 'c', 'e', 'g']\n",
        "print(skip_elements(['Orange', 'Pineapple', 'Strawberry', 'Kiwi', 'Peach'])) # Should be ['Orange', 'Strawberry', 'Peach']"
      ],
      "execution_count": null,
      "outputs": [
        {
          "output_type": "stream",
          "text": [
            "['a', 'c', 'e', 'g']\n",
            "['Orange', 'Strawberry', 'Peach']\n"
          ],
          "name": "stdout"
        }
      ]
    },
    {
      "cell_type": "code",
      "metadata": {
        "colab": {
          "base_uri": "https://localhost:8080/"
        },
        "id": "zXBiAWya2Hjj",
        "outputId": "224df6ef-5fdc-4ebf-ea2c-73d1e36b8594"
      },
      "source": [
        "def full_emails(people):\n",
        "  result = []\n",
        "  for email, name in people:\n",
        "    result.append('{} <{}>'.format(name, email))\n",
        "  return result\n",
        "\n",
        "print(full_emails([('alex@example.com', 'Alex Diego')]))"
      ],
      "execution_count": null,
      "outputs": [
        {
          "output_type": "stream",
          "text": [
            "['Alex Diego <alex@example.com>']\n"
          ],
          "name": "stdout"
        }
      ]
    },
    {
      "cell_type": "markdown",
      "metadata": {
        "id": "Kqnr7xtI6eZ7"
      },
      "source": [
        "####List Comprehensions"
      ]
    },
    {
      "cell_type": "code",
      "metadata": {
        "id": "zUDlmHnr2LyS",
        "colab": {
          "base_uri": "https://localhost:8080/"
        },
        "outputId": "939a1161-0245-4e01-f77a-4d503020a47f"
      },
      "source": [
        "multiples =[]\n",
        "for x in range(1, 11):\n",
        "  multiples.append(x*7)\n",
        "\n",
        "print(multiples)"
      ],
      "execution_count": null,
      "outputs": [
        {
          "output_type": "stream",
          "text": [
            "[7, 14, 21, 28, 35, 42, 49, 56, 63, 70]\n"
          ],
          "name": "stdout"
        }
      ]
    },
    {
      "cell_type": "code",
      "metadata": {
        "colab": {
          "base_uri": "https://localhost:8080/"
        },
        "id": "FcqiI3rgMgWk",
        "outputId": "a1d2b7c7-65ff-43f2-8172-302595969170"
      },
      "source": [
        "#same as above with list comprehension:\n",
        "multiples = [x*7 for x in range(1, 11)] #when we want to make a list based on a range\n",
        "\n",
        "print(multiples)"
      ],
      "execution_count": null,
      "outputs": [
        {
          "output_type": "stream",
          "text": [
            "[7, 14, 21, 28, 35, 42, 49, 56, 63, 70]\n"
          ],
          "name": "stdout"
        }
      ]
    },
    {
      "cell_type": "code",
      "metadata": {
        "colab": {
          "base_uri": "https://localhost:8080/"
        },
        "id": "G-h3y46-MxUi",
        "outputId": "eeca6109-ada4-4da2-a634-18e17e95fc6e"
      },
      "source": [
        "languages =['Python', 'Perl', 'Ruby', 'Go', 'Java', 'C']\n",
        "length = [len(language) for language in languages]\n",
        "\n",
        "print(length)"
      ],
      "execution_count": null,
      "outputs": [
        {
          "output_type": "stream",
          "text": [
            "[6, 4, 4, 2, 4, 1]\n"
          ],
          "name": "stdout"
        }
      ]
    },
    {
      "cell_type": "code",
      "metadata": {
        "colab": {
          "base_uri": "https://localhost:8080/"
        },
        "id": "hXD5Nin7NZnS",
        "outputId": "67185107-7c4f-404b-87ab-64c0b2c93b2a"
      },
      "source": [
        "#using conditional clause\n",
        "z = [x for x in range(0, 101) if x % 3 == 0]\n",
        "\n",
        "print(z)"
      ],
      "execution_count": null,
      "outputs": [
        {
          "output_type": "stream",
          "text": [
            "[0, 3, 6, 9, 12, 15, 18, 21, 24, 27, 30, 33, 36, 39, 42, 45, 48, 51, 54, 57, 60, 63, 66, 69, 72, 75, 78, 81, 84, 87, 90, 93, 96, 99]\n"
          ],
          "name": "stdout"
        }
      ]
    },
    {
      "cell_type": "code",
      "metadata": {
        "colab": {
          "base_uri": "https://localhost:8080/"
        },
        "id": "zDi4g3uiNp0S",
        "outputId": "6afd1f3b-15ab-4c00-c842-89adb1518599"
      },
      "source": [
        "def odd_numbers(n):\n",
        "\treturn [x for x in range(0, n+1) if x %2 == 1 ]\n",
        "\n",
        "print(odd_numbers(5))  # Should print [1, 3, 5]\n",
        "print(odd_numbers(10)) # Should print [1, 3, 5, 7, 9]\n",
        "print(odd_numbers(11)) # Should print [1, 3, 5, 7, 9, 11]\n",
        "print(odd_numbers(1))  # Should print [1]\n",
        "print(odd_numbers(-1)) # Should print []"
      ],
      "execution_count": null,
      "outputs": [
        {
          "output_type": "stream",
          "text": [
            "[1, 3, 5]\n",
            "[1, 3, 5, 7, 9]\n",
            "[1, 3, 5, 7, 9, 11]\n",
            "[1]\n",
            "[]\n"
          ],
          "name": "stdout"
        }
      ]
    },
    {
      "cell_type": "markdown",
      "metadata": {
        "id": "BDuXI5zrfIcs"
      },
      "source": [
        "Quiz Q1"
      ]
    },
    {
      "cell_type": "code",
      "metadata": {
        "colab": {
          "base_uri": "https://localhost:8080/"
        },
        "id": "hMaCOFTgODMy",
        "outputId": "bd09db2b-52d3-4923-9d48-25aac2dd8e1a"
      },
      "source": [
        "filenames = [\"program.c\", \"stdio.hpp\", \"sample.hpp\", \"a.out\", \"math.hpp\", \"hpp.out\"]\n",
        "list =[]\n",
        "for name in filenames:\n",
        "  a = name.replace('.hpp', '.h')\n",
        "  list.append(a)\n",
        "\n",
        "print(list) \n",
        "# Should be \n",
        "#[\"program.c\", \"stdio.h\", \"sample.h\", \"a.out\", \"math.h\", \"hpp.out\"]"
      ],
      "execution_count": null,
      "outputs": [
        {
          "output_type": "stream",
          "text": [
            "['program.c', 'stdio.h', 'sample.h', 'a.out', 'math.h', 'hpp.out']\n"
          ],
          "name": "stdout"
        }
      ]
    },
    {
      "cell_type": "markdown",
      "metadata": {
        "id": "sxaVCWU2h2Pq"
      },
      "source": [
        "Quiz Q2"
      ]
    },
    {
      "cell_type": "code",
      "metadata": {
        "colab": {
          "base_uri": "https://localhost:8080/"
        },
        "id": "WU49Ns1bhokz",
        "outputId": "75c41405-c691-4ed9-fa9e-5cebf75e9e75"
      },
      "source": [
        "def pig_latin(text):\n",
        "  say = \"\"\n",
        "  words = text.split()\n",
        "  list =[]\n",
        "  for word in words:\n",
        "    leng = len(word) + 1\n",
        "    say = word[1:leng] + word[0] + 'ay'\n",
        "    list.append(say)\n",
        "  return  ' '.join(list)\n",
        "\t\t\n",
        "print(pig_latin(\"hello how are you\")) # Should be \"ellohay owhay reaay ouyay\"\n",
        "print(pig_latin(\"programming in python is fun\")) # Should be \"rogrammingpay niay ythonpay siay unfay\""
      ],
      "execution_count": null,
      "outputs": [
        {
          "output_type": "stream",
          "text": [
            "ellohay owhay reaay ouyay\n",
            "rogrammingpay niay ythonpay siay unfay\n"
          ],
          "name": "stdout"
        }
      ]
    },
    {
      "cell_type": "markdown",
      "metadata": {
        "id": "pYAZnqyznnE6"
      },
      "source": [
        "Quiz Q6"
      ]
    },
    {
      "cell_type": "code",
      "metadata": {
        "colab": {
          "base_uri": "https://localhost:8080/",
          "height": 108
        },
        "id": "hX9MdMimirvx",
        "outputId": "d09935df-7e5a-4377-a2e4-2c10b9f17bab"
      },
      "source": [
        "def guest_list(guests):\n",
        "  for name, age, prof in guests:\n",
        "    print('{} is {} years old and works as {}'.format(name, age, prof))\n",
        "\n",
        "guest_list([('Ken', 30, \"Chef\"), (\"Pat\", 35, 'Lawyer'), ('Amanda', 25, \"Engineer\")])\n",
        "\n",
        "\"\"\"\n",
        "Output should match:\n",
        "Ken is 30 years old and works as Chef\n",
        "Pat is 35 years old and works as Lawyer\n",
        "Amanda is 25 years old and works as Engineer\n",
        "\"\"\""
      ],
      "execution_count": null,
      "outputs": [
        {
          "output_type": "stream",
          "text": [
            "Ken is 30 years old and works as Chef\n",
            "Pat is 35 years old and works as Lawyer\n",
            "Amanda is 25 years old and works as Engineer\n"
          ],
          "name": "stdout"
        },
        {
          "output_type": "execute_result",
          "data": {
            "application/vnd.google.colaboratory.intrinsic+json": {
              "type": "string"
            },
            "text/plain": [
              "'\\nOutput should match:\\nKen is 30 years old and works as Chef\\nPat is 35 years old and works as Lawyer\\nAmanda is 25 years old and works as Engineer\\n'"
            ]
          },
          "metadata": {
            "tags": []
          },
          "execution_count": 66
        }
      ]
    },
    {
      "cell_type": "markdown",
      "metadata": {
        "id": "w7pQhZAqqitT"
      },
      "source": [
        "Quiz Q5"
      ]
    },
    {
      "cell_type": "code",
      "metadata": {
        "colab": {
          "base_uri": "https://localhost:8080/"
        },
        "id": "Ts_-tPHioTqR",
        "outputId": "493326a2-a69c-44b4-b9b7-5a5fc268ba31"
      },
      "source": [
        "def group_list(group, users):\n",
        "  return group + ': ' + (', '.join(users))\n",
        "\n",
        "print(group_list(\"Marketing\", [\"Mike\", \"Karen\", \"Jake\", \"Tasha\"])) # Should be \"Marketing: Mike, Karen, Jake, Tasha\"\n",
        "print(group_list(\"Engineering\", [\"Kim\", \"Jay\", \"Tom\"])) # Should be \"Engineering: Kim, Jay, Tom\"\n",
        "print(group_list(\"Users\", \"\")) # Should be \"Users:\""
      ],
      "execution_count": null,
      "outputs": [
        {
          "output_type": "stream",
          "text": [
            "Marketing: Mike, Karen, Jake, Tasha\n",
            "Engineering: Kim, Jay, Tom\n",
            "Users: \n"
          ],
          "name": "stdout"
        }
      ]
    },
    {
      "cell_type": "markdown",
      "metadata": {
        "id": "O04kSc9dtRPU"
      },
      "source": [
        "Quiz Q3"
      ]
    },
    {
      "cell_type": "code",
      "metadata": {
        "colab": {
          "base_uri": "https://localhost:8080/"
        },
        "id": "Q_m49DcPo4MS",
        "outputId": "bcd907eb-ade9-4fbb-ad06-82c01279619b"
      },
      "source": [
        "def octal_to_string(octal):\n",
        "    result = \"\"\n",
        "    value_letters = [(4,\"r\"),(2,\"w\"),(1,\"x\")]\n",
        "    # Iterate over each of the digits in octal\n",
        "    for x in [int(n) for n in str(octal)]:\n",
        "        # Check for each of the permissions values\n",
        "        for value, letter in value_letters:\n",
        "            if x >= value:\n",
        "                result += letter\n",
        "                x -= value\n",
        "            else:\n",
        "                result += '-'\n",
        "    return result\n",
        "    \n",
        "print(octal_to_string(755)) # Should be rwxr-xr-x\n",
        "print(octal_to_string(644)) # Should be rw-r--r--\n",
        "print(octal_to_string(750)) # Should be rwxr-x---\n",
        "print(octal_to_string(600)) # Should be rw-------"
      ],
      "execution_count": null,
      "outputs": [
        {
          "output_type": "stream",
          "text": [
            "rwxr-xr-x\n",
            "rw-r--r--\n",
            "rwxr-x---\n",
            "rw-------\n"
          ],
          "name": "stdout"
        }
      ]
    },
    {
      "cell_type": "markdown",
      "metadata": {
        "id": "O7qSK4bbvak4"
      },
      "source": [
        "###Dictionaries\n",
        "\n",
        "Key-value pairs.\n",
        "\n",
        "Mutable."
      ]
    },
    {
      "cell_type": "code",
      "metadata": {
        "colab": {
          "base_uri": "https://localhost:8080/"
        },
        "id": "jWiL9e2pvkMB",
        "outputId": "8b95b52b-9e50-4205-bca2-5815246971f1"
      },
      "source": [
        "x = {}\n",
        "type(x)"
      ],
      "execution_count": null,
      "outputs": [
        {
          "output_type": "execute_result",
          "data": {
            "text/plain": [
              "dict"
            ]
          },
          "metadata": {
            "tags": []
          },
          "execution_count": 75
        }
      ]
    },
    {
      "cell_type": "code",
      "metadata": {
        "colab": {
          "base_uri": "https://localhost:8080/"
        },
        "id": "e7QSJHgP7mky",
        "outputId": "009f425b-c230-41c7-f22c-b76d0fac5544"
      },
      "source": [
        "file_counts = {'jpg':10, 'txt':14, 'csv':2, 'py':23}\n",
        "print(file_counts)"
      ],
      "execution_count": null,
      "outputs": [
        {
          "output_type": "stream",
          "text": [
            "{'jpg': 10, 'txt': 14, 'csv': 2, 'py': 23}\n"
          ],
          "name": "stdout"
        }
      ]
    },
    {
      "cell_type": "code",
      "metadata": {
        "colab": {
          "base_uri": "https://localhost:8080/"
        },
        "id": "xQAkDtQC76XA",
        "outputId": "686b8418-f2b7-4132-c88c-6bef5ab2ae86"
      },
      "source": [
        "file_counts['txt'] # finding value of key"
      ],
      "execution_count": null,
      "outputs": [
        {
          "output_type": "execute_result",
          "data": {
            "text/plain": [
              "14"
            ]
          },
          "metadata": {
            "tags": []
          },
          "execution_count": 77
        }
      ]
    },
    {
      "cell_type": "code",
      "metadata": {
        "colab": {
          "base_uri": "https://localhost:8080/"
        },
        "id": "YteOdsg18OWA",
        "outputId": "7fb5d964-739b-4e66-cdbd-06223e036641"
      },
      "source": [
        "'jpg' in file_counts # checking if item is in dic"
      ],
      "execution_count": null,
      "outputs": [
        {
          "output_type": "execute_result",
          "data": {
            "text/plain": [
              "True"
            ]
          },
          "metadata": {
            "tags": []
          },
          "execution_count": 78
        }
      ]
    },
    {
      "cell_type": "code",
      "metadata": {
        "colab": {
          "base_uri": "https://localhost:8080/"
        },
        "id": "6RUDR3op8j6Q",
        "outputId": "ccaf3a32-e482-4678-b041-317a4659c002"
      },
      "source": [
        "file_counts['cfg'] = 8 # add an extra item\n",
        "print(file_counts)"
      ],
      "execution_count": null,
      "outputs": [
        {
          "output_type": "stream",
          "text": [
            "{'jpg': 10, 'txt': 14, 'csv': 2, 'py': 23, 'cfg': 8}\n"
          ],
          "name": "stdout"
        }
      ]
    },
    {
      "cell_type": "code",
      "metadata": {
        "colab": {
          "base_uri": "https://localhost:8080/"
        },
        "id": "X0VJSlVg83mQ",
        "outputId": "728851e4-9203-4a4e-9468-7083354e7024"
      },
      "source": [
        "file_counts['csv'] = 17 # to replace a value\n",
        "print(file_counts)"
      ],
      "execution_count": null,
      "outputs": [
        {
          "output_type": "stream",
          "text": [
            "{'jpg': 10, 'txt': 14, 'csv': 17, 'py': 23, 'cfg': 8}\n"
          ],
          "name": "stdout"
        }
      ]
    },
    {
      "cell_type": "code",
      "metadata": {
        "colab": {
          "base_uri": "https://localhost:8080/"
        },
        "id": "IX_nffbf8_GQ",
        "outputId": "04812464-699b-490a-9b95-6457673c2918"
      },
      "source": [
        "del file_counts['cfg']\n",
        "print(file_counts)"
      ],
      "execution_count": null,
      "outputs": [
        {
          "output_type": "stream",
          "text": [
            "{'jpg': 10, 'txt': 14, 'csv': 17, 'py': 23}\n"
          ],
          "name": "stdout"
        }
      ]
    },
    {
      "cell_type": "code",
      "metadata": {
        "colab": {
          "base_uri": "https://localhost:8080/"
        },
        "id": "yZFty5Np9L1Q",
        "outputId": "7fa0ec74-8e25-4bce-f15a-49f7c8a0560b"
      },
      "source": [
        "toc = {\"Introduction\":1, \"Chapter 1\":4, \"Chapter 2\":11, \"Chapter 3\":25, \"Chapter 4\":30}\n",
        "toc['Epilogue'] = 39 # Epilogue starts on page 39\n",
        "toc['Chapter 3'] = 24 # Chapter 3 now starts on page 24\n",
        "print(toc) # What are the current contents of the dictionary?\n",
        "'Chapter 5' in toc # Is there a Chapter 5?"
      ],
      "execution_count": null,
      "outputs": [
        {
          "output_type": "stream",
          "text": [
            "{'Introduction': 1, 'Chapter 1': 4, 'Chapter 2': 11, 'Chapter 3': 24, 'Chapter 4': 30, 'Epilogue': 39}\n"
          ],
          "name": "stdout"
        },
        {
          "output_type": "execute_result",
          "data": {
            "text/plain": [
              "False"
            ]
          },
          "metadata": {
            "tags": []
          },
          "execution_count": 84
        }
      ]
    },
    {
      "cell_type": "markdown",
      "metadata": {
        "id": "kU44T7kB-PTJ"
      },
      "source": [
        "#### Iterating over Dictionary Contents"
      ]
    },
    {
      "cell_type": "code",
      "metadata": {
        "id": "j7eXfaZi9kSw",
        "colab": {
          "base_uri": "https://localhost:8080/"
        },
        "outputId": "a30cadde-128d-4459-d4e8-2041ed6c391a"
      },
      "source": [
        "file = {'jpg':10, 'txt':14, 'csv':2, 'py':23}\n",
        "for extension in file:\n",
        "  print(extension) # to access keys"
      ],
      "execution_count": null,
      "outputs": [
        {
          "output_type": "stream",
          "text": [
            "jpg\n",
            "txt\n",
            "csv\n",
            "py\n"
          ],
          "name": "stdout"
        }
      ]
    },
    {
      "cell_type": "code",
      "metadata": {
        "colab": {
          "base_uri": "https://localhost:8080/"
        },
        "id": "fSWKre5xstfs",
        "outputId": "7a0a7a09-7a5f-40ad-8e28-cb11969ddda4"
      },
      "source": [
        "for ext, amount in file.items():\n",
        "  print('There are {} files with the .{} extensions'.format(amount, ext))"
      ],
      "execution_count": null,
      "outputs": [
        {
          "output_type": "stream",
          "text": [
            "There are 10 files with the .jpg extensions\n",
            "There are 14 files with the .txt extensions\n",
            "There are 2 files with the .csv extensions\n",
            "There are 23 files with the .py extensions\n"
          ],
          "name": "stdout"
        }
      ]
    },
    {
      "cell_type": "code",
      "metadata": {
        "colab": {
          "base_uri": "https://localhost:8080/"
        },
        "id": "MXpPGaUMtM6J",
        "outputId": "c20a3dc8-5f37-4032-c2a0-39e0abd8f616"
      },
      "source": [
        "file.keys()"
      ],
      "execution_count": null,
      "outputs": [
        {
          "output_type": "execute_result",
          "data": {
            "text/plain": [
              "dict_keys(['jpg', 'txt', 'csv', 'py'])"
            ]
          },
          "metadata": {
            "tags": []
          },
          "execution_count": 5
        }
      ]
    },
    {
      "cell_type": "code",
      "metadata": {
        "colab": {
          "base_uri": "https://localhost:8080/"
        },
        "id": "xz4s3mP3tada",
        "outputId": "84425b90-36a0-4c30-b599-b0650e70cb6c"
      },
      "source": [
        "file.values()"
      ],
      "execution_count": null,
      "outputs": [
        {
          "output_type": "execute_result",
          "data": {
            "text/plain": [
              "dict_values([10, 14, 2, 23])"
            ]
          },
          "metadata": {
            "tags": []
          },
          "execution_count": 6
        }
      ]
    },
    {
      "cell_type": "code",
      "metadata": {
        "colab": {
          "base_uri": "https://localhost:8080/"
        },
        "id": "29GS8KfXtcTJ",
        "outputId": "cf0e6542-32ce-45dd-b8d1-b909fcd9bdd2"
      },
      "source": [
        "#to get bk values only\n",
        "for value in file.values():\n",
        "  print(value)"
      ],
      "execution_count": null,
      "outputs": [
        {
          "output_type": "stream",
          "text": [
            "10\n",
            "14\n",
            "2\n",
            "23\n"
          ],
          "name": "stdout"
        }
      ]
    },
    {
      "cell_type": "code",
      "metadata": {
        "colab": {
          "base_uri": "https://localhost:8080/"
        },
        "id": "wd4tF2Kbvs17",
        "outputId": "83f6a423-bf31-4494-a3be-ae39c06a1e78"
      },
      "source": [
        "cool_beasts = {\"octopuses\":\"tentacles\", \"dolphins\":\"fins\", \"rhinos\":\"horns\"}\n",
        "for beast, char in cool_beasts.items():\n",
        "    print(\"{} have {}\".format(beast, char))"
      ],
      "execution_count": null,
      "outputs": [
        {
          "output_type": "stream",
          "text": [
            "octopuses have tentacles\n",
            "dolphins have fins\n",
            "rhinos have horns\n"
          ],
          "name": "stdout"
        }
      ]
    },
    {
      "cell_type": "code",
      "metadata": {
        "colab": {
          "base_uri": "https://localhost:8080/"
        },
        "id": "cjli-qArwNuK",
        "outputId": "d2f5e927-46d2-45ba-ff7a-b6ed20aaf377"
      },
      "source": [
        "def count_letters(text):\n",
        "  result = {} #dic\n",
        "  for letter in text:\n",
        "    if letter not in result:\n",
        "      result[letter] = 0 #add to dic\n",
        "    result[letter] += 1 #increment\n",
        "  return result #return dic\n",
        "\n",
        "count_letters('aaadefg')\n",
        "count_letters('Hello there . how are u?') #counts special chars as well"
      ],
      "execution_count": null,
      "outputs": [
        {
          "output_type": "execute_result",
          "data": {
            "text/plain": [
              "{' ': 5,\n",
              " '.': 1,\n",
              " '?': 1,\n",
              " 'H': 1,\n",
              " 'a': 1,\n",
              " 'e': 4,\n",
              " 'h': 2,\n",
              " 'l': 2,\n",
              " 'o': 2,\n",
              " 'r': 2,\n",
              " 't': 1,\n",
              " 'u': 1,\n",
              " 'w': 1}"
            ]
          },
          "metadata": {
            "tags": []
          },
          "execution_count": 11
        }
      ]
    },
    {
      "cell_type": "markdown",
      "metadata": {
        "id": "0YCTqXLoxusC"
      },
      "source": [
        "#### Dictionaries or Lists?"
      ]
    },
    {
      "cell_type": "code",
      "metadata": {
        "colab": {
          "base_uri": "https://localhost:8080/"
        },
        "id": "D_bpcleJwvRa",
        "outputId": "27756567-9c48-4420-b51c-862a1d7ac26c"
      },
      "source": [
        "wardrobe = {\"shirt\":[\"red\",\"blue\",\"white\"], \"jeans\":[\"blue\",\"black\"]}\n",
        "for cloth, colors in wardrobe.items():\n",
        "  for color in colors:\n",
        "    print(\"{} {}\".format(color, cloth))"
      ],
      "execution_count": null,
      "outputs": [
        {
          "output_type": "stream",
          "text": [
            "red shirt\n",
            "blue shirt\n",
            "white shirt\n",
            "blue jeans\n",
            "black jeans\n"
          ],
          "name": "stdout"
        }
      ]
    },
    {
      "cell_type": "markdown",
      "metadata": {
        "id": "sgO35EiS0QuC"
      },
      "source": [
        "#### Dict Methods\n",
        "\n",
        "-    dict.get(key, default) - Returns the element corresponding to key, or default if it's not present\n",
        "-    dict.keys() - Returns a sequence containing the keys in the dictionary\n",
        "-    dict.values() - Returns a sequence containing the values in the dictionary\n",
        "-    dict.update(other_dictionary) - Updates the dictionary with the items coming from the other dictionary. Existing entries will be replaced; new entries will be added.\n",
        "-    dict.clear() - Removes all the items of the dictionary"
      ]
    },
    {
      "cell_type": "markdown",
      "metadata": {
        "id": "WlHConc41GvC"
      },
      "source": [
        "Quiz Q1"
      ]
    },
    {
      "cell_type": "code",
      "metadata": {
        "colab": {
          "base_uri": "https://localhost:8080/"
        },
        "id": "Y1xQRy7Ezc45",
        "outputId": "1c00d13b-e0e1-4745-e928-f40291c946d2"
      },
      "source": [
        "def email_list(domains):\n",
        "\temails = []\n",
        "\tfor domain, users in domains.items():\n",
        "\t  for user in users:\n",
        "\t    emails.append('{}@{}'.format(user, domain))\n",
        "\treturn emails\n",
        "\n",
        "print(email_list({\"gmail.com\": [\"clark.kent\", \"diana.prince\", \"peter.parker\"], \"yahoo.com\": [\"barbara.gordon\", \"jean.grey\"], \"hotmail.com\": [\"bruce.wayne\"]}))"
      ],
      "execution_count": null,
      "outputs": [
        {
          "output_type": "stream",
          "text": [
            "['clark.kent@gmail.com', 'diana.prince@gmail.com', 'peter.parker@gmail.com', 'barbara.gordon@yahoo.com', 'jean.grey@yahoo.com', 'bruce.wayne@hotmail.com']\n"
          ],
          "name": "stdout"
        }
      ]
    },
    {
      "cell_type": "markdown",
      "metadata": {
        "id": "1VB51uIt30UB"
      },
      "source": [
        "Quiz Q2"
      ]
    },
    {
      "cell_type": "code",
      "metadata": {
        "colab": {
          "base_uri": "https://localhost:8080/"
        },
        "id": "luXVllkU1vBZ",
        "outputId": "d2b8c5f9-7f09-4cec-c50b-4e6e2267ae6d"
      },
      "source": [
        "def groups_per_user(group_dictionary):\n",
        "\tuser_groups = {} #dict\n",
        "\tfor group, users in group_dictionary.items():\n",
        "\t\tfor user in users:\n",
        "\t\t\tuser_groups[user] = user_groups.get(user,[]) + [group]\n",
        "\treturn(user_groups)\n",
        "\n",
        "print(groups_per_user({\"local\": [\"admin\", \"userA\"],\n",
        "\t\t\"public\":  [\"admin\", \"userB\"],\n",
        "\t\t\"administrator\": [\"admin\"] }))"
      ],
      "execution_count": null,
      "outputs": [
        {
          "output_type": "stream",
          "text": [
            "{'admin': ['local', 'public', 'administrator'], 'userA': ['local'], 'userB': ['public']}\n"
          ],
          "name": "stdout"
        }
      ]
    },
    {
      "cell_type": "markdown",
      "metadata": {
        "id": "VMBKpIcf7I-J"
      },
      "source": [
        "Quiz Q3"
      ]
    },
    {
      "cell_type": "code",
      "metadata": {
        "colab": {
          "base_uri": "https://localhost:8080/"
        },
        "id": "NqSIaYcS44TZ",
        "outputId": "436eecf5-b19b-45fe-ad1a-96dc00f6cdce"
      },
      "source": [
        "wardrobe = {'shirt': ['red', 'blue', 'white'], 'jeans': ['blue', 'black']}\n",
        "new_items = {'jeans': ['white'], 'scarf': ['yellow'], 'socks': ['black', 'brown']}\n",
        "wardrobe.update(new_items)\n",
        "print(wardrobe)"
      ],
      "execution_count": null,
      "outputs": [
        {
          "output_type": "stream",
          "text": [
            "{'shirt': ['red', 'blue', 'white'], 'jeans': ['white'], 'scarf': ['yellow'], 'socks': ['black', 'brown']}\n"
          ],
          "name": "stdout"
        }
      ]
    },
    {
      "cell_type": "markdown",
      "metadata": {
        "id": "juOVqy5674xJ"
      },
      "source": [
        "Quiz Q5"
      ]
    },
    {
      "cell_type": "code",
      "metadata": {
        "colab": {
          "base_uri": "https://localhost:8080/"
        },
        "id": "CnOp7LGh7QRJ",
        "outputId": "a9b4ba2c-0c0c-41ee-a3e9-6a0db39354b3"
      },
      "source": [
        "def add_prices(basket):\n",
        "\t# Initialize the variable that will be used for the calculation\n",
        "\ttotal = 0\n",
        "\t# Iterate through the dictionary items\n",
        "\tfor product, prices in basket.items():\n",
        "          total += prices\n",
        "\treturn round(total, 2)  \n",
        "\n",
        "groceries = {\"bananas\": 1.56, \"apples\": 2.50, \"oranges\": 0.99, \"bread\": 4.59, \n",
        "\t\"coffee\": 6.99, \"milk\": 3.39, \"eggs\": 2.98, \"cheese\": 5.44}\n",
        "\n",
        "print(add_prices(groceries)) # Should print 28.44"
      ],
      "execution_count": null,
      "outputs": [
        {
          "output_type": "stream",
          "text": [
            "28.44\n"
          ],
          "name": "stdout"
        }
      ]
    },
    {
      "cell_type": "markdown",
      "metadata": {
        "id": "4IOxDg1J2GuF"
      },
      "source": [
        "Module Quiz"
      ]
    },
    {
      "cell_type": "code",
      "metadata": {
        "colab": {
          "base_uri": "https://localhost:8080/"
        },
        "id": "pTRbdMsv-aU4",
        "outputId": "7e05b384-d6c0-4a1a-9e70-aafa7e5563d1"
      },
      "source": [
        "def format_address(address_string):\n",
        "  words = address_string.split()\n",
        "  num = words[0]\n",
        "  street = ' '.join(words[1:])\n",
        "  return \"house number {} on street named {}\".format(num, street)\n",
        "\n",
        "print(format_address(\"123 Main Street\"))\n",
        "# Should print: \"house number 123 on street named Main Street\"\n",
        "\n",
        "print(format_address(\"1001 1st Ave\"))\n",
        "# Should print: \"house number 1001 on street named 1st Ave\"\n",
        "\n",
        "print(format_address(\"55 North Center Drive\"))\n",
        "# Should print \"house number 55 on street named North Center Drive\""
      ],
      "execution_count": null,
      "outputs": [
        {
          "output_type": "stream",
          "text": [
            "house number 123 on street named Main Street\n",
            "house number 1001 on street named 1st Ave\n",
            "house number 55 on street named North Center Drive\n"
          ],
          "name": "stdout"
        }
      ]
    },
    {
      "cell_type": "code",
      "metadata": {
        "colab": {
          "base_uri": "https://localhost:8080/"
        },
        "id": "gYmoebg83EEI",
        "outputId": "a3af18d1-e74c-4af8-9af1-50c3e0da637b"
      },
      "source": [
        "def highlight_word(sentence, word):\n",
        "\treturn(sentence.replace(word, word.upper()))\n",
        "\n",
        "print(highlight_word(\"Have a nice day\", \"nice\"))\n",
        "print(highlight_word(\"Shhh, don't be so loud!\", \"loud\"))\n",
        "print(highlight_word(\"Automating with Python is fun\", \"fun\"))"
      ],
      "execution_count": null,
      "outputs": [
        {
          "output_type": "stream",
          "text": [
            "Have a NICE day\n",
            "Shhh, don't be so LOUD!\n",
            "Automating with Python is FUN\n"
          ],
          "name": "stdout"
        }
      ]
    },
    {
      "cell_type": "code",
      "metadata": {
        "colab": {
          "base_uri": "https://localhost:8080/"
        },
        "id": "s-SB4Ox_5eTW",
        "outputId": "5c0e840e-3d20-43a8-e5ad-364b93b6d221"
      },
      "source": [
        "def combine_lists(list1, list2):\n",
        "  new_list = list2 + list1[::-1] #reverse order\n",
        "  return new_list\n",
        "\t\n",
        "Jamies_list = [\"Alice\", \"Cindy\", \"Bobby\", \"Jan\", \"Peter\"]\n",
        "Drews_list = [\"Mike\", \"Carol\", \"Greg\", \"Marcia\"]\n",
        "\n",
        "print(combine_lists(Jamies_list, Drews_list))"
      ],
      "execution_count": null,
      "outputs": [
        {
          "output_type": "stream",
          "text": [
            "['Mike', 'Carol', 'Greg', 'Marcia', 'Peter', 'Jan', 'Bobby', 'Cindy', 'Alice']\n"
          ],
          "name": "stdout"
        }
      ]
    },
    {
      "cell_type": "code",
      "metadata": {
        "colab": {
          "base_uri": "https://localhost:8080/"
        },
        "id": "pV5VAjYm6BgG",
        "outputId": "b500d1f0-4f76-4671-ebe7-5e550f0e0d36"
      },
      "source": [
        "def squares(start, end):\n",
        "\treturn [ x**2 for x in range(start, end+1) ]\n",
        "\n",
        "print(squares(2, 3)) # Should be [4, 9]\n",
        "print(squares(1, 5)) # Should be [1, 4, 9, 16, 25]\n",
        "print(squares(0, 10)) # Should be [0, 1, 4, 9, 16, 25, 36, 49, 64, 81, 100]"
      ],
      "execution_count": null,
      "outputs": [
        {
          "output_type": "stream",
          "text": [
            "[4, 9]\n",
            "[1, 4, 9, 16, 25]\n",
            "[0, 1, 4, 9, 16, 25, 36, 49, 64, 81, 100]\n"
          ],
          "name": "stdout"
        }
      ]
    },
    {
      "cell_type": "code",
      "metadata": {
        "colab": {
          "base_uri": "https://localhost:8080/"
        },
        "id": "nES99GWo7nRV",
        "outputId": "b9fb574c-2451-4d3e-b81c-d69feb036549"
      },
      "source": [
        "def car_listing(car_prices):\n",
        "  result = \"\"\n",
        "  for car, prices in car_prices.items():\n",
        "    result += \"{} costs {} dollars\".format(car, prices) + \"\\n\"\n",
        "  return result\n",
        "\n",
        "print(car_listing({\"Kia Soul\":19000, \"Lamborghini Diablo\":55000, \"Ford Fiesta\":13000, \"Toyota Prius\":24000}))"
      ],
      "execution_count": null,
      "outputs": [
        {
          "output_type": "stream",
          "text": [
            "Kia Soul costs 19000 dollars\n",
            "Lamborghini Diablo costs 55000 dollars\n",
            "Ford Fiesta costs 13000 dollars\n",
            "Toyota Prius costs 24000 dollars\n",
            "\n"
          ],
          "name": "stdout"
        }
      ]
    },
    {
      "cell_type": "code",
      "metadata": {
        "colab": {
          "base_uri": "https://localhost:8080/"
        },
        "id": "mYcyrwLu7scm",
        "outputId": "1726cc3e-7ae5-4b22-f1c6-1f66fd492ef5"
      },
      "source": [
        "def combine_guests(guests1, guests2):\n",
        "  # Combine both dictionaries into one, with each key listed \n",
        "  # only once, and the value from guests1 taking precedence\n",
        "  guests2.update(guests1)\n",
        "  all_guests = guests2\n",
        "  return all_guests\n",
        "\n",
        "Rorys_guests = { \"Adam\":2, \"Brenda\":3, \"David\":1, \"Jose\":3, \"Charlotte\":2, \"Terry\":1, \"Robert\":4}\n",
        "Taylors_guests = { \"David\":4, \"Nancy\":1, \"Robert\":2, \"Adam\":1, \"Samantha\":3, \"Chris\":5}\n",
        "\n",
        "print(combine_guests(Rorys_guests, Taylors_guests))"
      ],
      "execution_count": null,
      "outputs": [
        {
          "output_type": "stream",
          "text": [
            "{'David': 1, 'Nancy': 1, 'Robert': 4, 'Adam': 2, 'Samantha': 3, 'Chris': 5, 'Brenda': 3, 'Jose': 3, 'Charlotte': 2, 'Terry': 1}\n"
          ],
          "name": "stdout"
        }
      ]
    },
    {
      "cell_type": "code",
      "metadata": {
        "colab": {
          "base_uri": "https://localhost:8080/"
        },
        "id": "mc9cGryt8oC2",
        "outputId": "041c56ea-022c-4ec8-fe54-d74f5b1428b3"
      },
      "source": [
        "def count_letters(text):\n",
        "  result = {}\n",
        "  # Go through each letter in the text\n",
        "  up_text = text.lower()\n",
        "  up_text = up_text.replace(' ', '')\n",
        "  up_text = up_text.replace('+', '')\n",
        "  up_text = up_text.replace('!', '')\n",
        "  up_text = up_text.replace('=', '')\n",
        "  up_text = up_text.replace('.', '')\n",
        "  up_text = up_text.replace('2', '')\n",
        "  up_text = up_text.replace('4', '')\n",
        "  for letter in up_text:\n",
        "    # Check if the letter needs to be counted or not\n",
        "    if letter not in result:\n",
        "      result[letter] = 0\n",
        "    # Add or increment the value in the dictionary\n",
        "    result[letter] += 1\n",
        "  return result\n",
        "\n",
        "print(count_letters(\"AaBbCc\"))\n",
        "# Should be {'a': 2, 'b': 2, 'c': 2}\n",
        "\n",
        "print(count_letters(\"Math is fun! 2+2=4\"))\n",
        "# Should be {'m': 1, 'a': 1, 't': 1, 'h': 1, 'i': 1, 's': 1, 'f': 1, 'u': 1, 'n': 1}\n",
        "\n",
        "print(count_letters(\"This is a sentence.\"))\n",
        "# Should be {'t': 2, 'h': 1, 'i': 2, 's': 3, 'a': 1, 'e': 3, 'n': 2, 'c': 1}"
      ],
      "execution_count": null,
      "outputs": [
        {
          "output_type": "stream",
          "text": [
            "{'a': 2, 'b': 2, 'c': 2}\n",
            "{'m': 1, 'a': 1, 't': 1, 'h': 1, 'i': 1, 's': 1, 'f': 1, 'u': 1, 'n': 1}\n",
            "{'t': 2, 'h': 1, 'i': 2, 's': 3, 'a': 1, 'e': 3, 'n': 2, 'c': 1}\n"
          ],
          "name": "stdout"
        }
      ]
    },
    {
      "cell_type": "code",
      "metadata": {
        "colab": {
          "base_uri": "https://localhost:8080/"
        },
        "id": "vZJ11igc9Egl",
        "outputId": "7d30b5b5-6f1d-4357-d7f1-c00191dfadbd"
      },
      "source": [
        "animal = 'Hippopotamus'\n",
        "\n",
        "print(animal[3:6])\n",
        "print(animal[-5])\n",
        "print(animal[10:])"
      ],
      "execution_count": null,
      "outputs": [
        {
          "output_type": "stream",
          "text": [
            "pop\n",
            "t\n",
            "us\n"
          ],
          "name": "stdout"
        }
      ]
    },
    {
      "cell_type": "code",
      "metadata": {
        "colab": {
          "base_uri": "https://localhost:8080/"
        },
        "id": "SUJWNqVz-50F",
        "outputId": "edd6e7a7-1a09-4840-aa3f-62f510d38048"
      },
      "source": [
        "colors = [\"red\", \"white\", \"blue\"]\n",
        "colors.insert(2, \"yellow\")\n",
        "print(colors)"
      ],
      "execution_count": null,
      "outputs": [
        {
          "output_type": "stream",
          "text": [
            "['red', 'white', 'yellow', 'blue']\n"
          ],
          "name": "stdout"
        }
      ]
    },
    {
      "cell_type": "code",
      "metadata": {
        "colab": {
          "base_uri": "https://localhost:8080/"
        },
        "id": "JIG9ksmM_NTV",
        "outputId": "3d02e503-41cc-4d96-b72b-f0512f4c8f2b"
      },
      "source": [
        "host_addresses = {\"router\": \"192.168.1.1\", \"localhost\": \"127.0.0.1\", \"google\": \"8.8.8.8\"}\n",
        "host_addresses.keys()"
      ],
      "execution_count": null,
      "outputs": [
        {
          "output_type": "execute_result",
          "data": {
            "text/plain": [
              "dict_keys(['router', 'localhost', 'google'])"
            ]
          },
          "metadata": {
            "tags": []
          },
          "execution_count": 106
        }
      ]
    },
    {
      "cell_type": "markdown",
      "metadata": {
        "id": "kncf1MOS_xqu"
      },
      "source": [
        "##Object Oriented Programming OPP"
      ]
    },
    {
      "cell_type": "markdown",
      "metadata": {
        "id": "HqxeR-0HA_1F"
      },
      "source": [
        "Classes represent concepts, while objects are instances of classes.\n",
        "\n",
        "Attributes are characteristics associated to a type (color, flavor, name, size).\n",
        "\n",
        "Methods are functions associated to a type (cut, eat)."
      ]
    },
    {
      "cell_type": "code",
      "metadata": {
        "colab": {
          "base_uri": "https://localhost:8080/"
        },
        "id": "2E-RtfOf_Rwm",
        "outputId": "86933ccd-668a-4062-b4b6-bedf7d0014ee"
      },
      "source": [
        "type('hi')"
      ],
      "execution_count": null,
      "outputs": [
        {
          "output_type": "execute_result",
          "data": {
            "text/plain": [
              "str"
            ]
          },
          "metadata": {
            "tags": []
          },
          "execution_count": 1
        }
      ]
    },
    {
      "cell_type": "code",
      "metadata": {
        "id": "yaDAlM6Fb_kF"
      },
      "source": [
        "dir('hi')"
      ],
      "execution_count": null,
      "outputs": []
    },
    {
      "cell_type": "code",
      "metadata": {
        "id": "WEwmbR9IcOXD"
      },
      "source": [
        "help(\"\")"
      ],
      "execution_count": null,
      "outputs": []
    },
    {
      "cell_type": "markdown",
      "metadata": {
        "id": "Y2wrLuLxdVwM"
      },
      "source": [
        "###Creating New Classes"
      ]
    },
    {
      "cell_type": "code",
      "metadata": {
        "id": "CQVWVrbTcjGk"
      },
      "source": [
        "class apple:\n",
        "  color = '' #attribute\n",
        "  flavor = '' # attribute"
      ],
      "execution_count": null,
      "outputs": []
    },
    {
      "cell_type": "code",
      "metadata": {
        "colab": {
          "base_uri": "https://localhost:8080/"
        },
        "id": "0HwfjovUhSXF",
        "outputId": "9b1b2f1f-0f77-4276-87cb-d2ef5c7e574f"
      },
      "source": [
        "jona = apple()\n",
        "jona.color ='red'\n",
        "jona.flavor ='sweet'\n",
        "\n",
        "print(jona.color) #Dot notation"
      ],
      "execution_count": null,
      "outputs": [
        {
          "output_type": "stream",
          "text": [
            "red\n"
          ],
          "name": "stdout"
        }
      ]
    },
    {
      "cell_type": "code",
      "metadata": {
        "colab": {
          "base_uri": "https://localhost:8080/"
        },
        "id": "RsiLYMYNhuuT",
        "outputId": "bae67df0-8b6f-43e4-841e-e04ff4c6d1eb"
      },
      "source": [
        "print(jona.color.upper())"
      ],
      "execution_count": null,
      "outputs": [
        {
          "output_type": "stream",
          "text": [
            "RED\n"
          ],
          "name": "stdout"
        }
      ]
    },
    {
      "cell_type": "code",
      "metadata": {
        "id": "JUn9Y6SNiFND"
      },
      "source": [
        "golden = apple()\n",
        "golden.color = 'yellow'\n",
        "golden.flavor = 'soft'"
      ],
      "execution_count": null,
      "outputs": []
    },
    {
      "cell_type": "code",
      "metadata": {
        "colab": {
          "base_uri": "https://localhost:8080/"
        },
        "id": "fZMhtKsiiU0r",
        "outputId": "ed8092e1-ca23-42cd-8a4e-43caaded8530"
      },
      "source": [
        "class Flower:\n",
        "  color = 'unknown'\n",
        "\n",
        "rose = Flower()\n",
        "rose.color = 'red'\n",
        "\n",
        "violet = Flower()\n",
        "violet.color = 'blue'\n",
        "\n",
        "this_pun_is_for_you = 'Im studying Python,\\nHow about you?'\n",
        "\n",
        "print(\"Roses are {},\".format(rose.color))\n",
        "print(\"Violets are {},\".format(violet.color))\n",
        "print(this_pun_is_for_you) "
      ],
      "execution_count": null,
      "outputs": [
        {
          "output_type": "stream",
          "text": [
            "Roses are red,\n",
            "Violets are blue,\n",
            "Im studying Python,\n",
            "How about you?\n"
          ],
          "name": "stdout"
        }
      ]
    },
    {
      "cell_type": "markdown",
      "metadata": {
        "id": "nwqzB3DajJV0"
      },
      "source": [
        "Quiz"
      ]
    },
    {
      "cell_type": "code",
      "metadata": {
        "colab": {
          "base_uri": "https://localhost:8080/"
        },
        "id": "HvzoKDRJih6E",
        "outputId": "28b3d060-9114-4cb2-e7ea-5a6e4280c91d"
      },
      "source": [
        "# “If you have an apple and I have an apple and we exchange these apples then\n",
        "# you and I will still each have one apple. But if you have an idea and I have\n",
        "# an idea and we exchange these ideas, then each of us will have two ideas.”\n",
        "# George Bernard Shaw\n",
        "\n",
        "class Person:\n",
        "    apples = 0\n",
        "    ideas = 0\n",
        "\n",
        "johanna = Person()\n",
        "johanna.apples = 1\n",
        "johanna.ideas = 1\n",
        "\n",
        "martin = Person()\n",
        "martin.apples = 2\n",
        "martin.ideas = 1\n",
        "\n",
        "def exchange_apples(you, me):\n",
        "#Here, despite G.B. Shaw's quote, our characters have started with       #different amounts of apples so we can better observe the results. \n",
        "#We're going to have Martin and Johanna exchange ALL their apples with #one another.\n",
        "#Hint: how would you switch values of variables, \n",
        "#so that \"you\" and \"me\" will exchange ALL their apples with one another?\n",
        "#Do you need a temporary variable to store one of the values?\n",
        "#You may need more than one line of code to do that, which is OK. \n",
        "        test = you.apples\n",
        "        you.apples = me.apples\n",
        "        me.apples = test\n",
        "        return you.apples == me.apples\n",
        "    \n",
        "def exchange_ideas(you, me):\n",
        "    #\"you\" and \"me\" will share our ideas with one another.\n",
        "    #What operations need to be performed, so that each object receives\n",
        "    #the shared number of ideas?\n",
        "    #Hint: how would you assign the total number of ideas to \n",
        "    #each idea attribute? Do you need a temporary variable to store \n",
        "    #the sum of ideas, or can you find another way? \n",
        "    #Use as many lines of code as you need here.\n",
        "    you.ideas += me.ideas\n",
        "    me.ideas = you.ideas\n",
        "    return you.ideas, me.ideas\n",
        "\n",
        "exchange_apples(johanna, martin)\n",
        "print(\"Johanna has {} apples and Martin has {} apples\".format(johanna.apples, martin.apples))\n",
        "exchange_ideas(johanna, martin)\n",
        "print(\"Johanna has {} ideas and Martin has {} ideas\".format(johanna.ideas, martin.ideas))"
      ],
      "execution_count": null,
      "outputs": [
        {
          "output_type": "stream",
          "text": [
            "Johanna has 2 apples and Martin has 1 apples\n",
            "Johanna has 2 ideas and Martin has 2 ideas\n"
          ],
          "name": "stdout"
        }
      ]
    },
    {
      "cell_type": "code",
      "metadata": {
        "colab": {
          "base_uri": "https://localhost:8080/"
        },
        "id": "eLbcTpEHjzQE",
        "outputId": "f6a5ede4-e152-4f59-9c94-b60dcd79d464"
      },
      "source": [
        "# define a basic city class\n",
        "class City:\n",
        "\tname = \"\"\n",
        "\tcountry = \"\"\n",
        "\televation = 0 \n",
        "\tpopulation = 0\n",
        "\n",
        "# create a new instance of the City class and\n",
        "# define each attribute\n",
        "city1 = City()\n",
        "city1.name = \"Cusco\"\n",
        "city1.country = \"Peru\"\n",
        "city1.elevation = 3399\n",
        "city1.population = 358052\n",
        "\n",
        "# create a new instance of the City class and\n",
        "# define each attribute\n",
        "city2 = City()\n",
        "city2.name = \"Sofia\"\n",
        "city2.country = \"Bulgaria\"\n",
        "city2.elevation = 2290\n",
        "city2.population = 1241675\n",
        "\n",
        "# create a new instance of the City class and\n",
        "# define each attribute\n",
        "city3 = City()\n",
        "city3.name = \"Seoul\"\n",
        "city3.country = \"South Korea\"\n",
        "city3.elevation = 38\n",
        "city3.population = 9733509\n",
        "\n",
        "def max_elevation_city(min_population):\n",
        "\t# Initialize the variable that will hold \n",
        "# the information of the city with \n",
        "# the highest elevation \n",
        "\treturn_city = City()\n",
        "\n",
        "\t# Evaluate the 1st instance to meet the requirements:\n",
        "\t# does city #1 have at least min_population and\n",
        "\t# is its elevation the highest evaluated so far?\n",
        "\tif min_population<=city1.population:\n",
        "\t\treturn_city = city1\n",
        "\t# Evaluate the 2nd instance to meet the requirements:\n",
        "\t# does city #2 have at least min_population and\n",
        "\t# is its elevation the highest evaluated so far?\n",
        "\tif min_population <= city2.population and city2.elevation >=return_city.elevation:\n",
        "\t\treturn_city = city2\n",
        "\t# Evaluate the 3rd instance to meet the requirements:\n",
        "\t# does city #3 have at least min_population and\n",
        "\t# is its elevation the highest evaluated so far?\n",
        "\tif min_population <=city3.population and city3.elevation >= return_city.elevation:\n",
        "\t\treturn_city = city3\n",
        "\n",
        "\t#Format the return string\n",
        "\tif return_city.name:\n",
        "\t\treturn ('{}, {}'.format(return_city.name, return_city.country))\n",
        "\telse:\n",
        "\t\treturn \"\"\n",
        "\n",
        "print(max_elevation_city(100000)) # Should print \"Cusco, Peru\"\n",
        "print(max_elevation_city(1000000)) # Should print \"Sofia, Bulgaria\"\n",
        "print(max_elevation_city(10000000)) # Should print \"\""
      ],
      "execution_count": null,
      "outputs": [
        {
          "output_type": "stream",
          "text": [
            "Cusco, Peru\n",
            "Sofia, Bulgaria\n",
            "\n"
          ],
          "name": "stdout"
        }
      ]
    },
    {
      "cell_type": "code",
      "metadata": {
        "colab": {
          "base_uri": "https://localhost:8080/"
        },
        "id": "B_yiyrGEmMRT",
        "outputId": "2693d148-1a27-480b-f6c6-25bd6298d524"
      },
      "source": [
        "class Furniture:\n",
        "\tcolor = \"\"\n",
        "\tmaterial = \"\"\n",
        "\n",
        "table = Furniture()\n",
        "table.color = 'brown'\n",
        "table.material ='wood'\n",
        "\n",
        "couch = Furniture()\n",
        "couch.color = 'red'\n",
        "couch.material ='leather'\n",
        "\n",
        "def describe_furniture(piece):\n",
        "\treturn (\"This piece of furniture is made of {} {}\".format(piece.color, piece.material))\n",
        "\n",
        "print(describe_furniture(table)) \n",
        "# Should be \"This piece of furniture is made of brown wood\"\n",
        "print(describe_furniture(couch)) \n",
        "# Should be \"This piece of furniture is made of red leather\""
      ],
      "execution_count": null,
      "outputs": [
        {
          "output_type": "stream",
          "text": [
            "This piece of furniture is made of brown wood\n",
            "This piece of furniture is made of red leather\n"
          ],
          "name": "stdout"
        }
      ]
    },
    {
      "cell_type": "markdown",
      "metadata": {
        "id": "IQhavr5vm_zb"
      },
      "source": [
        "### Creating a new Method\n",
        "\n",
        "Create a new Method:"
      ]
    },
    {
      "cell_type": "code",
      "metadata": {
        "id": "edY9tTpXm1wF",
        "colab": {
          "base_uri": "https://localhost:8080/"
        },
        "outputId": "3aefd7f0-2ffa-44c3-dce6-8918f6e2ceac"
      },
      "source": [
        "class piglet: #make a new class\n",
        "  def speak(self): #create a new method\n",
        "    print('oink oink')\n",
        "\n",
        "hamlet = piglet() # assign item to class\n",
        "\n",
        "hamlet.speak() #call method"
      ],
      "execution_count": null,
      "outputs": [
        {
          "output_type": "stream",
          "text": [
            "oink oink\n"
          ],
          "name": "stdout"
        }
      ]
    },
    {
      "cell_type": "code",
      "metadata": {
        "colab": {
          "base_uri": "https://localhost:8080/"
        },
        "id": "ksZkgt7Od_7C",
        "outputId": "bfbf77f5-675a-4ee5-acb9-83892ab59956"
      },
      "source": [
        "class piglet: #make a new class\n",
        "  name = 'Piglet' #default name\n",
        "  def speak(self): #create a new method\n",
        "    print('Oink! Im {}! Oink!'.format(self.name))\n",
        "\n",
        "hamlet = piglet() # assign item to class\n",
        "\n",
        "hamlet.name = 'Hamlet'\n",
        "hamlet.speak() #call method"
      ],
      "execution_count": null,
      "outputs": [
        {
          "output_type": "stream",
          "text": [
            "Oink! Im Hamlet! Oink!\n"
          ],
          "name": "stdout"
        }
      ]
    },
    {
      "cell_type": "code",
      "metadata": {
        "colab": {
          "base_uri": "https://localhost:8080/"
        },
        "id": "p2vLf2mpeWeQ",
        "outputId": "55d82821-29f6-4a8b-ae73-f8aece9f2e53"
      },
      "source": [
        "petunia = piglet()\n",
        "petunia.name = 'Petunia'\n",
        "petunia.speak()"
      ],
      "execution_count": null,
      "outputs": [
        {
          "output_type": "stream",
          "text": [
            "Oink! Im Petunia! Oink!\n"
          ],
          "name": "stdout"
        }
      ]
    },
    {
      "cell_type": "markdown",
      "metadata": {
        "id": "yaXClmPGe7HJ"
      },
      "source": [
        "Variables that have different values for different instances of same class -> called **Instance Variables**."
      ]
    },
    {
      "cell_type": "code",
      "metadata": {
        "colab": {
          "base_uri": "https://localhost:8080/"
        },
        "id": "5fphfCPue2kh",
        "outputId": "7a617a9b-70c2-43f6-ff18-118980e08f96"
      },
      "source": [
        "class piglet: #make a new class\n",
        "  years = 0 #default name\n",
        "  def pig_years(self): #create a new method\n",
        "    return self.years * 18\n",
        "\n",
        "piggy = piglet() # assign item to class\n",
        "print(piggy.pig_years())"
      ],
      "execution_count": null,
      "outputs": [
        {
          "output_type": "stream",
          "text": [
            "0\n"
          ],
          "name": "stdout"
        }
      ]
    },
    {
      "cell_type": "code",
      "metadata": {
        "colab": {
          "base_uri": "https://localhost:8080/"
        },
        "id": "HyhYqyJpgqKQ",
        "outputId": "57a42bc9-bc7b-4f9a-863c-da4f8b52e53b"
      },
      "source": [
        "piggy.years = 2\n",
        "print(piggy.pig_years())"
      ],
      "execution_count": null,
      "outputs": [
        {
          "output_type": "stream",
          "text": [
            "36\n"
          ],
          "name": "stdout"
        }
      ]
    },
    {
      "cell_type": "code",
      "metadata": {
        "colab": {
          "base_uri": "https://localhost:8080/"
        },
        "id": "v_g_E1LYgyNB",
        "outputId": "3c511ff0-ed1b-469a-f154-eec564dbd472"
      },
      "source": [
        "class Dog:\n",
        "  years = 0\n",
        "  def dog_years(self):\n",
        "    return self.years * 7\n",
        "    \n",
        "fido=Dog()\n",
        "fido.years=3\n",
        "print(fido.dog_years())"
      ],
      "execution_count": null,
      "outputs": [
        {
          "output_type": "stream",
          "text": [
            "21\n"
          ],
          "name": "stdout"
        }
      ]
    },
    {
      "cell_type": "markdown",
      "metadata": {
        "id": "yXhUIjUAk-m6"
      },
      "source": [
        "###Constructors"
      ]
    },
    {
      "cell_type": "code",
      "metadata": {
        "colab": {
          "base_uri": "https://localhost:8080/"
        },
        "id": "uM21S9_dhevx",
        "outputId": "a30eaff0-77a9-4a38-f5f0-20ca4221eb3d"
      },
      "source": [
        "class apple:\n",
        "  def __init__(self, color, flavor): #special method\n",
        "    self.color = color\n",
        "    self.flavor = flavor\n",
        "\n",
        "jonagold = apple('red', 'sweet')\n",
        "print(jonagold.color)"
      ],
      "execution_count": null,
      "outputs": [
        {
          "output_type": "stream",
          "text": [
            "red\n"
          ],
          "name": "stdout"
        }
      ]
    },
    {
      "cell_type": "code",
      "metadata": {
        "colab": {
          "base_uri": "https://localhost:8080/"
        },
        "id": "JIKr3Lvjl4cw",
        "outputId": "c18b93c0-7d8a-4918-b901-4bc4fd863eb4"
      },
      "source": [
        "class Person:\n",
        "    def __init__(self, name): #constructor\n",
        "        self.name = name\n",
        "    def greeting(self):\n",
        "        # Should return \"hi, my name is \" followed by the name of the Person.\n",
        "        return ('Hi, my name is {}'.format(self.name)) \n",
        "\n",
        "# Create a new instance with a name of your choice\n",
        "some_person = Person('John')  \n",
        "# Call the greeting method\n",
        "print(some_person.greeting())"
      ],
      "execution_count": null,
      "outputs": [
        {
          "output_type": "stream",
          "text": [
            "Hi, my name is John\n"
          ],
          "name": "stdout"
        }
      ]
    },
    {
      "cell_type": "code",
      "metadata": {
        "colab": {
          "base_uri": "https://localhost:8080/"
        },
        "id": "yU7g59ormW1v",
        "outputId": "1dc00e9a-d522-42ab-e9b7-799cc1dfbba0"
      },
      "source": [
        "class apple:\n",
        "  def __init__(self, color, flavor): #special method\n",
        "    self.color = color\n",
        "    self.flavor = flavor\n",
        "  def __str__(self): #call bk when Print is used\n",
        "    return 'This apple is {} and its flavor is {}'.format(self.color, self.flavor)\n",
        "\n",
        "jonagold = apple('red', 'sweet')\n",
        "print(jonagold) # due to STR above, don't get an error."
      ],
      "execution_count": null,
      "outputs": [
        {
          "output_type": "stream",
          "text": [
            "This apple is red and its flavor is sweet\n"
          ],
          "name": "stdout"
        }
      ]
    },
    {
      "cell_type": "markdown",
      "metadata": {
        "id": "sRf5AXYyn9G4"
      },
      "source": [
        "###Documenting with Docstrings"
      ]
    },
    {
      "cell_type": "code",
      "metadata": {
        "id": "PKb1dcNtnjRA"
      },
      "source": [
        "class apple:\n",
        "  def __init__(self, color, flavor): #special method\n",
        "    self.color = color\n",
        "    self.flavor = flavor\n",
        "  def __str__(self): #call bk when Print is used\n",
        "    return 'This apple is {} and its flavor is {}'.format(self.color, self.flavor)\n",
        "\n",
        "help(apple) #to get basic info."
      ],
      "execution_count": null,
      "outputs": []
    },
    {
      "cell_type": "code",
      "metadata": {
        "colab": {
          "base_uri": "https://localhost:8080/"
        },
        "id": "Wb7KDLvWoMkB",
        "outputId": "0954f4d4-7714-40f9-f7fc-bb6baece913c"
      },
      "source": [
        "def to_seconds(hours, minutes, seconds):\n",
        "  #to set more details on what HELP calls - Docstring:\n",
        "  '''Returns the amount of seconds in the given hours, minutes and seconds.''' \n",
        "  return hours*3600 + minutes*60 + to_seconds\n",
        "\n",
        "help(to_seconds) #call bk info"
      ],
      "execution_count": null,
      "outputs": [
        {
          "output_type": "stream",
          "text": [
            "Help on function to_seconds in module __main__:\n",
            "\n",
            "to_seconds(hours, minutes, seconds)\n",
            "    Returns the amount of seconds in the given hours, minutes and seconds.\n",
            "\n"
          ],
          "name": "stdout"
        }
      ]
    },
    {
      "cell_type": "code",
      "metadata": {
        "colab": {
          "base_uri": "https://localhost:8080/"
        },
        "id": "2Q878J7woxxw",
        "outputId": "1169aef1-7c78-4562-a605-f43022757b83"
      },
      "source": [
        "class Person:\n",
        "  def __init__(self, name):\n",
        "    self.name = name\n",
        "  def greeting(self):\n",
        "    '''Outputs a message with the name of the person''' #DOCSTRING\n",
        "    print(\"Hello! My name is {name}.\".format(name=self.name)) \n",
        "\n",
        "help(Person)"
      ],
      "execution_count": null,
      "outputs": [
        {
          "output_type": "stream",
          "text": [
            "Help on class Person in module __main__:\n",
            "\n",
            "class Person(builtins.object)\n",
            " |  Person(name)\n",
            " |  \n",
            " |  Methods defined here:\n",
            " |  \n",
            " |  __init__(self, name)\n",
            " |      Initialize self.  See help(type(self)) for accurate signature.\n",
            " |  \n",
            " |  greeting(self)\n",
            " |      Outputs a message with the name of the person\n",
            " |  \n",
            " |  ----------------------------------------------------------------------\n",
            " |  Data descriptors defined here:\n",
            " |  \n",
            " |  __dict__\n",
            " |      dictionary for instance variables (if defined)\n",
            " |  \n",
            " |  __weakref__\n",
            " |      list of weak references to the object (if defined)\n",
            "\n"
          ],
          "name": "stdout"
        }
      ]
    },
    {
      "cell_type": "markdown",
      "metadata": {
        "id": "GgTP_XqbxrG4"
      },
      "source": [
        "##Code Reuse"
      ]
    },
    {
      "cell_type": "markdown",
      "metadata": {
        "id": "lZtxMkNL47cS"
      },
      "source": [
        "###Inheritance\n",
        "\n",
        "Apple Class -> create Fruit class to add more Fruits in it."
      ]
    },
    {
      "cell_type": "code",
      "metadata": {
        "colab": {
          "base_uri": "https://localhost:8080/"
        },
        "id": "yDC-pFXgpHMA",
        "outputId": "c2684dce-93bb-4a23-d59f-e3d88f90cb61"
      },
      "source": [
        "class fruit:\n",
        "  def __init__(self, color, flavor):\n",
        "    self.color = color\n",
        "    self.flavor = flavor\n",
        "\n",
        "class apple(fruit): #add apple to FRUIT class, Inherit from Fruit class. have same constructors of init.\n",
        "  pass\n",
        "\n",
        "class grape(fruit):\n",
        "  pass\n",
        "\n",
        "granny_smith = apple('green', 'tart')\n",
        "carnelian = grape('purple', 'sweet')\n",
        "\n",
        "print(granny_smith.flavor)"
      ],
      "execution_count": null,
      "outputs": [
        {
          "output_type": "stream",
          "text": [
            "tart\n"
          ],
          "name": "stdout"
        }
      ]
    },
    {
      "cell_type": "code",
      "metadata": {
        "colab": {
          "base_uri": "https://localhost:8080/"
        },
        "id": "9nHHah-d80Sg",
        "outputId": "81b3273a-075b-44d7-b0e8-fef271c35d75"
      },
      "source": [
        "class Animal:\n",
        "  sound =''\n",
        "  def __init__(self, name):\n",
        "    self.name = name\n",
        "  def speak(self):\n",
        "    print('{sound} Im {name}! {sound}'. format(name = self.name, sound = self.sound))\n",
        "\n",
        "class Piglet(Animal):\n",
        "  sound = 'Oink!'\n",
        "\n",
        "hamlet = Piglet('Hamlet')\n",
        "hamlet.speak()"
      ],
      "execution_count": null,
      "outputs": [
        {
          "output_type": "stream",
          "text": [
            "Oink! Im Hamlet! Oink!\n"
          ],
          "name": "stdout"
        }
      ]
    },
    {
      "cell_type": "code",
      "metadata": {
        "colab": {
          "base_uri": "https://localhost:8080/"
        },
        "id": "gSXvFST2-T9w",
        "outputId": "7c93e058-4b03-4034-ec3d-fee28a75989e"
      },
      "source": [
        "class Clothing:\n",
        "  material = \"\"\n",
        "  def __init__(self,name):\n",
        "    self.name = name\n",
        "  def checkmaterial(self):\n",
        "\t  print(\"This {} is made of {}\".format(self.name,self.material))\n",
        "\t\t\t\n",
        "class Shirt(Clothing):\n",
        "  material=\"Cotton\"\n",
        "\n",
        "polo = Shirt(\"Polo\")\n",
        "polo.checkmaterial()"
      ],
      "execution_count": null,
      "outputs": [
        {
          "output_type": "stream",
          "text": [
            "This Polo is made of Cotton\n"
          ],
          "name": "stdout"
        }
      ]
    },
    {
      "cell_type": "markdown",
      "metadata": {
        "id": "HBIryX12_UJX"
      },
      "source": [
        "###Composition\n",
        "\n",
        "Always initialize mutable attributes in the constructor."
      ]
    },
    {
      "cell_type": "code",
      "metadata": {
        "id": "cYPJCzul--Je"
      },
      "source": [
        "class Repository:\n",
        "  def __init__(self):\n",
        "    self.packages = {} #empty dict of packages\n",
        "  def add_package(self, package):\n",
        "    self.packages[package.name] = package\n",
        "  def total_size(self):\n",
        "    result = 0\n",
        "    for package in self.packages.values(): #look into the DICT, by values\n",
        "      result += package.size\n",
        "    return result"
      ],
      "execution_count": null,
      "outputs": []
    },
    {
      "cell_type": "code",
      "metadata": {
        "colab": {
          "base_uri": "https://localhost:8080/"
        },
        "id": "q3_9gl_sFXkp",
        "outputId": "6dbd0322-6575-486d-83b1-695a6ebbe71c"
      },
      "source": [
        "class Clothing:\n",
        "  stock={ 'name': [],'material' :[], 'amount':[]}\n",
        "  def __init__(self,name):\n",
        "    material = \"\"\n",
        "    self.name = name\n",
        "  def add_item(self, name, material, amount):\n",
        "    Clothing.stock['name'].append(self.name)\n",
        "    Clothing.stock['material'].append(self.material)\n",
        "    Clothing.stock['amount'].append(amount)\n",
        "  def Stock_by_Material(self, material):\n",
        "    count=0\n",
        "    n=0\n",
        "    for item in Clothing.stock['material']:\n",
        "      if item == material:\n",
        "        count += Clothing.stock['amount'][n]\n",
        "        n+=1\n",
        "    return count\n",
        "\n",
        "class shirt(Clothing):\n",
        "  material=\"Cotton\"\n",
        "class pants(Clothing):\n",
        "  material=\"Cotton\"\n",
        "  \n",
        "polo = shirt(\"Polo\")\n",
        "sweatpants = pants(\"Sweatpants\")\n",
        "polo.add_item(polo.name, polo.material, 4)\n",
        "sweatpants.add_item(sweatpants.name, sweatpants.material, 6)\n",
        "current_stock = polo.Stock_by_Material(\"Cotton\")\n",
        "print(current_stock)"
      ],
      "execution_count": null,
      "outputs": [
        {
          "output_type": "stream",
          "text": [
            "10\n"
          ],
          "name": "stdout"
        }
      ]
    },
    {
      "cell_type": "markdown",
      "metadata": {
        "id": "1EisdZJgGY7f"
      },
      "source": [
        "###Modules"
      ]
    },
    {
      "cell_type": "code",
      "metadata": {
        "colab": {
          "base_uri": "https://localhost:8080/"
        },
        "id": "1ReX0ZcPF4VO",
        "outputId": "f33fcbce-ca57-497d-efd8-61e49610f490"
      },
      "source": [
        "import random #randomize\n",
        "random.randint(1,10)"
      ],
      "execution_count": null,
      "outputs": [
        {
          "output_type": "execute_result",
          "data": {
            "text/plain": [
              "8"
            ]
          },
          "metadata": {
            "tags": []
          },
          "execution_count": 35
        }
      ]
    },
    {
      "cell_type": "code",
      "metadata": {
        "colab": {
          "base_uri": "https://localhost:8080/"
        },
        "id": "buuEN6IDJWqw",
        "outputId": "b6d2b967-4b1c-4f9d-c449-f6f9fd9114fb"
      },
      "source": [
        "import datetime #for date processing\n",
        "now = datetime.datetime.now() #datetime class in datetime module\n",
        "print(type(now))\n",
        "print(now)"
      ],
      "execution_count": null,
      "outputs": [
        {
          "output_type": "stream",
          "text": [
            "<class 'datetime.datetime'>\n",
            "2021-05-30 03:42:46.836183\n"
          ],
          "name": "stdout"
        }
      ]
    },
    {
      "cell_type": "code",
      "metadata": {
        "colab": {
          "base_uri": "https://localhost:8080/"
        },
        "id": "v9oCvHmMW-Au",
        "outputId": "50a5416b-5219-4df0-901c-babc0a782df4"
      },
      "source": [
        "now.year"
      ],
      "execution_count": null,
      "outputs": [
        {
          "output_type": "execute_result",
          "data": {
            "text/plain": [
              "2021"
            ]
          },
          "metadata": {
            "tags": []
          },
          "execution_count": 39
        }
      ]
    },
    {
      "cell_type": "code",
      "metadata": {
        "colab": {
          "base_uri": "https://localhost:8080/"
        },
        "id": "Ya1M1R-gXu8u",
        "outputId": "980a8aba-274d-4a19-aadc-d128eb0a9b8c"
      },
      "source": [
        "print( now+ datetime.timedelta(days=28)) # adding dates to current day"
      ],
      "execution_count": null,
      "outputs": [
        {
          "output_type": "stream",
          "text": [
            "2021-06-27 03:42:46.836183\n"
          ],
          "name": "stdout"
        }
      ]
    },
    {
      "cell_type": "markdown",
      "metadata": {
        "id": "tZSREWlU8KEZ"
      },
      "source": [
        "Quiz"
      ]
    },
    {
      "cell_type": "code",
      "metadata": {
        "id": "uCRXrPgjX1E-",
        "colab": {
          "base_uri": "https://localhost:8080/"
        },
        "outputId": "d9128b2e-b9b1-469b-b59d-b013fe417924"
      },
      "source": [
        "class Animal:\n",
        "    name = \"\"\n",
        "    category = \"\"\n",
        "    \n",
        "    def __init__(self, name):\n",
        "        self.name = name\n",
        "    \n",
        "    def set_category(self, category):\n",
        "        self.category = category\n",
        "\n",
        "class Turtle(Animal):\n",
        "    category = 'reptile'\n",
        "\n",
        "class Snake(Animal):\n",
        "    category: 'reptile'\n",
        "\n",
        "print(Turtle.category)"
      ],
      "execution_count": null,
      "outputs": [
        {
          "output_type": "stream",
          "text": [
            "reptile\n"
          ],
          "name": "stdout"
        }
      ]
    },
    {
      "cell_type": "code",
      "metadata": {
        "colab": {
          "base_uri": "https://localhost:8080/"
        },
        "id": "l542O_sC8Shn",
        "outputId": "c9e187dc-6d11-4238-e8bf-78768a832f95"
      },
      "source": [
        "class Zoo:\n",
        "    def __init__(self):\n",
        "        self.current_animals = {}\n",
        "    \n",
        "    def add_animal(self, animal):\n",
        "        self.current_animals[animal.name] = animal.category\n",
        "    \n",
        "    def total_of_category(self, category):\n",
        "        result = 0\n",
        "        for animal in self.current_animals.values():\n",
        "            if animal == category:\n",
        "                result += 1\n",
        "        return result\n",
        "\n",
        "zoo = Zoo()\n",
        "\n",
        "turtle = Turtle(\"Turtle\") #create an instance of the Turtle class\n",
        "snake = Snake(\"Snake\") #create an instance of the Snake class\n",
        "\n",
        "zoo.add_animal(turtle)\n",
        "zoo.add_animal(snake)\n",
        "\n",
        "print(zoo.total_of_category(\"reptile\")) #how many zoo animal types in the reptile category"
      ],
      "execution_count": null,
      "outputs": [
        {
          "output_type": "stream",
          "text": [
            "1\n"
          ],
          "name": "stdout"
        }
      ]
    },
    {
      "cell_type": "markdown",
      "metadata": {
        "id": "n1qxMI6JX_HU"
      },
      "source": [
        "Quiz 2"
      ]
    },
    {
      "cell_type": "code",
      "metadata": {
        "id": "NSA_kSMZ9wsV"
      },
      "source": [
        "#Begin Portion 1#\n",
        "import random\n",
        "\n",
        "class Server:\n",
        "    def __init__(self):\n",
        "        \"\"\"Creates a new server instance, with no active connections.\"\"\"\n",
        "        self.connections = {}\n",
        "\n",
        "    def add_connection(self, connection_id):\n",
        "        \"\"\"Adds a new connection to this server.\"\"\"\n",
        "        connection_load = random.random()*10+1\n",
        "        # Add the connection to the dictionary with the calculated load\n",
        "        self.connections[connection_id] = connection_load\n",
        "    def close_connection(self, connection_id):\n",
        "        \"\"\"Closes a connection on this server.\"\"\"\n",
        "        # Remove the connection from the dictionary\n",
        "        if connection_id in self.connections:\n",
        "            del self.connections[connection_id]\n",
        "    def load(self):\n",
        "        \"\"\"Calculates the current load for all connections.\"\"\"\n",
        "        total = 0\n",
        "        for load in self.connections.values():\n",
        "            total += load\n",
        "        # Add up the load for each of the connections\n",
        "        return total\n",
        "\n",
        "    def __str__(self):\n",
        "        \"\"\"Returns a string with the current load of the server\"\"\"\n",
        "        return \"{:.2f}%\".format(self.load())\n",
        "    \n",
        "#End Portion 1#"
      ],
      "execution_count": null,
      "outputs": []
    },
    {
      "cell_type": "code",
      "metadata": {
        "colab": {
          "base_uri": "https://localhost:8080/"
        },
        "id": "9oUGf25jYG-M",
        "outputId": "b8eeb37d-0306-4818-f88e-476edfbc1289"
      },
      "source": [
        "server = Server()\n",
        "server.add_connection(\"192.168.1.1\")\n",
        "\n",
        "print(server.load())"
      ],
      "execution_count": null,
      "outputs": [
        {
          "output_type": "stream",
          "text": [
            "2.167192838169473\n"
          ],
          "name": "stdout"
        }
      ]
    },
    {
      "cell_type": "code",
      "metadata": {
        "colab": {
          "base_uri": "https://localhost:8080/"
        },
        "id": "1L14QuODmyl9",
        "outputId": "0b4d253e-8962-4876-c9c8-e81cf5831487"
      },
      "source": [
        "server.close_connection(\"192.168.1.1\")\n",
        "print(server.load())"
      ],
      "execution_count": null,
      "outputs": [
        {
          "output_type": "stream",
          "text": [
            "0\n"
          ],
          "name": "stdout"
        }
      ]
    },
    {
      "cell_type": "code",
      "metadata": {
        "id": "qNV-XEfhm5J7"
      },
      "source": [
        "#Begin Portion 2#\n",
        "class LoadBalancing:\n",
        "    def __init__(self):\n",
        "        \"\"\"Initialize the load balancing system with one server\"\"\"\n",
        "        self.connections = {}\n",
        "        self.servers = [Server()]\n",
        "\n",
        "    def add_connection(self, connection_id):\n",
        "        \"\"\"Randomly selects a server and adds a connection to it.\"\"\"\n",
        "        server = random.choice(self.servers)\n",
        "        # Add the connection to the dictionary with the selected server\n",
        "        # Add the connection to the server\n",
        "        server.add_connection(connection_id)\n",
        "        self.ensure_availability()\n",
        "\n",
        "    def close_connection(self, connection_id):\n",
        "        \"\"\"Closes the connection on the the server corresponding to connection_id.\"\"\"\n",
        "        # Find out the right server\n",
        "        # Close the connection on the server\n",
        "        # Remove the connection from the load balancer\n",
        "        for server in self.servers:\n",
        "            if connection_id in server.connections:\n",
        "                server.close_connection(connection_id)\n",
        "                break\n",
        "           \n",
        "    def avg_load(self):\n",
        "        \"\"\"Calculates the average load of all servers\"\"\"\n",
        "        # Sum the load of each server and divide by the amount of servers\n",
        "        total_load = 0\n",
        "        total_server = 0\n",
        "        for server in self.servers:\n",
        "            total_load += server.load()\n",
        "            total_server += 1\n",
        "        return total_load/total_server\n",
        "\n",
        "    def ensure_availability(self):\n",
        "        \"\"\"If the average load is higher than 50, spin up a new server\"\"\"\n",
        "        if self.avg_load() > 50:\n",
        "            self.servers.append(Server())\n",
        "\n",
        "    def __str__(self):\n",
        "        \"\"\"Returns a string with the load for each server.\"\"\"\n",
        "        loads = [str(server) for server in self.servers]\n",
        "        return \"[{}]\".format(\",\".join(loads))\n",
        "#End Portion 2#"
      ],
      "execution_count": null,
      "outputs": []
    },
    {
      "cell_type": "code",
      "metadata": {
        "colab": {
          "base_uri": "https://localhost:8080/"
        },
        "id": "7SdndZPpnFQb",
        "outputId": "ecb48370-2d3d-440e-b779-8ad1c1d0e7ed"
      },
      "source": [
        "l = LoadBalancing()\n",
        "l.add_connection(\"fdca:83d2::f20d\")\n",
        "print(l.avg_load())"
      ],
      "execution_count": null,
      "outputs": [
        {
          "output_type": "stream",
          "text": [
            "8.508089441938502\n"
          ],
          "name": "stdout"
        }
      ]
    },
    {
      "cell_type": "code",
      "metadata": {
        "colab": {
          "base_uri": "https://localhost:8080/"
        },
        "id": "e3CWbwzrrFQN",
        "outputId": "c577245a-9d60-4800-ed92-7521caf08efa"
      },
      "source": [
        "l.servers.append(Server())\n",
        "print(l.avg_load())"
      ],
      "execution_count": null,
      "outputs": [
        {
          "output_type": "stream",
          "text": [
            "4.254044720969251\n"
          ],
          "name": "stdout"
        }
      ]
    },
    {
      "cell_type": "code",
      "metadata": {
        "colab": {
          "base_uri": "https://localhost:8080/"
        },
        "id": "x0-F97KWrZFq",
        "outputId": "512a0f79-064f-41c3-e553-1d2bb6541f34"
      },
      "source": [
        "l.close_connection(\"fdca:83d2::f20d\")\n",
        "print(l.avg_load())"
      ],
      "execution_count": null,
      "outputs": [
        {
          "output_type": "stream",
          "text": [
            "0.0\n"
          ],
          "name": "stdout"
        }
      ]
    },
    {
      "cell_type": "code",
      "metadata": {
        "colab": {
          "base_uri": "https://localhost:8080/"
        },
        "id": "GJy5pgzcray6",
        "outputId": "05fc7122-5b9c-415c-a3a0-209dc94367a1"
      },
      "source": [
        "for connection in range(20):\n",
        "    l.add_connection(connection)\n",
        "print(l)"
      ],
      "execution_count": null,
      "outputs": [
        {
          "output_type": "stream",
          "text": [
            "[50.87%,63.00%,0.00%]\n"
          ],
          "name": "stdout"
        }
      ]
    },
    {
      "cell_type": "code",
      "metadata": {
        "colab": {
          "base_uri": "https://localhost:8080/"
        },
        "id": "IMEhp3UFreTK",
        "outputId": "6c8a9401-37aa-48fa-cf1e-703bf9d4a46d"
      },
      "source": [
        "print(l.avg_load())"
      ],
      "execution_count": null,
      "outputs": [
        {
          "output_type": "stream",
          "text": [
            "37.956868472441194\n"
          ],
          "name": "stdout"
        }
      ]
    },
    {
      "cell_type": "markdown",
      "metadata": {
        "id": "8wEFkEU0vF-r"
      },
      "source": [
        "## Final Project"
      ]
    },
    {
      "cell_type": "markdown",
      "metadata": {
        "id": "AjpOU57vvcjC"
      },
      "source": [
        "\n",
        "##Assignment 1\n",
        "Problem:\n",
        "- Find a list of event objects & get back a list of the attributes for a report.\n",
        "\n",
        "Research:\n",
        "- Check users when they logged in & logged out.\n",
        "- Use Sort method - by date.\n",
        "\n",
        "Planning:\n",
        "- Use Set to store users at log in & take out at log out.\n",
        "- Store in Dictionary. Name of machine as key, users as values.\n",
        "- in Dict: check if machine already there, if there, update user to logged in or logged out.\n",
        "- Create a separate function to Print report.\n",
        "\n"
      ]
    },
    {
      "cell_type": "code",
      "metadata": {
        "id": "McdMJDuTrssL",
        "colab": {
          "base_uri": "https://localhost:8080/"
        },
        "outputId": "fada5aae-cecb-4eb2-9895-b93b31b7504c"
      },
      "source": [
        "#sort example1\n",
        "num = [4,7,1,10,0]\n",
        "num.sort() #alters list\n",
        "print(num)"
      ],
      "execution_count": 1,
      "outputs": [
        {
          "output_type": "stream",
          "text": [
            "[0, 1, 4, 7, 10]\n"
          ],
          "name": "stdout"
        }
      ]
    },
    {
      "cell_type": "code",
      "metadata": {
        "colab": {
          "base_uri": "https://localhost:8080/"
        },
        "id": "_e4xQC3TAxVW",
        "outputId": "8a0f1f7b-b1dd-43d1-fa14-2f68988dab45"
      },
      "source": [
        "num = [4,7,1,10,0]\n",
        "print(sorted(num)) #does not alter list\n",
        "print(num) #original list did not change"
      ],
      "execution_count": 2,
      "outputs": [
        {
          "output_type": "stream",
          "text": [
            "[0, 1, 4, 7, 10]\n",
            "[4, 7, 1, 10, 0]\n"
          ],
          "name": "stdout"
        }
      ]
    },
    {
      "cell_type": "code",
      "metadata": {
        "colab": {
          "base_uri": "https://localhost:8080/"
        },
        "id": "7P7he0hJBF3j",
        "outputId": "0b8de09e-998c-48aa-efc9-4db872b702e5"
      },
      "source": [
        "names = ['Carlos', 'Ray', 'Alex', 'Kelly']\n",
        "print(sorted(names, key=len)) #sort list without altering, based on word length."
      ],
      "execution_count": 3,
      "outputs": [
        {
          "output_type": "stream",
          "text": [
            "['Ray', 'Alex', 'Kelly', 'Carlos']\n"
          ],
          "name": "stdout"
        }
      ]
    },
    {
      "cell_type": "code",
      "metadata": {
        "id": "nSiuC6scBitU"
      },
      "source": [
        "def get_event_date(event):\n",
        "  return event.date #event function\n",
        "\n",
        "def current_users(events):\n",
        "  events.sort(key=get_event_date) #events sorted by date\n",
        "  machines = {} #dict\n",
        "  for event in events:\n",
        "    if event.machine not in machines:\n",
        "      machines[event.machine] = set()\n",
        "    if event.type == \"login\":\n",
        "      machines[event.machine].add(event.user)\n",
        "    elif event.type == \"logout\":\n",
        "      machines[event.machine].remove(event.user)\n",
        "    return machines\n",
        "\n",
        "def generate_report(machines):\n",
        "  for machine, users in machines.items():\n",
        "    if len(users) > 0:\n",
        "      user_list = ', '.join(users)\n",
        "      print('{}: {}'.format(machine, user_list))"
      ],
      "execution_count": 14,
      "outputs": []
    },
    {
      "cell_type": "code",
      "metadata": {
        "id": "weUBjwoNEUFy"
      },
      "source": [
        "class Event:\n",
        "  def __init__(self, event_date, event_type, machine_name, user):\n",
        "    self.date = event_date\n",
        "    self.type = event_type\n",
        "    self.machine = machine_name\n",
        "    self.user = user"
      ],
      "execution_count": 15,
      "outputs": []
    },
    {
      "cell_type": "code",
      "metadata": {
        "id": "PHnhps30Gd_8"
      },
      "source": [
        "events = [\n",
        "    Event('2020-01-21 12:45:56', 'login', 'myworkstation.local', 'jordan'),\n",
        "    Event('2020-01-22 15:53:42', 'logout', 'webserver.local', 'jordan'),\n",
        "    Event('2020-01-21 18:53:21', 'login', 'webserver.local', 'lane'),\n",
        "    Event('2020-01-22 10:25:34', 'logout', 'myworkstation.local', 'jordan'),\n",
        "    Event('2020-01-21 08:20:01', 'login', 'webserver.local', 'jordan'),\n",
        "    Event('2020-01-23 11:24:35', 'logout', 'mailserver.local', 'chris'),\n",
        "]"
      ],
      "execution_count": 16,
      "outputs": []
    },
    {
      "cell_type": "code",
      "metadata": {
        "colab": {
          "base_uri": "https://localhost:8080/"
        },
        "id": "mNFQI0BPGJ-0",
        "outputId": "b8bea98b-4711-4327-96b0-d25508fa447e"
      },
      "source": [
        "users = current_users(events)\n",
        "print(users)"
      ],
      "execution_count": 17,
      "outputs": [
        {
          "output_type": "stream",
          "text": [
            "{'webserver.local': {'jordan'}}\n"
          ],
          "name": "stdout"
        }
      ]
    },
    {
      "cell_type": "code",
      "metadata": {
        "colab": {
          "base_uri": "https://localhost:8080/"
        },
        "id": "SJylj2MIGpFC",
        "outputId": "f365985f-cf36-4637-8ceb-0a4fca9d1913"
      },
      "source": [
        "generate_report(users)"
      ],
      "execution_count": 18,
      "outputs": [
        {
          "output_type": "stream",
          "text": [
            "webserver.local: jordan\n"
          ],
          "name": "stdout"
        }
      ]
    },
    {
      "cell_type": "markdown",
      "metadata": {
        "id": "GUwIklu8PQML"
      },
      "source": [
        "##Assignment 2\n",
        "\n",
        "- make a wordcloud\n",
        "- create a dict with word frequencies\n",
        "- pass new dict data to generate_from_frequencies funct of WordCloud Class.\n",
        "- isalpha() , split() for cleaning text.\n",
        "- get rid of simple words like a, the, to, if."
      ]
    },
    {
      "cell_type": "code",
      "metadata": {
        "colab": {
          "base_uri": "https://localhost:8080/"
        },
        "id": "E8Q6W-uHPwpq",
        "outputId": "fb72c431-31af-4f7e-b5a4-e88f9cb5ef72"
      },
      "source": [
        "# Here are all the installs and imports you will need for your word cloud script and uploader widget\n",
        "\n",
        "!pip install wordcloud\n",
        "!pip install fileupload\n",
        "!pip install ipywidgets\n",
        "!jupyter nbextension install --py --user fileupload\n",
        "!jupyter nbextension enable --py fileupload\n",
        "\n",
        "import wordcloud\n",
        "import numpy as np\n",
        "from matplotlib import pyplot as plt\n",
        "from IPython.display import display\n",
        "import fileupload\n",
        "import io\n",
        "import sys"
      ],
      "execution_count": 19,
      "outputs": [
        {
          "output_type": "stream",
          "text": [
            "Requirement already satisfied: wordcloud in /usr/local/lib/python3.7/dist-packages (1.5.0)\n",
            "Requirement already satisfied: pillow in /usr/local/lib/python3.7/dist-packages (from wordcloud) (7.1.2)\n",
            "Requirement already satisfied: numpy>=1.6.1 in /usr/local/lib/python3.7/dist-packages (from wordcloud) (1.19.5)\n",
            "Collecting fileupload\n",
            "  Downloading https://files.pythonhosted.org/packages/43/19/014a32d2f435d29a5fb43a487d42a9afa2c188df56d152306de11a112178/fileupload-0.1.5-py2.py3-none-any.whl\n",
            "Requirement already satisfied: traitlets>=4.2 in /usr/local/lib/python3.7/dist-packages (from fileupload) (5.0.5)\n",
            "Requirement already satisfied: notebook>=4.2 in /usr/local/lib/python3.7/dist-packages (from fileupload) (5.3.1)\n",
            "Requirement already satisfied: ipywidgets>=5.1 in /usr/local/lib/python3.7/dist-packages (from fileupload) (7.6.3)\n",
            "Requirement already satisfied: ipython-genutils in /usr/local/lib/python3.7/dist-packages (from traitlets>=4.2->fileupload) (0.2.0)\n",
            "Requirement already satisfied: jupyter-core>=4.4.0 in /usr/local/lib/python3.7/dist-packages (from notebook>=4.2->fileupload) (4.7.1)\n",
            "Requirement already satisfied: Send2Trash in /usr/local/lib/python3.7/dist-packages (from notebook>=4.2->fileupload) (1.5.0)\n",
            "Requirement already satisfied: jinja2 in /usr/local/lib/python3.7/dist-packages (from notebook>=4.2->fileupload) (2.11.3)\n",
            "Requirement already satisfied: jupyter-client>=5.2.0 in /usr/local/lib/python3.7/dist-packages (from notebook>=4.2->fileupload) (5.3.5)\n",
            "Requirement already satisfied: tornado>=4 in /usr/local/lib/python3.7/dist-packages (from notebook>=4.2->fileupload) (5.1.1)\n",
            "Requirement already satisfied: nbconvert in /usr/local/lib/python3.7/dist-packages (from notebook>=4.2->fileupload) (5.6.1)\n",
            "Requirement already satisfied: ipykernel in /usr/local/lib/python3.7/dist-packages (from notebook>=4.2->fileupload) (4.10.1)\n",
            "Requirement already satisfied: nbformat in /usr/local/lib/python3.7/dist-packages (from notebook>=4.2->fileupload) (5.1.3)\n",
            "Requirement already satisfied: terminado>=0.8.1 in /usr/local/lib/python3.7/dist-packages (from notebook>=4.2->fileupload) (0.10.0)\n",
            "Requirement already satisfied: ipython>=4.0.0; python_version >= \"3.3\" in /usr/local/lib/python3.7/dist-packages (from ipywidgets>=5.1->fileupload) (5.5.0)\n",
            "Requirement already satisfied: jupyterlab-widgets>=1.0.0; python_version >= \"3.6\" in /usr/local/lib/python3.7/dist-packages (from ipywidgets>=5.1->fileupload) (1.0.0)\n",
            "Requirement already satisfied: widgetsnbextension~=3.5.0 in /usr/local/lib/python3.7/dist-packages (from ipywidgets>=5.1->fileupload) (3.5.1)\n",
            "Requirement already satisfied: MarkupSafe>=0.23 in /usr/local/lib/python3.7/dist-packages (from jinja2->notebook>=4.2->fileupload) (2.0.1)\n",
            "Requirement already satisfied: pyzmq>=13 in /usr/local/lib/python3.7/dist-packages (from jupyter-client>=5.2.0->notebook>=4.2->fileupload) (22.0.3)\n",
            "Requirement already satisfied: python-dateutil>=2.1 in /usr/local/lib/python3.7/dist-packages (from jupyter-client>=5.2.0->notebook>=4.2->fileupload) (2.8.1)\n",
            "Requirement already satisfied: entrypoints>=0.2.2 in /usr/local/lib/python3.7/dist-packages (from nbconvert->notebook>=4.2->fileupload) (0.3)\n",
            "Requirement already satisfied: pygments in /usr/local/lib/python3.7/dist-packages (from nbconvert->notebook>=4.2->fileupload) (2.6.1)\n",
            "Requirement already satisfied: pandocfilters>=1.4.1 in /usr/local/lib/python3.7/dist-packages (from nbconvert->notebook>=4.2->fileupload) (1.4.3)\n",
            "Requirement already satisfied: testpath in /usr/local/lib/python3.7/dist-packages (from nbconvert->notebook>=4.2->fileupload) (0.5.0)\n",
            "Requirement already satisfied: defusedxml in /usr/local/lib/python3.7/dist-packages (from nbconvert->notebook>=4.2->fileupload) (0.7.1)\n",
            "Requirement already satisfied: bleach in /usr/local/lib/python3.7/dist-packages (from nbconvert->notebook>=4.2->fileupload) (3.3.0)\n",
            "Requirement already satisfied: mistune<2,>=0.8.1 in /usr/local/lib/python3.7/dist-packages (from nbconvert->notebook>=4.2->fileupload) (0.8.4)\n",
            "Requirement already satisfied: jsonschema!=2.5.0,>=2.4 in /usr/local/lib/python3.7/dist-packages (from nbformat->notebook>=4.2->fileupload) (2.6.0)\n",
            "Requirement already satisfied: ptyprocess; os_name != \"nt\" in /usr/local/lib/python3.7/dist-packages (from terminado>=0.8.1->notebook>=4.2->fileupload) (0.7.0)\n",
            "Requirement already satisfied: setuptools>=18.5 in /usr/local/lib/python3.7/dist-packages (from ipython>=4.0.0; python_version >= \"3.3\"->ipywidgets>=5.1->fileupload) (56.1.0)\n",
            "Requirement already satisfied: decorator in /usr/local/lib/python3.7/dist-packages (from ipython>=4.0.0; python_version >= \"3.3\"->ipywidgets>=5.1->fileupload) (4.4.2)\n",
            "Requirement already satisfied: pexpect; sys_platform != \"win32\" in /usr/local/lib/python3.7/dist-packages (from ipython>=4.0.0; python_version >= \"3.3\"->ipywidgets>=5.1->fileupload) (4.8.0)\n",
            "Requirement already satisfied: pickleshare in /usr/local/lib/python3.7/dist-packages (from ipython>=4.0.0; python_version >= \"3.3\"->ipywidgets>=5.1->fileupload) (0.7.5)\n",
            "Requirement already satisfied: simplegeneric>0.8 in /usr/local/lib/python3.7/dist-packages (from ipython>=4.0.0; python_version >= \"3.3\"->ipywidgets>=5.1->fileupload) (0.8.1)\n",
            "Requirement already satisfied: prompt-toolkit<2.0.0,>=1.0.4 in /usr/local/lib/python3.7/dist-packages (from ipython>=4.0.0; python_version >= \"3.3\"->ipywidgets>=5.1->fileupload) (1.0.18)\n",
            "Requirement already satisfied: six>=1.5 in /usr/local/lib/python3.7/dist-packages (from python-dateutil>=2.1->jupyter-client>=5.2.0->notebook>=4.2->fileupload) (1.15.0)\n",
            "Requirement already satisfied: webencodings in /usr/local/lib/python3.7/dist-packages (from bleach->nbconvert->notebook>=4.2->fileupload) (0.5.1)\n",
            "Requirement already satisfied: packaging in /usr/local/lib/python3.7/dist-packages (from bleach->nbconvert->notebook>=4.2->fileupload) (20.9)\n",
            "Requirement already satisfied: wcwidth in /usr/local/lib/python3.7/dist-packages (from prompt-toolkit<2.0.0,>=1.0.4->ipython>=4.0.0; python_version >= \"3.3\"->ipywidgets>=5.1->fileupload) (0.2.5)\n",
            "Requirement already satisfied: pyparsing>=2.0.2 in /usr/local/lib/python3.7/dist-packages (from packaging->bleach->nbconvert->notebook>=4.2->fileupload) (2.4.7)\n",
            "Installing collected packages: fileupload\n",
            "Successfully installed fileupload-0.1.5\n",
            "Requirement already satisfied: ipywidgets in /usr/local/lib/python3.7/dist-packages (7.6.3)\n",
            "Requirement already satisfied: ipykernel>=4.5.1 in /usr/local/lib/python3.7/dist-packages (from ipywidgets) (4.10.1)\n",
            "Requirement already satisfied: widgetsnbextension~=3.5.0 in /usr/local/lib/python3.7/dist-packages (from ipywidgets) (3.5.1)\n",
            "Requirement already satisfied: ipython>=4.0.0; python_version >= \"3.3\" in /usr/local/lib/python3.7/dist-packages (from ipywidgets) (5.5.0)\n",
            "Requirement already satisfied: nbformat>=4.2.0 in /usr/local/lib/python3.7/dist-packages (from ipywidgets) (5.1.3)\n",
            "Requirement already satisfied: jupyterlab-widgets>=1.0.0; python_version >= \"3.6\" in /usr/local/lib/python3.7/dist-packages (from ipywidgets) (1.0.0)\n",
            "Requirement already satisfied: traitlets>=4.3.1 in /usr/local/lib/python3.7/dist-packages (from ipywidgets) (5.0.5)\n",
            "Requirement already satisfied: tornado>=4.0 in /usr/local/lib/python3.7/dist-packages (from ipykernel>=4.5.1->ipywidgets) (5.1.1)\n",
            "Requirement already satisfied: jupyter-client in /usr/local/lib/python3.7/dist-packages (from ipykernel>=4.5.1->ipywidgets) (5.3.5)\n",
            "Requirement already satisfied: notebook>=4.4.1 in /usr/local/lib/python3.7/dist-packages (from widgetsnbextension~=3.5.0->ipywidgets) (5.3.1)\n",
            "Requirement already satisfied: pexpect; sys_platform != \"win32\" in /usr/local/lib/python3.7/dist-packages (from ipython>=4.0.0; python_version >= \"3.3\"->ipywidgets) (4.8.0)\n",
            "Requirement already satisfied: pickleshare in /usr/local/lib/python3.7/dist-packages (from ipython>=4.0.0; python_version >= \"3.3\"->ipywidgets) (0.7.5)\n",
            "Requirement already satisfied: prompt-toolkit<2.0.0,>=1.0.4 in /usr/local/lib/python3.7/dist-packages (from ipython>=4.0.0; python_version >= \"3.3\"->ipywidgets) (1.0.18)\n",
            "Requirement already satisfied: pygments in /usr/local/lib/python3.7/dist-packages (from ipython>=4.0.0; python_version >= \"3.3\"->ipywidgets) (2.6.1)\n",
            "Requirement already satisfied: decorator in /usr/local/lib/python3.7/dist-packages (from ipython>=4.0.0; python_version >= \"3.3\"->ipywidgets) (4.4.2)\n",
            "Requirement already satisfied: simplegeneric>0.8 in /usr/local/lib/python3.7/dist-packages (from ipython>=4.0.0; python_version >= \"3.3\"->ipywidgets) (0.8.1)\n",
            "Requirement already satisfied: setuptools>=18.5 in /usr/local/lib/python3.7/dist-packages (from ipython>=4.0.0; python_version >= \"3.3\"->ipywidgets) (56.1.0)\n",
            "Requirement already satisfied: ipython-genutils in /usr/local/lib/python3.7/dist-packages (from nbformat>=4.2.0->ipywidgets) (0.2.0)\n",
            "Requirement already satisfied: jupyter-core in /usr/local/lib/python3.7/dist-packages (from nbformat>=4.2.0->ipywidgets) (4.7.1)\n",
            "Requirement already satisfied: jsonschema!=2.5.0,>=2.4 in /usr/local/lib/python3.7/dist-packages (from nbformat>=4.2.0->ipywidgets) (2.6.0)\n",
            "Requirement already satisfied: pyzmq>=13 in /usr/local/lib/python3.7/dist-packages (from jupyter-client->ipykernel>=4.5.1->ipywidgets) (22.0.3)\n",
            "Requirement already satisfied: python-dateutil>=2.1 in /usr/local/lib/python3.7/dist-packages (from jupyter-client->ipykernel>=4.5.1->ipywidgets) (2.8.1)\n",
            "Requirement already satisfied: nbconvert in /usr/local/lib/python3.7/dist-packages (from notebook>=4.4.1->widgetsnbextension~=3.5.0->ipywidgets) (5.6.1)\n",
            "Requirement already satisfied: Send2Trash in /usr/local/lib/python3.7/dist-packages (from notebook>=4.4.1->widgetsnbextension~=3.5.0->ipywidgets) (1.5.0)\n",
            "Requirement already satisfied: terminado>=0.8.1 in /usr/local/lib/python3.7/dist-packages (from notebook>=4.4.1->widgetsnbextension~=3.5.0->ipywidgets) (0.10.0)\n",
            "Requirement already satisfied: jinja2 in /usr/local/lib/python3.7/dist-packages (from notebook>=4.4.1->widgetsnbextension~=3.5.0->ipywidgets) (2.11.3)\n",
            "Requirement already satisfied: ptyprocess>=0.5 in /usr/local/lib/python3.7/dist-packages (from pexpect; sys_platform != \"win32\"->ipython>=4.0.0; python_version >= \"3.3\"->ipywidgets) (0.7.0)\n",
            "Requirement already satisfied: wcwidth in /usr/local/lib/python3.7/dist-packages (from prompt-toolkit<2.0.0,>=1.0.4->ipython>=4.0.0; python_version >= \"3.3\"->ipywidgets) (0.2.5)\n",
            "Requirement already satisfied: six>=1.9.0 in /usr/local/lib/python3.7/dist-packages (from prompt-toolkit<2.0.0,>=1.0.4->ipython>=4.0.0; python_version >= \"3.3\"->ipywidgets) (1.15.0)\n",
            "Requirement already satisfied: defusedxml in /usr/local/lib/python3.7/dist-packages (from nbconvert->notebook>=4.4.1->widgetsnbextension~=3.5.0->ipywidgets) (0.7.1)\n",
            "Requirement already satisfied: entrypoints>=0.2.2 in /usr/local/lib/python3.7/dist-packages (from nbconvert->notebook>=4.4.1->widgetsnbextension~=3.5.0->ipywidgets) (0.3)\n",
            "Requirement already satisfied: pandocfilters>=1.4.1 in /usr/local/lib/python3.7/dist-packages (from nbconvert->notebook>=4.4.1->widgetsnbextension~=3.5.0->ipywidgets) (1.4.3)\n",
            "Requirement already satisfied: testpath in /usr/local/lib/python3.7/dist-packages (from nbconvert->notebook>=4.4.1->widgetsnbextension~=3.5.0->ipywidgets) (0.5.0)\n",
            "Requirement already satisfied: mistune<2,>=0.8.1 in /usr/local/lib/python3.7/dist-packages (from nbconvert->notebook>=4.4.1->widgetsnbextension~=3.5.0->ipywidgets) (0.8.4)\n",
            "Requirement already satisfied: bleach in /usr/local/lib/python3.7/dist-packages (from nbconvert->notebook>=4.4.1->widgetsnbextension~=3.5.0->ipywidgets) (3.3.0)\n",
            "Requirement already satisfied: MarkupSafe>=0.23 in /usr/local/lib/python3.7/dist-packages (from jinja2->notebook>=4.4.1->widgetsnbextension~=3.5.0->ipywidgets) (2.0.1)\n",
            "Requirement already satisfied: packaging in /usr/local/lib/python3.7/dist-packages (from bleach->nbconvert->notebook>=4.4.1->widgetsnbextension~=3.5.0->ipywidgets) (20.9)\n",
            "Requirement already satisfied: webencodings in /usr/local/lib/python3.7/dist-packages (from bleach->nbconvert->notebook>=4.4.1->widgetsnbextension~=3.5.0->ipywidgets) (0.5.1)\n",
            "Requirement already satisfied: pyparsing>=2.0.2 in /usr/local/lib/python3.7/dist-packages (from packaging->bleach->nbconvert->notebook>=4.4.1->widgetsnbextension~=3.5.0->ipywidgets) (2.4.7)\n",
            "Traceback (most recent call last):\n",
            "  File \"/usr/local/bin/jupyter-nbextension\", line 8, in <module>\n",
            "    sys.exit(main())\n",
            "  File \"/usr/local/lib/python2.7/dist-packages/jupyter_core/application.py\", line 267, in launch_instance\n",
            "    return super(JupyterApp, cls).launch_instance(argv=argv, **kwargs)\n",
            "  File \"/usr/local/lib/python2.7/dist-packages/traitlets/config/application.py\", line 658, in launch_instance\n",
            "    app.start()\n",
            "  File \"/usr/local/lib/python2.7/dist-packages/notebook/nbextensions.py\", line 988, in start\n",
            "    super(NBExtensionApp, self).start()\n",
            "  File \"/usr/local/lib/python2.7/dist-packages/jupyter_core/application.py\", line 256, in start\n",
            "    self.subapp.start()\n",
            "  File \"/usr/local/lib/python2.7/dist-packages/notebook/nbextensions.py\", line 716, in start\n",
            "    self.install_extensions()\n",
            "  File \"/usr/local/lib/python2.7/dist-packages/notebook/nbextensions.py\", line 695, in install_extensions\n",
            "    **kwargs\n",
            "  File \"/usr/local/lib/python2.7/dist-packages/notebook/nbextensions.py\", line 211, in install_nbextension_python\n",
            "    m, nbexts = _get_nbextension_metadata(module)\n",
            "  File \"/usr/local/lib/python2.7/dist-packages/notebook/nbextensions.py\", line 1122, in _get_nbextension_metadata\n",
            "    m = import_item(module)\n",
            "  File \"/usr/local/lib/python2.7/dist-packages/traitlets/utils/importstring.py\", line 42, in import_item\n",
            "    return __import__(parts[0])\n",
            "ImportError: No module named fileupload\n",
            "Traceback (most recent call last):\n",
            "  File \"/usr/local/bin/jupyter-nbextension\", line 8, in <module>\n",
            "    sys.exit(main())\n",
            "  File \"/usr/local/lib/python2.7/dist-packages/jupyter_core/application.py\", line 267, in launch_instance\n",
            "    return super(JupyterApp, cls).launch_instance(argv=argv, **kwargs)\n",
            "  File \"/usr/local/lib/python2.7/dist-packages/traitlets/config/application.py\", line 658, in launch_instance\n",
            "    app.start()\n",
            "  File \"/usr/local/lib/python2.7/dist-packages/notebook/nbextensions.py\", line 988, in start\n",
            "    super(NBExtensionApp, self).start()\n",
            "  File \"/usr/local/lib/python2.7/dist-packages/jupyter_core/application.py\", line 256, in start\n",
            "    self.subapp.start()\n",
            "  File \"/usr/local/lib/python2.7/dist-packages/notebook/nbextensions.py\", line 896, in start\n",
            "    self.toggle_nbextension_python(self.extra_args[0])\n",
            "  File \"/usr/local/lib/python2.7/dist-packages/notebook/nbextensions.py\", line 872, in toggle_nbextension_python\n",
            "    logger=self.log)\n",
            "  File \"/usr/local/lib/python2.7/dist-packages/notebook/nbextensions.py\", line 483, in enable_nbextension_python\n",
            "    logger=logger)\n",
            "  File \"/usr/local/lib/python2.7/dist-packages/notebook/nbextensions.py\", line 380, in _set_nbextension_state_python\n",
            "    m, nbexts = _get_nbextension_metadata(module)\n",
            "  File \"/usr/local/lib/python2.7/dist-packages/notebook/nbextensions.py\", line 1122, in _get_nbextension_metadata\n",
            "    m = import_item(module)\n",
            "  File \"/usr/local/lib/python2.7/dist-packages/traitlets/utils/importstring.py\", line 42, in import_item\n",
            "    return __import__(parts[0])\n",
            "ImportError: No module named fileupload\n"
          ],
          "name": "stdout"
        }
      ]
    },
    {
      "cell_type": "code",
      "metadata": {
        "colab": {
          "base_uri": "https://localhost:8080/",
          "height": 17,
          "referenced_widgets": [
            "1b11580cbf8a4e64b52ec2b213ba3914",
            "2928435d13544e6181798778caa9cb69"
          ]
        },
        "id": "Pk66VHT0QmIi",
        "outputId": "67fadef9-949c-4c4d-9c99-5e2352491cd0"
      },
      "source": [
        "# This is the uploader widget\n",
        "\n",
        "def _upload():\n",
        "\n",
        "    _upload_widget = fileupload.FileUploadWidget()\n",
        "\n",
        "    def _cb(change):\n",
        "        global file_contents\n",
        "        decoded = io.StringIO(change['owner'].data.decode('utf-8'))\n",
        "        filename = change['owner'].filename\n",
        "        print('Uploaded `{}` ({:.2f} kB)'.format(\n",
        "            filename, len(decoded.read()) / 2 **10))\n",
        "        file_contents = decoded.getvalue()\n",
        "\n",
        "    _upload_widget.observe(_cb, names='data')\n",
        "    display(_upload_widget)\n",
        "\n",
        "_upload()\n",
        "#used linkedin feed text file."
      ],
      "execution_count": 25,
      "outputs": [
        {
          "output_type": "display_data",
          "data": {
            "application/vnd.jupyter.widget-view+json": {
              "model_id": "1b11580cbf8a4e64b52ec2b213ba3914",
              "version_minor": 0,
              "version_major": 2
            },
            "text/plain": [
              "FileUploadWidget(label='Browse', _dom_classes=('widget_item', 'btn-group'))"
            ]
          },
          "metadata": {
            "tags": []
          }
        }
      ]
    },
    {
      "cell_type": "code",
      "metadata": {
        "id": "Khd8lQFSRP9q"
      },
      "source": [
        "def calculate_frequencies(file_contents):\n",
        "    # Here is a list of punctuations and uninteresting words you can use to process your text\n",
        "    punctuations = '''!()-[]{};:'\"\\,<>./?@#$%^&*_~'''\n",
        "    uninteresting_words = [\"the\", \"a\", \"to\", \"if\", \"is\", \"it\", \"of\", \"and\", \"or\", \"an\", \"as\", \"i\", \"me\", \"my\", \\\n",
        "    \"we\", \"our\", \"ours\", \"you\", \"your\", \"yours\", \"he\", \"she\", \"him\", \"his\", \"her\", \"hers\", \"its\", \"they\", \"them\", \\\n",
        "    \"their\", \"what\", \"which\", \"who\", \"whom\", \"this\", \"that\", \"am\", \"are\", \"was\", \"were\", \"be\", \"been\", \"being\", \\\n",
        "    \"have\", \"has\", \"had\", \"do\", \"does\", \"did\", \"but\", \"at\", \"by\", \"with\", \"from\", \"here\", \"when\", \"where\", \"how\", \\\n",
        "    \"all\", \"any\", \"both\", \"I\", \"each\", \"few\", \"more\", \"some\", \"such\", \"no\", \"nor\", \"too\", \"very\", \"can\", \"will\", \"just\"]\n",
        "    \n",
        "    # LEARNER CODE START HERE\n",
        "    file = file_contents.lower().split()\n",
        "    dic = {}\n",
        "    for word in file:\n",
        "        if word not in uninteresting_words and len(word)>4:\n",
        "            for letter in word:\n",
        "                if letter in punctuations:\n",
        "                    letter.replace(punctuations,\"\")\n",
        "            if word not in dic.keys():\n",
        "                dic[word] = 0\n",
        "            else:\n",
        "                dic[word]+=1\n",
        "    \n",
        "    #wordcloud\n",
        "    cloud = wordcloud.WordCloud()\n",
        "    cloud.generate_from_frequencies(dic)\n",
        "    return cloud.to_array()"
      ],
      "execution_count": 23,
      "outputs": []
    },
    {
      "cell_type": "code",
      "metadata": {
        "id": "tXpsvKL9RXVT"
      },
      "source": [
        "# Display your wordcloud image\n",
        "myimage = calculate_frequencies(file_contents)\n",
        "plt.imshow(myimage, interpolation = 'nearest')\n",
        "plt.axis('off')\n",
        "plt.show()"
      ],
      "execution_count": null,
      "outputs": []
    }
  ]
}
{
  "nbformat": 4,
  "nbformat_minor": 0,
  "metadata": {
    "colab": {
      "name": "Google IT Automation - Course 5 - Configuration and Management and the Cloud.ipynb",
      "provenance": [],
      "collapsed_sections": [
        "z6urnPMVYjWF",
        "yuDithMH_7Tk",
        "GAOBX4ANvyPr",
        "y3OBEfKEyaAj",
        "SWQSb_M7-gJL"
      ],
      "authorship_tag": "ABX9TyNP3lucEnNGoCJh6RsHbhBC",
      "include_colab_link": true
    },
    "kernelspec": {
      "name": "python3",
      "display_name": "Python 3"
    },
    "language_info": {
      "name": "python"
    }
  },
  "cells": [
    {
      "cell_type": "markdown",
      "metadata": {
        "id": "view-in-github",
        "colab_type": "text"
      },
      "source": [
        "<a href=\"https://colab.research.google.com/gist/JayLee18/6c8350ed67c6f1477c095aaaf8888e18/google-it-automation-course-5-configuration-and-management-and-the-cloud.ipynb\" target=\"_parent\"><img src=\"https://colab.research.google.com/assets/colab-badge.svg\" alt=\"Open In Colab\"/></a>"
      ]
    },
    {
      "cell_type": "markdown",
      "metadata": {
        "id": "FVlcRQ3gYYBm"
      },
      "source": [
        "#Classes from Coursera \"Google IT Automation with Python Specialization\" \n",
        "#Course 5 - \"Configuration Management and the Cloud\"."
      ]
    },
    {
      "cell_type": "markdown",
      "metadata": {
        "id": "z6urnPMVYjWF"
      },
      "source": [
        "##Basics"
      ]
    },
    {
      "cell_type": "markdown",
      "metadata": {
        "id": "z_pyb4vMbB9p"
      },
      "source": [
        "- Manual - unmanaged configuration\n",
        "- Managed - Configuration Management System\n",
        "- Infrastructure as Code IaC:\n",
        " - when all configuration to deploy/manage a node in the infrastructure is stored in version control.\n",
        "\n",
        " Puppet:\n",
        " - Client: Puppet Agent\n",
        " - Server: Puppet Master\n",
        " - Providers: puppet agent deccides which to you & passes on the attributes to it.\n",
        " - Pack management systems\n",
        "  - Windows: need to include where folder is.\n",
        "- Resources - basic unit for modeling configuration we want to manage.\n"
      ]
    },
    {
      "cell_type": "code",
      "metadata": {
        "id": "NvOEpsFTYTEk"
      },
      "source": [
        "#apply sudo - rule example\n",
        "class sudo {\n",
        "    package { 'sudo':\n",
        "             ensure = > present,}\n",
        "}"
      ],
      "execution_count": null,
      "outputs": []
    },
    {
      "cell_type": "code",
      "metadata": {
        "id": "45-u1urk8oWj"
      },
      "source": [
        "#defining a file resource - example\n",
        "\n",
        "class sysctl {\n",
        "    #Make sure directory exists\n",
        "    file {'/etc/sysctl.d':\n",
        "          ensure => directory,\n",
        "          }\n",
        "}"
      ],
      "execution_count": null,
      "outputs": []
    },
    {
      "cell_type": "code",
      "metadata": {
        "id": "cohWA5XS9FEa"
      },
      "source": [
        "#making sure timezone file has 3 attributes of: being a file, contents UTC zone, file contents will be Replaced.\n",
        "class timezone {\n",
        "    file {'/etc/timezone':\n",
        "          ensure => file,\n",
        "          content => 'UTC\\n',\n",
        "          replace => true,\n",
        "          }\n",
        "}"
      ],
      "execution_count": null,
      "outputs": []
    },
    {
      "cell_type": "markdown",
      "metadata": {
        "id": "atRTi0bn9qUq"
      },
      "source": [
        "Puppet Classes:"
      ]
    },
    {
      "cell_type": "code",
      "metadata": {
        "id": "FS7q1wWm-LFF"
      },
      "source": [
        "#package, file & service example - Related to Network Time Protocol NTP\n",
        "\n",
        "class ntp {\n",
        "    package {'ntp':\n",
        "             ensure => latest,\n",
        "             }\n",
        "    file {'/etc/ntp.conf':\n",
        "          source => 'puppet:///modules/ntp/ntp.conf'\n",
        "          replace => true, \n",
        "          }\n",
        "    service { 'ntp':\n",
        "             enable => true,\n",
        "             ensure => running,\n",
        "             }\n",
        "}"
      ],
      "execution_count": null,
      "outputs": []
    },
    {
      "cell_type": "markdown",
      "metadata": {
        "id": "fh6M0N3aB5r2"
      },
      "source": [
        "Domain Specific Languages DSL (in Puppet):\n",
        "- Limited in scope\n",
        "- Easier to learn\n",
        "- Puppet: variables, conditional stmts, functions\n",
        "- Puppet Facts: variables that represent characteristics of the system.\n"
      ]
    },
    {
      "cell_type": "code",
      "metadata": {
        "id": "99Ce8B-Py1pU"
      },
      "source": [
        "#checking if smrtmontool package should be installed in physical machines\n",
        "\n",
        "if $facts['is_virtual'] {\n",
        "    package {'smartmontools':\n",
        "             ensure => purged,\n",
        "             }\n",
        "} else {\n",
        "    package { 'smartmontools':\n",
        "             ensure => installed,\n",
        "             }\n",
        "}"
      ],
      "execution_count": null,
      "outputs": []
    },
    {
      "cell_type": "markdown",
      "metadata": {
        "id": "JeRVN-qqzrAJ"
      },
      "source": [
        "Driving Principles of Configuration Management:\n",
        "- Python - procedural language\n",
        "- Puppet - goal oriented lang.\n",
        "- Idempotent action: can be performed over & over without changing the system.\n",
        "- exec - might not be idempotent, be careful as might break rules for future use.\n",
        " - onlyif attribute\n",
        "- Test & Repair - actions taken only when necessery\n",
        "- Stateless - each Pupper run is independent of previous one.\n"
      ]
    },
    {
      "cell_type": "code",
      "metadata": {
        "id": "akNmAVn40d-w"
      },
      "source": [
        "file { '/etc/issue':\n",
        "      mode => '0644',\n",
        "      content => 'Internal system \\l \\n',\n",
        "      }"
      ],
      "execution_count": null,
      "outputs": []
    },
    {
      "cell_type": "code",
      "metadata": {
        "id": "mxNC8lZwJKxL"
      },
      "source": [
        "#change to idempotent with ONLYIF\n",
        "\n",
        "exec { 'move example file':\n",
        "      commanda => 'mv /home/user/example.txt /home/user/Desktop',\n",
        "      onlyif => 'test -e /home/user/example.txt',\n",
        "      }"
      ],
      "execution_count": null,
      "outputs": []
    },
    {
      "cell_type": "markdown",
      "metadata": {
        "id": "6diGfzQM0nDp"
      },
      "source": [
        "Qwiklabs"
      ]
    },
    {
      "cell_type": "code",
      "metadata": {
        "id": "u7zPi7NEMQ9R"
      },
      "source": [
        "echo $PATH\n",
        "\n",
        "ls /\n",
        "\n",
        "export PATH=/bin:/usr/bin\n",
        "\n",
        "cd /etc/puppet/code/environments/production/modules/profile/manifests\n",
        "cat init.pp"
      ],
      "execution_count": null,
      "outputs": []
    },
    {
      "cell_type": "markdown",
      "metadata": {
        "id": "rg_JawMbRFtv"
      },
      "source": [
        "It's common to use numbers to represent the permissions: 4 for read, 2 for write and 1 for execute. The sum of the permissions given to each of the groups is then a part of the final number. For example, a permission of 6 means read and write, a permission of 5 means read and execute, and a permission of 7 means read, write and execute."
      ]
    },
    {
      "cell_type": "code",
      "metadata": {
        "id": "RdEaUEGHQpZI"
      },
      "source": [
        "class profile {\n",
        "        file { '/etc/profile.d/append-path.sh':\n",
        "                owner   => 'root',\n",
        "                group   => 'root',\n",
        "                mode    => '0646',\n",
        "                content => \"PATH=/java/bin\\n\",\n",
        "        }\n",
        "}"
      ],
      "execution_count": null,
      "outputs": []
    },
    {
      "cell_type": "code",
      "metadata": {
        "id": "-QCKJLU2QrCJ"
      },
      "source": [
        "#fixed version:\n",
        "class profile {\n",
        "        file { '/etc/profile.d/append-path.sh':\n",
        "                owner   => 'root',\n",
        "                group   => 'root',\n",
        "                mode    => '0644',\n",
        "                content => \"PATH=\\$PATH:/java/bin\\n\",\n",
        "        }\n",
        "}"
      ],
      "execution_count": null,
      "outputs": []
    },
    {
      "cell_type": "code",
      "metadata": {
        "id": "BOemgYg3SMYf"
      },
      "source": [
        "sudo puppet agent -v --test"
      ],
      "execution_count": null,
      "outputs": []
    },
    {
      "cell_type": "markdown",
      "metadata": {
        "id": "e5Hs7AsYSd2f"
      },
      "source": [
        "##Deploying Puppet"
      ]
    },
    {
      "cell_type": "markdown",
      "metadata": {
        "id": "uJPVdbzYSiF_"
      },
      "source": [
        "###Deploying Puppet Locally\n",
        "\n",
        "Applying Rules Locally:\n",
        "- Manifests - create file to store rules - .pp\n",
        "- Catalog - list of rules that are generated for 1 specific computer once server evaluated all variables, conditionals & functions.\n"
      ]
    },
    {
      "cell_type": "code",
      "metadata": {
        "id": "LYmelfZ_bRP4"
      },
      "source": [
        "sudo apt install puppet-master"
      ],
      "execution_count": null,
      "outputs": []
    },
    {
      "cell_type": "code",
      "metadata": {
        "id": "CXiQMrwMbrnw"
      },
      "source": [
        "#create new file\n",
        "vim tools.pp"
      ],
      "execution_count": null,
      "outputs": []
    },
    {
      "cell_type": "code",
      "metadata": {
        "id": "TuwoNv3Hbv3Q"
      },
      "source": [
        "package { 'htop':\n",
        "         ensure => present,\n",
        "         }"
      ],
      "execution_count": null,
      "outputs": []
    },
    {
      "cell_type": "code",
      "metadata": {
        "id": "YbF_fR18b8Yw"
      },
      "source": [
        "sudo puppet apply - v tools.pp"
      ],
      "execution_count": null,
      "outputs": []
    },
    {
      "cell_type": "markdown",
      "metadata": {
        "id": "w0_mr4mwc2Gg"
      },
      "source": [
        "Managing Resource Relationships:\n",
        "- use 'require' \n",
        "- Resource type - written in lower case, like: package, file, service.\n",
        "- Relationships - written in 1st Capital (when refering to them from another Resource attribute), like File, Package, Service.\n"
      ]
    },
    {
      "cell_type": "code",
      "metadata": {
        "id": "hhEOgrJ0dtBA"
      },
      "source": [
        "#ntp.pp\n",
        "\n",
        "class ntp {\n",
        "    package { 'ntp:'\n",
        "          ensure => latest,\n",
        "          }\n",
        "    file { '/etc/ntp.conf':\n",
        "          source => '/home/user/ntp.conf',\n",
        "          replace => true, \n",
        "          require => Package['ntp'],\n",
        "          notify => Service['ntp'],\n",
        "          }\n",
        "    service {'ntp':\n",
        "             enable => true,\n",
        "             ensure => running,\n",
        "             require => File['/etc/ntp.conf'],\n",
        "             }\n",
        "}\n",
        "\n",
        "include ntp"
      ],
      "execution_count": null,
      "outputs": []
    },
    {
      "cell_type": "code",
      "metadata": {
        "id": "f9Yo06aZe-tA"
      },
      "source": [
        "sudo puppet apply -v ntp.pp"
      ],
      "execution_count": null,
      "outputs": []
    },
    {
      "cell_type": "code",
      "metadata": {
        "id": "TNJnOxClfNL3"
      },
      "source": [
        "#configuration file:\n",
        "vim ntp.conf\n",
        "\n",
        "#update servers"
      ],
      "execution_count": null,
      "outputs": []
    },
    {
      "cell_type": "markdown",
      "metadata": {
        "id": "HcJ2xHdHfiJp"
      },
      "source": [
        "Organizing Puppet Modules:\n",
        "- Module: a collection of manifests & associated data.\n",
        "- Use Topics for separation.\n",
        "- modules: ntp: has files (ntp.conf) + manifests (init.pp)\n",
        "\n"
      ]
    },
    {
      "cell_type": "code",
      "metadata": {
        "id": "qBqDWMDklYa9"
      },
      "source": [
        "#to see structure\n",
        "tree modules/"
      ],
      "execution_count": null,
      "outputs": []
    },
    {
      "cell_type": "code",
      "metadata": {
        "id": "dD36qytLlzF1"
      },
      "source": [
        "sudo apt install puppet-module-puppetlabs-apache"
      ],
      "execution_count": null,
      "outputs": []
    },
    {
      "cell_type": "markdown",
      "metadata": {
        "id": "ezNDCGe7nwZM"
      },
      "source": [
        "###Deploying Puppet to Clients"
      ]
    },
    {
      "cell_type": "markdown",
      "metadata": {
        "id": "AlE_KtrqnzAV"
      },
      "source": [
        "Puppet Nodes:\n",
        "- Use separate Node Definitions - to apply dif rules on dif machines.\n",
        "- A Node: any system where we can run a Puppet Agent.\n",
        "- Define a base Class - that can re-use later for common cases.\n",
        "- Node Definitions: stored in site.pp\n",
        "\n"
      ]
    },
    {
      "cell_type": "code",
      "metadata": {
        "id": "TpEhK-7F76tx"
      },
      "source": [
        "#Node example, using 2 classes.\n",
        "\n",
        "node default {\n",
        "    class { 'sudo': }\n",
        "    class { 'ntp':\n",
        "           servers => ['ntp1.example.com', 'ntp2. example.com']\n",
        "           }\n",
        "}"
      ],
      "execution_count": null,
      "outputs": []
    },
    {
      "cell_type": "code",
      "metadata": {
        "id": "-fBlLQIv8UD2"
      },
      "source": [
        "#Specific node example\n",
        "\n",
        "node webserver.example.com {\n",
        "    class { 'sudo': }\n",
        "    class { 'ntp':\n",
        "           servers => ['ntp1.example.com', 'ntp2. example.com']\n",
        "           }\n",
        "    class { 'apache': }\n",
        "}"
      ],
      "execution_count": null,
      "outputs": []
    },
    {
      "cell_type": "markdown",
      "metadata": {
        "id": "RMi6gNin86D2"
      },
      "source": [
        "Puppet's Certificate Infrastructure:\n",
        "- Puppet Agent sends Facts with Manifests to Puppet Master, which puts them in Catalog back to Puppet Agent.\n",
        "- Puppet uses Public Key Infrastructure PKI\n",
        "- Secure Socket Layer SSL - used to check server & client's identity.\n",
        "- Each machine has a pair of: Private, Public Key.\n",
        "- Certificate Authority CA (of a machine, public)\n",
        "- Always Authenticate Machines!\n",
        "- Solution: make a script to include data in request that will be recognised.\n"
      ]
    },
    {
      "cell_type": "markdown",
      "metadata": {
        "id": "ftTtuKMMGF_R"
      },
      "source": [
        "Setting up Puppet Clients & Servers:\n",
        "- "
      ]
    },
    {
      "cell_type": "code",
      "metadata": {
        "id": "2qEmGYPOGIpP"
      },
      "source": [
        "sudo puppet config --section master set autosign true\n",
        "\n",
        "#connect to client\n",
        "ssh webserver\n",
        "\n",
        "#install puppet client on machine\n",
        "sudo apt install puppet\n",
        "\n",
        "#configure to talk to server\n",
        "sudo puppet config set serbver ubuntu.example.com\n",
        "\n",
        "#test connection to puppet master\n",
        "sudo puppet agent -v --test\n",
        "\n",
        "#go bk to puppet master & create node definitions\n",
        "vim /etc/puppet/code/environments/production/manifests/site.pp"
      ],
      "execution_count": null,
      "outputs": []
    },
    {
      "cell_type": "code",
      "metadata": {
        "id": "CjwwJDl7PH5C"
      },
      "source": [
        "node webserver.example.com {\n",
        "    class { 'apache':}\n",
        "}\n",
        "\n",
        "node default {}"
      ],
      "execution_count": null,
      "outputs": []
    },
    {
      "cell_type": "code",
      "metadata": {
        "id": "PGLoHj6mPc_4"
      },
      "source": [
        "#set to run automatically, after above testing worked.\n",
        "sudo systemctl enable puppet\n",
        "\n",
        "sudo systemctl start puppet\n",
        "\n",
        "sudo systemctl status puppet"
      ],
      "execution_count": null,
      "outputs": []
    },
    {
      "cell_type": "markdown",
      "metadata": {
        "id": "8swRuDwSPxb4"
      },
      "source": [
        "###Updating Deployments"
      ]
    },
    {
      "cell_type": "markdown",
      "metadata": {
        "id": "yhqq6O-PQe1A"
      },
      "source": [
        "Modifying & Testing Manifests:\n",
        "- Puppet Parser Validate command: checks syntax of manifests.\n",
        "- --noop parameter: simulates what puppet would do, without doing it.\n",
        "- Test machines: for testing out changes.\n",
        "- rspec tests: to check manifests automatically.\n",
        "- Apply catelog, then use scripts top check if done correctly."
      ]
    },
    {
      "cell_type": "code",
      "metadata": {
        "id": "2COAF3TluNnM"
      },
      "source": [
        "#rspec test:\n",
        "describe 'gksu', :type => :class do\n",
        "  let (:facts) { { 'is_virtual' => 'false' }}\n",
        "  it { should contain_package('gksu').with_ensure('latest') }\n",
        "end"
      ],
      "execution_count": null,
      "outputs": []
    },
    {
      "cell_type": "markdown",
      "metadata": {
        "id": "ygNEldoVvQ5L"
      },
      "source": [
        "Safely Rolling out Changes & Validating them:\n",
        "- Production: part of infrastructure where service is executed/served to users.\n",
        "- Test environment\n",
        "- Canaries: early adopters. Push changes here, test, then deploy if fine.\n",
        "- Keep changes smaller, easier to test/fix.\n"
      ]
    },
    {
      "cell_type": "markdown",
      "metadata": {
        "id": "Blkt0bIAyaWN"
      },
      "source": [
        "Qwiklabs"
      ]
    },
    {
      "cell_type": "code",
      "metadata": {
        "id": "BDlCfoZbybdz"
      },
      "source": [
        "cd /etc/puppet/code/environments/production/modules/packages\n",
        "\n",
        "cat manifests/init.pp"
      ],
      "execution_count": null,
      "outputs": []
    },
    {
      "cell_type": "code",
      "metadata": {
        "id": "Dzv3fWTNzirb"
      },
      "source": [
        "#init\n",
        "class packages {\n",
        "    package { 'python-requests':\n",
        "        ensure => installed,\n",
        "    }\n",
        "}"
      ],
      "execution_count": null,
      "outputs": []
    },
    {
      "cell_type": "code",
      "metadata": {
        "id": "QkS8UnYc0FMc"
      },
      "source": [
        "sudo chmod 646 manifests/init.pp"
      ],
      "execution_count": null,
      "outputs": []
    },
    {
      "cell_type": "code",
      "metadata": {
        "id": "nCvmpQug0F8z"
      },
      "source": [
        "#init.pp\n",
        "class packages {\n",
        "   package { 'python-requests':\n",
        "       ensure => installed,\n",
        "   }\n",
        "   if $facts[os][family] == \"Debian\" {\n",
        "     package { 'golang':\n",
        "       ensure => installed,\n",
        "     }\n",
        "  }\n",
        "   if $facts[os][family] == \"RedHat\" {\n",
        "     package { 'nodejs':\n",
        "       ensure => installed,\n",
        "     }\n",
        "  }\n",
        "}"
      ],
      "execution_count": null,
      "outputs": []
    },
    {
      "cell_type": "code",
      "metadata": {
        "id": "TxLzh-X91Jub"
      },
      "source": [
        "gcloud compute instances describe linux-instance --zone=us-central1-a --format='get(networkInterfaces[0].accessConfigs[0].natIP)'"
      ],
      "execution_count": null,
      "outputs": []
    },
    {
      "cell_type": "code",
      "metadata": {
        "id": "_e4Fis0z1hDs"
      },
      "source": [
        "sudo puppet agent -v --test"
      ],
      "execution_count": null,
      "outputs": []
    },
    {
      "cell_type": "code",
      "metadata": {
        "id": "O-hHE5-d1mRD"
      },
      "source": [
        "apt policy golang"
      ],
      "execution_count": null,
      "outputs": []
    },
    {
      "cell_type": "markdown",
      "metadata": {
        "id": "Hul09OtT2CeL"
      },
      "source": [
        "Fetching Machine info"
      ]
    },
    {
      "cell_type": "code",
      "metadata": {
        "id": "liDMxVn82EDb"
      },
      "source": [
        "cd /etc/puppet/code/environments/production/modules/machine_info\n",
        "cat manifests/init.pp"
      ],
      "execution_count": null,
      "outputs": []
    },
    {
      "cell_type": "code",
      "metadata": {
        "id": "mh-djSWd2QN7"
      },
      "source": [
        "#init.pp\n",
        "class machine_info {\n",
        "   file { '/tmp/machine_info.txt':\n",
        "       content => template('machine_info/info.erb'),\n",
        "   }\n",
        "   if $facts[kernel] == \"windows\" {\n",
        "       $info_path = \"C:\\Windows\\Temp\\Machine_Info.txt\"\n",
        "   } else {\n",
        "       $info_path = \"/tmp/machine_info.txt\"\n",
        "   }\n",
        "}"
      ],
      "execution_count": null,
      "outputs": []
    },
    {
      "cell_type": "code",
      "metadata": {
        "id": "yRBpo6w03Qqj"
      },
      "source": [
        "#changed:\n",
        "class machine_info {\n",
        "  if $facts[kernel] == \"windows\" {\n",
        "       $info_path = \"C:\\Windows\\Temp\\Machine_Info.txt\"\n",
        "   } else {\n",
        "       $info_path = \"/tmp/machine_info.txt\"\n",
        "   }\n",
        " file { 'machine_info':\n",
        "       path => $info_path,\n",
        "       content => template('machine_info/info.erb'),\n",
        "   }\n",
        "}"
      ],
      "execution_count": null,
      "outputs": []
    },
    {
      "cell_type": "markdown",
      "metadata": {
        "id": "JG6E9rtw3cRE"
      },
      "source": [
        "\n",
        "Puppet Templates:\n",
        "- Embedded Puppet (EPP) uses Puppet expressions in special tags. It's easy for any Puppet user to read, but only works with newer Puppet versions. (≥ 4.0, or late 3.x versions with future parser enabled.)\n",
        "- Embedded Ruby (ERB) uses Ruby code in tags. You need to know a small bit of Ruby to read it, but it works with all Puppet versions.\n"
      ]
    },
    {
      "cell_type": "code",
      "metadata": {
        "id": "HQHdewUN3iKk"
      },
      "source": [
        "cat templates/info.erb\n",
        "sudo chmod 646 templates/info.erb"
      ],
      "execution_count": null,
      "outputs": []
    },
    {
      "cell_type": "code",
      "metadata": {
        "id": "gPfCZe_i30l0"
      },
      "source": [
        "#info.erb\n",
        "Machine Information\n",
        "-------------------\n",
        "Disks: <%= @disks %>\n",
        "Memory: <%= @memory %>\n",
        "Processors: <%= @processors %>\n",
        "Network Interfaces: <%= @interfaces %>\n",
        "}"
      ],
      "execution_count": null,
      "outputs": []
    },
    {
      "cell_type": "code",
      "metadata": {
        "id": "EQ3LZShq4GAM"
      },
      "source": [
        "sudo puppet agent -v --test\n",
        "cat /tmp/machine_info.txt"
      ],
      "execution_count": null,
      "outputs": []
    },
    {
      "cell_type": "markdown",
      "metadata": {
        "id": "HbcEIvov9Vtk"
      },
      "source": [
        "New Module - Reboot"
      ]
    },
    {
      "cell_type": "code",
      "metadata": {
        "id": "Y-3d3O-M9Xl1"
      },
      "source": [
        "sudo mkdir -p /etc/puppet/code/environments/production/modules/reboot/manifests\n",
        "cd /etc/puppet/code/environments/production/modules/reboot/manifests\n",
        "sudo touch init.pp"
      ],
      "execution_count": null,
      "outputs": []
    },
    {
      "cell_type": "code",
      "metadata": {
        "id": "Shc_Fowp-IR0"
      },
      "source": [
        "#init.pp\n",
        "class reboot {\n",
        "  if $facts[kernel] == \"windows\" {\n",
        "    $cmd = \"shutdown /r\"\n",
        "  } elsif $facts[kernel] == \"Darwin\" {\n",
        "    $cmd = \"shutdown -r now\"\n",
        "  } else {\n",
        "    $cmd = \"reboot\"\n",
        "  }\n",
        "  if $facts[uptime_days] > 30 {\n",
        "    exec { 'reboot':\n",
        "      command => $cmd,\n",
        "     }\n",
        "   }\n",
        "}"
      ],
      "execution_count": null,
      "outputs": []
    },
    {
      "cell_type": "markdown",
      "metadata": {
        "id": "xKMZj7wuO4F-"
      },
      "source": [
        "\n",
        "- shutdown /r on windows\n",
        "- shutdown -r now on Darwin (macOS)\n",
        "- reboot on Linux.\n"
      ]
    },
    {
      "cell_type": "code",
      "metadata": {
        "id": "-PYrvg-D-mIN"
      },
      "source": [
        "sudo nano /etc/puppet/code/environments/production/manifests/site.pp "
      ],
      "execution_count": null,
      "outputs": []
    },
    {
      "cell_type": "code",
      "metadata": {
        "id": "9dDaT4FG-tfM"
      },
      "source": [
        "node default {\n",
        "   class { 'packages': }\n",
        "   class { 'machine_info': }\n",
        "   class { 'reboot': }\n",
        "}"
      ],
      "execution_count": null,
      "outputs": []
    },
    {
      "cell_type": "markdown",
      "metadata": {
        "id": "lghNlUke_1B8"
      },
      "source": [
        "##Cloud"
      ]
    },
    {
      "cell_type": "markdown",
      "metadata": {
        "id": "yuDithMH_7Tk"
      },
      "source": [
        "###Cloud Computing\n",
        "\n",
        "Cloud Services Overview:\n",
        "- SaaS Software as a Service - Cloud provider delivers an entire application to the customer.\n",
        "- PaaS Platform as a Service - when a cloud provider offers a preconfigured platform to the customer.\n",
        "- IaaS Infrastructure as a Service - when a cloud provider supplier only bare-bones computing experience."
      ]
    },
    {
      "cell_type": "markdown",
      "metadata": {
        "id": "qdaae0ZiacxT"
      },
      "source": [
        "Scaling in the Cloud:\n",
        "- Capacity - how much the service can deliver (tied to number of servers).\n",
        "- QPS - queries per second.\n",
        "- Scaling - capacity change.\n",
        "- Upscaling - increasing capacity.\n",
        "- Downscaling - decreasing cap.\n",
        " - Horizontally - add more nodes into the pool of service.\n",
        " - Vertically - making nodes bigger (resources assigned: memory, CPU).\n",
        " - Automatic scaling - Cloud provider will use metrics to automatically increase/decrease capacity.\n",
        "   - Need Quotas for scaling system, to not overpay.\n",
        " - Manual Scaling\n",
        "   - Need a lot of monitoring.\n",
        "\n"
      ]
    },
    {
      "cell_type": "markdown",
      "metadata": {
        "id": "fQQiPli9csLM"
      },
      "source": [
        "Evaluating the Cloud:\n",
        "- Less control\n",
        "- Certifications & security measures? ISO, etc\n",
        "  - Multifactor authentication\n",
        "  - Encrypted file systems\n",
        "  - Public-key cryptography\n",
        "- What kind of support?\n"
      ]
    },
    {
      "cell_type": "markdown",
      "metadata": {
        "id": "EuGM6HnRhNii"
      },
      "source": [
        "Migrating to the Cloud:\n",
        "- Lift & shift strategy - moving equipment to new bigger location.\n",
        "  - same server config.\n",
        "  - still need to install apps/os.\n",
        "  - test that working well.\n",
        "  - PaaS\n",
        "    - Managed web applications - don't manage platform, just the web design code: (Amazon Elastic Beanstalk, Microsoft App Service, Google app Engine)\n",
        "- Containers - applications that are packaged together with their config & dependencies.\n",
        "- Types:\n",
        "  - Public Clouds - service provided by third party.\n",
        "  - Private clouds - your company owns the services/infrastructure.\n",
        "  - Hybrid clouds - mix of public/private.\n",
        "  - Multi-clouds - a mix of public/private clouds accross vendors (several vendors).\n"
      ]
    },
    {
      "cell_type": "markdown",
      "metadata": {
        "id": "7WpA82X3kdmJ"
      },
      "source": [
        "###Managing Instances in the Cloud\n",
        "\n",
        "Spinning up VMs in the Cloud:\n",
        "- Set the parameters:\n",
        "  - Name\n",
        "  - Region/Zone - closer to users better\n",
        "  - Machine Type - how much virtual memory without overpaying?\n",
        "  - Boot disk - os + disk space.\n",
        "- Reference images - store contents of a machine in a reusable format.\n",
        "- Templating - process of capturing all of system configs to create VMs in a repeatable way.\n",
        "  - Disk image - a snapshot of a virtual machine's disk at a given point in time."
      ]
    },
    {
      "cell_type": "markdown",
      "metadata": {
        "id": "PIjxp1ncqqJr"
      },
      "source": [
        "Creating a New VM with GCP Web UI:\n",
        "- console.cloud.google.com\n",
        "- New Project -> Create\n",
        "- Home -> Open Project\n",
        "- Compute Engine -> VM Instances -> Create\n",
        "  - Firewall: Allow HTTP traffic.\n",
        "  - Click 'command line' - can copy-paste code to create exact same VMs.\n",
        "- Connect -> SSH"
      ]
    },
    {
      "cell_type": "markdown",
      "metadata": {
        "id": "GAOBX4ANvyPr"
      },
      "source": [
        "#### Customizing VMs in GCP:\n",
        "- Reference base image - to deploy repeatedly.\n",
        "- Connect -> SSH"
      ]
    },
    {
      "cell_type": "code",
      "metadata": {
        "id": "YTgsMaQKwnME"
      },
      "source": [
        "git clone [link of rep]\n",
        "./hello_cloud.py\n",
        "#Connections on port 8000"
      ],
      "execution_count": null,
      "outputs": []
    },
    {
      "cell_type": "markdown",
      "metadata": {
        "id": "QV_qnG4Jw8s7"
      },
      "source": [
        "- run the port with admin privileges on a dif nr"
      ]
    },
    {
      "cell_type": "code",
      "metadata": {
        "id": "fG5gaUq_xHXD"
      },
      "source": [
        "sudo ./hello_cloud.py 80"
      ],
      "execution_count": null,
      "outputs": []
    },
    {
      "cell_type": "markdown",
      "metadata": {
        "id": "pPFQPgUSxO5a"
      },
      "source": [
        "- GCP: Click under External IP link\n",
        "- open Service file, copy hello_cloud.py file to the location given of /usr/local/bin\n",
        "- then enable the service to run automatically.\n",
        "- can test by rebooting the system"
      ]
    },
    {
      "cell_type": "code",
      "metadata": {
        "id": "GSv6ZqOpxrok"
      },
      "source": [
        "cat hello_cloud.service\n",
        "\n",
        "sudo cp hello_cloud.py /usr/local/bin\n",
        "sudo cp hello_cloud.service /etc/systemd/system/\n",
        "sudo systemctl enable hello_cloud\n",
        "\n",
        "sudo reboot"
      ],
      "execution_count": null,
      "outputs": []
    },
    {
      "cell_type": "markdown",
      "metadata": {
        "id": "7ytixBlZyBsy"
      },
      "source": [
        "- after reboot, check if app is running"
      ]
    },
    {
      "cell_type": "code",
      "metadata": {
        "id": "FZX2LZW-yQ37"
      },
      "source": [
        "ps ax | grep hello"
      ],
      "execution_count": null,
      "outputs": []
    },
    {
      "cell_type": "code",
      "metadata": {
        "id": "6x1ftRUbykhz"
      },
      "source": [
        "sudo apt install puppet\n",
        "./hello/setup_puppet.sh"
      ],
      "execution_count": null,
      "outputs": []
    },
    {
      "cell_type": "markdown",
      "metadata": {
        "id": "y3OBEfKEyaAj"
      },
      "source": [
        "####Templating a Customized VM\n",
        "- in GCP click ... next to SSH -> Stop\n",
        "- click into machine name\n",
        "- scroll down, click into Boot disk Name.\n",
        "- click CREATE SNAPSHOT or CREATE IMAGE\n",
        "- Create Image\n",
        "- Instance templates -> Create instance template\n",
        "  - Image: Custom Images: select the one created\n",
        "  - Firewall: Allow HTTP traffic\n",
        "  - Done\n",
        "\n",
        "- VM instances - + ->Create Instance -> New VM instance from template\n",
        "  - Continue\n",
        "  - leave settings as is - should use template.\n",
        "\n",
        "For Faster Batch Transactions:\n"
      ]
    },
    {
      "cell_type": "code",
      "metadata": {
        "id": "PV49feFu92b8"
      },
      "source": [
        "gcloud init\n",
        "#go through config - they will be used as defaults later.\n",
        "\n",
        "#create 5 new VMs based on template\n",
        "gcloud compute instances create --source-instance-template webserver-template ws1 ws2 ws3 ws4 ws5"
      ],
      "execution_count": null,
      "outputs": []
    },
    {
      "cell_type": "markdown",
      "metadata": {
        "id": "SWQSb_M7-gJL"
      },
      "source": [
        "###Automating Cloud Deployments"
      ]
    },
    {
      "cell_type": "markdown",
      "metadata": {
        "id": "meV83d6L_P_E"
      },
      "source": [
        "####Cloud Scale Deployments:\n",
        "- Load balances - ensures each node receives a balanced number of requests.\n",
        "- Round robin - give each node 1 request.\n",
        "- Autoscaling - allow the service to change capacity as needed, while service owner only pays for the cost of machines that are in used at any given time.\n",
        "- Select an ENTRY POINT. Could have layers:\n",
        "  - Load Balancer Web Cache\n",
        "  - Varnish tool\n",
        "  - Nginx tool\n",
        "  - Cloudflare\n",
        "  - Fastly\n",
        "- For webcaching:\n",
        "  - Memcached\n",
        "  - Redis\n",
        "\n"
      ]
    },
    {
      "cell_type": "markdown",
      "metadata": {
        "id": "VPFhO2fXEuYE"
      },
      "source": [
        "#### Orchestration:\n",
        "- Automated configuration & coordination of complex IT systems & services.\n",
        "- Application programming interface API\n",
        "- Monitoring & Alerting"
      ]
    },
    {
      "cell_type": "markdown",
      "metadata": {
        "id": "7UcYCISVJZek"
      },
      "source": [
        "####Cloud Infrastructure as Code:\n",
        "- IaC - using machine-readable files to automate configuration.\n",
        "- Tools:\n",
        "  - CloudFormation\n",
        "  - Cloud Deployment Manager\n",
        "  - Azure Resource Manager\n",
        "  - Heat Orchestration Templates\n",
        "  - Terraform - can interact with dif cloud providers. Uses APIs for each provider.\n",
        "- Nodes can be:\n",
        "  - Long-lived\n",
        "  - Short-lived\n"
      ]
    },
    {
      "cell_type": "markdown",
      "metadata": {
        "id": "V2p-A5nuLcnN"
      },
      "source": [
        "####Qwiklabs - Create VM template & Automate Deployment"
      ]
    },
    {
      "cell_type": "code",
      "metadata": {
        "id": "ALn6kSYZLe1V"
      },
      "source": [
        "gcloud compute instances create --zone us-west1-b --source-instance-template vm1-template vm2 vm3 vm4 vm5 vm6 vm7 vm8"
      ],
      "execution_count": null,
      "outputs": []
    },
    {
      "cell_type": "code",
      "metadata": {
        "id": "Ov7Uj-TMZj-P"
      },
      "source": [
        "gcloud compute instances list"
      ],
      "execution_count": null,
      "outputs": []
    },
    {
      "cell_type": "markdown",
      "metadata": {
        "id": "Y5Jx9t3ZdBkS"
      },
      "source": [
        "###Building Software for the Cloud"
      ]
    },
    {
      "cell_type": "markdown",
      "metadata": {
        "id": "z13HYMAIdEDY"
      },
      "source": [
        "####Storing Data in the Cloud:\n",
        "- Block storage - traditional. Local disks like with GCP instances.\n",
        "  - Persistent storage: long-lived & need to keep data across reboots & updates.\n",
        "  - Ephemeral storage: for temporary instances & only need local data while they're running. Good for Containers.\n",
        "  - Shared file system solutions. With PaaS\n",
        "  - Good when just need to get files, BUT NOT launching apps.\n",
        "- Object storage - newer. AKA Blob storage.\n",
        "  - Lets you place & retrieve objects in a storage bucket.\n",
        "  - Blobs - binary large objects.\n",
        "  - Stored in locations called Buckets.\n",
        "- Databases as a service:\n",
        "  - SQL - relational\n",
        "  - NoSQL\n",
        "- Storage class:\n",
        "  - Throughput - the amount of data that you can read/write in a given amount of time.\n",
        "  - Input/Output Operations per Second IOPS - measures how many reads/writes can do in 1 second, no matter how much data you're accessing.\n",
        "  - Latency - time it takes to complete a read/write operation.\n",
        "    - Time to first byte\n",
        "- Data type:\n",
        "  - Hot data - accessed frequently.\n",
        "  - Cold Data\n",
        "- Hot Storage - usually using Solid State Disks SSD to be faster.\n",
        "\n",
        "\n",
        "\n"
      ]
    },
    {
      "cell_type": "markdown",
      "metadata": {
        "id": "03gpTcjLly15"
      },
      "source": [
        "#### Load Balancing:\n",
        "- Round-Robin DNS: each gets 1.\n",
        "  - Splits address IP into a few versions & tried which works.\n",
        "  - Can't stop reaching out even if server broken.\n",
        "  - Need to wait for cached records to expire.\n",
        "- Set up a machine as a Dedicated Load Balancer:\n",
        "  - Sticky sessions - all requests from same client always go to the same backend server. Only use if Really needed.\n",
        "  - Performing health checks of backend servers.\n",
        "  - GeoDNS or GeoIP to make sure to connect clients to closest server.\n",
        "  - Content Delivery Networks CDNs - make up a network of physical hosts that are geographically located as close to end user as possible."
      ]
    },
    {
      "cell_type": "markdown",
      "metadata": {
        "id": "SXrOKFUHrRpL"
      },
      "source": [
        "####Change Management:\n",
        "- Unit Tests\n",
        "- Integration Tests\n",
        "- Continuous integration CI - build/test code every time there is a change.\n",
        "  - Travis CI - github\n",
        "- Continuous Deployment CD - to auto deploy results or Build artifacts.\n",
        "  - controlling deployment with rules.\n",
        "- Test vs Production Envrionment\n",
        "- A/B Testing - testing A vs B configs.\n",
        "  - run different instance groups for A/B.\n"
      ]
    },
    {
      "cell_type": "markdown",
      "metadata": {
        "id": "c3roGGdvw-Vw"
      },
      "source": [
        "####Understanding Limitations:\n",
        "- How will app be deployed?\n",
        "- Quotas/Limits?\n",
        "- Rate limits? Prevent 1 service from overloading the system.\n",
        "- Utilization limits - cap total amount of a certain resource that you can provision.\n",
        "- Quota increase?\n",
        "- Service costs?\n",
        "- Maintenance & upgrades?\n",
        "\n"
      ]
    },
    {
      "cell_type": "markdown",
      "metadata": {
        "id": "dO2OgM8k_yC6"
      },
      "source": [
        "##Monitoring & Alerting"
      ]
    },
    {
      "cell_type": "markdown",
      "metadata": {
        "id": "gQ99TyzZ_0AS"
      },
      "source": [
        "### Getting Started with Monitoring:\n",
        "- Look at Metrics: what do you want to monitor?\n",
        "- Response Code: exmpl 404 page not found.\n",
        "  - Range of 500 - smth happened on server's end.\n",
        "  - Range of 400 - client side problem.\n",
        "- Tools by Cloud Providers:\n",
        "  - AWS CloudWatch\n",
        "  - Google Stack Driver\n",
        "  - Zure Metrics\n",
        "- Tools used across vendors:\n",
        "  - Prometheus\n",
        "  - DataDog\n",
        "  - Nagios\n",
        "- Pull Model: monitoring system periodically queries metrics.\n",
        "- Push Model: our service periodically connects to monitoring system to send metrics.\n",
        "- Only store metrics that you care about, otherwise costly.\n",
        "- Whitebox Monitoring - checks behavior of the system from the inside.\n",
        "- Blackbox monitoring - check behaviors from outside.\n",
        "\n"
      ]
    },
    {
      "cell_type": "markdown",
      "metadata": {
        "id": "O-XWu1ZCq-Qx"
      },
      "source": [
        "###Getting Alerts:\n",
        "- Linux - cron\n",
        "- Pages - urgent alerts\n",
        "- All Alerts should be Actionable, otherwise it's Noise & should be removed."
      ]
    },
    {
      "cell_type": "markdown",
      "metadata": {
        "id": "BurHWOdbklnN"
      },
      "source": [
        "###Service-Level Objectives:\n",
        "- SLOs - preestablished performance goals for a specific service. Soft targets.\n",
        "- Need to be:\n",
        "  - measurable - like operating availablity, uptime.\n",
        "- SLAs Service level agreements: a commitment between a provider & a client.\n",
        "- four-nines SLO: error budget 0.01% or SLO 99.99%\n"
      ]
    },
    {
      "cell_type": "markdown",
      "metadata": {
        "id": "enuK2nzKyCy6"
      },
      "source": [
        "###Basic Monitoring in GCP:\n",
        "- Tool: stackdriver\n",
        "  - CPU usage\n",
        "  - Disk I/O\n",
        "  - Network Traffic\n",
        "- Create New Alerting Policy"
      ]
    },
    {
      "cell_type": "markdown",
      "metadata": {
        "id": "UxAgBQLgDhma"
      },
      "source": [
        "###Troubleshooting & Debugging"
      ]
    },
    {
      "cell_type": "markdown",
      "metadata": {
        "id": "ws2Ihj0SDj-b"
      },
      "source": [
        "####Where is the Failure coming from?\n",
        "- Check for geo regions: switch locations.\n",
        "- Try to run in a dif machine-type\n",
        "- If recent change, do a Rollback\n",
        "- Run Container locally to see if issue persists.\n"
      ]
    },
    {
      "cell_type": "markdown",
      "metadata": {
        "id": "42Lbi6UaMU4_"
      },
      "source": [
        "####Recovering from Failure:\n",
        "- Automatic Back-ups & check that they are working periodically.\n",
        "- Secondary instances of services if 1st one goes down.\n",
        "- Have servers running on dif datacenters, so if 1 goes down, the other takes over.\n",
        "- If running from office, have 2 separate internet connections in case 1 goes down.\n",
        "- Use 2 dif cloud vendors.\n",
        "- Have documented proceedures for when system goes down - disaster recovery plan."
      ]
    },
    {
      "cell_type": "markdown",
      "metadata": {
        "id": "iYCb46b2NwGd"
      },
      "source": [
        "####Qwiklabs"
      ]
    },
    {
      "cell_type": "markdown",
      "metadata": {
        "id": "oMsqbFD5R_fu"
      },
      "source": [
        "- Informational responses (100–199)\n",
        "- Successful responses (200–299)\n",
        "- Redirects (300–399)\n",
        "- Client errors (400–499)\n",
        "- Server errors (500–599)\n"
      ]
    },
    {
      "cell_type": "code",
      "metadata": {
        "id": "lk4PG9X8PGEd"
      },
      "source": [
        "sudo systemctl status apache2"
      ],
      "execution_count": null,
      "outputs": []
    },
    {
      "cell_type": "code",
      "metadata": {
        "id": "fA2ce5X5Sb5l"
      },
      "source": [
        "sudo systemctl restart apache2"
      ],
      "execution_count": null,
      "outputs": []
    },
    {
      "cell_type": "code",
      "metadata": {
        "id": "d3rQ_LiBS4N9"
      },
      "source": [
        "sudo netstat -nlp"
      ],
      "execution_count": null,
      "outputs": []
    },
    {
      "cell_type": "code",
      "metadata": {
        "id": "-lVRS6F6TceV"
      },
      "source": [
        "ps -ax | grep python3"
      ],
      "execution_count": null,
      "outputs": []
    },
    {
      "cell_type": "code",
      "metadata": {
        "id": "1vAjRclHT2D9"
      },
      "source": [
        "cat /usr/local/bin/jimmytest.py\n",
        "sudo kill [process-id-2711]"
      ],
      "execution_count": null,
      "outputs": []
    },
    {
      "cell_type": "code",
      "metadata": {
        "id": "4OhiOTRQUjQd"
      },
      "source": [
        "sudo systemctl --type=service | grep jimmy"
      ],
      "execution_count": null,
      "outputs": []
    },
    {
      "cell_type": "code",
      "metadata": {
        "id": "bFSHGsq-Utb2"
      },
      "source": [
        "sudo systemctl stop jimmytest && sudo systemctl disable jimmytest"
      ],
      "execution_count": null,
      "outputs": []
    }
  ]
}
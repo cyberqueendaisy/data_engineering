{
  "nbformat": 4,
  "nbformat_minor": 0,
  "metadata": {
    "colab": {
      "name": "Google IT Automation - Course 3 - Introduction to Git and GitHub.ipynb",
      "provenance": [],
      "collapsed_sections": [
        "Mo12mmZX856X",
        "Uy7eet9h-YBP",
        "I2iUIsNfCMBy",
        "0BnG1UuZAOqr",
        "R9L2vsPDqndU"
      ],
      "authorship_tag": "ABX9TyN3zpmHJYbqQxys9JuyJM6D",
      "include_colab_link": true
    },
    "kernelspec": {
      "name": "python3",
      "display_name": "Python 3"
    },
    "language_info": {
      "name": "python"
    }
  },
  "cells": [
    {
      "cell_type": "markdown",
      "metadata": {
        "id": "view-in-github",
        "colab_type": "text"
      },
      "source": [
        "<a href=\"https://colab.research.google.com/gist/JayLee18/3980d23a4130b790ffa3d98e6f4ebf06/google-it-automation-course-3-introduction-to-git-and-github.ipynb\" target=\"_parent\"><img src=\"https://colab.research.google.com/assets/colab-badge.svg\" alt=\"Open In Colab\"/></a>"
      ]
    },
    {
      "cell_type": "markdown",
      "metadata": {
        "id": "Bj1LhWHoHJC9"
      },
      "source": [
        "#Classes from Coursera \"Google IT Automation with Python Specialization\" \n",
        "#Course 3 - \"Introduction to Git and GitHub\"."
      ]
    },
    {
      "cell_type": "markdown",
      "metadata": {
        "id": "Mo12mmZX856X"
      },
      "source": [
        "##Version Control Systems"
      ]
    },
    {
      "cell_type": "markdown",
      "metadata": {
        "id": "Uy7eet9h-YBP"
      },
      "source": [
        "###Basics\n",
        "Diffing Files:\n",
        "- diff command - show changes in code\n",
        "- wdiff - shows changes in words"
      ]
    },
    {
      "cell_type": "code",
      "metadata": {
        "id": "EchXDA2F84ey"
      },
      "source": [
        "cat rearrange1.py\n",
        "cat rearrange2.py\n",
        "\n",
        "diff rearrange1.py rearrange2.py #shows differences in code"
      ],
      "execution_count": null,
      "outputs": []
    },
    {
      "cell_type": "code",
      "metadata": {
        "id": "8gFQAD9bHNF8"
      },
      "source": [
        "diff -u rearrange1.py rearrange2.py #shows differences in code, in a different format"
      ],
      "execution_count": null,
      "outputs": []
    },
    {
      "cell_type": "code",
      "metadata": {
        "id": "lpZ-tIfNBUy2"
      },
      "source": [
        "diff -u old_file new_file > change.diff #to send changes to another person - called diff/patch file"
      ],
      "execution_count": null,
      "outputs": []
    },
    {
      "cell_type": "code",
      "metadata": {
        "id": "pxLTC24QCYOl"
      },
      "source": [
        "patch old_file < new_file.diff #to APPLY diff changes to old file"
      ],
      "execution_count": null,
      "outputs": []
    },
    {
      "cell_type": "code",
      "metadata": {
        "id": "bHikGfqFEaY9"
      },
      "source": [
        "cp dis_usage.py disk_usage_original.py #make a file copy"
      ],
      "execution_count": null,
      "outputs": []
    },
    {
      "cell_type": "markdown",
      "metadata": {
        "id": "UjgyRXXPTOQ_"
      },
      "source": [
        "- Commits\n",
        "- Repositories\n",
        "- git-scm.com - Source Control Management"
      ]
    },
    {
      "cell_type": "code",
      "metadata": {
        "id": "6bpa_MrZNHH2"
      },
      "source": [
        "git --version"
      ],
      "execution_count": null,
      "outputs": []
    },
    {
      "cell_type": "markdown",
      "metadata": {
        "id": "5YTDevUFikz7"
      },
      "source": [
        "###Using Git"
      ]
    },
    {
      "cell_type": "code",
      "metadata": {
        "id": "cKWfRL5Dil_6"
      },
      "source": [
        "git config --global user.email \"me@example.com\"\n",
        "git config --global user.name \"Jay Lee\"\n",
        "\n",
        "mkdir checks\n",
        "cd checks\n",
        "git init\n",
        "\n",
        "ls -la\n",
        "la -l .git/"
      ],
      "execution_count": null,
      "outputs": []
    },
    {
      "cell_type": "markdown",
      "metadata": {
        "id": "8tx9WE57kNIS"
      },
      "source": [
        "The git directory contains all the changes and their history and the working tree contains the current versions of the files.\n",
        "- Working tree\n",
        "- Staging area\n",
        "- Git Directory"
      ]
    },
    {
      "cell_type": "code",
      "metadata": {
        "id": "nu2SJqjTkO5i"
      },
      "source": [
        "cp ../disk_sage.py\n",
        "ls -l\n",
        "git add disk_usage_py #added file to Staging Area (index)\n",
        "git status #get info\n",
        "git commit"
      ],
      "execution_count": null,
      "outputs": []
    },
    {
      "cell_type": "markdown",
      "metadata": {
        "id": "qkCM9_9zlCba"
      },
      "source": [
        "###Tracking Files\n",
        "Files:\n",
        "- Tracked (modified, staged, commited)\n",
        "- Untracked"
      ]
    },
    {
      "cell_type": "code",
      "metadata": {
        "id": "SVvdRehklBHy"
      },
      "source": [
        "ls -l\n",
        "git init #set folder\n",
        "git status\n",
        "\n",
        "git add #file\n",
        "git commit -m 'Changed text'"
      ],
      "execution_count": null,
      "outputs": []
    },
    {
      "cell_type": "markdown",
      "metadata": {
        "id": "lczH6hAPzdK2"
      },
      "source": [
        "Workflow"
      ]
    },
    {
      "cell_type": "code",
      "metadata": {
        "id": "hgvY83OZ1rNS"
      },
      "source": [
        "git config -l"
      ],
      "execution_count": null,
      "outputs": []
    },
    {
      "cell_type": "code",
      "metadata": {
        "id": "kxmEX2GM1MTW"
      },
      "source": [
        "chmod +x all_checks.py #untracked file\n",
        "\n",
        "git add all_checks.py #track file, need to do EACH time after changes\n",
        "git commit #add notes to atom"
      ],
      "execution_count": null,
      "outputs": []
    },
    {
      "cell_type": "code",
      "metadata": {
        "id": "j3fXm5yy3lds"
      },
      "source": [
        "#!/usr/bin/env python3\n",
        "import os\n",
        "\n",
        "def check_reboot():\n",
        "    return os.path.exist('/run/reboot-required')\n",
        "\n",
        "def main():\n",
        "    pass\n",
        "\n",
        "main()"
      ],
      "execution_count": null,
      "outputs": []
    },
    {
      "cell_type": "markdown",
      "metadata": {
        "id": "NqjKFJEM3cdV"
      },
      "source": [
        "###Anatomy of a Commit Message\n",
        "\n",
        "- short description\n",
        "- below 72 chars paragraph with detailed explanation of changes"
      ]
    },
    {
      "cell_type": "code",
      "metadata": {
        "id": "HqM2Cx2V2bL0"
      },
      "source": [
        "git log #to display commit msgs"
      ],
      "execution_count": null,
      "outputs": []
    },
    {
      "cell_type": "markdown",
      "metadata": {
        "id": "PSz0_j-P_b-E"
      },
      "source": [
        "###Qwiklabs Quiz"
      ]
    },
    {
      "cell_type": "code",
      "metadata": {
        "id": "n0ZH4Zxf7zvu"
      },
      "source": [
        "sudo apt update\n",
        "sudo apt install git\n",
        "git --version"
      ],
      "execution_count": null,
      "outputs": []
    },
    {
      "cell_type": "code",
      "metadata": {
        "id": "OcOBGwJA_bxs"
      },
      "source": [
        "git config --global user.name \"Name\"\n",
        "git config --global user.email \"user@example.com\"\n",
        "git diff README #show changes"
      ],
      "execution_count": null,
      "outputs": []
    },
    {
      "cell_type": "markdown",
      "metadata": {
        "id": "I2iUIsNfCMBy"
      },
      "source": [
        "##Advanced Git Interaction"
      ]
    },
    {
      "cell_type": "markdown",
      "metadata": {
        "id": "ln944GBMCN1b"
      },
      "source": [
        "###Skipping Staging Area\n",
        "- Go to commit directly\n",
        "- better for small changes\n",
        "- use git commit -a"
      ]
    },
    {
      "cell_type": "code",
      "metadata": {
        "id": "JJifxoscCOGj"
      },
      "source": [
        "git commit -a -m \"Commit test\" #to skip staged\n",
        "git log"
      ],
      "execution_count": null,
      "outputs": []
    },
    {
      "cell_type": "markdown",
      "metadata": {
        "id": "VM1xtfXaEkHU"
      },
      "source": [
        "Head - represents final commit."
      ]
    },
    {
      "cell_type": "markdown",
      "metadata": {
        "id": "kbA5WhjrE7Ys"
      },
      "source": [
        "###Getting More Info About Changes"
      ]
    },
    {
      "cell_type": "code",
      "metadata": {
        "id": "dw37Rdk0EJfN"
      },
      "source": [
        "git log p- #to get more details on patches\n",
        "Press Q to exit"
      ],
      "execution_count": null,
      "outputs": []
    },
    {
      "cell_type": "code",
      "metadata": {
        "id": "cr4CcVv7Fw6L"
      },
      "source": [
        "git show 18a13bfc7f8bbf1b503ab2e8222d240dea433125"
      ],
      "execution_count": null,
      "outputs": []
    },
    {
      "cell_type": "code",
      "metadata": {
        "id": "6af7GxL6F8Tz"
      },
      "source": [
        "git log --stat #more details on files changed"
      ],
      "execution_count": null,
      "outputs": []
    },
    {
      "cell_type": "code",
      "metadata": {
        "id": "xuWoggOcGWa7"
      },
      "source": [
        "git diff # to see changes made to file but not commited yet"
      ],
      "execution_count": null,
      "outputs": []
    },
    {
      "cell_type": "code",
      "metadata": {
        "id": "_ZjdypsQHOws"
      },
      "source": [
        "git add -p #press y or others if want to get rid of it.\n",
        "git diff #will give 0 since no staged items\n",
        "git diff --staged #to see staged items\n",
        "git commit #to final save"
      ],
      "execution_count": null,
      "outputs": []
    },
    {
      "cell_type": "markdown",
      "metadata": {
        "id": "rt3KlRVfJy30"
      },
      "source": [
        "###Deleting & Renaming Files"
      ]
    },
    {
      "cell_type": "code",
      "metadata": {
        "id": "5ry6KdycHo2j"
      },
      "source": [
        "git mv #to move/rename a file\n",
        "git rm #to delete a file\n",
        "\n",
        "Need to commit after to save changes"
      ],
      "execution_count": null,
      "outputs": []
    },
    {
      "cell_type": "code",
      "metadata": {
        "id": "Flxol7VbcNvB"
      },
      "source": [
        "echo .DS_STORE > .hitignore # . for hidden files\n",
        "ls -la # to see hidden files"
      ],
      "execution_count": null,
      "outputs": []
    },
    {
      "cell_type": "markdown",
      "metadata": {
        "id": "xU8HMhKvfbcx"
      },
      "source": [
        "###Undoing Changes before Commiting"
      ]
    },
    {
      "cell_type": "code",
      "metadata": {
        "id": "WDiPWDKKfnfA"
      },
      "source": [
        "git checkout file_name #to check out file from commiting changes\n",
        "git reset"
      ],
      "execution_count": null,
      "outputs": []
    },
    {
      "cell_type": "code",
      "metadata": {
        "id": "PKX3ynYZf9Z9"
      },
      "source": [
        "./all_checks.py > output.txt\n",
        "git add * #to add all files in tree folder\n",
        "git status\n",
        "\n",
        "git reset HEAD output.txt #will remove file from tracking"
      ],
      "execution_count": null,
      "outputs": []
    },
    {
      "cell_type": "markdown",
      "metadata": {
        "id": "zwTZlpUzg0wr"
      },
      "source": [
        "###Amending Commits\n",
        "\n",
        "DO NOT use for PUBLIC commits."
      ]
    },
    {
      "cell_type": "code",
      "metadata": {
        "id": "yWd11C0cg3jD"
      },
      "source": [
        "touch update.py #create new file\n",
        "ls -l #to see files\n",
        "\n",
        "#make fix then:\n",
        "git commit --amend\n",
        "#write out new message. Overwrites previous commit"
      ],
      "execution_count": null,
      "outputs": []
    },
    {
      "cell_type": "markdown",
      "metadata": {
        "id": "gyyjXNetjZa7"
      },
      "source": [
        "###Rollbacks"
      ]
    },
    {
      "cell_type": "code",
      "metadata": {
        "id": "41JZzDrfjePL"
      },
      "source": [
        "git revert HEAD #reverts from bad commit\n",
        "#will create a reverse commit, keeps history"
      ],
      "execution_count": null,
      "outputs": []
    },
    {
      "cell_type": "markdown",
      "metadata": {
        "id": "UQHxLLKs9Dlz"
      },
      "source": [
        "###Identifying a Commit"
      ]
    },
    {
      "cell_type": "code",
      "metadata": {
        "id": "noma8Gzs9FRS"
      },
      "source": [
        "git log -1\n",
        "#Will see HASH, commit ID, using SHA1\n",
        "git show IDnrFULL\n",
        "git show (4-5 characters of id)\n",
        "git revert IDnr"
      ],
      "execution_count": null,
      "outputs": []
    },
    {
      "cell_type": "markdown",
      "metadata": {
        "id": "0BnG1UuZAOqr"
      },
      "source": [
        "##Branching & Merging"
      ]
    },
    {
      "cell_type": "markdown",
      "metadata": {
        "id": "5M3-gKgPAQxp"
      },
      "source": [
        "###Creating a New Branch\n",
        "\n",
        "- Master - default branch"
      ]
    },
    {
      "cell_type": "code",
      "metadata": {
        "id": "FycZsyuLAQUx"
      },
      "source": [
        "git branch #see branches\n",
        "git branch new-feature #create a new branching out\n",
        "\n",
        "git checkout new-feature #switching to a dif branch\n",
        "\n",
        "git checkout -b better-feature #to create + switch to new branch\n",
        "\n",
        "git checkout master\n",
        "git log -2 #will not show info from other branches.\n",
        "ls -l #will not show info from other branches"
      ],
      "execution_count": null,
      "outputs": []
    },
    {
      "cell_type": "code",
      "metadata": {
        "id": "WXgzAzgKQdJ6"
      },
      "source": [
        "git branch -d [branch-name] #to delete a branch"
      ],
      "execution_count": null,
      "outputs": []
    },
    {
      "cell_type": "markdown",
      "metadata": {
        "id": "gT0iWDmnk811"
      },
      "source": [
        "###Merging\n",
        "\n",
        "Merges branches & their history together.\n",
        "\n",
        "Using:\n",
        "- fast-forward\n",
        "- three-way merge"
      ]
    },
    {
      "cell_type": "code",
      "metadata": {
        "id": "0ZXEQWtik-dM"
      },
      "source": [
        "git merge [better-feature]\n",
        "#when checking logs, names of both branches will come up now.\n",
        "#Shared commit"
      ],
      "execution_count": null,
      "outputs": []
    },
    {
      "cell_type": "markdown",
      "metadata": {
        "id": "eYiMJpNOmdnc"
      },
      "source": [
        "Merging Conflicts:\n",
        "- will give an error message if edits to same spot"
      ]
    },
    {
      "cell_type": "code",
      "metadata": {
        "id": "B_wy92Luoa-b"
      },
      "source": [
        "git status #to see more details on error\n",
        "#fix in atom\n",
        "git add memory.py #will get msg if conflicts resolved\n",
        "git commit #a merge commit, will give details"
      ],
      "execution_count": null,
      "outputs": []
    },
    {
      "cell_type": "code",
      "metadata": {
        "id": "VwNURHYipU9b"
      },
      "source": [
        "git log --graph --oneline #to see details on commits"
      ],
      "execution_count": null,
      "outputs": []
    },
    {
      "cell_type": "code",
      "metadata": {
        "id": "wW_aPn-xptV8"
      },
      "source": [
        "git merge --abort #to stop merging"
      ],
      "execution_count": null,
      "outputs": []
    },
    {
      "cell_type": "markdown",
      "metadata": {
        "id": "R9L2vsPDqndU"
      },
      "source": [
        "##GitHub"
      ]
    },
    {
      "cell_type": "markdown",
      "metadata": {
        "id": "4an683nw2slW"
      },
      "source": [
        "###Basics\n",
        "- Distributed (each personal has a copy)"
      ]
    },
    {
      "cell_type": "code",
      "metadata": {
        "id": "JCftxA3Cqp_i"
      },
      "source": [
        "git clone [rep-link]\n",
        "#will set up folders\n",
        "#README file will be in .md - markdown\n",
        "git push #to SEND desktop rep to GITHUB"
      ],
      "execution_count": null,
      "outputs": []
    },
    {
      "cell_type": "code",
      "metadata": {
        "id": "AHN4LHvmFVE7"
      },
      "source": [
        "git config --global credential.helper cache #to enable helper, then enter pass & will store for a while."
      ],
      "execution_count": null,
      "outputs": []
    },
    {
      "cell_type": "code",
      "metadata": {
        "id": "MXhfGyfcFh_q"
      },
      "source": [
        "git pull #to get data FROM github"
      ],
      "execution_count": null,
      "outputs": []
    },
    {
      "cell_type": "code",
      "metadata": {
        "id": "MQKpRxkTFtD7"
      },
      "source": [
        "git remote -v #to see remote status"
      ],
      "execution_count": null,
      "outputs": []
    },
    {
      "cell_type": "code",
      "metadata": {
        "id": "0nMankO4UXRS"
      },
      "source": [
        "git remote show origin #more remote details\n",
        "git branch -r #show read only/remote branches"
      ],
      "execution_count": null,
      "outputs": []
    },
    {
      "cell_type": "markdown",
      "metadata": {
        "id": "qjeR8iTAWeFA"
      },
      "source": [
        "Fetching Changes:"
      ]
    },
    {
      "cell_type": "code",
      "metadata": {
        "id": "ifUtaAqaVOAg"
      },
      "source": [
        "git fetch # to update local copy BUT DO NOT merge, while git pull MERGES\n",
        "git log origin/main (or master) #details on master branch\n",
        "git merge origin/main #to merge items into local branch - using Fast-Forward"
      ],
      "execution_count": null,
      "outputs": []
    },
    {
      "cell_type": "markdown",
      "metadata": {
        "id": "Nx7iA0wHWgGw"
      },
      "source": [
        "Updating Local Reps:"
      ]
    },
    {
      "cell_type": "code",
      "metadata": {
        "id": "lhGbejS1WvbY"
      },
      "source": [
        "git pull #updates to local AND MERGES, fast-forward\n",
        "\n",
        "git log -p -1 #check log\n",
        "git log -p origin/main #more details on log for main branch\n",
        "\n",
        "git checkout [branch from online] #to switch branches, will copy data to local\n",
        "\n",
        "git remote update #get contents from all online, but select later to merge."
      ],
      "execution_count": null,
      "outputs": []
    },
    {
      "cell_type": "markdown",
      "metadata": {
        "id": "MgZpLoFuiY72"
      },
      "source": [
        "### Solving Conflicts"
      ]
    },
    {
      "cell_type": "markdown",
      "metadata": {
        "id": "pg7Wbmnfib_-"
      },
      "source": [
        "Pushing Remote Branches:"
      ]
    },
    {
      "cell_type": "code",
      "metadata": {
        "id": "G5P-c_utiXXe"
      },
      "source": [
        "git checkout -b newbranch #switches & creates new branch\n",
        "\n",
        "git push -u origin newbranch #upstream push of a new branch"
      ],
      "execution_count": null,
      "outputs": []
    },
    {
      "cell_type": "markdown",
      "metadata": {
        "id": "1NarB5CIeUPg"
      },
      "source": [
        "Rebasing Changes:"
      ]
    },
    {
      "cell_type": "code",
      "metadata": {
        "id": "ydQygm1-eV5d"
      },
      "source": [
        "git merge # or can use command below\n",
        "\n",
        "git rebase [new-base-branch-name] #changing the base commit, then can easier fast-forward merge new branches on top. \n",
        "#Moves current branch on top of new-base branch\n",
        "\n",
        "git push --delete origin [old-branch] #to get rid of a branch"
      ],
      "execution_count": null,
      "outputs": []
    },
    {
      "cell_type": "markdown",
      "metadata": {
        "id": "1ZNTYuL388sy"
      },
      "source": [
        "Best Practices:\n",
        "- Sync all before starting work\n",
        "- Avoid large changes\n",
        "- Make a separate branch when working on bigger changes\n",
        "- Every once in a while merge changes from master to alter-branch\n",
        "- Latest version on master branch, stable version on separate branch.\n",
        "- Don't rebase changes already in remote repos.\n",
        "- Make good commit messages.\n",
        "\n"
      ]
    },
    {
      "cell_type": "markdown",
      "metadata": {
        "id": "n-13f0tzUQ4m"
      },
      "source": [
        "###Pull Requests on GitHub"
      ]
    },
    {
      "cell_type": "markdown",
      "metadata": {
        "id": "TbZbnNekUVFd"
      },
      "source": [
        "- Forking - a version by another user of a repo.\n",
        "- Pull request - send request to update main repo based on another.\n",
        "\n",
        "Workflow:\n",
        "- git clone to desktop\n",
        "- Edits + new branches\n",
        "- push to online\n",
        "- do a pull request in github\n",
        "\n",
        "\n"
      ]
    },
    {
      "cell_type": "code",
      "metadata": {
        "id": "0rdLQFz6UQXR"
      },
      "source": [
        "git clone [git url] #to desktop\n",
        "git checkout -b add-readme #new branch\n",
        "\n",
        "make edits\n",
        "\n",
        "git push -u origin add-readme #push branch to online repo\n",
        "\n",
        "in github click 'add pull request'"
      ],
      "execution_count": null,
      "outputs": []
    },
    {
      "cell_type": "markdown",
      "metadata": {
        "id": "bMXqZpAT60-g"
      },
      "source": [
        "Updating a Pull Request:\n",
        "- update file on desktop\n",
        "- add + commit to local repo\n",
        "- git push\n",
        "- check online to see commits/history (will be part of same commit, unless make a separate branch)"
      ]
    },
    {
      "cell_type": "markdown",
      "metadata": {
        "id": "T1lhOAP5CAFn"
      },
      "source": [
        "Squishing Changes (into a single commit):\n",
        "- squash: melds all items into 1\n",
        "- fixup: same as squad but gets rid of commit's log message"
      ]
    },
    {
      "cell_type": "code",
      "metadata": {
        "id": "6bAUrYs864TI"
      },
      "source": [
        "#inside a file commit message:\n",
        "pick [id] Add a simple README.md file\n",
        "squash [id] Add more information to the README\n",
        "\n",
        "git log --graph --oneline -all -4 #to see all branches, 4 latest items\n",
        "\n",
        "#push might not work, can force it:\n",
        "git push -f #forced push to online repo"
      ],
      "execution_count": null,
      "outputs": []
    },
    {
      "cell_type": "code",
      "metadata": {
        "id": "BUr43gPqE7JH"
      },
      "source": [
        "#make a fork\n",
        "git remote add upstream https://github.com/[git-username]/it-cert-automation-practice.git\n",
        "\n",
        "git remote -v"
      ],
      "execution_count": null,
      "outputs": []
    },
    {
      "cell_type": "markdown",
      "metadata": {
        "id": "LsFvrQtyGDpX"
      },
      "source": [
        "##Code Review"
      ]
    },
    {
      "cell_type": "markdown",
      "metadata": {
        "id": "XdSEZFQAGHTG"
      },
      "source": [
        "Cotinuous Integration/Continuous Delivery - CI/CD\n",
        "- Jenkins\n",
        "- Travis for Github\n"
      ]
    }
  ]
}
{
  "nbformat": 4,
  "nbformat_minor": 0,
  "metadata": {
    "colab": {
      "name": "Google IT Automation - Course 2 - Python to Interact with Operating Systems.ipynb",
      "provenance": [],
      "collapsed_sections": [
        "AJ6gMRI9bUfb",
        "Tkp6Aq9-IKyM",
        "cPuawREhL4ar",
        "8i_1tlnlbe27",
        "Kb8AP-L_Z7PO",
        "Ql_-9eWwrHe_",
        "EgMyuTsis4lm",
        "ebEXsARhSnaR",
        "AQMo44SdW-Rp",
        "3RdnDiw5bkGg",
        "_r-8RydgLgIC",
        "39zlWiymMf_C",
        "JvMZOwFnSb9E",
        "yAtLhNoUnZLQ",
        "8tCtb8IZycdZ",
        "eaM3WGaxI0ef",
        "vKSaoCg8PWBO",
        "ORL_jbf_RInW",
        "U8ziAGvjBjcF",
        "esM6BnZjEDxC",
        "AVGfdFquYAvJ",
        "9BYYoyRZejUH",
        "yoidcWfIm0tP",
        "Tlsea-P_rw81",
        "6k6E4sGgtoS-",
        "TDTbMeidMDIF",
        "gCUHuSQXSwA0",
        "OJjPUwYBESqX",
        "BXw2ypH6IKtu",
        "mdY-biy_WT4W",
        "5GngMlDNVXI7",
        "KllAxxhAVcLG",
        "kK1yuAvRCN1B",
        "h66ALnTrYSw1",
        "AGevkpGCfZBG",
        "_KjPNEY2mpD7",
        "oUQMfexuotDy",
        "IvygOki_BWGZ",
        "wKeUcqU5DvBH",
        "AJP7WAUyPmr0",
        "Z_7H1hxZlTKa",
        "HpZ19blrpL8Y",
        "V6SF9YPjq4pA",
        "1eLso4JEKe9T",
        "01LwRzepUSVi"
      ],
      "authorship_tag": "ABX9TyOpNdXYlipbeNv9Pz3RLhea",
      "include_colab_link": true
    },
    "kernelspec": {
      "name": "python3",
      "display_name": "Python 3"
    },
    "language_info": {
      "name": "python"
    }
  },
  "cells": [
    {
      "cell_type": "markdown",
      "metadata": {
        "id": "view-in-github",
        "colab_type": "text"
      },
      "source": [
        "<a href=\"https://colab.research.google.com/gist/JayLee18/cb6657d66f899d4791f970571b524660/google-it-automation-course-2-python-to-interact-with-operating-systems.ipynb\" target=\"_parent\"><img src=\"https://colab.research.google.com/assets/colab-badge.svg\" alt=\"Open In Colab\"/></a>"
      ]
    },
    {
      "cell_type": "markdown",
      "metadata": {
        "id": "oNqZzpt2ZvmN"
      },
      "source": [
        "\n",
        "#Classes from Coursera \"Google IT Automation with Python Specialization\" \n",
        "#Course 2 - \"Using Python to Interact with the Operating System\"."
      ]
    },
    {
      "cell_type": "markdown",
      "metadata": {
        "id": "AJ6gMRI9bUfb"
      },
      "source": [
        "##Basics"
      ]
    },
    {
      "cell_type": "markdown",
      "metadata": {
        "id": "rISoBn9mZ2Wr"
      },
      "source": [
        "\n",
        "- Kernel = Disk, memory, network, system's resources\n",
        "- User space = user interface, system programs\n",
        "\n",
        "- Linux distributions (based on Unix) = Ubuntu, Debian, RedHat\n",
        "\n",
        "in Cmd:"
      ]
    },
    {
      "cell_type": "code",
      "metadata": {
        "id": "mV_UkufsZQjA"
      },
      "source": [
        "python --version"
      ],
      "execution_count": null,
      "outputs": []
    },
    {
      "cell_type": "markdown",
      "metadata": {
        "id": "LZYAMemjNo-b"
      },
      "source": [
        "PyPi - pythin package index.\n",
        "\n",
        "Managed with pip.\n",
        "\n",
        "- Interpreted Languages: (need an enterpretor, works faster since don't need to wait for Compiler): Python, Ruby, JavaScript, Bash, PowerShell.\n",
        "\n",
        "- Compiled languages: (need a compiler) C, C++, Go, Rust.\n",
        "\n",
        "- Mixed: (compiled into Intermediary code) Java, C#."
      ]
    },
    {
      "cell_type": "markdown",
      "metadata": {
        "id": "PJLoRDPXXEPd"
      },
      "source": [
        "On Ubuntu:"
      ]
    },
    {
      "cell_type": "code",
      "metadata": {
        "id": "MDFvQgsqMlF1"
      },
      "source": [
        "cat hello.py #cat tells details of a file"
      ],
      "execution_count": null,
      "outputs": []
    },
    {
      "cell_type": "code",
      "metadata": {
        "id": "K5Hn7sbBWoXX"
      },
      "source": [
        "#!usr/bin/env python3 ->add to .py files to run in python"
      ],
      "execution_count": null,
      "outputs": []
    },
    {
      "cell_type": "code",
      "metadata": {
        "id": "tFXwzGJ5W7bd"
      },
      "source": [
        "chmod +x ex1.py # to make the file executable"
      ],
      "execution_count": null,
      "outputs": []
    },
    {
      "cell_type": "code",
      "metadata": {
        "id": "jFYrXHsaXMPl"
      },
      "source": [
        "./ex1.py # to run the file"
      ],
      "execution_count": null,
      "outputs": []
    },
    {
      "cell_type": "markdown",
      "metadata": {
        "id": "z-0FeMkT9dE-"
      },
      "source": [
        "IDE - Integrated Development Environment.\n",
        "\n",
        "\n"
      ]
    },
    {
      "cell_type": "code",
      "metadata": {
        "colab": {
          "base_uri": "https://localhost:8080/"
        },
        "id": "OjOrg1ZtHXsn",
        "outputId": "833300e6-ea9c-4a06-a6b7-4371ab2e1956"
      },
      "source": [
        "import shutil # to see disk usage\n",
        "du = shutil.disk_usage('/')\n",
        "print(du)"
      ],
      "execution_count": null,
      "outputs": [
        {
          "output_type": "stream",
          "text": [
            "usage(total=115721105408, used=41576562688, free=74127765504)\n"
          ],
          "name": "stdout"
        }
      ]
    },
    {
      "cell_type": "code",
      "metadata": {
        "colab": {
          "base_uri": "https://localhost:8080/"
        },
        "id": "P2iJkRYIHd3N",
        "outputId": "92b14a75-1aae-4c06-bd00-0aa4fd2b24fb"
      },
      "source": [
        "du.free/du.total*100"
      ],
      "execution_count": null,
      "outputs": [
        {
          "output_type": "execute_result",
          "data": {
            "text/plain": [
              "64.05725666259961"
            ]
          },
          "metadata": {
            "tags": []
          },
          "execution_count": 2
        }
      ]
    },
    {
      "cell_type": "code",
      "metadata": {
        "colab": {
          "base_uri": "https://localhost:8080/"
        },
        "id": "YSDDtDgzHoMM",
        "outputId": "fd9bb9e9-e808-4526-aee2-e1ec7635652d"
      },
      "source": [
        "import psutil # to see PSU related\n",
        "psutil.cpu_percent(0.1)"
      ],
      "execution_count": null,
      "outputs": [
        {
          "output_type": "execute_result",
          "data": {
            "text/plain": [
              "10.0"
            ]
          },
          "metadata": {
            "tags": []
          },
          "execution_count": 3
        }
      ]
    },
    {
      "cell_type": "code",
      "metadata": {
        "colab": {
          "base_uri": "https://localhost:8080/"
        },
        "id": "wiQkJULFH2ns",
        "outputId": "06335ce5-5b6c-4761-ce11-75934fdebf2e"
      },
      "source": [
        "psutil.cpu_percent(0.1) # run a few times, will get dif results"
      ],
      "execution_count": null,
      "outputs": [
        {
          "output_type": "execute_result",
          "data": {
            "text/plain": [
              "14.3"
            ]
          },
          "metadata": {
            "tags": []
          },
          "execution_count": 5
        }
      ]
    },
    {
      "cell_type": "markdown",
      "metadata": {
        "id": "Tkp6Aq9-IKyM"
      },
      "source": [
        "#### Health check script:"
      ]
    },
    {
      "cell_type": "code",
      "metadata": {
        "colab": {
          "base_uri": "https://localhost:8080/"
        },
        "id": "OGi4F_14H7YM",
        "outputId": "0c44b31c-ae05-4e03-9e1d-3b912435822e"
      },
      "source": [
        "#!/usr/bin/env python3\n",
        "import psutil\n",
        "import shutil\n",
        "\n",
        "def check_disk_usage(disk):\n",
        "  du = shutil.disk_usage(disk)\n",
        "  free = du.free / du.total * 100\n",
        "  return free >20\n",
        "\n",
        "def check_cpu_usage():\n",
        "  usage = psutil.cpu_percent(1)\n",
        "  return usage <75\n",
        "\n",
        "if not check_disk_usage('/') or not check_cpu_usage():\n",
        "  print('ERROR!')\n",
        "else:\n",
        "  print('Everything is OK!')"
      ],
      "execution_count": null,
      "outputs": [
        {
          "output_type": "stream",
          "text": [
            "Everything is OK!\n"
          ],
          "name": "stdout"
        }
      ]
    },
    {
      "cell_type": "markdown",
      "metadata": {
        "id": "cPuawREhL4ar"
      },
      "source": [
        "###Qwiklabs"
      ]
    },
    {
      "cell_type": "code",
      "metadata": {
        "id": "Xd7U1dfxPySb"
      },
      "source": [
        "cd scripts\n",
        "ls #to see list of files in dicrectory\n",
        "cat #on file name"
      ],
      "execution_count": null,
      "outputs": []
    },
    {
      "cell_type": "code",
      "metadata": {
        "colab": {
          "base_uri": "https://localhost:8080/"
        },
        "id": "UtcwqB46JFUc",
        "outputId": "fc9df4a2-7021-4e7d-d626-34320ef8a005"
      },
      "source": [
        "\n",
        "#!/usr/bin/env python3\n",
        "import shutil\n",
        "import psutil\n",
        "def check_disk_usage(disk):\n",
        "    \"\"\"Verifies that there's enough free space on disk\"\"\"\n",
        "    du = shutil.disk_usage(disk)\n",
        "    free = du.free / du.total * 100\n",
        "    return free > 20\n",
        "def check_cpu_usage():\n",
        "    \"\"\"Verifies that there's enough unused CPU\"\"\"\n",
        "    usage = psutil.cpu_percent(1)\n",
        "    return usage > 75\n",
        "# If there's not enough disk, or not enough CPU, print an error\n",
        "if not check_disk_usage('/') or not check_cpu_usage():\n",
        "    print(\"ERROR!\")"
      ],
      "execution_count": null,
      "outputs": [
        {
          "output_type": "execute_result",
          "data": {
            "text/plain": [
              "66.66666666666667"
            ]
          },
          "metadata": {
            "tags": []
          },
          "execution_count": 12
        }
      ]
    },
    {
      "cell_type": "code",
      "metadata": {
        "id": "ZQtfzDnaPv1N"
      },
      "source": [
        "./health_checks.py #gives permission error\n",
        "sudo chmod +x health_checks.py #to get permissions\n",
        "./health_checks.py"
      ],
      "execution_count": null,
      "outputs": []
    },
    {
      "cell_type": "markdown",
      "metadata": {
        "id": "5O2vhhK3UDKD"
      },
      "source": [
        "Ctrl+o -> to save\n",
        "\n",
        "Ctrl+x -> to exit program\n",
        "\n",
        "Network file:"
      ]
    },
    {
      "cell_type": "code",
      "metadata": {
        "id": "z2yRKgOMZ80s"
      },
      "source": [
        "#!/usr/bin/env python3\n",
        "\n",
        "import requests\n",
        "import socket\n",
        "\n",
        "def check_localhost():\n",
        "    localhost = socket.gethostbyname('localhost')\n",
        "    return localhost == '127.0.0.1'\n",
        "\n",
        "def check_connectivity():\n",
        "    request = requests.get(\"http://www.google.com\")\n",
        "    return 200"
      ],
      "execution_count": null,
      "outputs": []
    },
    {
      "cell_type": "markdown",
      "metadata": {
        "id": "brzzLWi0bH-y"
      },
      "source": [
        "Health_check file:"
      ]
    },
    {
      "cell_type": "code",
      "metadata": {
        "id": "WlfANjcHa3ND"
      },
      "source": [
        "#!/usr/bin/env python3\n",
        "import shutil\n",
        "import psutil\n",
        "from network import *\n",
        "\n",
        "def check_disk_usage(disk):\n",
        "    \"\"\"Verifies that there's enough free space on disk\"\"\"\n",
        "    du = shutil.disk_usage(disk)\n",
        "    free = du.free / du.total * 100\n",
        "    return free > 20\n",
        "\n",
        "def check_cpu_usage():\n",
        "    \"\"\"Verifies that there's enough unused CPU\"\"\"\n",
        "    usage = psutil.cpu_percent(1)\n",
        "    return usage < 75\n",
        "\n",
        "# If there's not enough disk, or not enough CPU, print an error\n",
        "if not check_disk_usage('/') or not check_cpu_usage():\n",
        "    print(\"ERROR!\")\n",
        "elif check_localhost() and check_connectivity():\n",
        "    print(\"Everything ok\")\n",
        "else:\n",
        "  print('Network checks failed')"
      ],
      "execution_count": null,
      "outputs": []
    },
    {
      "cell_type": "markdown",
      "metadata": {
        "id": "8i_1tlnlbe27"
      },
      "source": [
        "##Programming With Files"
      ]
    },
    {
      "cell_type": "markdown",
      "metadata": {
        "id": "pKIhNwhLHiWp"
      },
      "source": [
        "File Paths:\n",
        "- Absolute\n",
        "- Relative"
      ]
    },
    {
      "cell_type": "code",
      "metadata": {
        "id": "V3wXvcUaYZ1g"
      },
      "source": [
        "file = open('spider.txt') #assuming same directory, but can use absolute\n",
        "#goes through File Descriptor to see editing/etc settings\n",
        "print(file.readline()) #read one line of file"
      ],
      "execution_count": null,
      "outputs": []
    },
    {
      "cell_type": "code",
      "metadata": {
        "id": "AbRV0rIcY6z9"
      },
      "source": [
        "print(file.read()) #reads entire file from where you started"
      ],
      "execution_count": null,
      "outputs": []
    },
    {
      "cell_type": "code",
      "metadata": {
        "id": "z-0xdNVLZDOe"
      },
      "source": [
        "file.close() # to close file usage"
      ],
      "execution_count": null,
      "outputs": []
    },
    {
      "cell_type": "code",
      "metadata": {
        "id": "qBpWXwk9Zhk3"
      },
      "source": [
        "with open('spider.text') as file: #using WITH after done will Auto-close the file\n",
        "  print(file.readline())"
      ],
      "execution_count": null,
      "outputs": []
    },
    {
      "cell_type": "markdown",
      "metadata": {
        "id": "Kb8AP-L_Z7PO"
      },
      "source": [
        "###Iterating Through Files"
      ]
    },
    {
      "cell_type": "code",
      "metadata": {
        "id": "LeSiOlFGZ-Me"
      },
      "source": [
        "with open('spider.txt') as file:\n",
        "  for line in file:\n",
        "    print(line.upper()) #will add extra new line character when reading"
      ],
      "execution_count": null,
      "outputs": []
    },
    {
      "cell_type": "code",
      "metadata": {
        "id": "CK70TMB0hseo"
      },
      "source": [
        "with open('spider.txt') as file:\n",
        "  for line in file:\n",
        "    print(line.strip().upper()) #Strip to get rud if extra lines."
      ],
      "execution_count": null,
      "outputs": []
    },
    {
      "cell_type": "code",
      "metadata": {
        "id": "IscDmRkciJs-"
      },
      "source": [
        "#another way is to make lines into a list & then sort.\n",
        "file = open('spider.txt')\n",
        "lines = file.readlines()\n",
        "file.close()\n",
        "lines.sort() #sorted alphabetically, will have \\n for new lines strings.\n",
        "print(lines)"
      ],
      "execution_count": null,
      "outputs": []
    },
    {
      "cell_type": "markdown",
      "metadata": {
        "id": "X1313ZRIjxzu"
      },
      "source": [
        "Escape Sequences - \\ , like: \n",
        "- \\n newline\n",
        "- \\t - tab"
      ]
    },
    {
      "cell_type": "code",
      "metadata": {
        "id": "nEf95kwvooi4"
      },
      "source": [
        "with open('novel.txt', 'w') as file: #open file as Write method (if default/nothing - uses 'read')\n",
        "  file.write('It was a dark and stormy night') #update file."
      ],
      "execution_count": null,
      "outputs": []
    },
    {
      "cell_type": "markdown",
      "metadata": {
        "id": "7BE4LYIJpLsG"
      },
      "source": [
        "If open file FOR WRITING, old file contents will be DELETED on open.\n",
        "\n",
        "**Mode types:**\n",
        "- 'r' open for reading (default)\n",
        "- 'w' open for writing, truncating the file first\n",
        "- 'x' open for exclusive creation, failing if the file already exists\n",
        "- 'a' open for writing, appending to the end of the file if it exists\n",
        "- 'b' binary mode\n",
        "- 't' text mode (default)\n",
        "- '+' open for updating (reading and writing)"
      ]
    },
    {
      "cell_type": "markdown",
      "metadata": {
        "id": "Ql_-9eWwrHe_"
      },
      "source": [
        "####Practice:"
      ]
    },
    {
      "cell_type": "code",
      "metadata": {
        "id": "3sCmiVTWpRd2"
      },
      "source": [
        "guests = open(\"guests.txt\", \"w\")\n",
        "initial_guests = [\"Bob\", \"Andrea\", \"Manuel\", \"Polly\", \"Khalid\"]\n",
        "\n",
        "for i in initial_guests:\n",
        "    guests.write(i + \"\\n\")\n",
        "    \n",
        "guests.close()"
      ],
      "execution_count": null,
      "outputs": []
    },
    {
      "cell_type": "code",
      "metadata": {
        "id": "baURsmF8rSjG"
      },
      "source": [
        "with open(\"guests.txt\") as guests:\n",
        "    for line in guests:\n",
        "        print(line)"
      ],
      "execution_count": null,
      "outputs": []
    },
    {
      "cell_type": "code",
      "metadata": {
        "id": "u19qE62KrVDW"
      },
      "source": [
        "new_guests = [\"Sam\", \"Danielle\", \"Jacob\"]\n",
        "\n",
        "with open(\"guests.txt\", 'a') as guests:\n",
        "    for i in new_guests:\n",
        "        guests.write(i + \"\\n\")\n",
        "\n",
        "guests.close()"
      ],
      "execution_count": null,
      "outputs": []
    },
    {
      "cell_type": "code",
      "metadata": {
        "id": "Jxy6j6zrrpP2"
      },
      "source": [
        "with open(\"guests.txt\") as guests:\n",
        "    for line in guests:\n",
        "        print(line)"
      ],
      "execution_count": null,
      "outputs": []
    },
    {
      "cell_type": "code",
      "metadata": {
        "id": "1cEQcwdUr4Y2"
      },
      "source": [
        "checked_out=[\"Andrea\", \"Manuel\", \"Khalid\"]\n",
        "temp_list=[]\n",
        "\n",
        "with open(\"guests.txt\", 'r') as guests:\n",
        "    for g in guests:\n",
        "        temp_list.append(g.strip())\n",
        "\n",
        "with open(\"guests.txt\", 'w') as guests:\n",
        "    for name in temp_list:\n",
        "        if name not in checked_out:\n",
        "            guests.write(name + \"\\n\")"
      ],
      "execution_count": null,
      "outputs": []
    },
    {
      "cell_type": "code",
      "metadata": {
        "id": "BnD8xvVhsRLW"
      },
      "source": [
        "with open(\"guests.txt\") as guests:\n",
        "    for line in guests:\n",
        "        print(line)"
      ],
      "execution_count": null,
      "outputs": []
    },
    {
      "cell_type": "code",
      "metadata": {
        "id": "YEn4VCImsSqV"
      },
      "source": [
        "guests_to_check = ['Bob', 'Andrea']\n",
        "checked_in = []\n",
        "\n",
        "with open(\"guests.txt\",\"r\") as guests:\n",
        "    for g in guests:\n",
        "        checked_in.append(g.strip())\n",
        "    for check in guests_to_check:\n",
        "        if check in checked_in:\n",
        "            print(\"{} is checked in\".format(check))\n",
        "        else:\n",
        "            print(\"{} is not checked in\".format(check))"
      ],
      "execution_count": null,
      "outputs": []
    },
    {
      "cell_type": "markdown",
      "metadata": {
        "id": "EgMyuTsis4lm"
      },
      "source": [
        "###Managing Files & Directories"
      ]
    },
    {
      "cell_type": "code",
      "metadata": {
        "id": "2QtKyNaYs0G2"
      },
      "source": [
        "import os #works on all op systems.\n",
        "os.remove('novel.txt')"
      ],
      "execution_count": null,
      "outputs": []
    },
    {
      "cell_type": "code",
      "metadata": {
        "id": "JEvEXQAxzkOH"
      },
      "source": [
        "os.rename('first_draft.txt', 'finished_masterpiece.txt')"
      ],
      "execution_count": null,
      "outputs": []
    },
    {
      "cell_type": "code",
      "metadata": {
        "colab": {
          "base_uri": "https://localhost:8080/"
        },
        "id": "uHM5EnfvzvHW",
        "outputId": "4f75895a-a9bc-44dd-ac81-1e878693077a"
      },
      "source": [
        "os.path.exists('finished_masterpiece.txt') #check if a file exists in filepath"
      ],
      "execution_count": null,
      "outputs": [
        {
          "output_type": "execute_result",
          "data": {
            "text/plain": [
              "False"
            ]
          },
          "metadata": {
            "tags": []
          },
          "execution_count": 13
        }
      ]
    },
    {
      "cell_type": "code",
      "metadata": {
        "colab": {
          "base_uri": "https://localhost:8080/"
        },
        "id": "VTHkfih1z8Rm",
        "outputId": "ff05ffa8-79ee-4db6-fbd8-1ec71f90c59a"
      },
      "source": [
        "os.path.exists('guests.txt')"
      ],
      "execution_count": null,
      "outputs": [
        {
          "output_type": "execute_result",
          "data": {
            "text/plain": [
              "True"
            ]
          },
          "metadata": {
            "tags": []
          },
          "execution_count": 6
        }
      ]
    },
    {
      "cell_type": "code",
      "metadata": {
        "id": "A9vhjyDn0BsG",
        "colab": {
          "base_uri": "https://localhost:8080/"
        },
        "outputId": "a3eb0d12-f598-4c00-db7e-fda62a0b9936"
      },
      "source": [
        "os.path.getsize('guests.txt')"
      ],
      "execution_count": null,
      "outputs": [
        {
          "output_type": "execute_result",
          "data": {
            "text/plain": [
              "31"
            ]
          },
          "metadata": {
            "tags": []
          },
          "execution_count": 7
        }
      ]
    },
    {
      "cell_type": "code",
      "metadata": {
        "colab": {
          "base_uri": "https://localhost:8080/"
        },
        "id": "ftU43NMRQm0x",
        "outputId": "f5eec331-e701-49e7-e603-6e13196599b4"
      },
      "source": [
        "os.path.getmtime('guests.txt') #unix timestamp in seconds Since January 1, 1970"
      ],
      "execution_count": null,
      "outputs": [
        {
          "output_type": "execute_result",
          "data": {
            "text/plain": [
              "1623283866.6675153"
            ]
          },
          "metadata": {
            "tags": []
          },
          "execution_count": 8
        }
      ]
    },
    {
      "cell_type": "code",
      "metadata": {
        "colab": {
          "base_uri": "https://localhost:8080/"
        },
        "id": "sFA3OdnIQsLQ",
        "outputId": "f2a4e383-c798-4292-a3cb-547008dfaed9"
      },
      "source": [
        "import datetime\n",
        "timestamp = os.path.getmtime('guests.txt')\n",
        "datetime.datetime.fromtimestamp(timestamp)"
      ],
      "execution_count": null,
      "outputs": [
        {
          "output_type": "execute_result",
          "data": {
            "text/plain": [
              "datetime.datetime(2021, 6, 10, 0, 11, 6, 667515)"
            ]
          },
          "metadata": {
            "tags": []
          },
          "execution_count": 10
        }
      ]
    },
    {
      "cell_type": "code",
      "metadata": {
        "id": "uX8TRc2BRSox"
      },
      "source": [
        "import os\n",
        "file= \"file.dat\"\n",
        "if os.path.isfile(file):\n",
        "    print(os.path.isfile(file))\n",
        "    print(os.path.getsize(file))\n",
        "else:\n",
        "\tprint(os.path.isfile(file))\n",
        "  print(\"File not found\")"
      ],
      "execution_count": null,
      "outputs": []
    },
    {
      "cell_type": "code",
      "metadata": {
        "colab": {
          "base_uri": "https://localhost:8080/",
          "height": 36
        },
        "id": "JCVbYwRNRtVw",
        "outputId": "a6c393d1-94a0-4154-e8b7-a44f5f2ee3b3"
      },
      "source": [
        "os.path.abspath('guests.txt') #turn related file path INTO Absolute file path."
      ],
      "execution_count": null,
      "outputs": [
        {
          "output_type": "execute_result",
          "data": {
            "application/vnd.google.colaboratory.intrinsic+json": {
              "type": "string"
            },
            "text/plain": [
              "'/content/guests.txt'"
            ]
          },
          "metadata": {
            "tags": []
          },
          "execution_count": 17
        }
      ]
    },
    {
      "cell_type": "markdown",
      "metadata": {
        "id": "ebEXsARhSnaR"
      },
      "source": [
        "#### Directories"
      ]
    },
    {
      "cell_type": "code",
      "metadata": {
        "colab": {
          "base_uri": "https://localhost:8080/"
        },
        "id": "-dt1DnGRSDVh",
        "outputId": "805af1d0-c67d-4b28-d5d0-0fa2c085035e"
      },
      "source": [
        "print(os.getcwd()) #get home/default directory"
      ],
      "execution_count": null,
      "outputs": [
        {
          "output_type": "stream",
          "text": [
            "/content/new_directory\n"
          ],
          "name": "stdout"
        }
      ]
    },
    {
      "cell_type": "code",
      "metadata": {
        "id": "2Pbsp_sfThdR"
      },
      "source": [
        "os.mkdir('new_directory') #CREATE a new directory in current directory\n",
        "#chdir -> to update dirctory"
      ],
      "execution_count": null,
      "outputs": []
    },
    {
      "cell_type": "code",
      "metadata": {
        "colab": {
          "base_uri": "https://localhost:8080/",
          "height": 36
        },
        "id": "LWC6S9CSTrtP",
        "outputId": "e1fd6cba-00dd-493e-8a96-ceba97245e20"
      },
      "source": [
        "os.chdir('new_directory') #to UPDATE directory & make it default\n",
        "os.getcwd()"
      ],
      "execution_count": null,
      "outputs": [
        {
          "output_type": "execute_result",
          "data": {
            "application/vnd.google.colaboratory.intrinsic+json": {
              "type": "string"
            },
            "text/plain": [
              "'/content/new_directory'"
            ]
          },
          "metadata": {
            "tags": []
          },
          "execution_count": 21
        }
      ]
    },
    {
      "cell_type": "code",
      "metadata": {
        "id": "9IkaWpLgT-Jh"
      },
      "source": [
        "os.mkdir('newer_directory')\n",
        "os.rmdir('newer_directory') #REMOVE Directory\n",
        "#ONLY works if directory is empty"
      ],
      "execution_count": null,
      "outputs": []
    },
    {
      "cell_type": "code",
      "metadata": {
        "colab": {
          "base_uri": "https://localhost:8080/"
        },
        "id": "guEz1WKgUQIw",
        "outputId": "2bff19c6-5980-4a84-943d-18b2d9f25447"
      },
      "source": [
        "import os\n",
        "os.listdir('website') #checks contents\n",
        "dir = 'website'\n",
        "for name in os.listdir(dir):\n",
        "  fullname = os.path.join(dir, name) #make name of path, works Cross-Platform\n",
        "  if os.path.isdir(fullname):\n",
        "    print('{} is a directory'.format(fullname))\n",
        "  else:\n",
        "    print('{} is a file'.format(fullname))"
      ],
      "execution_count": null,
      "outputs": [
        {
          "output_type": "stream",
          "text": [
            "website/test is a directory\n",
            "website/.ipynb_checkpoints is a directory\n"
          ],
          "name": "stdout"
        }
      ]
    },
    {
      "cell_type": "markdown",
      "metadata": {
        "id": "AQMo44SdW-Rp"
      },
      "source": [
        "####Quiz"
      ]
    },
    {
      "cell_type": "code",
      "metadata": {
        "colab": {
          "base_uri": "https://localhost:8080/"
        },
        "id": "G8xYVjx_UcRw",
        "outputId": "cc86f366-70bf-432b-b6e7-5664dc997bd1"
      },
      "source": [
        "import os\n",
        "def create_python_script(filename):\n",
        "  comments = \"# Start of a new Python program\"\n",
        "  with open(filename, 'w') as file:\n",
        "    file.write(comments)\n",
        "  filesize = os.path.getsize(filename)\n",
        "  return(filesize)\n",
        "\n",
        "print(create_python_script(\"program.py\"))"
      ],
      "execution_count": null,
      "outputs": [
        {
          "output_type": "stream",
          "text": [
            "31\n"
          ],
          "name": "stdout"
        }
      ]
    },
    {
      "cell_type": "code",
      "metadata": {
        "colab": {
          "base_uri": "https://localhost:8080/"
        },
        "id": "9QkGJrqUXU-R",
        "outputId": "3f39163b-5afe-49bb-9664-ccc39126ea4a"
      },
      "source": [
        "import os\n",
        "\n",
        "def new_directory(directory, filename):\n",
        "  # Before creating a new directory, check to see if it already exists\n",
        "  if os.path.isdir(directory) == False:\n",
        "    os.mkdir(directory)\n",
        "\n",
        "  # Create the new file inside of the new directory\n",
        "  os.chdir(directory)\n",
        "  with open (filename, 'w') as file:\n",
        "    pass\n",
        "  os.chdir('..')\n",
        "\n",
        "  # Return the list of files in the new directory\n",
        "  return os.listdir(directory)\n",
        "\n",
        "print(new_directory(\"PythonPrograms\", \"script.py\"))"
      ],
      "execution_count": null,
      "outputs": [
        {
          "output_type": "stream",
          "text": [
            "['script.py']\n"
          ],
          "name": "stdout"
        }
      ]
    },
    {
      "cell_type": "code",
      "metadata": {
        "colab": {
          "base_uri": "https://localhost:8080/"
        },
        "id": "CmFaGRhyZUKg",
        "outputId": "0cad68cd-0de4-44ed-fae2-b6994eb638cd"
      },
      "source": [
        "import os\n",
        "import datetime\n",
        "\n",
        "def file_date(filename):\n",
        "  # Create the file in the current directory\n",
        "  with open(filename, 'w') as file:\n",
        "    pass\n",
        "  timestamp = os.path.getmtime(filename)\n",
        "  time = datetime.datetime.fromtimestamp(timestamp).date()\n",
        "  \n",
        "  # Return just the date portion \n",
        "  return (\"{}\".format(time))\n",
        "\n",
        "print(file_date(\"newfile.txt\")) \n",
        "# Should be today's date in the format of yyyy-mm-dd"
      ],
      "execution_count": null,
      "outputs": [
        {
          "output_type": "stream",
          "text": [
            "2021-06-10\n"
          ],
          "name": "stdout"
        }
      ]
    },
    {
      "cell_type": "code",
      "metadata": {
        "colab": {
          "base_uri": "https://localhost:8080/"
        },
        "id": "sRMq8VTyZ8tQ",
        "outputId": "1cb5786e-d6cd-4d8a-8d15-6091d03dee19"
      },
      "source": [
        "import os\n",
        "def parent_directory():\n",
        "  # Create a relative path to the parent \n",
        "  # of the current working directory \n",
        "  relative_parent = os.path.join(os.getcwd(), os.pardir)\n",
        "\n",
        "  # Return the absolute path of the parent directory\n",
        "  return os.path.abspath(relative_parent)\n",
        "\n",
        "print(parent_directory())"
      ],
      "execution_count": null,
      "outputs": [
        {
          "output_type": "stream",
          "text": [
            "/content\n"
          ],
          "name": "stdout"
        }
      ]
    },
    {
      "cell_type": "markdown",
      "metadata": {
        "id": "3RdnDiw5bkGg"
      },
      "source": [
        "### Reading & Writing CSV Files"
      ]
    },
    {
      "cell_type": "code",
      "metadata": {
        "id": "u1VQwPTFbfQA"
      },
      "source": [
        "import csv\n",
        "f = open('csv_file.txt', 'w')\n",
        "csv_f = csv.reader(f)"
      ],
      "execution_count": null,
      "outputs": []
    },
    {
      "cell_type": "code",
      "metadata": {
        "id": "GppgGKctKpDr"
      },
      "source": [
        "for row in csv_f:\n",
        "  name, phone, role = row #parse the data\n",
        "  print('Name: {}, Phone: {}, Role {}'.format(name, phone, role))"
      ],
      "execution_count": null,
      "outputs": []
    },
    {
      "cell_type": "code",
      "metadata": {
        "id": "wTgwfjuILZNS"
      },
      "source": [
        "f.close()"
      ],
      "execution_count": null,
      "outputs": []
    },
    {
      "cell_type": "markdown",
      "metadata": {
        "id": "_r-8RydgLgIC"
      },
      "source": [
        "#### Generating CSV files"
      ]
    },
    {
      "cell_type": "code",
      "metadata": {
        "id": "_EBKbv1kLbea"
      },
      "source": [
        "hosts =[['workstation.local', '192.168.25.46'], ['webserver.cloud', '10.2.5.6']] #list of data"
      ],
      "execution_count": null,
      "outputs": []
    },
    {
      "cell_type": "code",
      "metadata": {
        "id": "O-lqCeMpLcFD"
      },
      "source": [
        "with open('hosts.csv', 'w') as hosts_csv:\n",
        "  writer = csv.writer(hosts_csv)\n",
        "  writer.writerows(hosts)"
      ],
      "execution_count": null,
      "outputs": []
    },
    {
      "cell_type": "code",
      "metadata": {
        "colab": {
          "base_uri": "https://localhost:8080/"
        },
        "id": "FP_0CVSFMQgb",
        "outputId": "a66058d6-1c22-408b-9449-e2ab433b02b6"
      },
      "source": [
        "cat hosts.csv"
      ],
      "execution_count": null,
      "outputs": [
        {
          "output_type": "stream",
          "text": [
            "workstation.local,192.168.25.46\r\n",
            "webserver.cloud,10.2.5.6\r\n"
          ],
          "name": "stdout"
        }
      ]
    },
    {
      "cell_type": "markdown",
      "metadata": {
        "id": "39zlWiymMf_C"
      },
      "source": [
        "#### Writing CSV Files with Dictionaries"
      ]
    },
    {
      "cell_type": "code",
      "metadata": {
        "id": "rWUjN1yWMR8q"
      },
      "source": [
        "with open('software.csv') as software:\n",
        "  reader = csv.DictReader(software)\n",
        "  for row in reader:\n",
        "    print(('{} has {} users').format(row['name'], row['users']))"
      ],
      "execution_count": null,
      "outputs": []
    },
    {
      "cell_type": "code",
      "metadata": {
        "id": "EyFw3S8MQuVN"
      },
      "source": [
        "users = [{'name': 'Sol Mansi', 'username': 'solm', 'department':'IT'}, {'name': 'Jay Lee', 'username': 'jl', 'department':'Finance'}]\n",
        "keys = ['name', 'username', 'department']\n",
        "with open('by_department.csv', 'w') as by_department:\n",
        "  writer = csv.DictWriter(by_department, fieldnames = keys) #fieldnames needs headers\n",
        "  writer.writeheader() #will create first line of csv based on keys passed\n",
        "  writer.writerows(users) #will turn list of dictionaries into values"
      ],
      "execution_count": null,
      "outputs": []
    },
    {
      "cell_type": "code",
      "metadata": {
        "colab": {
          "base_uri": "https://localhost:8080/"
        },
        "id": "C3vqq7R_RcV8",
        "outputId": "c07a74ae-ae0c-4094-a839-132d6f4a325e"
      },
      "source": [
        "cat by_department.csv"
      ],
      "execution_count": null,
      "outputs": [
        {
          "output_type": "stream",
          "text": [
            "name,username,department\r\n",
            "Sol Mansi,solm,IT\r\n",
            "Jay Lee,jl,Finance\r\n"
          ],
          "name": "stdout"
        }
      ]
    },
    {
      "cell_type": "markdown",
      "metadata": {
        "id": "JvMZOwFnSb9E"
      },
      "source": [
        "####Quiz"
      ]
    },
    {
      "cell_type": "code",
      "metadata": {
        "colab": {
          "base_uri": "https://localhost:8080/"
        },
        "id": "AuooEoknR3F7",
        "outputId": "6d9a81dc-547f-49ef-db81-b1d61c9482c4"
      },
      "source": [
        "import os\n",
        "import csv\n",
        "\n",
        "# Create a file with data in it\n",
        "def create_file(filename):\n",
        "  with open(filename, \"w\") as file:\n",
        "    file.write(\"name,color,type\\n\")\n",
        "    file.write(\"carnation,pink,annual\\n\")\n",
        "    file.write(\"daffodil,yellow,perennial\\n\")\n",
        "    file.write(\"iris,blue,perennial\\n\")\n",
        "    file.write(\"poinsettia,red,perennial\\n\")\n",
        "    file.write(\"sunflower,yellow,annual\\n\")\n",
        "\n",
        "# Read the file contents and format the information about each row\n",
        "def contents_of_file(filename):\n",
        "  return_string = \"\"\n",
        "  # Call the function to create the file \n",
        "  create_file(filename)\n",
        "  # Open the file\n",
        "  with open(filename, 'r') as file:\n",
        "    # Read the rows of the file into a dictionary\n",
        "    dic = csv.DictReader(file)\n",
        "    # Process each item of the dictionary\n",
        "    for row in dic:\n",
        "      return_string += \"a {} {} is {}\\n\".format(row[\"color\"], row[\"name\"], row[\"type\"])\n",
        "  return return_string\n",
        "\n",
        "#Call the function\n",
        "print(contents_of_file(\"flowers.csv\"))"
      ],
      "execution_count": null,
      "outputs": [
        {
          "output_type": "stream",
          "text": [
            "a pink carnation is annual\n",
            "a yellow daffodil is perennial\n",
            "a blue iris is perennial\n",
            "a red poinsettia is perennial\n",
            "a yellow sunflower is annual\n",
            "\n"
          ],
          "name": "stdout"
        }
      ]
    },
    {
      "cell_type": "code",
      "metadata": {
        "colab": {
          "base_uri": "https://localhost:8080/"
        },
        "id": "mWSHAoLfiAbg",
        "outputId": "79c30730-bbf7-46dd-aace-343c1a0068bc"
      },
      "source": [
        "import os\n",
        "import csv\n",
        "\n",
        "# Create a file with data in it\n",
        "def create_file(filename):\n",
        "  with open(filename, \"w\") as file:\n",
        "    file.write(\"name,color,type\\n\")\n",
        "    file.write(\"carnation,pink,annual\\n\")\n",
        "    file.write(\"daffodil,yellow,perennial\\n\")\n",
        "    file.write(\"iris,blue,perennial\\n\")\n",
        "    file.write(\"poinsettia,red,perennial\\n\")\n",
        "    file.write(\"sunflower,yellow,annual\\n\")\n",
        "\n",
        "# Read the file contents and format the information about each row\n",
        "def contents_of_file(filename):\n",
        "  return_string = \"\"\n",
        "\n",
        "  # Call the function to create the file \n",
        "  create_file(filename)\n",
        "\n",
        "  # Open the file\n",
        "  with open(filename) as file:\n",
        "    # Read the rows of the file\n",
        "    rows = csv.reader(file)\n",
        "    headers = next(rows)\n",
        "    # Process each row\n",
        "    for row in rows:\n",
        "      name, color, type = row\n",
        "      # Format the return string for data rows only\n",
        "      return_string += \"a {} {} is {}\\n\".format(color, name, type)\n",
        "  return return_string\n",
        "\n",
        "#Call the function\n",
        "print(contents_of_file(\"flowers.csv\"))"
      ],
      "execution_count": null,
      "outputs": [
        {
          "output_type": "stream",
          "text": [
            "a pink carnation is annual\n",
            "a yellow daffodil is perennial\n",
            "a blue iris is perennial\n",
            "a red poinsettia is perennial\n",
            "a yellow sunflower is annual\n",
            "\n"
          ],
          "name": "stdout"
        }
      ]
    },
    {
      "cell_type": "markdown",
      "metadata": {
        "id": "yAtLhNoUnZLQ"
      },
      "source": [
        "####Qwiklabs Quiz"
      ]
    },
    {
      "cell_type": "code",
      "metadata": {
        "id": "8KeQ4WiOlK7g"
      },
      "source": [
        "cd data #to go into location\n",
        "ls # to see what is in folder\n",
        "cat employees.csv # to see contents of file\n",
        "cd ~/scripts # to go into folder\n",
        "\n",
        "chmod +x generate_report.py #to update file permissions\n",
        "./generate_report.py # to run file"
      ],
      "execution_count": null,
      "outputs": []
    },
    {
      "cell_type": "code",
      "metadata": {
        "id": "IV8tpvPwGt-T"
      },
      "source": [
        "#!/usr/bin/env python3\n",
        "\n",
        "import csv\n",
        "\n",
        "def read_employees(csv_file_location):\n",
        "  csv.register_dialect('empDialect', skipinitialspace=True, strict=True)\n",
        "  employee_file = csv.DictReader(open(csv_file_location), dialect = 'empDialect')\n",
        "  employee_list = []\n",
        "  for data in employee_file:\n",
        "    employee_list.append(data)\n",
        "  return employee_list\n",
        "\n",
        "def process_data(employee_list):\n",
        "  department_list = []\n",
        "  for employee_data in employee_list:\n",
        "    department_list.append(employee_data['Department'])\n",
        "  \n",
        "  department_data = {}\n",
        "  for department_name in set(department_list):\n",
        "    department_data[department_name] = department_list.count(department_name)\n",
        "  return department_data\n",
        "\n",
        "def write_report(dictionary, report_file):\n",
        "  with open(report_file, \"w+\") as f:\n",
        "    for k in sorted(dictionary):\n",
        "      f.write(str(k)+':'+str(dictionary[k])+'\\n')\n",
        "    f.close()\n",
        "\n",
        "employee_list = read_employees('/home/student/data/employees.csv')\n",
        "print(employee_list)\n",
        "\n",
        "dictionary = process_data(employee_list)\n",
        "print(dictionary)\n",
        "\n",
        "write_report(dictionary, '/home/student/data/report.txt')"
      ],
      "execution_count": null,
      "outputs": []
    },
    {
      "cell_type": "markdown",
      "metadata": {
        "id": "8tCtb8IZycdZ"
      },
      "source": [
        "##Regular Expressions"
      ]
    },
    {
      "cell_type": "code",
      "metadata": {
        "colab": {
          "base_uri": "https://localhost:8080/"
        },
        "id": "A3sKExHWGthy",
        "outputId": "85cee627-2f09-4afc-81a5-f46c414ad926"
      },
      "source": [
        "log = 'July 31 07 my computer [12456]: ERROR'\n",
        "spot = log.index('[')\n",
        "end = log.index(']')\n",
        "print(log[spot+1:end])"
      ],
      "execution_count": null,
      "outputs": [
        {
          "output_type": "stream",
          "text": [
            "12456\n"
          ],
          "name": "stdout"
        }
      ]
    },
    {
      "cell_type": "code",
      "metadata": {
        "colab": {
          "base_uri": "https://localhost:8080/"
        },
        "id": "MT0aG1bjG1SK",
        "outputId": "9558e1c9-d74c-4453-e70a-fdb697a3c007"
      },
      "source": [
        "import re\n",
        "log = 'July 31 07 my computer [12456]: ERROR'\n",
        "regex = r'\\[(\\d+)\\]'\n",
        "result = re.search(regex, log)\n",
        "print(result[1])"
      ],
      "execution_count": null,
      "outputs": [
        {
          "output_type": "stream",
          "text": [
            "12456\n"
          ],
          "name": "stdout"
        }
      ]
    },
    {
      "cell_type": "markdown",
      "metadata": {
        "id": "eaM3WGaxI0ef"
      },
      "source": [
        "### Grep - for matching, case sensitive"
      ]
    },
    {
      "cell_type": "code",
      "metadata": {
        "id": "9MO4oIKrIEGn"
      },
      "source": [
        "grep thon /usr/share/dict/words"
      ],
      "execution_count": null,
      "outputs": []
    },
    {
      "cell_type": "code",
      "metadata": {
        "id": "S6lFkIWrJErG"
      },
      "source": [
        "#for NOT case-sensitive\n",
        "grep -i python /usr/share/dict/words"
      ],
      "execution_count": null,
      "outputs": []
    },
    {
      "cell_type": "markdown",
      "metadata": {
        "id": "vKSaoCg8PWBO"
      },
      "source": [
        "###Reserved Characters"
      ]
    },
    {
      "cell_type": "code",
      "metadata": {
        "id": "y1ezfCP6PTlv"
      },
      "source": [
        "grep l.rts /usr/share/dict/words #dot . stands for any symbol"
      ],
      "execution_count": null,
      "outputs": []
    },
    {
      "cell_type": "code",
      "metadata": {
        "id": "qi6sqlOPP5lF"
      },
      "source": [
        "grep ^fruit /usr/share/dict/words #^ circumflex - all words that START with fruit - PER LINE"
      ],
      "execution_count": null,
      "outputs": []
    },
    {
      "cell_type": "code",
      "metadata": {
        "id": "qu01CnJRQILV"
      },
      "source": [
        "grep fruit$ /usr/share/dict/words #$ dollar sign - all words that END with fruit - PER LINE"
      ],
      "execution_count": null,
      "outputs": []
    },
    {
      "cell_type": "markdown",
      "metadata": {
        "id": "ORL_jbf_RInW"
      },
      "source": [
        "### Basic Regular Expressions"
      ]
    },
    {
      "cell_type": "code",
      "metadata": {
        "colab": {
          "base_uri": "https://localhost:8080/"
        },
        "id": "2gX8nFX0RLyO",
        "outputId": "2fe71e7a-7e0e-4dcf-8783-91066ed86e56"
      },
      "source": [
        "import re\n",
        "result = re.search(r'aza', 'plaza') # r' - raw string that has no special characters, should pass string as is.\n",
        "print(result)"
      ],
      "execution_count": null,
      "outputs": [
        {
          "output_type": "stream",
          "text": [
            "<re.Match object; span=(2, 5), match='aza'>\n"
          ],
          "name": "stdout"
        }
      ]
    },
    {
      "cell_type": "code",
      "metadata": {
        "colab": {
          "base_uri": "https://localhost:8080/"
        },
        "id": "d218rrAdV7uW",
        "outputId": "39002753-724d-4867-e039-8937a6c04533"
      },
      "source": [
        "print(re.search(r'^x', 'xenon'))"
      ],
      "execution_count": null,
      "outputs": [
        {
          "output_type": "stream",
          "text": [
            "<re.Match object; span=(0, 1), match='x'>\n"
          ],
          "name": "stdout"
        }
      ]
    },
    {
      "cell_type": "code",
      "metadata": {
        "colab": {
          "base_uri": "https://localhost:8080/"
        },
        "id": "jWxMT1a1agP2",
        "outputId": "c98b7a94-2f04-4195-9bb4-7d823f63a6af"
      },
      "source": [
        "import re\n",
        "def check_aei (text):\n",
        "  result = re.search(r\"a.e.i\", text)\n",
        "  return result != None\n",
        "\n",
        "print(check_aei(\"academia\")) # True\n",
        "print(check_aei(\"aerial\")) # False\n",
        "print(check_aei(\"paramedic\")) # True"
      ],
      "execution_count": null,
      "outputs": [
        {
          "output_type": "stream",
          "text": [
            "True\n",
            "False\n",
            "True\n"
          ],
          "name": "stdout"
        }
      ]
    },
    {
      "cell_type": "code",
      "metadata": {
        "colab": {
          "base_uri": "https://localhost:8080/"
        },
        "id": "Kln400b8b7Dk",
        "outputId": "0d7e3093-8a58-475b-d2b1-237bec855087"
      },
      "source": [
        "print(re.search(r'p.ng', 'Pangea', re.IGNORECASE))"
      ],
      "execution_count": null,
      "outputs": [
        {
          "output_type": "stream",
          "text": [
            "<re.Match object; span=(0, 4), match='Pang'>\n"
          ],
          "name": "stdout"
        }
      ]
    },
    {
      "cell_type": "markdown",
      "metadata": {
        "id": "U8ziAGvjBjcF"
      },
      "source": [
        "### Wildcards\n",
        "\n",
        "re.search only gives 1st match."
      ]
    },
    {
      "cell_type": "code",
      "metadata": {
        "id": "gfzByrmhcJml",
        "colab": {
          "base_uri": "https://localhost:8080/"
        },
        "outputId": "4fce35c1-dfe3-42e3-f9d4-2bbbf10a7b80"
      },
      "source": [
        "import re\n",
        "print(re.search(r'[Pp]ython', 'Python'))"
      ],
      "execution_count": null,
      "outputs": [
        {
          "output_type": "stream",
          "text": [
            "<re.Match object; span=(0, 6), match='Python'>\n"
          ],
          "name": "stdout"
        }
      ]
    },
    {
      "cell_type": "code",
      "metadata": {
        "colab": {
          "base_uri": "https://localhost:8080/"
        },
        "id": "MI7x-lbrBsuj",
        "outputId": "005abfde-4d07-40a2-a792-d68a62039de3"
      },
      "source": [
        "print(re.search(r'[a-z]way', 'The end of the highway')) #match any letter"
      ],
      "execution_count": null,
      "outputs": [
        {
          "output_type": "stream",
          "text": [
            "<re.Match object; span=(18, 22), match='hway'>\n"
          ],
          "name": "stdout"
        }
      ]
    },
    {
      "cell_type": "code",
      "metadata": {
        "colab": {
          "base_uri": "https://localhost:8080/"
        },
        "id": "C23UM-x6B6Dy",
        "outputId": "1ea23a66-7da1-4ec5-afde-dc2e0de1a735"
      },
      "source": [
        "print(re.search('cloud[a-zA-Z0-9]', 'cloudy')) #match any letter or number"
      ],
      "execution_count": null,
      "outputs": [
        {
          "output_type": "stream",
          "text": [
            "<re.Match object; span=(0, 6), match='cloudy'>\n"
          ],
          "name": "stdout"
        }
      ]
    },
    {
      "cell_type": "code",
      "metadata": {
        "colab": {
          "base_uri": "https://localhost:8080/"
        },
        "id": "IctC9c5ACR3x",
        "outputId": "9b28971e-6457-4f73-e05c-7b25d1ae4649"
      },
      "source": [
        "import re\n",
        "def check_punctuation (text):\n",
        "  result = re.search(r\"[.,:?!]\", text)\n",
        "  return result != None\n",
        "\n",
        "print(check_punctuation(\"This is a sentence that ends with a period.\")) # True\n",
        "print(check_punctuation(\"This is a sentence fragment without a period\")) # False\n",
        "print(check_punctuation(\"Aren't regular expressions awesome?\")) # True\n",
        "print(check_punctuation(\"Wow! We're really picking up some steam now!\")) # True\n",
        "print(check_punctuation(\"End of the line\")) # False"
      ],
      "execution_count": null,
      "outputs": [
        {
          "output_type": "stream",
          "text": [
            "True\n",
            "False\n",
            "True\n",
            "True\n",
            "False\n"
          ],
          "name": "stdout"
        }
      ]
    },
    {
      "cell_type": "code",
      "metadata": {
        "colab": {
          "base_uri": "https://localhost:8080/"
        },
        "id": "zLHel2-gCtAi",
        "outputId": "64975919-cdad-44bf-b7fd-5dcb8ec3560f"
      },
      "source": [
        "print(re.search(r'[^a-zA-z]', 'This is a sentence with spaces')) # [^] - to search if NOT there. Add ' ' if want to EXCLUDE spaces."
      ],
      "execution_count": null,
      "outputs": [
        {
          "output_type": "stream",
          "text": [
            "<re.Match object; span=(4, 5), match=' '>\n"
          ],
          "name": "stdout"
        }
      ]
    },
    {
      "cell_type": "code",
      "metadata": {
        "colab": {
          "base_uri": "https://localhost:8080/"
        },
        "id": "hc1gnspKC__y",
        "outputId": "e2518071-211a-45fe-cad0-9561427528c6"
      },
      "source": [
        "print(re.search(r'cat|dog', 'I like cats.')) # to search OR |"
      ],
      "execution_count": null,
      "outputs": [
        {
          "output_type": "stream",
          "text": [
            "<re.Match object; span=(7, 10), match='cat'>\n"
          ],
          "name": "stdout"
        }
      ]
    },
    {
      "cell_type": "markdown",
      "metadata": {
        "id": "483kWpurDz2q"
      },
      "source": [
        "re.findall - get all matches."
      ]
    },
    {
      "cell_type": "code",
      "metadata": {
        "colab": {
          "base_uri": "https://localhost:8080/"
        },
        "id": "fxedgliwDdPx",
        "outputId": "621b88a7-18c8-478d-a90e-59c9a9bee9e9"
      },
      "source": [
        "print(re.findall(r'cat|dog', 'I like both dogs & cats')) "
      ],
      "execution_count": null,
      "outputs": [
        {
          "output_type": "stream",
          "text": [
            "['dog', 'cat']\n"
          ],
          "name": "stdout"
        }
      ]
    },
    {
      "cell_type": "markdown",
      "metadata": {
        "id": "esM6BnZjEDxC"
      },
      "source": [
        "### Repetition Qualifiers"
      ]
    },
    {
      "cell_type": "code",
      "metadata": {
        "colab": {
          "base_uri": "https://localhost:8080/"
        },
        "id": "C5m98PjIDuyy",
        "outputId": "75561ca2-0d62-46c6-9a34-52de68bdee38"
      },
      "source": [
        "print(re.search(r'Py.*n', 'Python Programming')) #* - to find any character or . that repeats multiple times. \n",
        "#* takes as many characters as possible - GREEDY"
      ],
      "execution_count": null,
      "outputs": [
        {
          "output_type": "stream",
          "text": [
            "<re.Match object; span=(0, 17), match='Python Programmin'>\n"
          ],
          "name": "stdout"
        }
      ]
    },
    {
      "cell_type": "code",
      "metadata": {
        "colab": {
          "base_uri": "https://localhost:8080/"
        },
        "id": "eZ6oRobAI8A9",
        "outputId": "d165f851-2cb0-40e3-86b9-2817794d319a"
      },
      "source": [
        "print(re.search(r'Py[a-z]*n', 'Python Programming')) # to match only letter portion"
      ],
      "execution_count": null,
      "outputs": [
        {
          "output_type": "stream",
          "text": [
            "<re.Match object; span=(0, 6), match='Python'>\n"
          ],
          "name": "stdout"
        }
      ]
    },
    {
      "cell_type": "code",
      "metadata": {
        "colab": {
          "base_uri": "https://localhost:8080/"
        },
        "id": "c2Vb2_8rVfOq",
        "outputId": "dbda6021-754e-4f59-fbb2-8eb13fdf94dc"
      },
      "source": [
        "print(re.search(r'o+l+', 'goldfish')) # either repeated or not"
      ],
      "execution_count": null,
      "outputs": [
        {
          "output_type": "stream",
          "text": [
            "<re.Match object; span=(1, 3), match='ol'>\n"
          ],
          "name": "stdout"
        }
      ]
    },
    {
      "cell_type": "code",
      "metadata": {
        "colab": {
          "base_uri": "https://localhost:8080/"
        },
        "id": "RiA-h7GBWmaY",
        "outputId": "31ae2c22-a656-4fd2-ae52-4fe238a388e0"
      },
      "source": [
        "import re\n",
        "def repeating_letter_a(text):\n",
        "  result = re.search(r\"[Aa][a-zA-Z ]*[Aa]\", text)\n",
        "  return result != None\n",
        "\n",
        "print(repeating_letter_a(\"banana\")) # True\n",
        "print(repeating_letter_a(\"pineapple\")) # False\n",
        "print(repeating_letter_a(\"Animal Kingdom\")) # True\n",
        "print(repeating_letter_a(\"A is for apple\")) # True"
      ],
      "execution_count": null,
      "outputs": [
        {
          "output_type": "stream",
          "text": [
            "True\n",
            "False\n",
            "True\n",
            "True\n"
          ],
          "name": "stdout"
        }
      ]
    },
    {
      "cell_type": "code",
      "metadata": {
        "colab": {
          "base_uri": "https://localhost:8080/"
        },
        "id": "slqpX6kSW8U4",
        "outputId": "6ab5e60c-04c4-497c-c819-ea8ce6c5a6b4"
      },
      "source": [
        "print(re.search(r'p?each', 'To each their own')) #? - either 1 occurance or NONE"
      ],
      "execution_count": null,
      "outputs": [
        {
          "output_type": "stream",
          "text": [
            "<re.Match object; span=(3, 7), match='each'>\n"
          ],
          "name": "stdout"
        }
      ]
    },
    {
      "cell_type": "markdown",
      "metadata": {
        "id": "AVGfdFquYAvJ"
      },
      "source": [
        "### Escaping Characters"
      ]
    },
    {
      "cell_type": "code",
      "metadata": {
        "colab": {
          "base_uri": "https://localhost:8080/"
        },
        "id": "kpcfHA8NXr5o",
        "outputId": "d683425e-da1e-4e25-cde2-5a50781155c2"
      },
      "source": [
        "print(re.search(r'.com', 'welcome'))"
      ],
      "execution_count": null,
      "outputs": [
        {
          "output_type": "stream",
          "text": [
            "<re.Match object; span=(2, 6), match='lcom'>\n"
          ],
          "name": "stdout"
        }
      ]
    },
    {
      "cell_type": "code",
      "metadata": {
        "colab": {
          "base_uri": "https://localhost:8080/"
        },
        "id": "hKCaEn26cCF3",
        "outputId": "36fbedb8-d4ab-4dfc-a7ed-9daba7b721b1"
      },
      "source": [
        "print(re.search(r'\\.com', 'google.com')) # use \\ to mean regular character & not special."
      ],
      "execution_count": null,
      "outputs": [
        {
          "output_type": "stream",
          "text": [
            "<re.Match object; span=(6, 10), match='.com'>\n"
          ],
          "name": "stdout"
        }
      ]
    },
    {
      "cell_type": "code",
      "metadata": {
        "colab": {
          "base_uri": "https://localhost:8080/"
        },
        "id": "tVVNsSzccIbn",
        "outputId": "8cf73c51-e578-44a8-9272-474892b15bae"
      },
      "source": [
        "print(re.search(r'\\w*', 'This is an example')) # \\w - matches letters, numbers & underscores, NOT spaces.\n",
        "# \\d - for digits\n",
        "# \\s - for whitespace characters: space, tab\n",
        "# \\b - for word boundaries"
      ],
      "execution_count": null,
      "outputs": [
        {
          "output_type": "stream",
          "text": [
            "<re.Match object; span=(0, 4), match='This'>\n"
          ],
          "name": "stdout"
        }
      ]
    },
    {
      "cell_type": "code",
      "metadata": {
        "colab": {
          "base_uri": "https://localhost:8080/"
        },
        "id": "sYYJH_hYcsUH",
        "outputId": "c6e5454f-9bca-4732-b5b9-6b9d161bffc7"
      },
      "source": [
        "import re\n",
        "def check_character_groups(text):\n",
        "  result = re.search(r\"\\w+\\s\", text)\n",
        "  return result != None\n",
        "\n",
        "print(check_character_groups(\"One\")) # False\n",
        "print(check_character_groups(\"123  Ready Set GO\")) # True\n",
        "print(check_character_groups(\"username user_01\")) # True\n",
        "print(check_character_groups(\"shopping_list: milk, bread, eggs.\")) # False"
      ],
      "execution_count": null,
      "outputs": [
        {
          "output_type": "stream",
          "text": [
            "False\n",
            "True\n",
            "True\n",
            "False\n"
          ],
          "name": "stdout"
        }
      ]
    },
    {
      "cell_type": "markdown",
      "metadata": {
        "id": "9INB2901d7tZ"
      },
      "source": [
        "www.regex101.com"
      ]
    },
    {
      "cell_type": "markdown",
      "metadata": {
        "id": "9BYYoyRZejUH"
      },
      "source": [
        "### Regex in Action"
      ]
    },
    {
      "cell_type": "code",
      "metadata": {
        "colab": {
          "base_uri": "https://localhost:8080/"
        },
        "id": "qcvGpDkCdbcn",
        "outputId": "e94701e7-e03b-48c9-b1fc-7354a519044a"
      },
      "source": [
        "print(re.search(r'A.*a', 'Argentina'))"
      ],
      "execution_count": null,
      "outputs": [
        {
          "output_type": "stream",
          "text": [
            "<re.Match object; span=(0, 9), match='Argentina'>\n"
          ],
          "name": "stdout"
        }
      ]
    },
    {
      "cell_type": "code",
      "metadata": {
        "colab": {
          "base_uri": "https://localhost:8080/"
        },
        "id": "8R-y93chkf-o",
        "outputId": "747f6a2f-8493-492f-be00-da1cbcbf2a89"
      },
      "source": [
        "print(re.search(r'^A.*a$', 'Azerbaijan')) #Begin & end with A"
      ],
      "execution_count": null,
      "outputs": [
        {
          "output_type": "stream",
          "text": [
            "None\n"
          ],
          "name": "stdout"
        }
      ]
    },
    {
      "cell_type": "code",
      "metadata": {
        "colab": {
          "base_uri": "https://localhost:8080/"
        },
        "id": "ETWxrYWTkw9W",
        "outputId": "b8659f1c-c336-42e5-a480-d3c6faaf6171"
      },
      "source": [
        "pattern = r'^[a-zA-z_][a-zA-Z0-9_]*$'\n",
        "print(re.search(pattern, '_this_is_a_valid_name'))"
      ],
      "execution_count": null,
      "outputs": [
        {
          "output_type": "stream",
          "text": [
            "<re.Match object; span=(0, 21), match='_this_is_a_valid_name'>\n"
          ],
          "name": "stdout"
        }
      ]
    },
    {
      "cell_type": "code",
      "metadata": {
        "colab": {
          "base_uri": "https://localhost:8080/"
        },
        "id": "VXcjQNexlSwm",
        "outputId": "ac60f3ad-9dc5-41e2-bd43-a1660623fddb"
      },
      "source": [
        "print(re.search(pattern, 'this isnt a valid name'))"
      ],
      "execution_count": null,
      "outputs": [
        {
          "output_type": "stream",
          "text": [
            "None\n"
          ],
          "name": "stdout"
        }
      ]
    },
    {
      "cell_type": "code",
      "metadata": {
        "colab": {
          "base_uri": "https://localhost:8080/"
        },
        "id": "myrmXM06lbGG",
        "outputId": "f2c4e047-5498-4d5e-f585-a7d48ed7a3b5"
      },
      "source": [
        "import re\n",
        "def check_sentence(text):\n",
        "  result = re.search(r\"^[A-Z][a-z ]*[?.!]$\", text)\n",
        "  return result != None\n",
        "\n",
        "print(check_sentence(\"Is this is a sentence?\")) # True\n",
        "print(check_sentence(\"is this is a sentence?\")) # False\n",
        "print(check_sentence(\"Hello\")) # False\n",
        "print(check_sentence(\"1-2-3-GO!\")) # False\n",
        "print(check_sentence(\"A star is born.\")) # True"
      ],
      "execution_count": null,
      "outputs": [
        {
          "output_type": "stream",
          "text": [
            "True\n",
            "False\n",
            "False\n",
            "False\n",
            "True\n"
          ],
          "name": "stdout"
        }
      ]
    },
    {
      "cell_type": "markdown",
      "metadata": {
        "id": "yoidcWfIm0tP"
      },
      "source": [
        "#### Quiz"
      ]
    },
    {
      "cell_type": "code",
      "metadata": {
        "colab": {
          "base_uri": "https://localhost:8080/"
        },
        "id": "NgfQ7zeYmQqm",
        "outputId": "b520ef67-38c6-4b34-d394-26a0d294f45a"
      },
      "source": [
        "import re\n",
        "def check_web_address(text):\n",
        "  pattern = r'^[a-zA-Z_.-]*\\.[com|US|org]*$'\n",
        "  result = re.search(pattern, text)\n",
        "  return result != None\n",
        "\n",
        "print(check_web_address(\"gmail.com\")) # True\n",
        "print(check_web_address(\"www@google\")) # False\n",
        "print(check_web_address(\"www.Coursera.org\")) # True\n",
        "print(check_web_address(\"web-address.com/homepage\")) # False\n",
        "print(check_web_address(\"My_Favorite-Blog.US\")) # True\n"
      ],
      "execution_count": null,
      "outputs": [
        {
          "output_type": "stream",
          "text": [
            "True\n",
            "False\n",
            "True\n",
            "False\n",
            "True\n"
          ],
          "name": "stdout"
        }
      ]
    },
    {
      "cell_type": "code",
      "metadata": {
        "colab": {
          "base_uri": "https://localhost:8080/"
        },
        "id": "ZusxHJLZnRJ1",
        "outputId": "c991b64a-35d7-4979-9392-fc19cbfb0c39"
      },
      "source": [
        "import re\n",
        "def check_time(text):\n",
        "  pattern = '^[0-9]*:[0-5][0-9]\\s*[Aa]|[Pp][Mm]'\n",
        "  result = re.search(pattern, text)\n",
        "  return result != None\n",
        "\n",
        "print(check_time(\"12:45pm\")) # True\n",
        "print(check_time(\"9:59 AM\")) # True\n",
        "print(check_time(\"6:60am\")) # False\n",
        "print(check_time(\"five o'clock\")) # False"
      ],
      "execution_count": null,
      "outputs": [
        {
          "output_type": "stream",
          "text": [
            "True\n",
            "True\n",
            "False\n",
            "False\n"
          ],
          "name": "stdout"
        }
      ]
    },
    {
      "cell_type": "code",
      "metadata": {
        "colab": {
          "base_uri": "https://localhost:8080/"
        },
        "id": "M0CKLISsoaM1",
        "outputId": "02b0b9e8-db60-44d2-cf36-29cbbb30363a"
      },
      "source": [
        "import re\n",
        "def contains_acronym(text):\n",
        "  pattern = r'[(]\\w+[)]' \n",
        "  result = re.search(pattern, text)\n",
        "  return result != None\n",
        "\n",
        "print(contains_acronym(\"Instant messaging (IM) is a set of communication technologies used for text-based communication\")) # True\n",
        "print(contains_acronym(\"American Standard Code for Information Interchange (ASCII) is a character encoding standard for electronic communication\")) # True\n",
        "print(contains_acronym(\"Please do NOT enter without permission!\")) # False\n",
        "print(contains_acronym(\"PostScript is a fourth-generation programming language (4GL)\")) # True\n",
        "print(contains_acronym(\"Have fun using a self-contained underwater breathing apparatus (Scuba)!\")) # True"
      ],
      "execution_count": null,
      "outputs": [
        {
          "output_type": "stream",
          "text": [
            "True\n",
            "True\n",
            "False\n",
            "True\n",
            "True\n"
          ],
          "name": "stdout"
        }
      ]
    },
    {
      "cell_type": "code",
      "metadata": {
        "colab": {
          "base_uri": "https://localhost:8080/"
        },
        "id": "xtECGgQzptP1",
        "outputId": "54aaec82-bd08-447c-b749-2eac715099c9"
      },
      "source": [
        "import re\n",
        "def check_zip_code (text):\n",
        "  result = re.search(r\".* [0-9]{5}\", text)\n",
        "  return result != None\n",
        "\n",
        "print(check_zip_code(\"The zip codes for New York are 10001 thru 11104.\")) # True\n",
        "print(check_zip_code(\"90210 is a TV show\")) # False\n",
        "print(check_zip_code(\"Their address is: 123 Main Street, Anytown, AZ 85258-0001.\")) # True\n",
        "print(check_zip_code(\"The Parliament of Canada is at 111 Wellington St, Ottawa, ON K1A0A9.\")) # False"
      ],
      "execution_count": null,
      "outputs": [
        {
          "output_type": "stream",
          "text": [
            "True\n",
            "False\n",
            "True\n",
            "False\n"
          ],
          "name": "stdout"
        }
      ]
    },
    {
      "cell_type": "markdown",
      "metadata": {
        "id": "Tlsea-P_rw81"
      },
      "source": [
        "##Advanced Regular Expressions"
      ]
    },
    {
      "cell_type": "markdown",
      "metadata": {
        "id": "6k6E4sGgtoS-"
      },
      "source": [
        "###Capturing Groups"
      ]
    },
    {
      "cell_type": "code",
      "metadata": {
        "id": "3H3-uwa_q3QJ",
        "colab": {
          "base_uri": "https://localhost:8080/"
        },
        "outputId": "127b8238-a3e3-49bd-acd7-a77437d75639"
      },
      "source": [
        "import re\n",
        "result = re.search(r'^(\\w*), (\\w*)$', 'Lovelace, Ada') #\\w - letters, numbers, underscores\n",
        "print(result)"
      ],
      "execution_count": null,
      "outputs": [
        {
          "output_type": "stream",
          "text": [
            "<re.Match object; span=(0, 13), match='Lovelace, Ada'>\n"
          ],
          "name": "stdout"
        }
      ]
    },
    {
      "cell_type": "code",
      "metadata": {
        "colab": {
          "base_uri": "https://localhost:8080/"
        },
        "id": "gFm8pP7hI-3n",
        "outputId": "1b0ea12d-e3cd-42b5-9811-b401d1c2be02"
      },
      "source": [
        "print(result.groups())"
      ],
      "execution_count": null,
      "outputs": [
        {
          "output_type": "stream",
          "text": [
            "('Lovelace', 'Ada')\n"
          ],
          "name": "stdout"
        }
      ]
    },
    {
      "cell_type": "code",
      "metadata": {
        "colab": {
          "base_uri": "https://localhost:8080/"
        },
        "id": "DBTfW8gKJO9V",
        "outputId": "68ed9dd6-04a2-4959-ceef-86f3b75330b7"
      },
      "source": [
        "print(result[0]) #entire group\n",
        "print(result[1])\n",
        "print(result[2])"
      ],
      "execution_count": null,
      "outputs": [
        {
          "output_type": "stream",
          "text": [
            "Lovelace, Ada\n",
            "Lovelace\n",
            "Ada\n"
          ],
          "name": "stdout"
        }
      ]
    },
    {
      "cell_type": "code",
      "metadata": {
        "colab": {
          "base_uri": "https://localhost:8080/",
          "height": 36
        },
        "id": "6ttob434JXfF",
        "outputId": "37caf03c-7ae8-4323-df92-10d0a2734ad5"
      },
      "source": [
        "'{} {}'.format(result[2], result[1])"
      ],
      "execution_count": null,
      "outputs": [
        {
          "output_type": "execute_result",
          "data": {
            "application/vnd.google.colaboratory.intrinsic+json": {
              "type": "string"
            },
            "text/plain": [
              "'Ada Lovelace'"
            ]
          },
          "metadata": {
            "tags": []
          },
          "execution_count": 10
        }
      ]
    },
    {
      "cell_type": "code",
      "metadata": {
        "colab": {
          "base_uri": "https://localhost:8080/",
          "height": 36
        },
        "id": "KQPeAJwBJiMl",
        "outputId": "af096fea-cff7-43c8-fd23-025f8904d819"
      },
      "source": [
        "def rearrange_name(name):\n",
        "  result = re.search(r'^(\\w*), (\\w*)$', name)\n",
        "  if result is None:\n",
        "    return name\n",
        "  return'{} {}'.format(result[2], result[1])\n",
        "\n",
        "rearrange_name('Lovelace, Ada')"
      ],
      "execution_count": null,
      "outputs": [
        {
          "output_type": "execute_result",
          "data": {
            "application/vnd.google.colaboratory.intrinsic+json": {
              "type": "string"
            },
            "text/plain": [
              "'Ada Lovelace'"
            ]
          },
          "metadata": {
            "tags": []
          },
          "execution_count": 12
        }
      ]
    },
    {
      "cell_type": "code",
      "metadata": {
        "colab": {
          "base_uri": "https://localhost:8080/"
        },
        "id": "B2o7zTZOJ-SE",
        "outputId": "5e3d9a70-6c8d-4dee-ed31-b8694b140f67"
      },
      "source": [
        "import re\n",
        "def rearrange_name(name):\n",
        "  result = re.search(r\"^([\\w \\.-]*), ([\\w \\.-]*)$\", name)\n",
        "  if result == None:\n",
        "    return name\n",
        "  return \"{} {}\".format(result[2], result[1])\n",
        "\n",
        "name=rearrange_name(\"Kennedy, John F.\")\n",
        "print(name)"
      ],
      "execution_count": null,
      "outputs": [
        {
          "output_type": "stream",
          "text": [
            "John F. Kennedy\n"
          ],
          "name": "stdout"
        }
      ]
    },
    {
      "cell_type": "markdown",
      "metadata": {
        "id": "TDTbMeidMDIF"
      },
      "source": [
        "###More on Repetition Qualifiers"
      ]
    },
    {
      "cell_type": "code",
      "metadata": {
        "colab": {
          "base_uri": "https://localhost:8080/"
        },
        "id": "p5U4gpJ8KoV1",
        "outputId": "53638914-b779-4dcc-e8dc-9940343a45f2"
      },
      "source": [
        "print(re.search(r'[a-zA-Z]{5}', 'a scary ghost')) #{5} to match 5 letters"
      ],
      "execution_count": null,
      "outputs": [
        {
          "output_type": "stream",
          "text": [
            "<re.Match object; span=(2, 7), match='scary'>\n"
          ],
          "name": "stdout"
        }
      ]
    },
    {
      "cell_type": "code",
      "metadata": {
        "colab": {
          "base_uri": "https://localhost:8080/"
        },
        "id": "1_hz_5KPREmk",
        "outputId": "9aea805d-5c37-4980-dc1b-033a055a5bf9"
      },
      "source": [
        "print(re.findall(r'[a-zA-Z]{5}', 'a scary ghost appeared')) #{5} to match 5 letters"
      ],
      "execution_count": null,
      "outputs": [
        {
          "output_type": "stream",
          "text": [
            "['scary', 'ghost', 'appea']\n"
          ],
          "name": "stdout"
        }
      ]
    },
    {
      "cell_type": "code",
      "metadata": {
        "colab": {
          "base_uri": "https://localhost:8080/"
        },
        "id": "szzopAJuRWpj",
        "outputId": "a49c0596-2776-480b-dd6c-194f6c9c5d0f"
      },
      "source": [
        "print(re.findall(r'\\b[a-zA-Z]{5}\\b', 'A scary ghost appeared')) #\\b to get full words ONLY"
      ],
      "execution_count": null,
      "outputs": [
        {
          "output_type": "stream",
          "text": [
            "['scary', 'ghost']\n"
          ],
          "name": "stdout"
        }
      ]
    },
    {
      "cell_type": "code",
      "metadata": {
        "colab": {
          "base_uri": "https://localhost:8080/"
        },
        "id": "M4BAgQP0Rmak",
        "outputId": "1afa415c-7359-4655-c157-89a160eaff3b"
      },
      "source": [
        "print(re.findall(r'\\w{5,10}', 'I really like strawberries')) #to match items with 5-10 letters"
      ],
      "execution_count": null,
      "outputs": [
        {
          "output_type": "stream",
          "text": [
            "['really', 'strawberri']\n"
          ],
          "name": "stdout"
        }
      ]
    },
    {
      "cell_type": "code",
      "metadata": {
        "colab": {
          "base_uri": "https://localhost:8080/"
        },
        "id": "XFNZfEX5R37T",
        "outputId": "3a1971ea-7942-4749-bc15-cecb7ea43ed2"
      },
      "source": [
        "print(re.findall(r'\\w{5,}', 'I really like strawberries')) #to match items with 5-NO LIMIT letters"
      ],
      "execution_count": null,
      "outputs": [
        {
          "output_type": "stream",
          "text": [
            "['really', 'strawberries']\n"
          ],
          "name": "stdout"
        }
      ]
    },
    {
      "cell_type": "code",
      "metadata": {
        "colab": {
          "base_uri": "https://localhost:8080/"
        },
        "id": "FSC96Z2TSMlz",
        "outputId": "9d2a85ac-1642-44d0-f985-9bf3e8f3c795"
      },
      "source": [
        "print(re.search(r's\\w{,20}', 'I really like strawberries')) #to match items with UP TO 10 characters"
      ],
      "execution_count": null,
      "outputs": [
        {
          "output_type": "stream",
          "text": [
            "<re.Match object; span=(14, 26), match='strawberries'>\n"
          ],
          "name": "stdout"
        }
      ]
    },
    {
      "cell_type": "code",
      "metadata": {
        "colab": {
          "base_uri": "https://localhost:8080/"
        },
        "id": "Ud1GZu5jSbHT",
        "outputId": "d1bcd4fc-ce65-4c4b-a522-cbf0f8340b8d"
      },
      "source": [
        "import re\n",
        "def long_words(text):\n",
        "  pattern = r'\\w{7,}'\n",
        "  result = re.findall(pattern, text)\n",
        "  return result\n",
        "\n",
        "print(long_words(\"I like to drink coffee in the morning.\")) # ['morning']\n",
        "print(long_words(\"I also have a taste for hot chocolate in the afternoon.\")) # ['chocolate', 'afternoon']\n",
        "print(long_words(\"I never drink tea late at night.\")) # []"
      ],
      "execution_count": null,
      "outputs": [
        {
          "output_type": "stream",
          "text": [
            "['morning']\n",
            "['chocolate', 'afternoon']\n",
            "[]\n"
          ],
          "name": "stdout"
        }
      ]
    },
    {
      "cell_type": "markdown",
      "metadata": {
        "id": "gCUHuSQXSwA0"
      },
      "source": [
        "### Extracting a PID\n",
        "\n",
        "Process ID"
      ]
    },
    {
      "cell_type": "code",
      "metadata": {
        "colab": {
          "base_uri": "https://localhost:8080/"
        },
        "id": "MfB43eXdSrQ0",
        "outputId": "ba7fcc44-09d8-4679-dd80-410826d5b536"
      },
      "source": [
        "def extract_pid(log_line):\n",
        "  regex = r'\\[(\\d+)\\]'\n",
        "  result = re.search(regex, log_line)\n",
        "  if result is None:\n",
        "    return ''\n",
        "  return result[1]\n",
        "\n",
        "log = ' hello [1234] there'\n",
        "print(extract_pid(log))"
      ],
      "execution_count": null,
      "outputs": [
        {
          "output_type": "stream",
          "text": [
            "1234\n",
            "\n"
          ],
          "name": "stdout"
        }
      ]
    },
    {
      "cell_type": "code",
      "metadata": {
        "colab": {
          "base_uri": "https://localhost:8080/"
        },
        "id": "x2pkBz6eD1Gv",
        "outputId": "73e6bf4f-0b4e-4979-9dba-4d08229f4000"
      },
      "source": [
        "log1 = 'hello [there]'\n",
        "print(extract_pid(log1)) #gives bk an empty string"
      ],
      "execution_count": null,
      "outputs": [
        {
          "output_type": "stream",
          "text": [
            "\n"
          ],
          "name": "stdout"
        }
      ]
    },
    {
      "cell_type": "code",
      "metadata": {
        "colab": {
          "base_uri": "https://localhost:8080/"
        },
        "id": "kmcpTdOOEd0W",
        "outputId": "00037d92-d5de-4bd7-af44-c268e8087186"
      },
      "source": [
        "import re\n",
        "def extract_pid(log_line):\n",
        "    regex = r\"\\[(\\d+)\\]: (\\w+)\"\n",
        "    result = re.search(regex, log_line)\n",
        "    if result is None:\n",
        "        return None\n",
        "    return \"{} ({})\".format(result[1], result[2])\n",
        "\n",
        "print(extract_pid(\"July 31 07:51:48 mycomputer bad_process[12345]: ERROR Performing package upgrade\")) # 12345 (ERROR)\n",
        "print(extract_pid(\"99 elephants in a [cage]\")) # None\n",
        "print(extract_pid(\"A string that also has numbers [34567] but no uppercase message\")) # None\n",
        "print(extract_pid(\"July 31 08:08:08 mycomputer new_process[67890]: RUNNING Performing backup\")) # 67890 (RUNNING)"
      ],
      "execution_count": null,
      "outputs": [
        {
          "output_type": "stream",
          "text": [
            "12345 (ERROR)\n",
            "None\n",
            "None\n",
            "67890 (RUNNING)\n"
          ],
          "name": "stdout"
        }
      ]
    },
    {
      "cell_type": "markdown",
      "metadata": {
        "id": "OJjPUwYBESqX"
      },
      "source": [
        "###Splitting & Replacing"
      ]
    },
    {
      "cell_type": "code",
      "metadata": {
        "colab": {
          "base_uri": "https://localhost:8080/"
        },
        "id": "QUXHdl4AELk9",
        "outputId": "7a88c9e3-1f6a-489e-b869-91cefa1da2ae"
      },
      "source": [
        "re.split(r'[.?!]', 'One sentence. Another one? and last one!')"
      ],
      "execution_count": null,
      "outputs": [
        {
          "output_type": "execute_result",
          "data": {
            "text/plain": [
              "['One sentence', ' Another one', ' and last one', '']"
            ]
          },
          "metadata": {
            "tags": []
          },
          "execution_count": 46
        }
      ]
    },
    {
      "cell_type": "code",
      "metadata": {
        "colab": {
          "base_uri": "https://localhost:8080/"
        },
        "id": "ozZUPqkMGwYQ",
        "outputId": "74ad9c4b-6be0-466e-b187-6397729e7999"
      },
      "source": [
        "re.split(r'([.?!])', 'One sentence. Another one? and last one!') #split both signs & text"
      ],
      "execution_count": null,
      "outputs": [
        {
          "output_type": "execute_result",
          "data": {
            "text/plain": [
              "['One sentence', '.', ' Another one', '?', ' and last one', '!', '']"
            ]
          },
          "metadata": {
            "tags": []
          },
          "execution_count": 47
        }
      ]
    },
    {
      "cell_type": "code",
      "metadata": {
        "colab": {
          "base_uri": "https://localhost:8080/",
          "height": 36
        },
        "id": "To_kp5AiG7Gc",
        "outputId": "2e45127f-830f-49b7-b49d-39710e196369"
      },
      "source": [
        "re.sub(r'[\\w.%+-]+@[\\w.-]+', '[REDACTED]', 'Received and email from google@gmail.com') #replace text"
      ],
      "execution_count": null,
      "outputs": [
        {
          "output_type": "execute_result",
          "data": {
            "application/vnd.google.colaboratory.intrinsic+json": {
              "type": "string"
            },
            "text/plain": [
              "'Received and email from [REDACTED]'"
            ]
          },
          "metadata": {
            "tags": []
          },
          "execution_count": 48
        }
      ]
    },
    {
      "cell_type": "code",
      "metadata": {
        "colab": {
          "base_uri": "https://localhost:8080/",
          "height": 36
        },
        "id": "jiMB3ij6HSod",
        "outputId": "18674f97-5780-49a2-fcb1-ed206fe334da"
      },
      "source": [
        "re.sub(r'^([\\w .-]*), ([\\w .-]*)$', r'\\2 \\1', 'Lovelace, Ada') #move groups"
      ],
      "execution_count": null,
      "outputs": [
        {
          "output_type": "execute_result",
          "data": {
            "application/vnd.google.colaboratory.intrinsic+json": {
              "type": "string"
            },
            "text/plain": [
              "'Ada Lovelace'"
            ]
          },
          "metadata": {
            "tags": []
          },
          "execution_count": 49
        }
      ]
    },
    {
      "cell_type": "code",
      "metadata": {
        "colab": {
          "base_uri": "https://localhost:8080/"
        },
        "id": "2Fgbfv6zHzDN",
        "outputId": "409c4110-13db-4e20-8b89-32875276755d"
      },
      "source": [
        "re.split(r\"the|a\", \"One sentence. Another one? And the last one!\")"
      ],
      "execution_count": null,
      "outputs": [
        {
          "output_type": "execute_result",
          "data": {
            "text/plain": [
              "['One sentence. Ano', 'r one? And ', ' l', 'st one!']"
            ]
          },
          "metadata": {
            "tags": []
          },
          "execution_count": 50
        }
      ]
    },
    {
      "cell_type": "markdown",
      "metadata": {
        "id": "BXw2ypH6IKtu"
      },
      "source": [
        "###Quiz"
      ]
    },
    {
      "cell_type": "code",
      "metadata": {
        "colab": {
          "base_uri": "https://localhost:8080/"
        },
        "id": "9bxzI4-rIGWN",
        "outputId": "d17cf411-cf7d-461c-ebd3-ba799abe1b59"
      },
      "source": [
        "import re\n",
        "def transform_record(record):\n",
        "  new_record = re.sub(r',(?=\\d)', r',+1-', record)\n",
        "  return new_record\n",
        "\n",
        "print(transform_record(\"Sabrina Green,802-867-5309,System Administrator\")) \n",
        "# Sabrina Green,+1-802-867-5309,System Administrator\n",
        "\n",
        "print(transform_record(\"Eli Jones,684-3481127,IT specialist\")) \n",
        "# Eli Jones,+1-684-3481127,IT specialist\n",
        "\n",
        "print(transform_record(\"Melody Daniels,846-687-7436,Programmer\")) \n",
        "# Melody Daniels,+1-846-687-7436,Programmer\n",
        "\n",
        "print(transform_record(\"Charlie Rivera,698-746-3357,Web Developer\")) \n",
        "# Charlie Rivera,+1-698-746-3357,Web Developer"
      ],
      "execution_count": null,
      "outputs": [
        {
          "output_type": "stream",
          "text": [
            "Sabrina Green,+1-802-867-5309,System Administrator\n",
            "Eli Jones,+1-684-3481127,IT specialist\n",
            "Melody Daniels,+1-846-687-7436,Programmer\n",
            "Charlie Rivera,+1-698-746-3357,Web Developer\n"
          ],
          "name": "stdout"
        }
      ]
    },
    {
      "cell_type": "code",
      "metadata": {
        "colab": {
          "base_uri": "https://localhost:8080/"
        },
        "id": "8dB_0ZV3KPPy",
        "outputId": "b62a5f5c-555f-4f97-abac-ce65d3071956"
      },
      "source": [
        "import re\n",
        "def multi_vowel_words(text):\n",
        "  pattern = r'\\b\\w*[aeiou]{3,}\\w*\\b'\n",
        "  result = re.findall(pattern, text)\n",
        "  return result\n",
        "\n",
        "print(multi_vowel_words(\"Life is beautiful\")) \n",
        "# ['beautiful']\n",
        "\n",
        "print(multi_vowel_words(\"Obviously, the queen is courageous and gracious.\")) \n",
        "# ['Obviously', 'queen', 'courageous', 'gracious']\n",
        "\n",
        "print(multi_vowel_words(\"The rambunctious children had to sit quietly and await their delicious dinner.\")) \n",
        "# ['rambunctious', 'quietly', 'delicious']\n",
        "\n",
        "print(multi_vowel_words(\"The order of a data queue is First In First Out (FIFO)\")) \n",
        "# ['queue']\n",
        "\n",
        "print(multi_vowel_words(\"Hello world!\")) \n",
        "# []"
      ],
      "execution_count": null,
      "outputs": [
        {
          "output_type": "stream",
          "text": [
            "['beautiful']\n",
            "['Obviously', 'queen', 'courageous', 'gracious']\n",
            "['rambunctious', 'quietly', 'delicious']\n",
            "['queue']\n",
            "[]\n"
          ],
          "name": "stdout"
        }
      ]
    },
    {
      "cell_type": "code",
      "metadata": {
        "colab": {
          "base_uri": "https://localhost:8080/"
        },
        "id": "VwNcuPsqMlQs",
        "outputId": "8be8a8ae-5af9-4fc4-b8b6-20dcc37670d1"
      },
      "source": [
        "import re\n",
        "def transform_comments(line_of_code):\n",
        "  result = re.sub(r'##*', r'//', line_of_code)\n",
        "  return result\n",
        "\n",
        "print(transform_comments(\"### Start of program\")) \n",
        "# Should be \"// Start of program\"\n",
        "print(transform_comments(\"  number = 0   ## Initialize the variable\")) \n",
        "# Should be \"  number = 0   // Initialize the variable\"\n",
        "print(transform_comments(\"  number += 1   # Increment the variable\")) \n",
        "# Should be \"  number += 1   // Increment the variable\"\n",
        "print(transform_comments(\"  return(number)\")) \n",
        "# Should be \"  return(number)\""
      ],
      "execution_count": null,
      "outputs": [
        {
          "output_type": "stream",
          "text": [
            "// Start of program\n",
            "  number = 0   // Initialize the variable\n",
            "  number += 1   // Increment the variable\n",
            "  return(number)\n"
          ],
          "name": "stdout"
        }
      ]
    },
    {
      "cell_type": "code",
      "metadata": {
        "colab": {
          "base_uri": "https://localhost:8080/"
        },
        "id": "wFkdk77kNiaM",
        "outputId": "5f7bb0c7-29f7-462f-a261-d1949ac5b143"
      },
      "source": [
        "import re\n",
        "def convert_phone_number(phone):\n",
        "  result = re.sub(r'(\\d{3})-(\\d{3}-\\d{4}\\b)', r'(\\1) \\2', phone)\n",
        "  return result\n",
        "\n",
        "print(convert_phone_number(\"My number is 212-345-9999.\")) # My number is (212) 345-9999.\n",
        "print(convert_phone_number(\"Please call 888-555-1234\")) # Please call (888) 555-1234\n",
        "print(convert_phone_number(\"123-123-12345\")) # 123-123-12345\n",
        "print(convert_phone_number(\"Phone number of Buckingham Palace is +44 303 123 7300\")) # Phone number of Buckingham Palace is +44 303 123 7300"
      ],
      "execution_count": null,
      "outputs": [
        {
          "output_type": "stream",
          "text": [
            "My number is (212) 345-9999.\n",
            "Please call (888) 555-1234\n",
            "123-123-12345\n",
            "Phone number of Buckingham Palace is +44 303 123 7300\n"
          ],
          "name": "stdout"
        }
      ]
    },
    {
      "cell_type": "markdown",
      "metadata": {
        "id": "mdY-biy_WT4W"
      },
      "source": [
        "###Qwiklabs Quiz"
      ]
    },
    {
      "cell_type": "code",
      "metadata": {
        "id": "SLEgk0m4915C"
      },
      "source": [
        "cd data\n",
        "ls\n",
        "cat user_emails.csv\n",
        "cd ~/scripts\n",
        "sudo chmod 777 script.py"
      ],
      "execution_count": null,
      "outputs": []
    },
    {
      "cell_type": "code",
      "metadata": {
        "id": "OAk3u90mWY0-"
      },
      "source": [
        "#!/usr/bin/env python3\n",
        "\n",
        "import re\n",
        "import csv\n",
        "\n",
        "\n",
        "def contains_domain(address, domain):\n",
        "  \"\"\"Returns True if the email address contains the given,domain,in the domain position, false if not.\"\"\"\n",
        "  domain_pattern = r'[\\w\\.-]+@'+domain+'$'\n",
        "  if re.match(domain,address):\n",
        "    return True\n",
        "  return False\n",
        "\n",
        "\n",
        "def replace_domain(address, old_domain, new_domain):\n",
        "  \"\"\"Replaces the old domain with the new domain in the received address.\"\"\"\n",
        "  old_domain_pattern = r'' + old_domain + '$'\n",
        "  address = re.sub(old_domain_pattern, new_domain, address)\n",
        "  return address\n",
        "\n",
        "def main():\n",
        "  \"\"\"Processes the list of emails, replacing any instances of the old domain with the new domain.\"\"\"\n",
        "  old_domain, new_domain = 'abc.edu', 'xyz.edu'\n",
        "  csv_file_location = '<csv_file_location>'\n",
        "  report_file = '<path_to_home_directory>' + '/updated_user_emails.csv'\n",
        "  user_email_list = []\n",
        "  old_domain_email_list = []\n",
        "  new_domain_email_list = []\n",
        "\n",
        "  with open(csv_file_location, 'r') as f:\n",
        "    user_data_list = list(csv.reader(f))\n",
        "    user_email_list = [data[1].strip() for data in user_data_list[1:]]\n",
        "\n",
        "    for email_address in user_email_list:\n",
        "      if contains_domain(email_address, old_domain):\n",
        "        old_domain_email_list.append(email_address)\n",
        "        replaced_email = replace_domain(email_address,old_domain,new_domain)\n",
        "        new_domain_email_list.append(replaced_email)\n",
        "\n",
        "    email_key = ' ' + 'Email Address'\n",
        "    email_index = user_data_list[0].index(email_key)\n",
        "\n",
        "    for user in user_data_list[1:]:\n",
        "      for old_domain, new_domain in zip(old_domain_email_list, new_domain_email_list):\n",
        "        if user[email_index] == ' ' + old_domain:\n",
        "          user[email_index] = ' ' + new_domain\n",
        "  f.close()\n",
        "\n",
        "  with open(report_file, 'w+') as output_file:\n",
        "    writer = csv.writer(output_file)\n",
        "    writer.writerows(user_data_list)\n",
        "    output_file.close()\n",
        "\n",
        "main()"
      ],
      "execution_count": null,
      "outputs": []
    },
    {
      "cell_type": "markdown",
      "metadata": {
        "id": "5GngMlDNVXI7"
      },
      "source": [
        "##Data Streams"
      ]
    },
    {
      "cell_type": "markdown",
      "metadata": {
        "id": "KllAxxhAVcLG"
      },
      "source": [
        "### Reading Data Interactivity"
      ]
    },
    {
      "cell_type": "code",
      "metadata": {
        "id": "WKVlWuwTOA7r",
        "colab": {
          "base_uri": "https://localhost:8080/"
        },
        "outputId": "2e617682-5d20-49bb-e519-7350f461d556"
      },
      "source": [
        "name = input('Please enter your name: ')\n",
        "print('Hello, ' + name)"
      ],
      "execution_count": null,
      "outputs": [
        {
          "output_type": "stream",
          "text": [
            "Please enter your name: John\n",
            "Hello, John\n"
          ],
          "name": "stdout"
        }
      ]
    },
    {
      "cell_type": "markdown",
      "metadata": {
        "id": "kK1yuAvRCN1B"
      },
      "source": [
        "### Standard Streams\n",
        "\n",
        "I/O Streams (input/output):\n",
        "- STDIN - standard input\n",
        "- STDOUT - standard output\n",
        "- STDERR - standard error (channel for error messages)"
      ]
    },
    {
      "cell_type": "markdown",
      "metadata": {
        "id": "h66ALnTrYSw1"
      },
      "source": [
        "### Environment Variables\n",
        "\n",
        "Shells:\n",
        "- Bash\n",
        "- Fish\n",
        "- Zsh"
      ]
    },
    {
      "cell_type": "code",
      "metadata": {
        "id": "zvFYIvMWW3Hv"
      },
      "source": [
        "echo $PATH"
      ],
      "execution_count": null,
      "outputs": []
    },
    {
      "cell_type": "code",
      "metadata": {
        "colab": {
          "base_uri": "https://localhost:8080/"
        },
        "id": "YvCeioHTY3KW",
        "outputId": "18603d6f-48c9-4fd3-8ff9-f73608fa0afd"
      },
      "source": [
        "import os\n",
        "\n",
        "#use GET to get default value from dictionary when value is not present, if nothing get bk '':\n",
        "print('HOME: ' + os.environ.get('HOME', \"\"))\n",
        "print('SHELL: ' + os.environ.get('SHELL', \"\"))\n",
        "print('FRUIT: ' + os.environ.get('FRUIT', \"\"))"
      ],
      "execution_count": null,
      "outputs": [
        {
          "output_type": "stream",
          "text": [
            "HOME: /root\n",
            "SHELL: /bin/bash\n",
            "FRUIT: \n"
          ],
          "name": "stdout"
        }
      ]
    },
    {
      "cell_type": "code",
      "metadata": {
        "id": "g3RFZTFhaW8k"
      },
      "source": [
        "export FRUIT=Pineapple # to set Fruit variable"
      ],
      "execution_count": null,
      "outputs": []
    },
    {
      "cell_type": "markdown",
      "metadata": {
        "id": "AGevkpGCfZBG"
      },
      "source": [
        "### Command-Line Arguments"
      ]
    },
    {
      "cell_type": "code",
      "metadata": {
        "colab": {
          "base_uri": "https://localhost:8080/"
        },
        "id": "50yzJtlna3_k",
        "outputId": "4c72547f-eab7-472d-ce82-ba6dcb3b5fe9"
      },
      "source": [
        "#!/usr/bin/env python3\n",
        "import sys\n",
        "print(sys.argv) #shows parameters"
      ],
      "execution_count": null,
      "outputs": [
        {
          "output_type": "stream",
          "text": [
            "['/usr/local/lib/python3.7/dist-packages/ipykernel_launcher.py', '-f', '/root/.local/share/jupyter/runtime/kernel-87f71946-48e5-4168-9506-7a9322bb40e9.json']\n"
          ],
          "name": "stdout"
        }
      ]
    },
    {
      "cell_type": "markdown",
      "metadata": {
        "id": "_KjPNEY2mpD7"
      },
      "source": [
        "###Exit Status\n",
        "Value returned by a program to the shell."
      ]
    },
    {
      "cell_type": "code",
      "metadata": {
        "id": "BsoO_r02mUPD"
      },
      "source": [
        "wc variables.py"
      ],
      "execution_count": null,
      "outputs": []
    },
    {
      "cell_type": "code",
      "metadata": {
        "id": "9BT_AoWum9wi"
      },
      "source": [
        "echo $?\n",
        "# result will be 0 - since wc/exit ran successfully."
      ],
      "execution_count": null,
      "outputs": []
    },
    {
      "cell_type": "code",
      "metadata": {
        "id": "p5nk2A_znRha"
      },
      "source": [
        "#python will give 0, if exits successfully"
      ],
      "execution_count": null,
      "outputs": []
    },
    {
      "cell_type": "markdown",
      "metadata": {
        "id": "oUQMfexuotDy"
      },
      "source": [
        "##Python Subprocesses"
      ]
    },
    {
      "cell_type": "markdown",
      "metadata": {
        "id": "xHXm8fbAo8rL"
      },
      "source": [
        "###Running System Commands in Python"
      ]
    },
    {
      "cell_type": "code",
      "metadata": {
        "id": "X8iuBRjOo_tc",
        "colab": {
          "base_uri": "https://localhost:8080/"
        },
        "outputId": "0796beb3-47ea-4a83-97e5-194ec36ba01b"
      },
      "source": [
        "import subprocess\n",
        "subprocess.run(['date'])\n",
        "#gives current date"
      ],
      "execution_count": null,
      "outputs": [
        {
          "output_type": "execute_result",
          "data": {
            "text/plain": [
              "CompletedProcess(args=['date'], returncode=0)"
            ]
          },
          "metadata": {
            "tags": []
          },
          "execution_count": 2
        }
      ]
    },
    {
      "cell_type": "code",
      "metadata": {
        "colab": {
          "base_uri": "https://localhost:8080/"
        },
        "id": "3bdERQQW_yGF",
        "outputId": "da9548b6-2e23-4e1a-9a22-8044e8e428cc"
      },
      "source": [
        "subprocess.run(['sleep', '2'])\n",
        "#Parent script is blocked, while child process is running.\n",
        "#returncode 0 since process finished successfully."
      ],
      "execution_count": null,
      "outputs": [
        {
          "output_type": "execute_result",
          "data": {
            "text/plain": [
              "CompletedProcess(args=['sleep', '2'], returncode=0)"
            ]
          },
          "metadata": {
            "tags": []
          },
          "execution_count": 3
        }
      ]
    },
    {
      "cell_type": "code",
      "metadata": {
        "colab": {
          "base_uri": "https://localhost:8080/"
        },
        "id": "CDmgHx08AGfC",
        "outputId": "8fc423c7-58ef-4494-af11-3b8d60e788ce"
      },
      "source": [
        "result = subprocess.run(['ls', 'this_file_does_not_exist'])\n",
        "print(result.returncode)\n",
        "#failed"
      ],
      "execution_count": null,
      "outputs": [
        {
          "output_type": "stream",
          "text": [
            "2\n"
          ],
          "name": "stdout"
        }
      ]
    },
    {
      "cell_type": "markdown",
      "metadata": {
        "id": "64vTGXoJCeWj"
      },
      "source": [
        "### Obtaining Output of a System Command"
      ]
    },
    {
      "cell_type": "code",
      "metadata": {
        "id": "LFIzWcPLB2xX"
      },
      "source": [
        "result = subprocess.run(['host', '8.8.8.8'], capture_output=True)\n",
        "print(result.returncode)\n",
        "#should get 0"
      ],
      "execution_count": null,
      "outputs": []
    },
    {
      "cell_type": "code",
      "metadata": {
        "colab": {
          "base_uri": "https://localhost:8080/"
        },
        "id": "4gHUaaiNE5nF",
        "outputId": "edf53cb7-a740-4c79-f204-a0cefd7920cb"
      },
      "source": [
        "print(result.stdout)"
      ],
      "execution_count": null,
      "outputs": [
        {
          "output_type": "stream",
          "text": [
            "None\n"
          ],
          "name": "stdout"
        }
      ]
    },
    {
      "cell_type": "code",
      "metadata": {
        "id": "LimwyQM_FD6y"
      },
      "source": [
        "print(result.stdout.decode().split())"
      ],
      "execution_count": null,
      "outputs": []
    },
    {
      "cell_type": "code",
      "metadata": {
        "colab": {
          "base_uri": "https://localhost:8080/"
        },
        "id": "wNCe-D_EFfAD",
        "outputId": "77278281-a211-47f8-b50b-893503d5245a"
      },
      "source": [
        "result = subprocess.run(['rm', 'does_not_exist'], capture_output = True)\n",
        "print(result.returncode)\n",
        "#failed"
      ],
      "execution_count": null,
      "outputs": [
        {
          "output_type": "stream",
          "text": [
            "1\n"
          ],
          "name": "stdout"
        }
      ]
    },
    {
      "cell_type": "code",
      "metadata": {
        "colab": {
          "base_uri": "https://localhost:8080/"
        },
        "id": "Nvgk22GaGhky",
        "outputId": "58aa6354-4c1c-489b-b508-6a318cc9964d"
      },
      "source": [
        "print(result.stdout)\n",
        "print(result.stderr)"
      ],
      "execution_count": null,
      "outputs": [
        {
          "output_type": "stream",
          "text": [
            "b''\n",
            "b\"rm: cannot remove 'does_not_exist': No such file or directory\\n\"\n"
          ],
          "name": "stdout"
        }
      ]
    },
    {
      "cell_type": "markdown",
      "metadata": {
        "id": "YzoQEhqpHXMM"
      },
      "source": [
        "###Advanced Subprocess Management"
      ]
    },
    {
      "cell_type": "code",
      "metadata": {
        "id": "vcwcQomuHCci"
      },
      "source": [
        "import os\n",
        "import subprocess\n",
        "\n",
        "my_env = os.environ.copy()\n",
        "my_env['PATH'] = os.pathsep.join(['/opt/myapp/', my_env['PATH']])\n",
        "result = subprocess.run(['myapp'], env = my_env)"
      ],
      "execution_count": null,
      "outputs": []
    },
    {
      "cell_type": "markdown",
      "metadata": {
        "id": "B5T3UaPYlp4G"
      },
      "source": [
        "cwd - control working directory"
      ]
    },
    {
      "cell_type": "markdown",
      "metadata": {
        "id": "5VzbuxGqpSUP"
      },
      "source": [
        "###Processing Log Files"
      ]
    },
    {
      "cell_type": "code",
      "metadata": {
        "id": "yG0qkyCrk__P"
      },
      "source": [
        "import sys\n",
        "logfile = sys.argv[1]\n",
        "with open(logfile) as f:\n",
        "  for line in f:\n",
        "    print(line.strip())"
      ],
      "execution_count": null,
      "outputs": []
    },
    {
      "cell_type": "code",
      "metadata": {
        "colab": {
          "base_uri": "https://localhost:8080/"
        },
        "id": "guaVoY2btbg-",
        "outputId": "e91b3caf-c237-4e73-f00d-584f56f7e617"
      },
      "source": [
        "import re\n",
        "pattern = r'USER \\((\\w+)\\)$'\n",
        "line = 'dfggdd USER (testing_user)'\n",
        "result = re.search(pattern, line)\n",
        "print(result[1])"
      ],
      "execution_count": null,
      "outputs": [
        {
          "output_type": "stream",
          "text": [
            "testing_user\n"
          ],
          "name": "stdout"
        }
      ]
    },
    {
      "cell_type": "code",
      "metadata": {
        "colab": {
          "base_uri": "https://localhost:8080/"
        },
        "id": "iGplez-6uPlr",
        "outputId": "4a980fd5-cff4-4ff6-d07f-0c85c98a8ba1"
      },
      "source": [
        "import re\n",
        "def show_time_of_pid(line):\n",
        "  pattern_date = r'^\\w+ \\d (\\d:?)+'\n",
        "  result_date = re.search(pattern_date, line)\n",
        "  result_date = result_date[0]\n",
        "  pattern_id = r'\\[(\\d+)\\]'\n",
        "  result_id = re.search(pattern_id, line)\n",
        "  result_id = result_id[1]\n",
        "  return '{} pid:{}'.format(result_date, result_id)\n",
        "\n",
        "print(show_time_of_pid(\"Jul 6 14:01:23 computer.name CRON[29440]: USER (good_user)\")) # Jul 6 14:01:23 pid:29440\n",
        "print(show_time_of_pid(\"Jul 6 14:02:08 computer.name jam_tag=psim[29187]: (UUID:006)\")) # Jul 6 14:02:08 pid:29187\n",
        "print(show_time_of_pid(\"Jul 6 14:02:09 computer.name jam_tag=psim[29187]: (UUID:007)\")) # Jul 6 14:02:09 pid:29187\n",
        "print(show_time_of_pid(\"Jul 6 14:03:01 computer.name CRON[29440]: USER (naughty_user)\")) # Jul 6 14:03:01 pid:29440\n",
        "print(show_time_of_pid(\"Jul 6 14:03:40 computer.name cacheclient[29807]: start syncing from \\\"0xDEADBEEF\\\"\")) # Jul 6 14:03:40 pid:29807\n",
        "print(show_time_of_pid(\"Jul 6 14:04:01 computer.name CRON[29440]: USER (naughty_user)\")) # Jul 6 14:04:01 pid:29440\n",
        "print(show_time_of_pid(\"Jul 6 14:05:01 computer.name CRON[29440]: USER (naughty_user)\")) # Jul 6 14:05:01 pid:29440"
      ],
      "execution_count": null,
      "outputs": [
        {
          "output_type": "stream",
          "text": [
            "Jul 6 14:01:23 pid:29440\n",
            "Jul 6 14:02:08 pid:29187\n",
            "Jul 6 14:02:09 pid:29187\n",
            "Jul 6 14:03:01 pid:29440\n",
            "Jul 6 14:03:40 pid:29807\n",
            "Jul 6 14:04:01 pid:29440\n",
            "Jul 6 14:05:01 pid:29440\n"
          ],
          "name": "stdout"
        }
      ]
    },
    {
      "cell_type": "code",
      "metadata": {
        "colab": {
          "base_uri": "https://localhost:8080/"
        },
        "id": "CrmJWejjwCcM",
        "outputId": "c32c8540-b38d-45eb-be4d-2ed0fd6d6a8a"
      },
      "source": [
        "usernames = {}\n",
        "name = 'good_user'\n",
        "usernames[name] = usernames.get(name, 0) +1 #if key not present, get default value\n",
        "print(usernames)"
      ],
      "execution_count": null,
      "outputs": [
        {
          "output_type": "stream",
          "text": [
            "{'good_user': 1}\n"
          ],
          "name": "stdout"
        }
      ]
    },
    {
      "cell_type": "markdown",
      "metadata": {
        "id": "vktaozV54SBk"
      },
      "source": [
        "###Qwiklabs Quiz"
      ]
    },
    {
      "cell_type": "code",
      "metadata": {
        "id": "rrlBAgWGDRKf"
      },
      "source": [
        "cat ~/data/fishy.log"
      ],
      "execution_count": null,
      "outputs": []
    },
    {
      "cell_type": "code",
      "metadata": {
        "id": "KUKUfrAs2_6M"
      },
      "source": [
        "#!/usr/bin/env python3\n",
        "import sys\n",
        "import os\n",
        "import re\n",
        "\n",
        "\n",
        "def error_search(log_file):\n",
        "  error = input(\"What is the error? \")\n",
        "  returned_errors = []\n",
        "  with open(log_file, mode='r',encoding='UTF-8') as file:\n",
        "    for log in  file.readlines():\n",
        "      error_patterns = [\"error\"]\n",
        "      for i in range(len(error.split(' '))):\n",
        "        error_patterns.append(r\"{}\".format(error.split(' ')[i].lower()))\n",
        "      if all(re.search(error_pattern, log.lower()) for error_pattern in error_patterns):\n",
        "        returned_errors.append(log)\n",
        "    file.close()\n",
        "  return returned_errors\n",
        "\n",
        "  \n",
        "def file_output(returned_errors):\n",
        "  with open(os.path.expanduser('~') + '/data/errors_found.log', 'w') as file:\n",
        "    for error in returned_errors:\n",
        "      file.write(error)\n",
        "    file.close()\n",
        "if __name__ == \"__main__\":\n",
        "  log_file = sys.argv[1]\n",
        "  returned_errors = error_search(log_file)\n",
        "  file_output(returned_errors)\n",
        "  sys.exit(0)"
      ],
      "execution_count": null,
      "outputs": []
    },
    {
      "cell_type": "code",
      "metadata": {
        "id": "fLaVq4O_DVZm"
      },
      "source": [
        "sudo chmod +x find_error.py\n",
        "./find_error.py ~/data/fishy.log\n",
        "CRON ERROR Failed to start\n",
        "cat ~/data/errors_found.log"
      ],
      "execution_count": null,
      "outputs": []
    },
    {
      "cell_type": "markdown",
      "metadata": {
        "id": "IvygOki_BWGZ"
      },
      "source": [
        "##Testing & Error Handling"
      ]
    },
    {
      "cell_type": "markdown",
      "metadata": {
        "id": "wKeUcqU5DvBH"
      },
      "source": [
        "### Unit Tests"
      ]
    },
    {
      "cell_type": "code",
      "metadata": {
        "id": "XamSCzQpKmq2"
      },
      "source": [
        "#rearrange.py:\n",
        "import re\n",
        "\n",
        "def rearrange_name(name):\n",
        "  result = re.search(r'^([\\w .]*), ([\\w .]*)$', name)\n",
        "  return '{} {}'.format(result[2], result[1])"
      ],
      "execution_count": null,
      "outputs": []
    },
    {
      "cell_type": "code",
      "metadata": {
        "id": "KUL3idHNLwdu"
      },
      "source": [
        "from rearrange import reaarange_name #import function from another .py\n",
        "import unittest\n",
        "\n",
        "class TestRearrange(unittest.TestCase):\n",
        "  def test_basic(self):\n",
        "    testcase = 'Lovelace, Ada'\n",
        "    expected = 'Ada Lovelace'\n",
        "    self.assertEqual(rearrange_name(testcase), expected)\n",
        "\n",
        "unnittest.main()"
      ],
      "execution_count": null,
      "outputs": []
    },
    {
      "cell_type": "code",
      "metadata": {
        "id": "HPlM5xNqO9h3"
      },
      "source": [
        "chmod +x rearrange_test.py\n",
        "./rearrange_test.py"
      ],
      "execution_count": null,
      "outputs": []
    },
    {
      "cell_type": "markdown",
      "metadata": {
        "id": "AJP7WAUyPmr0"
      },
      "source": [
        "###Edge Cases\n",
        "\n",
        "Inputs to code that produce unexpected results (extreme cases)."
      ]
    },
    {
      "cell_type": "code",
      "metadata": {
        "id": "H6IkpqSfPpYE"
      },
      "source": [
        "from rearrange import reaarange_name #import function from another .py\n",
        "import unittest\n",
        "\n",
        "class TestRearrange(unittest.TestCase):\n",
        "  def test_basic(self):\n",
        "    testcase = 'Lovelace, Ada'\n",
        "    expected = 'Ada Lovelace'\n",
        "    self.assertEqual(rearrange_name(testcase), expected)\n",
        "\n",
        "  def test_empty(self):\n",
        "    testcases = ''\n",
        "    expected = ''\n",
        "    self.assertEqual(rearrange_name(testcase), expected)\n",
        "  \n",
        "unnittest.main()"
      ],
      "execution_count": null,
      "outputs": []
    },
    {
      "cell_type": "code",
      "metadata": {
        "id": "gdfKXo88Rt9l"
      },
      "source": [
        "#rearrange.py:\n",
        "#updated:\n",
        "import re\n",
        "\n",
        "def rearrange_name(name):\n",
        "  result = re.search(r'^([\\w .]*), ([\\w .]*)$', name)\n",
        "  if result is None:\n",
        "    return ''\n",
        "  return '{} {}'.format(result[2], result[1])"
      ],
      "execution_count": null,
      "outputs": []
    },
    {
      "cell_type": "markdown",
      "metadata": {
        "id": "oVl2ut3HTG0b"
      },
      "source": [
        "###Additional Test Cases\n",
        "\n",
        "**Method\t- Checks that:**\n",
        "- assertEqual(a, b)\ta == b\t\n",
        "- assertNotEqual(a, b)\ta != b\t\n",
        "- assertTrue(x)\tbool(x) is True\t\n",
        "- assertFalse(x)\tbool(x) is False\t\n",
        "- assertIs(a, b)\ta is b\n",
        "- assertIsNot(a, b)\ta is not b\n",
        "- assertIsNone(x)\tx is None\n",
        "- assertIsNotNone(x)\tx is not None\n",
        "- assertIn(a, b)\ta in b\n",
        "- assertNotIn(a, b)\ta not in b\n",
        "- assertIsInstance(a, b)\tisinstance(a, b)\n",
        "- assertNotIsInstance(a, b)\tnot isinstance(a, b)"
      ]
    },
    {
      "cell_type": "code",
      "metadata": {
        "id": "mo8dwEdzTI3c"
      },
      "source": [
        "from rearrange import reaarange_name #import function from another .py\n",
        "import unittest\n",
        "\n",
        "class TestRearrange(unittest.TestCase):\n",
        "  def test_basic(self):\n",
        "    testcase = 'Lovelace, Ada'\n",
        "    expected = 'Ada Lovelace'\n",
        "    self.assertEqual(rearrange_name(testcase), expected)\n",
        "\n",
        "  def test_empty(self):\n",
        "    testcases = ''\n",
        "    expected = ''\n",
        "    self.assertEqual(rearrange_name(testcase), expected)\n",
        "\n",
        "  def test_double_name(self):\n",
        "    testcase = 'Hopper, Grace M.'\n",
        "    expected = 'Grace M. Hopper'\n",
        "    self.assertEqual(rearrange_name(testcase), expected)\n",
        "\n",
        "  def test_one_name(self):\n",
        "    testcase = 'Voltaire'\n",
        "    expected = 'Voltaire'\n",
        "    self.assertEqual(rearrange_name(testcase), expected)\n",
        "  \n",
        "unnittest.main()"
      ],
      "execution_count": null,
      "outputs": []
    },
    {
      "cell_type": "code",
      "metadata": {
        "id": "rzYbAYzWTlvU"
      },
      "source": [
        "#rearrange.py:\n",
        "#updated:\n",
        "import re\n",
        "\n",
        "def rearrange_name(name):\n",
        "  result = re.search(r'^([\\w .]*), ([\\w .]*)$', name)\n",
        "  if result is None:\n",
        "    return name\n",
        "  return '{} {}'.format(result[2], result[1])"
      ],
      "execution_count": null,
      "outputs": []
    },
    {
      "cell_type": "markdown",
      "metadata": {
        "id": "2RgQrFfqV7Vc"
      },
      "source": [
        "####Practice Notebook"
      ]
    },
    {
      "cell_type": "code",
      "metadata": {
        "id": "mKKoYsAKUMK1"
      },
      "source": [
        "import re \n",
        "  \n",
        "my_txt = \"An investment in knowledge pays the best interest.\"\n",
        "\n",
        "def LetterCompiler(txt):\n",
        "    result = re.findall(r'([a-c]).', txt)\n",
        "    return result\n",
        "\n",
        "print(LetterCompiler(my_txt))"
      ],
      "execution_count": null,
      "outputs": []
    },
    {
      "cell_type": "code",
      "metadata": {
        "id": "ScuQRMjNWWfb"
      },
      "source": [
        "import unittest\n",
        "\n",
        "class TestCompiler(unittest.TestCase):\n",
        "\n",
        "    def test_basic(self):\n",
        "        testcase = \"The best preparation for tomorrow is doing your best today.\"\n",
        "        expected = ['b', 'a', 'a', 'b', 'a']\n",
        "        self.assertEqual(LetterCompiler(testcase), expected)"
      ],
      "execution_count": null,
      "outputs": []
    },
    {
      "cell_type": "code",
      "metadata": {
        "id": "1vbJCLMEWYZc"
      },
      "source": [
        "unittest.main() #call to action test on regular Shell"
      ],
      "execution_count": null,
      "outputs": []
    },
    {
      "cell_type": "code",
      "metadata": {
        "id": "NkaQXikCW-Mb"
      },
      "source": [
        "unittest.main(argv = ['first-arg-is-ignored'], exit = False) # in notebooks"
      ],
      "execution_count": null,
      "outputs": []
    },
    {
      "cell_type": "markdown",
      "metadata": {
        "id": "PHKuS5VYaz9z"
      },
      "source": [
        "###Black Box Vs White Box\n",
        "- White box: clear box or transparent testing: relies on creator's knowledge of sortware being tested to construct the test cases.\n",
        "- Black Box: tester does Not know the internals of the system."
      ]
    },
    {
      "cell_type": "markdown",
      "metadata": {
        "id": "KiUU6UvieT6r"
      },
      "source": [
        "### Other Test Types\n",
        "\n",
        "- Integration tests: between sections\n",
        "- Regression tests: do a scenario that fails, then fix the fail.\n",
        "- Smoke tests: build-verifications tests: does it run? fixes major problems.\n",
        "- Load tests: will need to generate traffic to see if system can handle it.\n",
        "- Test suite: group of tests\n",
        "- Test Driven Development: TDD: write test that fails -> write code to not fail -> run test again so it passes -> move to next section of code."
      ]
    },
    {
      "cell_type": "markdown",
      "metadata": {
        "id": "Z_7H1hxZlTKa"
      },
      "source": [
        "### Errors & Exceptions"
      ]
    },
    {
      "cell_type": "markdown",
      "metadata": {
        "id": "HpZ19blrpL8Y"
      },
      "source": [
        "####Try-except Construct"
      ]
    },
    {
      "cell_type": "code",
      "metadata": {
        "id": "CBVYvEGTbM8r"
      },
      "source": [
        "#!/usr/bin/env python3\n",
        "\n",
        "def character_frequency(filename):\n",
        "  #Counts frequency of chars\n",
        "  #1st attempt to open file\n",
        "  try:\n",
        "    f = open(filename)\n",
        "  except OSEerror:\n",
        "    return None\n",
        "\n",
        "  #2nd try - open real file\n",
        "  characters = {}\n",
        "  for line in f:\n",
        "    for char in line:\n",
        "      characters[char] = characters.get(char, 0) + 1\n",
        "  f.close()\n",
        "  return characters"
      ],
      "execution_count": null,
      "outputs": []
    },
    {
      "cell_type": "markdown",
      "metadata": {
        "id": "V6SF9YPjq4pA"
      },
      "source": [
        "#### Raising Errors"
      ]
    },
    {
      "cell_type": "code",
      "metadata": {
        "id": "c2NFA0HpqRVp"
      },
      "source": [
        "#!/usr/bin/env python3\n",
        "\n",
        "def validate_user(username, minlen):\n",
        "  if minlen <1:\n",
        "    raise ValueError('minlen must be at least 1')\n",
        "  if len(username) < minlen:\n",
        "    return False\n",
        "  if not username.isalnum():\n",
        "    return False\n",
        "  return True"
      ],
      "execution_count": null,
      "outputs": []
    },
    {
      "cell_type": "code",
      "metadata": {
        "id": "nOEl88ORsoN4"
      },
      "source": [
        "from validations import validate_user\n",
        "validate_user('', -1)\n",
        "#Error\n",
        "validate_user('', 1)\n",
        "#False\n",
        "validate_user('hello', 1)\n",
        "#True\n",
        "validate_user([], 1)\n",
        "#False - list has no values"
      ],
      "execution_count": null,
      "outputs": []
    },
    {
      "cell_type": "markdown",
      "metadata": {
        "id": "f_xMVyM3zvBw"
      },
      "source": [
        "- Use Assert - for unexpected situations.\n",
        "- Use Raise - when it's regular."
      ]
    },
    {
      "cell_type": "code",
      "metadata": {
        "id": "V5hGJ9MlySQo"
      },
      "source": [
        "#Adding an assertion to the function:\n",
        "\n",
        "#!/usr/bin/env python3\n",
        "\n",
        "def validate_user(username, minlen):\n",
        "  assert type (username)== str, 'username must be a string' # to set type\n",
        "\n",
        "  if minlen <1:\n",
        "    raise ValueError('minlen must be at least 1')\n",
        "  if len(username) < minlen:\n",
        "    return False\n",
        "  if not username.isalnum():\n",
        "    return False\n",
        "  return True"
      ],
      "execution_count": null,
      "outputs": []
    },
    {
      "cell_type": "markdown",
      "metadata": {
        "id": "bM6mkhAGz9S2"
      },
      "source": [
        "####Testing for Expected Errors"
      ]
    },
    {
      "cell_type": "code",
      "metadata": {
        "id": "36nyVEAtz-dG"
      },
      "source": [
        "#!/usr/bin/env python3\n",
        "\n",
        "import unittest\n",
        "from validations import validate_user\n",
        "\n",
        "class TestValidateUser(unittest.TestCase):\n",
        "  def test_valid(self):\n",
        "    self.assertEqual(validate_user('validuser', 3), True)\n",
        "\n",
        "  def test_too_short(self):\n",
        "    self.assertEqual(validate_user('inv', 5), False)\n",
        "\n",
        "  def test_invalid_characters(self):\n",
        "    self.assertEqual(validate_user('invalid_user', 1), False)\n",
        "  \n",
        "  def test_invalid_minlen(self):\n",
        "    self.assertRaises(ValueError, validate_user, 'user', -1)\n",
        "\n",
        "#Run tests\n",
        "unittest.main()"
      ],
      "execution_count": null,
      "outputs": []
    },
    {
      "cell_type": "markdown",
      "metadata": {
        "id": "NyvTeJQRHslr"
      },
      "source": [
        "#####Practice Notebook"
      ]
    },
    {
      "cell_type": "code",
      "metadata": {
        "id": "0MKPf3tHHutE"
      },
      "source": [
        "my_list = [27, 5, 9, 6, 8]\n",
        "\n",
        "def RemoveValue(myVal):\n",
        "    my_list.remove(myVal)\n",
        "    return my_list\n",
        "\n",
        "print(RemoveValue(27)) #error if run again"
      ],
      "execution_count": null,
      "outputs": []
    },
    {
      "cell_type": "code",
      "metadata": {
        "id": "OtLXZtn4H4H0"
      },
      "source": [
        "def RemoveValue(myVal):\n",
        "    if myVal not in my_list:\n",
        "        return 'Value must be in the given list'\n",
        "    else:\n",
        "        my_list.remove(myVal)\n",
        "    return my_list\n",
        "\n",
        "print(RemoveValue(27))"
      ],
      "execution_count": null,
      "outputs": []
    },
    {
      "cell_type": "code",
      "metadata": {
        "id": "Ock53lOqIMVV"
      },
      "source": [
        "my_word_list = ['east', 'after', 'up', 'over', 'inside']\n",
        "\n",
        "def OrganizeList(myList):\n",
        "    myList.sort()\n",
        "    return myList\n",
        "\n",
        "print(OrganizeList(my_word_list))"
      ],
      "execution_count": null,
      "outputs": []
    },
    {
      "cell_type": "code",
      "metadata": {
        "id": "OiUHMaxoIpQc"
      },
      "source": [
        "my_new_list = [6, 3, 8, \"12\", 42]\n",
        "print(OrganizeList(my_new_list))\n",
        "#gives Error"
      ],
      "execution_count": null,
      "outputs": []
    },
    {
      "cell_type": "code",
      "metadata": {
        "id": "AlLW9xrRJSuc"
      },
      "source": [
        "def OrganizeList(myList):\n",
        "    for item in myList:\n",
        "        assert type(item) == str, 'Word list must be a list of strings'\n",
        "    myList.sort()\n",
        "    return myList\n",
        "\n",
        "print(OrganizeList(my_new_list))"
      ],
      "execution_count": null,
      "outputs": []
    },
    {
      "cell_type": "code",
      "metadata": {
        "id": "XbbB6ZqiJjYs"
      },
      "source": [
        "import random\n",
        "\n",
        "participants = ['Jack','Jill','Larry','Tom']\n",
        "\n",
        "def Guess(participants):\n",
        "    my_participant_dict = {}\n",
        "    for participant in participants:\n",
        "        my_participant_dict[participant] = random.randint(1, 9)\n",
        "    if my_participant_dict['Larry'] == 9:\n",
        "        return True\n",
        "    else:\n",
        "        return False\n",
        "    \n",
        "print(Guess(participants))"
      ],
      "execution_count": null,
      "outputs": []
    },
    {
      "cell_type": "code",
      "metadata": {
        "id": "q6XNbwMwJz0M"
      },
      "source": [
        "# Revised Guess() function\n",
        "def Guess(participants):\n",
        "    my_participant_dict = {}\n",
        "    for participant in participants:\n",
        "        my_participant_dict[participant] = random.randint(1, 9)\n",
        "    try:\n",
        "        if my_participant_dict['Larry'] == 9:\n",
        "            return True\n",
        "        else:\n",
        "            return False\n",
        "    except:\n",
        "        return 'No Larry'"
      ],
      "execution_count": null,
      "outputs": []
    },
    {
      "cell_type": "code",
      "metadata": {
        "id": "2QFw7IgpKUsL"
      },
      "source": [
        "participants = ['Cathy','Fred','Jack','Tom']\n",
        "print(Guess(participants))"
      ],
      "execution_count": null,
      "outputs": []
    },
    {
      "cell_type": "markdown",
      "metadata": {
        "id": "1eLso4JEKe9T"
      },
      "source": [
        "####Qwiklabs Quiz"
      ]
    },
    {
      "cell_type": "code",
      "metadata": {
        "id": "pQvkkCbkKh4s"
      },
      "source": [
        "#!/usr/bin/env python3\n",
        "\n",
        "import unittest\n",
        "from emails import find_email\n",
        "\n",
        "class TestFile(unittest.TestCase):\n",
        "  def test_basic(self):\n",
        "    testcase = [None, \"Bree\", \"Campbell\"]\n",
        "    expected = \"breee@abc.edu\"\n",
        "    self.assertEqual(find_email(testcase), expected)\n",
        "\n",
        "  def test_one_name(self):\n",
        "    testcase = [None, \"John\"]\n",
        "    expected = \"Missing parameters\"\n",
        "    self.assertEqual(find_email(testcase), expected)\n",
        "\n",
        "if __name__ == '__main__':\n",
        "  unittest.main()"
      ],
      "execution_count": null,
      "outputs": []
    },
    {
      "cell_type": "code",
      "metadata": {
        "id": "l2Lea4ICQNA7"
      },
      "source": [
        "#!/usr/bin/env python3\n",
        "\n",
        "import sys\n",
        "import csv\n",
        "\n",
        "\n",
        "def populate_dictionary(filename):\n",
        "  \"\"\"Populate a dictionary with name/email pairs for easy lookup.\"\"\"\n",
        "  email_dict = {}\n",
        "  with open(filename) as csvfile:\n",
        "    lines = csv.reader(csvfile, delimiter = ',')\n",
        "    for row in lines:\n",
        "      name = str(row[0].lower())\n",
        "      email_dict[name] = row[1]\n",
        "  return email_dict\n",
        "\n",
        "def find_email(argv):\n",
        "  \"\"\" Return an email address based on the username given.\"\"\"\n",
        "  # Create the username based on the command line input.\n",
        "  try:\n",
        "    fullname = str(argv[1] + \" \" + argv[2])\n",
        "    # Preprocess the data\n",
        "    email_dict = populate_dictionary('/home/{{ username }}/data/user_emails.csv')\n",
        "    # Find and print the email\n",
        "    return email_dict.get(fullname.lower())\n",
        "  except IndexError:\n",
        "    return \"Missing parameters\"\n",
        "\n",
        "def main():\n",
        "  print(find_email(sys.argv))\n",
        "\n",
        "if __name__ == \"__main__\":\n",
        "  main()"
      ],
      "execution_count": null,
      "outputs": []
    },
    {
      "cell_type": "code",
      "metadata": {
        "id": "UTbmMoKhTGoi"
      },
      "source": [
        "#!/usr/bin/env python3\n",
        "\n",
        "import unittest\n",
        "from emails import find_email\n",
        "\n",
        "\n",
        "class EmailsTest(unittest.TestCase):\n",
        "  def test_basic(self):\n",
        "    testcase = [None, \"Bree\", \"Campbell\"]\n",
        "    expected = \"breee@abc.edu\"\n",
        "    self.assertEqual(find_email(testcase), expected)\n",
        "\n",
        "  def test_one_name(self):\n",
        "    testcase = [None, \"John\"]\n",
        "    expected = \"Missing parameters\"\n",
        "    self.assertEqual(find_email(testcase), expected)\n",
        "\n",
        "  def test_two_name(self):\n",
        "    testcase = [None, \"Roy\",\"Cooper\"]\n",
        "    expected = \"No email address found\"\n",
        "    self.assertEqual(find_email(testcase), expected)\n",
        "\n",
        "if __name__ == '__main__':\n",
        "  unittest.main()"
      ],
      "execution_count": null,
      "outputs": []
    },
    {
      "cell_type": "code",
      "metadata": {
        "id": "zenYIHerT5Sy"
      },
      "source": [
        "#!/usr/bin/env python3\n",
        "\n",
        "import csv\n",
        "import sys\n",
        "\n",
        "\n",
        "def populate_dictionary(filename):\n",
        "  \"\"\"Populate a dictionary with name/email pairs for easy lookup.\"\"\"\n",
        "  email_dict = {}\n",
        "  with open(filename) as csvfile:\n",
        "    lines = csv.reader(csvfile, delimiter = ',')\n",
        "    for row in lines:\n",
        "      name = str(row[0].lower())\n",
        "      email_dict[name] = row[1]\n",
        "  return email_dict\n",
        "\n",
        "def find_email(argv):\n",
        "  \"\"\" Return an email address based on the username given.\"\"\"\n",
        "  # Create the username based on the command line input.\n",
        "  try:\n",
        "    fullname = str(argv[1] + \" \" + argv[2])\n",
        "    # Preprocess the data\n",
        "    email_dict = populate_dictionary('/home/{{ username }}/data/user_emails.csv')\n",
        "     # If email exists, print it\n",
        "    if email_dict.get(fullname.lower()):\n",
        "      return email_dict.get(fullname.lower())\n",
        "    else:\n",
        "      return \"No email address found\"\n",
        "  except IndexError:\n",
        "    return \"Missing parameters\"\n",
        "\n",
        "def main():\n",
        "  print(find_email(sys.argv))\n",
        "\n",
        "if __name__ == \"__main__\":\n",
        "  main()"
      ],
      "execution_count": null,
      "outputs": []
    },
    {
      "cell_type": "markdown",
      "metadata": {
        "id": "01LwRzepUSVi"
      },
      "source": [
        "##Command Line Shell"
      ]
    },
    {
      "cell_type": "markdown",
      "metadata": {
        "id": "KgiTFBvmUZDK"
      },
      "source": [
        "###Basic Linux Commands\n",
        "\n",
        "**Managing files and directories:**\n",
        "- cd directory: changes the current working directory to the specified one\n",
        "- pwd: prints the current working directory\n",
        "- ls: lists the contents of the current directory\n",
        "- ls directory: lists the contents of the received directory  \n",
        "- ls -l: lists the additional information for the contents of the directory  \n",
        "- ls -a: lists all files, including those hidden  \n",
        "- ls -la: applies both the -l and the -a flags  \n",
        "- mkdir directory: creates the directory with the received name\n",
        "- rmdir directory: deletes the directory with the received name (if empty)\n",
        "- cp old_name new_name: copies old_name into new_name\n",
        "- mv old_name new_name: moves old_name into new_name\n",
        "- touch file_name: creates an empty file or updates the modified time if it exists\n",
        "- chmod modifiers files: changes the permissions for the files according to the provided modifiers; we've seen +x to make the file executable\n",
        "- chown user files: changes the owner of the files to the given user\n",
        "- chgrp group files: changes the group of the files to the given group\n",
        "\n",
        "\n",
        "**Operating with the content of files:**\n",
        "- cat file: shows the content of the file through standard output\n",
        "- wc file: counts the amount of characters, words, and lines in the given file; can also count the same values of whatever it receives via stdin\n",
        "- file file: prints the type of the given file, as recognized by the operating system\n",
        "- head file: shows the first 10 lines of the given file\n",
        "- tail file: shows the last 10 lines of the given file\n",
        "- less file: scrolls through the contents of the given file (press \"q\" to quit)\n",
        "- sort file: sorts the lines of the file alphabetically\n",
        "- cut -dseparator -ffields file: for each line in the given file, splits the line according to the given separator and prints the given fields (starting from 1)\n",
        "\n",
        "\n",
        "**Additional commands:**\n",
        "- echo \"message\": prints the message to standard output\n",
        "- date: prints the current date\n",
        "- who: prints the list of users currently logged into the computer\n",
        "- man command: shows the manual page of the given command; manual pages contain a lot of information explaining how to use each command (press \"q\" to quit)\n",
        "- uptime: shows how long the computer has been running\n",
        "- free: shows the amount of unused memory on the current system  "
      ]
    },
    {
      "cell_type": "code",
      "metadata": {
        "id": "mXRst9TQWFZJ"
      },
      "source": [
        "mkdir new_directory #make new directory\n",
        "cd mynewdir #go into directory\n",
        "pwd #print current working directory\n",
        "cp ../spider.txt .  #copy file; .. - FROM parent directory; . - copied INTO current directory\n",
        "touch new_file.txt #create a new file"
      ],
      "execution_count": null,
      "outputs": []
    },
    {
      "cell_type": "code",
      "metadata": {
        "id": "0s8-XBJdwF-u"
      },
      "source": [
        "ls -l #check folder contents\n",
        "#permissions : number of inotes that point to the file : owver + group : size of file : date last modified : filename"
      ],
      "execution_count": null,
      "outputs": []
    },
    {
      "cell_type": "code",
      "metadata": {
        "colab": {
          "base_uri": "https://localhost:8080/"
        },
        "id": "plmOcRLmw0Xu",
        "outputId": "389d5fb9-229e-4296-99f7-a4750f20ae8d"
      },
      "source": [
        "ls -la #show hidden files"
      ],
      "execution_count": null,
      "outputs": [
        {
          "output_type": "stream",
          "text": [
            "total 16\n",
            "drwxr-xr-x 1 root root 4096 Jun  1 13:40 \u001b[0m\u001b[01;34m.\u001b[0m/\n",
            "drwxr-xr-x 1 root root 4096 Jun 16 14:14 \u001b[01;34m..\u001b[0m/\n",
            "drwxr-xr-x 4 root root 4096 Jun  1 13:40 \u001b[01;34m.config\u001b[0m/\n",
            "drwxr-xr-x 1 root root 4096 Jun  1 13:40 \u001b[01;34msample_data\u001b[0m/\n"
          ],
          "name": "stdout"
        }
      ]
    },
    {
      "cell_type": "code",
      "metadata": {
        "id": "Tb8eOvhSxOu-"
      },
      "source": [
        "mv myfile.txt emptyfile.txt #to rename or move a file\n",
        "cp spider.txt yetanotherfile.txt #to copy a file\n",
        "rm * # delete all files in current directory\n",
        "cd .. #go bk into parent directory\n",
        "rmdir mynewdir/ #remove a directory"
      ],
      "execution_count": null,
      "outputs": []
    },
    {
      "cell_type": "markdown",
      "metadata": {
        "id": "UJQAizVAzO0t"
      },
      "source": [
        "###Redirecting Streams\n",
        "\n",
        "**Managing streams:**\n",
        "- command > file: redirects standard output, overwrites file\n",
        "- command >> file: redirects standard output, appends to file\n",
        "- command < file: redirects standard input from file\n",
        "- command 2> file: redirects standard error to file\n",
        "- command1 | command2: connects the output of command1 to the input of command2\n",
        "\n",
        "**Operating with processes:**\n",
        "- ps: lists the processes executing in the current terminal for the current user\n",
        "- ps ax: lists all processes currently executing for all users  \n",
        "- ps e: shows the environment for the processes listed  \n",
        "- kill PID: sends the SIGTERM signal to the process identified by PID\n",
        "- fg: causes a job that was stopped or in the background to return to the foreground\n",
        "- bg: causes a job that was stopped to go to the background\n",
        "- jobs: lists the jobs currently running or stopped\n",
        "- top: shows the processes currently using the most CPU time (press \"q\" to quit)  "
      ]
    },
    {
      "cell_type": "code",
      "metadata": {
        "id": "1nsUvJqoSx-0"
      },
      "source": [
        "./stdout_example.py > new_file.txt #transfer content to new file, new file OVERWRITTEN"
      ],
      "execution_count": null,
      "outputs": []
    },
    {
      "cell_type": "code",
      "metadata": {
        "id": "a8PqRgvLUVrY"
      },
      "source": [
        "./stdout_example.py >> new_file.txt #ADD content to new file, new file APPENDED"
      ],
      "execution_count": null,
      "outputs": []
    },
    {
      "cell_type": "code",
      "metadata": {
        "id": "xrAhBxucUwBB"
      },
      "source": [
        "./streams_error.py < new_file.txt 2> error_file.txt"
      ],
      "execution_count": null,
      "outputs": []
    },
    {
      "cell_type": "code",
      "metadata": {
        "id": "iEKE1Ym_VJLJ"
      },
      "source": [
        "echo 'These are the contacts of the file' > myamazingfile.txt #transfering to a text file"
      ],
      "execution_count": null,
      "outputs": []
    },
    {
      "cell_type": "markdown",
      "metadata": {
        "id": "PMLLfOeHVZMp"
      },
      "source": [
        "###Pipes & Pipelines"
      ]
    },
    {
      "cell_type": "code",
      "metadata": {
        "id": "hnPyQVX0WKDi"
      },
      "source": [
        "ls -l | less"
      ],
      "execution_count": null,
      "outputs": []
    },
    {
      "cell_type": "code",
      "metadata": {
        "id": "YBmdizGFW7mC"
      },
      "source": [
        "cat spider.txt | tr ' ' '\\n' | sort | uniq -c | sort -nr | head\n",
        "#take contents of txt file -> change ' ' space to page break -> sort results -> \n",
        "# -> show Unique items only & show nrs of times it occured -> sort by nrs -> print 1st 10 rows"
      ],
      "execution_count": null,
      "outputs": []
    },
    {
      "cell_type": "code",
      "metadata": {
        "id": "h89LkKxTXSah"
      },
      "source": [
        "#capitalize.py:\n",
        "import sys\n",
        "\n",
        "for line in sys.stdin:\n",
        "  print(line.strip().capitalize())"
      ],
      "execution_count": null,
      "outputs": []
    },
    {
      "cell_type": "code",
      "metadata": {
        "id": "TrU6EeMbYJYB"
      },
      "source": [
        "cat haiku.txt | ./capitalize.py #to run above"
      ],
      "execution_count": null,
      "outputs": []
    },
    {
      "cell_type": "code",
      "metadata": {
        "id": "Jz_CnIxdYcBQ"
      },
      "source": [
        "./capitalize.py < haiku.txt #to process txt file with script"
      ],
      "execution_count": null,
      "outputs": []
    },
    {
      "cell_type": "markdown",
      "metadata": {
        "id": "Yulxo1FzZmGg"
      },
      "source": [
        "###Signalling Processes"
      ]
    },
    {
      "cell_type": "code",
      "metadata": {
        "id": "8Ii62yNsZpyB"
      },
      "source": [
        "ping www.example.com\n",
        "#CTRL+C to stop it\n",
        "#CTRL+Z to send SIGSTOP without terminating + add 'fg' command to run commanda again."
      ],
      "execution_count": null,
      "outputs": []
    },
    {
      "cell_type": "code",
      "metadata": {
        "id": "cDigUNmNY9sA"
      },
      "source": [
        "ps ax |grep ping #find out PID of currently running processes\n",
        "kill 4619 #sends SIGTERM to terminate command of specific PID."
      ],
      "execution_count": null,
      "outputs": []
    },
    {
      "cell_type": "markdown",
      "metadata": {
        "id": "QwijmKXzhIpu"
      },
      "source": [
        "##Bash Scripting"
      ]
    },
    {
      "cell_type": "markdown",
      "metadata": {
        "id": "msNT_8dOW9OG"
      },
      "source": [
        "###Basic"
      ]
    },
    {
      "cell_type": "code",
      "metadata": {
        "id": "K2WekswDfe0P"
      },
      "source": [
        "ps # all running processed\n",
        "free #how much space free\n",
        "uptime #how long running"
      ],
      "execution_count": null,
      "outputs": []
    },
    {
      "cell_type": "markdown",
      "metadata": {
        "id": "4-w-cBcsWCj3"
      },
      "source": [
        "./sh.bash"
      ]
    },
    {
      "cell_type": "code",
      "metadata": {
        "id": "kdU-VZB0VEYR"
      },
      "source": [
        "#!/bin#bash\n",
        "\n",
        "echo 'Start at: $(date)'\n",
        "echo\n",
        "\n",
        "echo 'UPTIME'\n",
        "uptime\n",
        "echo\n",
        "\n",
        "echo 'FREE'\n",
        "free\n",
        "echo\n",
        "\n",
        "echo 'WHO'\n",
        "who\n",
        "echo\n",
        "\n",
        "echo 'Finishing at: $(date)'"
      ],
      "execution_count": null,
      "outputs": []
    },
    {
      "cell_type": "markdown",
      "metadata": {
        "id": "1Lhbp6hWWone"
      },
      "source": [
        "Can also format like below:"
      ]
    },
    {
      "cell_type": "code",
      "metadata": {
        "id": "ahAw3Rf9VR8Q"
      },
      "source": [
        "#!/bin#bash\n",
        "\n",
        "echo 'Start at: $(date)'; echo\n",
        "\n",
        "echo 'UPTIME'; uptime; echo\n",
        "\n",
        "echo 'FREE'; free; echo\n",
        "\n",
        "echo 'WHO'; who; echo\n",
        "\n",
        "echo 'Finishing at: $(date)'"
      ],
      "execution_count": null,
      "outputs": []
    },
    {
      "cell_type": "markdown",
      "metadata": {
        "id": "PJDt073WW_Xu"
      },
      "source": [
        "###Variables & Globs"
      ]
    },
    {
      "cell_type": "code",
      "metadata": {
        "id": "UgcJ4usRWy6e"
      },
      "source": [
        "example=hello\n",
        "echo $example"
      ],
      "execution_count": null,
      "outputs": []
    },
    {
      "cell_type": "code",
      "metadata": {
        "id": "GGqaSMiZpF7t"
      },
      "source": [
        "#!/bin#bash\n",
        "line='-----------------'\n",
        "echo 'Start at: $(date)'; echo $line\n",
        "\n",
        "echo 'UPTIME'; uptime; echo $line\n",
        "\n",
        "echo 'FREE'; free; echo $line\n",
        "\n",
        "echo 'WHO'; who; echo $line\n",
        "\n",
        "echo 'Finishing at: $(date)'"
      ],
      "execution_count": null,
      "outputs": []
    },
    {
      "cell_type": "code",
      "metadata": {
        "id": "ARCkL6jQpdYM"
      },
      "source": [
        "#Globs - create a list of files\n",
        "\n",
        "echo *.py #will take all .py files in current directory\n",
        "echo C* #will get all files Starting with C in current directory\n",
        "echo * # all files\n",
        "echo ?????.py #5 character file"
      ],
      "execution_count": null,
      "outputs": []
    },
    {
      "cell_type": "markdown",
      "metadata": {
        "id": "CVbEjVovp4sD"
      },
      "source": [
        "###Conditional Execution\n",
        "\n",
        "Exit status of commands - $?\n",
        "\n",
        "If True = 0"
      ]
    },
    {
      "cell_type": "code",
      "metadata": {
        "id": "WxVUxzD1p_Uz"
      },
      "source": [
        "#cat check_localhost.sh\n",
        "\n",
        "#!/bin/bash\n",
        "if grep '127.0.0.1' /etc/hosts; then\n",
        "  echo 'Everything ok'\n",
        "else\n",
        "  echo 'ERROR! 127.0.0.1 is not in /etc/hosts'\n",
        "fi"
      ],
      "execution_count": null,
      "outputs": []
    },
    {
      "cell_type": "code",
      "metadata": {
        "id": "-YKBaLy9i9sc"
      },
      "source": [
        "if test -n '$PATH'; then echo 'Your path is not empty'; fi"
      ],
      "execution_count": null,
      "outputs": []
    },
    {
      "cell_type": "code",
      "metadata": {
        "id": "dqa-dnRxjMN7"
      },
      "source": [
        "if [ -n '$PATH' ]; then echo 'Your path is not empty'; fi"
      ],
      "execution_count": null,
      "outputs": []
    },
    {
      "cell_type": "markdown",
      "metadata": {
        "id": "wHmjSaP1j6Ur"
      },
      "source": [
        "##Advanced Bash"
      ]
    },
    {
      "cell_type": "markdown",
      "metadata": {
        "id": "7vGAXtuvj_Kc"
      },
      "source": [
        "### While Loops in Bash"
      ]
    },
    {
      "cell_type": "code",
      "metadata": {
        "id": "pn8ii5dKjSXU"
      },
      "source": [
        "#cat while.sh\n",
        "\n",
        "#!/bin/bash\n",
        "\n",
        "n=1\n",
        "while [ $n -le 5 ]; do\n",
        "  echo 'Iteration number $n'\n",
        "  ((n+=1))\n",
        "done"
      ],
      "execution_count": null,
      "outputs": []
    },
    {
      "cell_type": "code",
      "metadata": {
        "colab": {
          "base_uri": "https://localhost:8080/",
          "height": 171
        },
        "id": "pfdhLP4esNaD",
        "outputId": "63da2d2f-d26e-4ee3-b968-f69102ba86e9"
      },
      "source": [
        "# cat random-exit.py\n",
        "\n",
        "#!/usr/bin/env python\n",
        "\n",
        "import sys\n",
        "import random\n",
        "\n",
        "value = random.randint(0,3)\n",
        "print('Returning: ' +str(value))\n",
        "sys.exit(value)"
      ],
      "execution_count": null,
      "outputs": [
        {
          "output_type": "stream",
          "text": [
            "Returning: 1\n"
          ],
          "name": "stdout"
        },
        {
          "output_type": "error",
          "ename": "SystemExit",
          "evalue": "ignored",
          "traceback": [
            "An exception has occurred, use %tb to see the full traceback.\n",
            "\u001b[0;31mSystemExit\u001b[0m\u001b[0;31m:\u001b[0m 1\n"
          ]
        },
        {
          "output_type": "stream",
          "text": [
            "/usr/local/lib/python3.7/dist-packages/IPython/core/interactiveshell.py:2890: UserWarning: To exit: use 'exit', 'quit', or Ctrl-D.\n",
            "  warn(\"To exit: use 'exit', 'quit', or Ctrl-D.\", stacklevel=1)\n"
          ],
          "name": "stderr"
        }
      ]
    },
    {
      "cell_type": "code",
      "metadata": {
        "id": "gBOmnHqHsrzS"
      },
      "source": [
        "#bash script to retry the command above:\n",
        "#atom retry.sh\n",
        "\n",
        "n=0\n",
        "command=$1\n",
        "while ! $command && [ $n -le 5 ]; do\n",
        "  sleep $n\n",
        "  ((n=n+1))\n",
        "  echo 'Retry #$n'\n",
        "done;"
      ],
      "execution_count": null,
      "outputs": []
    },
    {
      "cell_type": "code",
      "metadata": {
        "id": "kfkN5hN9tJhx"
      },
      "source": [
        "#run above:\n",
        "./retry.sh ./random-exit.py #use retry to run exit"
      ],
      "execution_count": null,
      "outputs": []
    },
    {
      "cell_type": "markdown",
      "metadata": {
        "id": "4_3yFR3atsvy"
      },
      "source": [
        "###For Loops in Bash"
      ]
    },
    {
      "cell_type": "code",
      "metadata": {
        "id": "BtEpv6pStmbR"
      },
      "source": [
        " #cat fruits.sh\n",
        "\n",
        " #!/bin/bash\n",
        "\n",
        " for fruit in peach orange apple; do\n",
        "  echo 'I like $fruit!'\n",
        "done"
      ],
      "execution_count": null,
      "outputs": []
    },
    {
      "cell_type": "code",
      "metadata": {
        "id": "4h412uUP3dLx"
      },
      "source": [
        "basename index.htm .htm #basename return file name without extension\n",
        "#index\n",
        "#!/bin/bash\n",
        "\n",
        "for file in *.HTM; do\n",
        "  name=$(basename '$file' .HTM)\n",
        "  mv '$file' '$name.html'\n",
        "done"
      ],
      "execution_count": null,
      "outputs": []
    },
    {
      "cell_type": "code",
      "metadata": {
        "id": "hhPn7U7i4cQo"
      },
      "source": [
        "#1st try to test script\n",
        "for file in *.HTM; do\n",
        "  name=$(basename '$file' .HTM)\n",
        "  echo mv '$file' '$name.html' #add echo to print result\n",
        "done"
      ],
      "execution_count": null,
      "outputs": []
    },
    {
      "cell_type": "markdown",
      "metadata": {
        "id": "fZmndQYw48vw"
      },
      "source": [
        "###Advanced Command Iteration"
      ]
    },
    {
      "cell_type": "code",
      "metadata": {
        "id": "FxpykFuV5WHX"
      },
      "source": [
        "tail /var/log/syslog"
      ],
      "execution_count": null,
      "outputs": []
    },
    {
      "cell_type": "code",
      "metadata": {
        "id": "weygIyrC5mtP"
      },
      "source": [
        "tail /var/log/syslog | cut -d' ' -f5- #use space as delimiter to cut spaces & show 5th item"
      ],
      "execution_count": null,
      "outputs": []
    },
    {
      "cell_type": "code",
      "metadata": {
        "id": "60mZHt0O6C_A"
      },
      "source": [
        "#get most repetative lines\n",
        "cut -d' ' -f5 /var/log/syslog | sort | uniq -c | sort -nr | head"
      ],
      "execution_count": null,
      "outputs": []
    },
    {
      "cell_type": "markdown",
      "metadata": {
        "id": "atTuLV0S95rb"
      },
      "source": [
        "###Qwiklabs Quiz"
      ]
    },
    {
      "cell_type": "code",
      "metadata": {
        "id": "zvtUdmcS6vQR"
      },
      "source": [
        "grep [pattern] [file-directory] #regex search\n",
        "cut [options] [file]\n",
        "cut -d [delimiter] -f [field number]\n",
        "cat > [file]\n",
        "cat >> [file]"
      ],
      "execution_count": null,
      "outputs": []
    },
    {
      "cell_type": "code",
      "metadata": {
        "id": "VB_vW92iGffS"
      },
      "source": [
        "grep ' jane ' ../data/list.txt"
      ],
      "execution_count": null,
      "outputs": []
    },
    {
      "cell_type": "code",
      "metadata": {
        "id": "mHxIOw8aGs8z"
      },
      "source": [
        "grep \" jane \" ../data/list.txt | cut -d ' ' -f 1\n",
        "grep \" jane \" ../data/list.txt | cut -d ' ' -f 1-3\n",
        "grep \" jane \" ../data/list.txt | cut -d ' ' -f 1,3"
      ],
      "execution_count": null,
      "outputs": []
    },
    {
      "cell_type": "code",
      "metadata": {
        "id": "fBspBd8dHJxS"
      },
      "source": [
        "if test -e ~/data/jane_profile_07272018.doc; then echo \"File exists\"; else echo \"File doesn't exist\"; fi"
      ],
      "execution_count": null,
      "outputs": []
    },
    {
      "cell_type": "code",
      "metadata": {
        "id": "4qjYj_NyHKZa"
      },
      "source": [
        "> test.txt #create a file"
      ],
      "execution_count": null,
      "outputs": []
    },
    {
      "cell_type": "code",
      "metadata": {
        "id": "dQkYyWyaHTcq"
      },
      "source": [
        "for i in 1 2 3; do echo $i; done #loops: For, while, Until"
      ],
      "execution_count": null,
      "outputs": []
    },
    {
      "cell_type": "code",
      "metadata": {
        "id": "Y-BVJ_fkI2-7"
      },
      "source": [
        "#!/bin/bash\n",
        "\n",
        "files= grep ' jane ' ../data/list.txt | cut -d ' ' -f 3\n",
        "\n",
        "for file in files; do\n",
        "   if  test -e ~/data/$file; then\n",
        "     echo  $file >> oldFiles.txt;\n",
        "   else\n",
        "     echo \"File doesnt exsist\"; \n",
        "    fi\n",
        "done"
      ],
      "execution_count": null,
      "outputs": []
    },
    {
      "cell_type": "code",
      "metadata": {
        "id": "T8Nem0wILTOa"
      },
      "source": [
        "#!/usr/bin/env python3\n",
        "import sys\n",
        "import subprocess\n",
        "f = open (sys.argv[1],\"r\")\n",
        "path='/home/<student>'\n",
        "for line in f.readlines():\n",
        " old_name = line.strip()\n",
        " new_name = old_name.replace(\"jane\",\"jdoe\")\n",
        " subprocess.run([\"mv\",path+old_name,path+new_name])\n",
        "f.close()"
      ],
      "execution_count": null,
      "outputs": []
    },
    {
      "cell_type": "markdown",
      "metadata": {
        "id": "nNlfDa0yXYQy"
      },
      "source": [
        "###Qwiklabs Final Quiz\n",
        "\n",
        "Exercise 1:"
      ]
    },
    {
      "cell_type": "code",
      "metadata": {
        "id": "xQ_DvyknZoui"
      },
      "source": [
        "cat syslog.log\n",
        "grep ticky syslog.log\n",
        "grep \"ERROR\" syslog.log\n",
        "grep \"ERROR Tried to add information to closed ticket\" syslog.log"
      ],
      "execution_count": null,
      "outputs": []
    },
    {
      "cell_type": "code",
      "metadata": {
        "id": "urUqoSUuGEkE"
      },
      "source": [
        "import re\n",
        "line = \"May 27 11:45:40 ubuntu.local ticky: INFO: Created ticket [#1234] (username)\"\n",
        "re.search(r\"ticky: INFO: ([\\w ]*) \", line)\n",
        "line = \"May 27 11:45:40 ubuntu.local ticky: ERROR: Error creating ticket [#1234] (username)\"\n",
        "re.search(r\"ticky: ERROR: ([\\w ]*) \", line)"
      ],
      "execution_count": null,
      "outputs": []
    },
    {
      "cell_type": "markdown",
      "metadata": {
        "id": "IpRanPTpGJci"
      },
      "source": [
        "Exercise 2:"
      ]
    },
    {
      "cell_type": "code",
      "metadata": {
        "id": "FiS4LOfVGKoc"
      },
      "source": [
        "fruit = {\"oranges\": 3, \"apples\": 5, \"bananas\": 7, \"pears\": 2}\n",
        "sorted(fruit.items())"
      ],
      "execution_count": null,
      "outputs": []
    },
    {
      "cell_type": "code",
      "metadata": {
        "id": "X571ciLnGN2s"
      },
      "source": [
        "import operator\n",
        "sorted(fruit.items(), key=operator.itemgetter(0))\n",
        "sorted(fruit.items(), key=operator.itemgetter(1))\n",
        "sorted(fruit.items(), key = operator.itemgetter(1), reverse=True)"
      ],
      "execution_count": null,
      "outputs": []
    },
    {
      "cell_type": "code",
      "metadata": {
        "id": "G7mGsxuIGUAD"
      },
      "source": [
        "exit()"
      ],
      "execution_count": null,
      "outputs": []
    },
    {
      "cell_type": "markdown",
      "metadata": {
        "id": "_Gtehqv2GVkT"
      },
      "source": [
        "Exercise 3:"
      ]
    },
    {
      "cell_type": "code",
      "metadata": {
        "id": "z4BEAkPOGWhD"
      },
      "source": [
        "sudo chmod  o+w /var/www/html"
      ],
      "execution_count": null,
      "outputs": []
    },
    {
      "cell_type": "code",
      "metadata": {
        "id": "tODzqfZjGiFc"
      },
      "source": [
        "./csv_to_html.py user_emails.csv /var/www/html/<html-filename>.html"
      ],
      "execution_count": null,
      "outputs": []
    },
    {
      "cell_type": "code",
      "metadata": {
        "id": "jyBudp3SGkrT"
      },
      "source": [
        "[linux-instance-external-IP]/[html-filename].html"
      ],
      "execution_count": null,
      "outputs": []
    }
  ]
}